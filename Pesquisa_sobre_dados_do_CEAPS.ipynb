{
  "nbformat": 4,
  "nbformat_minor": 0,
  "metadata": {
    "colab": {
      "name": "Pesquisa sobre dados do CEAPS.ipynb",
      "provenance": []
    },
    "kernelspec": {
      "name": "python3",
      "display_name": "Python 3"
    },
    "language_info": {
      "name": "python"
    }
  },
  "cells": [
    {
      "cell_type": "markdown",
      "source": [
        "# Análise sobre dados do CEAP\n",
        "\n",
        "Fonte: https://www12.senado.leg.br/transparencia/dados-abertos-transparencia/dados-abertos-ceaps"
      ],
      "metadata": {
        "id": "qDIKXnDw1oKZ"
      }
    },
    {
      "cell_type": "markdown",
      "source": [
        "# Teste de tratamento dos dados (2022)"
      ],
      "metadata": {
        "id": "PIxrQh9aC_tO"
      }
    },
    {
      "cell_type": "markdown",
      "source": [
        "## Primeira visualização"
      ],
      "metadata": {
        "id": "OzcKLQLJDHX5"
      }
    },
    {
      "cell_type": "code",
      "execution_count": 414,
      "metadata": {
        "id": "Mw9f9enN1CKN"
      },
      "outputs": [],
      "source": [
        "import pandas as pd"
      ]
    },
    {
      "cell_type": "code",
      "source": [
        "dados_ceaps_2022 = pd.read_csv(\"/content/drive/MyDrive/Cursos/#7DaysOfCode Alura/Despesas CEAPS 2008-2022 05/despesa_ceaps_2022.csv\", encoding = \"latin-1\", sep = \";\", nrows = 5)\n",
        "dados_ceaps_2022.head()"
      ],
      "metadata": {
        "colab": {
          "base_uri": "https://localhost:8080/",
          "height": 0
        },
        "id": "9IKlYM5F11SK",
        "outputId": "144855ef-ee1e-48a0-f457-bf1458e7def3"
      },
      "execution_count": 415,
      "outputs": [
        {
          "output_type": "execute_result",
          "data": {
            "text/plain": [
              "                                                                                                                                                                                                              ULTIMA ATUALIZACAO  \\\n",
              "ANO  MES SENADOR      TIPO_DESPESA                                       CNPJ_CPF           FORNECEDOR                        DOCUMENTO         DATA       DETALHAMENTO                                        VALOR_REEMBOLSADO   \n",
              "2022 1   ACIR GURGACZ Aluguel de imóveis para escritório político, co... 004.948.028-63     GILBERTO PISELO DO NASCIMENTO     001/22            03/01/2022 Despesa com pagamento de aluguel de imóvel para...               6000   \n",
              "                      Divulgação da atividade parlamentar                26.320.603/0001-64 INFORMANAHORA                     000000000000310/A 04/01/2022 Despesa com divulgação da atividade parlamentar...               1500   \n",
              "                                                                         13.659.201/0001-47 LINHA PURPURA FOTO E VIDEO LTDA   107               14/01/2022 Despesa com produção de texto e edição de vídeo...               6000   \n",
              "                                                                         23.652.846/0001-01 ROBERTO GUTIERREZ DA ROCHA M.E.I. 187               18/01/2022 Divulgação da atividade parlamentar                              1000   \n",
              "\n",
              "                                                                                                                                                                                                              31/05/2022 02:01  \n",
              "ANO  MES SENADOR      TIPO_DESPESA                                       CNPJ_CPF           FORNECEDOR                        DOCUMENTO         DATA       DETALHAMENTO                                          COD_DOCUMENTO  \n",
              "2022 1   ACIR GURGACZ Aluguel de imóveis para escritório político, co... 004.948.028-63     GILBERTO PISELO DO NASCIMENTO     001/22            03/01/2022 Despesa com pagamento de aluguel de imóvel para...          2173614  \n",
              "                      Divulgação da atividade parlamentar                26.320.603/0001-64 INFORMANAHORA                     000000000000310/A 04/01/2022 Despesa com divulgação da atividade parlamentar...          2173615  \n",
              "                                                                         13.659.201/0001-47 LINHA PURPURA FOTO E VIDEO LTDA   107               14/01/2022 Despesa com produção de texto e edição de vídeo...          2173616  \n",
              "                                                                         23.652.846/0001-01 ROBERTO GUTIERREZ DA ROCHA M.E.I. 187               18/01/2022 Divulgação da atividade parlamentar                         2173618  "
            ],
            "text/html": [
              "\n",
              "  <div id=\"df-bb846281-18d6-42e9-b7a4-301d3523442b\">\n",
              "    <div class=\"colab-df-container\">\n",
              "      <div>\n",
              "<style scoped>\n",
              "    .dataframe tbody tr th:only-of-type {\n",
              "        vertical-align: middle;\n",
              "    }\n",
              "\n",
              "    .dataframe tbody tr th {\n",
              "        vertical-align: top;\n",
              "    }\n",
              "\n",
              "    .dataframe thead th {\n",
              "        text-align: right;\n",
              "    }\n",
              "</style>\n",
              "<table border=\"1\" class=\"dataframe\">\n",
              "  <thead>\n",
              "    <tr style=\"text-align: right;\">\n",
              "      <th></th>\n",
              "      <th></th>\n",
              "      <th></th>\n",
              "      <th></th>\n",
              "      <th></th>\n",
              "      <th></th>\n",
              "      <th></th>\n",
              "      <th></th>\n",
              "      <th></th>\n",
              "      <th>ULTIMA ATUALIZACAO</th>\n",
              "      <th>31/05/2022 02:01</th>\n",
              "    </tr>\n",
              "  </thead>\n",
              "  <tbody>\n",
              "    <tr>\n",
              "      <th>ANO</th>\n",
              "      <th>MES</th>\n",
              "      <th>SENADOR</th>\n",
              "      <th>TIPO_DESPESA</th>\n",
              "      <th>CNPJ_CPF</th>\n",
              "      <th>FORNECEDOR</th>\n",
              "      <th>DOCUMENTO</th>\n",
              "      <th>DATA</th>\n",
              "      <th>DETALHAMENTO</th>\n",
              "      <td>VALOR_REEMBOLSADO</td>\n",
              "      <td>COD_DOCUMENTO</td>\n",
              "    </tr>\n",
              "    <tr>\n",
              "      <th rowspan=\"4\" valign=\"top\">2022</th>\n",
              "      <th rowspan=\"4\" valign=\"top\">1</th>\n",
              "      <th rowspan=\"4\" valign=\"top\">ACIR GURGACZ</th>\n",
              "      <th>Aluguel de imóveis para escritório político, compreendendo despesas concernentes a eles.</th>\n",
              "      <th>004.948.028-63</th>\n",
              "      <th>GILBERTO PISELO DO NASCIMENTO</th>\n",
              "      <th>001/22</th>\n",
              "      <th>03/01/2022</th>\n",
              "      <th>Despesa com pagamento de aluguel de imóvel para uso do escritório político do Senador Acir Gurgacz em Ji-Paraná/RO.</th>\n",
              "      <td>6000</td>\n",
              "      <td>2173614</td>\n",
              "    </tr>\n",
              "    <tr>\n",
              "      <th rowspan=\"3\" valign=\"top\">Divulgação da atividade parlamentar</th>\n",
              "      <th>26.320.603/0001-64</th>\n",
              "      <th>INFORMANAHORA</th>\n",
              "      <th>000000000000310/A</th>\n",
              "      <th>04/01/2022</th>\n",
              "      <th>Despesa com divulgação da atividade parlamentar no website www.informanahora.com</th>\n",
              "      <td>1500</td>\n",
              "      <td>2173615</td>\n",
              "    </tr>\n",
              "    <tr>\n",
              "      <th>13.659.201/0001-47</th>\n",
              "      <th>LINHA PURPURA FOTO E VIDEO LTDA</th>\n",
              "      <th>107</th>\n",
              "      <th>14/01/2022</th>\n",
              "      <th>Despesa com produção de texto e edição de vídeo para divulgação da atividade parlamentar</th>\n",
              "      <td>6000</td>\n",
              "      <td>2173616</td>\n",
              "    </tr>\n",
              "    <tr>\n",
              "      <th>23.652.846/0001-01</th>\n",
              "      <th>ROBERTO GUTIERREZ DA ROCHA M.E.I.</th>\n",
              "      <th>187</th>\n",
              "      <th>18/01/2022</th>\n",
              "      <th>Divulgação da atividade parlamentar</th>\n",
              "      <td>1000</td>\n",
              "      <td>2173618</td>\n",
              "    </tr>\n",
              "  </tbody>\n",
              "</table>\n",
              "</div>\n",
              "      <button class=\"colab-df-convert\" onclick=\"convertToInteractive('df-bb846281-18d6-42e9-b7a4-301d3523442b')\"\n",
              "              title=\"Convert this dataframe to an interactive table.\"\n",
              "              style=\"display:none;\">\n",
              "        \n",
              "  <svg xmlns=\"http://www.w3.org/2000/svg\" height=\"24px\"viewBox=\"0 0 24 24\"\n",
              "       width=\"24px\">\n",
              "    <path d=\"M0 0h24v24H0V0z\" fill=\"none\"/>\n",
              "    <path d=\"M18.56 5.44l.94 2.06.94-2.06 2.06-.94-2.06-.94-.94-2.06-.94 2.06-2.06.94zm-11 1L8.5 8.5l.94-2.06 2.06-.94-2.06-.94L8.5 2.5l-.94 2.06-2.06.94zm10 10l.94 2.06.94-2.06 2.06-.94-2.06-.94-.94-2.06-.94 2.06-2.06.94z\"/><path d=\"M17.41 7.96l-1.37-1.37c-.4-.4-.92-.59-1.43-.59-.52 0-1.04.2-1.43.59L10.3 9.45l-7.72 7.72c-.78.78-.78 2.05 0 2.83L4 21.41c.39.39.9.59 1.41.59.51 0 1.02-.2 1.41-.59l7.78-7.78 2.81-2.81c.8-.78.8-2.07 0-2.86zM5.41 20L4 18.59l7.72-7.72 1.47 1.35L5.41 20z\"/>\n",
              "  </svg>\n",
              "      </button>\n",
              "      \n",
              "  <style>\n",
              "    .colab-df-container {\n",
              "      display:flex;\n",
              "      flex-wrap:wrap;\n",
              "      gap: 12px;\n",
              "    }\n",
              "\n",
              "    .colab-df-convert {\n",
              "      background-color: #E8F0FE;\n",
              "      border: none;\n",
              "      border-radius: 50%;\n",
              "      cursor: pointer;\n",
              "      display: none;\n",
              "      fill: #1967D2;\n",
              "      height: 32px;\n",
              "      padding: 0 0 0 0;\n",
              "      width: 32px;\n",
              "    }\n",
              "\n",
              "    .colab-df-convert:hover {\n",
              "      background-color: #E2EBFA;\n",
              "      box-shadow: 0px 1px 2px rgba(60, 64, 67, 0.3), 0px 1px 3px 1px rgba(60, 64, 67, 0.15);\n",
              "      fill: #174EA6;\n",
              "    }\n",
              "\n",
              "    [theme=dark] .colab-df-convert {\n",
              "      background-color: #3B4455;\n",
              "      fill: #D2E3FC;\n",
              "    }\n",
              "\n",
              "    [theme=dark] .colab-df-convert:hover {\n",
              "      background-color: #434B5C;\n",
              "      box-shadow: 0px 1px 3px 1px rgba(0, 0, 0, 0.15);\n",
              "      filter: drop-shadow(0px 1px 2px rgba(0, 0, 0, 0.3));\n",
              "      fill: #FFFFFF;\n",
              "    }\n",
              "  </style>\n",
              "\n",
              "      <script>\n",
              "        const buttonEl =\n",
              "          document.querySelector('#df-bb846281-18d6-42e9-b7a4-301d3523442b button.colab-df-convert');\n",
              "        buttonEl.style.display =\n",
              "          google.colab.kernel.accessAllowed ? 'block' : 'none';\n",
              "\n",
              "        async function convertToInteractive(key) {\n",
              "          const element = document.querySelector('#df-bb846281-18d6-42e9-b7a4-301d3523442b');\n",
              "          const dataTable =\n",
              "            await google.colab.kernel.invokeFunction('convertToInteractive',\n",
              "                                                     [key], {});\n",
              "          if (!dataTable) return;\n",
              "\n",
              "          const docLinkHtml = 'Like what you see? Visit the ' +\n",
              "            '<a target=\"_blank\" href=https://colab.research.google.com/notebooks/data_table.ipynb>data table notebook</a>'\n",
              "            + ' to learn more about interactive tables.';\n",
              "          element.innerHTML = '';\n",
              "          dataTable['output_type'] = 'display_data';\n",
              "          await google.colab.output.renderOutput(dataTable, element);\n",
              "          const docLink = document.createElement('div');\n",
              "          docLink.innerHTML = docLinkHtml;\n",
              "          element.appendChild(docLink);\n",
              "        }\n",
              "      </script>\n",
              "    </div>\n",
              "  </div>\n",
              "  "
            ]
          },
          "metadata": {},
          "execution_count": 415
        }
      ]
    },
    {
      "cell_type": "code",
      "source": [
        "dados_ceaps_2022.info()"
      ],
      "metadata": {
        "colab": {
          "base_uri": "https://localhost:8080/"
        },
        "id": "ipK5kKoY_2if",
        "outputId": "e2454f5c-9a9f-4bd8-c3ad-44f23c5dce4e"
      },
      "execution_count": 416,
      "outputs": [
        {
          "output_type": "stream",
          "name": "stdout",
          "text": [
            "<class 'pandas.core.frame.DataFrame'>\n",
            "MultiIndex: 5 entries, ('ANO', 'MES', 'SENADOR', 'TIPO_DESPESA', 'CNPJ_CPF', 'FORNECEDOR', 'DOCUMENTO', 'DATA', 'DETALHAMENTO') to ('2022', '1', 'ACIR GURGACZ', 'Divulgação da atividade parlamentar', '23.652.846/0001-01', 'ROBERTO GUTIERREZ DA ROCHA M.E.I.', '187', '18/01/2022', 'Divulgação da atividade parlamentar')\n",
            "Data columns (total 2 columns):\n",
            " #   Column              Non-Null Count  Dtype \n",
            "---  ------              --------------  ----- \n",
            " 0   ULTIMA ATUALIZACAO  5 non-null      object\n",
            " 1   31/05/2022 02:01    5 non-null      object\n",
            "dtypes: object(2)\n",
            "memory usage: 1.8+ KB\n"
          ]
        }
      ]
    },
    {
      "cell_type": "markdown",
      "source": [
        "O arquivo começa com \"ULTIMA ATUALIZACAO\";\"31/05/2022 02:01\". Isso faz com que hajam apenas duas colunas e algumas linhas de valor igual se agrupem na tabela."
      ],
      "metadata": {
        "id": "F5mRdINY7wDc"
      }
    },
    {
      "cell_type": "markdown",
      "source": [
        "## Extração da última data de atualização"
      ],
      "metadata": {
        "id": "Ai3jXmUV9AbI"
      }
    },
    {
      "cell_type": "code",
      "source": [
        "# Convertendo uma string em datetime\n",
        "# Referência: https://www.alura.com.br/artigos/lidando-com-datas-e-horarios-no-python?gclid=Cj0KCQjw-daUBhCIARIsALbkjSZTiCmktYTMVezV0Ubq_ONo5bJ7O6QuNcoXBGSD3yH7n0x46v89QDIaAtBbEALw_wcB\n",
        "\n",
        "from datetime import datetime\n",
        "\n",
        "atualizacao_texto = pd.read_csv(\"/content/drive/MyDrive/Cursos/#7DaysOfCode Alura/Despesas CEAPS 2008-2022 05/despesa_ceaps_2022.csv\", encoding = \"latin-1\", sep = \";\", nrows = 0)\n",
        "atualizacao_texto = atualizacao_texto.columns[1]\n",
        "\n",
        "ultima_atualizacao_2022 = datetime.strptime(atualizacao_texto, '%d/%m/%Y %H:%M')\n",
        "print(\"Última atualização do dataset \" + str(ultima_atualizacao_2022))"
      ],
      "metadata": {
        "colab": {
          "base_uri": "https://localhost:8080/"
        },
        "id": "bjKVheZB2SsT",
        "outputId": "956c49ca-0827-45ad-fea2-e8df79db18d2"
      },
      "execution_count": 417,
      "outputs": [
        {
          "output_type": "stream",
          "name": "stdout",
          "text": [
            "Última atualização do dataset 2022-05-31 02:01:00\n"
          ]
        }
      ]
    },
    {
      "cell_type": "markdown",
      "source": [
        "## Abertura do arquivo"
      ],
      "metadata": {
        "id": "cUV-XulQADvG"
      }
    },
    {
      "cell_type": "code",
      "source": [
        "# O header = 1 faz com que o arquivo seja lido a partir da segunda linha, ignorando a primeira e evitando o problema do multi index\n",
        "\n",
        "dados_ceaps_2022 = pd.read_csv(\"/content/drive/MyDrive/Cursos/#7DaysOfCode Alura/Despesas CEAPS 2008-2022 05/despesa_ceaps_2022.csv\", encoding = \"latin-1\", sep = \";\", header = 1, decimal = \",\")\n",
        "dados_ceaps_2022.head()"
      ],
      "metadata": {
        "colab": {
          "base_uri": "https://localhost:8080/",
          "height": 206
        },
        "id": "-O5nfU-P71nC",
        "outputId": "bcb606ee-b72a-4d8e-9233-e1adaf94e75a"
      },
      "execution_count": 418,
      "outputs": [
        {
          "output_type": "execute_result",
          "data": {
            "text/plain": [
              "    ANO  MES       SENADOR                                       TIPO_DESPESA  \\\n",
              "0  2022    1  ACIR GURGACZ  Aluguel de imóveis para escritório político, c...   \n",
              "1  2022    1  ACIR GURGACZ                Divulgação da atividade parlamentar   \n",
              "2  2022    1  ACIR GURGACZ                Divulgação da atividade parlamentar   \n",
              "3  2022    1  ACIR GURGACZ                Divulgação da atividade parlamentar   \n",
              "4  2022    1  ACIR GURGACZ                Divulgação da atividade parlamentar   \n",
              "\n",
              "             CNPJ_CPF                                         FORNECEDOR  \\\n",
              "0      004.948.028-63                      GILBERTO PISELO DO NASCIMENTO   \n",
              "1  26.320.603/0001-64                                      INFORMANAHORA   \n",
              "2  13.659.201/0001-47                    LINHA PURPURA FOTO E VIDEO LTDA   \n",
              "3  23.652.846/0001-01                  ROBERTO GUTIERREZ DA ROCHA M.E.I.   \n",
              "4  08.941.827/0001-01  RONDONIA DINÂMICA COM. E SERV. DE INFORMÁTICA ...   \n",
              "\n",
              "           DOCUMENTO        DATA  \\\n",
              "0             001/22  03/01/2022   \n",
              "1  000000000000310/A  04/01/2022   \n",
              "2                107  14/01/2022   \n",
              "3                187  18/01/2022   \n",
              "4  000000000001772/A  17/01/2022   \n",
              "\n",
              "                                        DETALHAMENTO  VALOR_REEMBOLSADO  \\\n",
              "0  Despesa com pagamento de aluguel de imóvel par...             6000.0   \n",
              "1  Despesa com divulgação da atividade parlamenta...             1500.0   \n",
              "2  Despesa com produção de texto e edição de víde...             6000.0   \n",
              "3                Divulgação da atividade parlamentar             1000.0   \n",
              "4                Divulgação da atividade parlamentar             2000.0   \n",
              "\n",
              "   COD_DOCUMENTO  \n",
              "0        2173614  \n",
              "1        2173615  \n",
              "2        2173616  \n",
              "3        2173618  \n",
              "4        2173617  "
            ],
            "text/html": [
              "\n",
              "  <div id=\"df-46620257-fc80-4ba7-9e14-fb3ef454fa85\">\n",
              "    <div class=\"colab-df-container\">\n",
              "      <div>\n",
              "<style scoped>\n",
              "    .dataframe tbody tr th:only-of-type {\n",
              "        vertical-align: middle;\n",
              "    }\n",
              "\n",
              "    .dataframe tbody tr th {\n",
              "        vertical-align: top;\n",
              "    }\n",
              "\n",
              "    .dataframe thead th {\n",
              "        text-align: right;\n",
              "    }\n",
              "</style>\n",
              "<table border=\"1\" class=\"dataframe\">\n",
              "  <thead>\n",
              "    <tr style=\"text-align: right;\">\n",
              "      <th></th>\n",
              "      <th>ANO</th>\n",
              "      <th>MES</th>\n",
              "      <th>SENADOR</th>\n",
              "      <th>TIPO_DESPESA</th>\n",
              "      <th>CNPJ_CPF</th>\n",
              "      <th>FORNECEDOR</th>\n",
              "      <th>DOCUMENTO</th>\n",
              "      <th>DATA</th>\n",
              "      <th>DETALHAMENTO</th>\n",
              "      <th>VALOR_REEMBOLSADO</th>\n",
              "      <th>COD_DOCUMENTO</th>\n",
              "    </tr>\n",
              "  </thead>\n",
              "  <tbody>\n",
              "    <tr>\n",
              "      <th>0</th>\n",
              "      <td>2022</td>\n",
              "      <td>1</td>\n",
              "      <td>ACIR GURGACZ</td>\n",
              "      <td>Aluguel de imóveis para escritório político, c...</td>\n",
              "      <td>004.948.028-63</td>\n",
              "      <td>GILBERTO PISELO DO NASCIMENTO</td>\n",
              "      <td>001/22</td>\n",
              "      <td>03/01/2022</td>\n",
              "      <td>Despesa com pagamento de aluguel de imóvel par...</td>\n",
              "      <td>6000.0</td>\n",
              "      <td>2173614</td>\n",
              "    </tr>\n",
              "    <tr>\n",
              "      <th>1</th>\n",
              "      <td>2022</td>\n",
              "      <td>1</td>\n",
              "      <td>ACIR GURGACZ</td>\n",
              "      <td>Divulgação da atividade parlamentar</td>\n",
              "      <td>26.320.603/0001-64</td>\n",
              "      <td>INFORMANAHORA</td>\n",
              "      <td>000000000000310/A</td>\n",
              "      <td>04/01/2022</td>\n",
              "      <td>Despesa com divulgação da atividade parlamenta...</td>\n",
              "      <td>1500.0</td>\n",
              "      <td>2173615</td>\n",
              "    </tr>\n",
              "    <tr>\n",
              "      <th>2</th>\n",
              "      <td>2022</td>\n",
              "      <td>1</td>\n",
              "      <td>ACIR GURGACZ</td>\n",
              "      <td>Divulgação da atividade parlamentar</td>\n",
              "      <td>13.659.201/0001-47</td>\n",
              "      <td>LINHA PURPURA FOTO E VIDEO LTDA</td>\n",
              "      <td>107</td>\n",
              "      <td>14/01/2022</td>\n",
              "      <td>Despesa com produção de texto e edição de víde...</td>\n",
              "      <td>6000.0</td>\n",
              "      <td>2173616</td>\n",
              "    </tr>\n",
              "    <tr>\n",
              "      <th>3</th>\n",
              "      <td>2022</td>\n",
              "      <td>1</td>\n",
              "      <td>ACIR GURGACZ</td>\n",
              "      <td>Divulgação da atividade parlamentar</td>\n",
              "      <td>23.652.846/0001-01</td>\n",
              "      <td>ROBERTO GUTIERREZ DA ROCHA M.E.I.</td>\n",
              "      <td>187</td>\n",
              "      <td>18/01/2022</td>\n",
              "      <td>Divulgação da atividade parlamentar</td>\n",
              "      <td>1000.0</td>\n",
              "      <td>2173618</td>\n",
              "    </tr>\n",
              "    <tr>\n",
              "      <th>4</th>\n",
              "      <td>2022</td>\n",
              "      <td>1</td>\n",
              "      <td>ACIR GURGACZ</td>\n",
              "      <td>Divulgação da atividade parlamentar</td>\n",
              "      <td>08.941.827/0001-01</td>\n",
              "      <td>RONDONIA DINÂMICA COM. E SERV. DE INFORMÁTICA ...</td>\n",
              "      <td>000000000001772/A</td>\n",
              "      <td>17/01/2022</td>\n",
              "      <td>Divulgação da atividade parlamentar</td>\n",
              "      <td>2000.0</td>\n",
              "      <td>2173617</td>\n",
              "    </tr>\n",
              "  </tbody>\n",
              "</table>\n",
              "</div>\n",
              "      <button class=\"colab-df-convert\" onclick=\"convertToInteractive('df-46620257-fc80-4ba7-9e14-fb3ef454fa85')\"\n",
              "              title=\"Convert this dataframe to an interactive table.\"\n",
              "              style=\"display:none;\">\n",
              "        \n",
              "  <svg xmlns=\"http://www.w3.org/2000/svg\" height=\"24px\"viewBox=\"0 0 24 24\"\n",
              "       width=\"24px\">\n",
              "    <path d=\"M0 0h24v24H0V0z\" fill=\"none\"/>\n",
              "    <path d=\"M18.56 5.44l.94 2.06.94-2.06 2.06-.94-2.06-.94-.94-2.06-.94 2.06-2.06.94zm-11 1L8.5 8.5l.94-2.06 2.06-.94-2.06-.94L8.5 2.5l-.94 2.06-2.06.94zm10 10l.94 2.06.94-2.06 2.06-.94-2.06-.94-.94-2.06-.94 2.06-2.06.94z\"/><path d=\"M17.41 7.96l-1.37-1.37c-.4-.4-.92-.59-1.43-.59-.52 0-1.04.2-1.43.59L10.3 9.45l-7.72 7.72c-.78.78-.78 2.05 0 2.83L4 21.41c.39.39.9.59 1.41.59.51 0 1.02-.2 1.41-.59l7.78-7.78 2.81-2.81c.8-.78.8-2.07 0-2.86zM5.41 20L4 18.59l7.72-7.72 1.47 1.35L5.41 20z\"/>\n",
              "  </svg>\n",
              "      </button>\n",
              "      \n",
              "  <style>\n",
              "    .colab-df-container {\n",
              "      display:flex;\n",
              "      flex-wrap:wrap;\n",
              "      gap: 12px;\n",
              "    }\n",
              "\n",
              "    .colab-df-convert {\n",
              "      background-color: #E8F0FE;\n",
              "      border: none;\n",
              "      border-radius: 50%;\n",
              "      cursor: pointer;\n",
              "      display: none;\n",
              "      fill: #1967D2;\n",
              "      height: 32px;\n",
              "      padding: 0 0 0 0;\n",
              "      width: 32px;\n",
              "    }\n",
              "\n",
              "    .colab-df-convert:hover {\n",
              "      background-color: #E2EBFA;\n",
              "      box-shadow: 0px 1px 2px rgba(60, 64, 67, 0.3), 0px 1px 3px 1px rgba(60, 64, 67, 0.15);\n",
              "      fill: #174EA6;\n",
              "    }\n",
              "\n",
              "    [theme=dark] .colab-df-convert {\n",
              "      background-color: #3B4455;\n",
              "      fill: #D2E3FC;\n",
              "    }\n",
              "\n",
              "    [theme=dark] .colab-df-convert:hover {\n",
              "      background-color: #434B5C;\n",
              "      box-shadow: 0px 1px 3px 1px rgba(0, 0, 0, 0.15);\n",
              "      filter: drop-shadow(0px 1px 2px rgba(0, 0, 0, 0.3));\n",
              "      fill: #FFFFFF;\n",
              "    }\n",
              "  </style>\n",
              "\n",
              "      <script>\n",
              "        const buttonEl =\n",
              "          document.querySelector('#df-46620257-fc80-4ba7-9e14-fb3ef454fa85 button.colab-df-convert');\n",
              "        buttonEl.style.display =\n",
              "          google.colab.kernel.accessAllowed ? 'block' : 'none';\n",
              "\n",
              "        async function convertToInteractive(key) {\n",
              "          const element = document.querySelector('#df-46620257-fc80-4ba7-9e14-fb3ef454fa85');\n",
              "          const dataTable =\n",
              "            await google.colab.kernel.invokeFunction('convertToInteractive',\n",
              "                                                     [key], {});\n",
              "          if (!dataTable) return;\n",
              "\n",
              "          const docLinkHtml = 'Like what you see? Visit the ' +\n",
              "            '<a target=\"_blank\" href=https://colab.research.google.com/notebooks/data_table.ipynb>data table notebook</a>'\n",
              "            + ' to learn more about interactive tables.';\n",
              "          element.innerHTML = '';\n",
              "          dataTable['output_type'] = 'display_data';\n",
              "          await google.colab.output.renderOutput(dataTable, element);\n",
              "          const docLink = document.createElement('div');\n",
              "          docLink.innerHTML = docLinkHtml;\n",
              "          element.appendChild(docLink);\n",
              "        }\n",
              "      </script>\n",
              "    </div>\n",
              "  </div>\n",
              "  "
            ]
          },
          "metadata": {},
          "execution_count": 418
        }
      ]
    },
    {
      "cell_type": "code",
      "source": [
        "dados_ceaps_2022.info()"
      ],
      "metadata": {
        "colab": {
          "base_uri": "https://localhost:8080/"
        },
        "id": "7YbV-F349hhT",
        "outputId": "7d98102a-5388-47ca-a18f-1b5e481f985f"
      },
      "execution_count": 419,
      "outputs": [
        {
          "output_type": "stream",
          "name": "stdout",
          "text": [
            "<class 'pandas.core.frame.DataFrame'>\n",
            "RangeIndex: 6160 entries, 0 to 6159\n",
            "Data columns (total 11 columns):\n",
            " #   Column             Non-Null Count  Dtype  \n",
            "---  ------             --------------  -----  \n",
            " 0   ANO                6160 non-null   int64  \n",
            " 1   MES                6160 non-null   int64  \n",
            " 2   SENADOR            6160 non-null   object \n",
            " 3   TIPO_DESPESA       6160 non-null   object \n",
            " 4   CNPJ_CPF           6160 non-null   object \n",
            " 5   FORNECEDOR         6160 non-null   object \n",
            " 6   DOCUMENTO          5858 non-null   object \n",
            " 7   DATA               6160 non-null   object \n",
            " 8   DETALHAMENTO       3308 non-null   object \n",
            " 9   VALOR_REEMBOLSADO  6160 non-null   float64\n",
            " 10  COD_DOCUMENTO      6160 non-null   int64  \n",
            "dtypes: float64(1), int64(3), object(7)\n",
            "memory usage: 529.5+ KB\n"
          ]
        }
      ]
    },
    {
      "cell_type": "markdown",
      "source": [
        "## Conversão de tipos"
      ],
      "metadata": {
        "id": "anWLnNyUAmMB"
      }
    },
    {
      "cell_type": "markdown",
      "source": [
        "### Data"
      ],
      "metadata": {
        "id": "SmuUuSJkDfOI"
      }
    },
    {
      "cell_type": "code",
      "source": [
        "dados_ceaps_2022[\"DATA\"] = pd.to_datetime(dados_ceaps_2022[\"DATA\"])"
      ],
      "metadata": {
        "id": "qCNCD_d-AaND"
      },
      "execution_count": 420,
      "outputs": []
    },
    {
      "cell_type": "markdown",
      "source": [
        "### Valor do reembolso"
      ],
      "metadata": {
        "id": "BI49GWWOFsu2"
      }
    },
    {
      "cell_type": "code",
      "source": [
        "dados_ceaps_2022[\"VALOR_REEMBOLSADO\"] = dados_ceaps_2022[\"VALOR_REEMBOLSADO\"].astype(float)"
      ],
      "metadata": {
        "id": "hTUzOetYFeUs"
      },
      "execution_count": 421,
      "outputs": []
    },
    {
      "cell_type": "markdown",
      "source": [
        "Agora que o tratamento dos dados parece satisfatório, vou unir os datasets dos últimos 4 anos (2018-2022)."
      ],
      "metadata": {
        "id": "X0TSKuijc5zp"
      }
    },
    {
      "cell_type": "markdown",
      "source": [
        "# União dos dados de 2019 a 2022 e Tratamentos"
      ],
      "metadata": {
        "id": "oG1H2xB1fVcV"
      }
    },
    {
      "cell_type": "markdown",
      "source": [
        "### Abertura dos dados"
      ],
      "metadata": {
        "id": "xaugRu6bgm_m"
      }
    },
    {
      "cell_type": "code",
      "source": [
        "def extrai_ultima_atualizacao(caminho):\n",
        "  atualizacao_texto = pd.read_csv(caminho, encoding = \"latin-1\", sep = \";\", nrows = 0)\n",
        "  atualizacao_texto = atualizacao_texto.columns[1]\n",
        "\n",
        "  ultima_atualizacao = datetime.strptime(atualizacao_texto, '%d/%m/%Y %H:%M')\n",
        "  return ultima_atualizacao"
      ],
      "metadata": {
        "id": "p41uaFAsGPwE"
      },
      "execution_count": 422,
      "outputs": []
    },
    {
      "cell_type": "code",
      "source": [
        "ultima_atualizacao_2021 = extrai_ultima_atualizacao(\"/content/drive/MyDrive/Cursos/#7DaysOfCode Alura/Despesas CEAPS 2008-2022 05/despesa_ceaps_2021.csv\")\n",
        "ultima_atualizacao_2020 = extrai_ultima_atualizacao(\"/content/drive/MyDrive/Cursos/#7DaysOfCode Alura/Despesas CEAPS 2008-2022 05/despesa_ceaps_2020.csv\")\n",
        "ultima_atualizacao_2019 = extrai_ultima_atualizacao(\"/content/drive/MyDrive/Cursos/#7DaysOfCode Alura/Despesas CEAPS 2008-2022 05/despesa_ceaps_2019.csv\")\n",
        "\n",
        "print(\"Última atualização de 2022 \" + str(ultima_atualizacao_2022))\n",
        "print(\"Última atualização de 2021 \" + str(ultima_atualizacao_2021))\n",
        "print(\"Última atualização de 2020 \" + str(ultima_atualizacao_2020))\n",
        "print(\"Última atualização de 2019 \" + str(ultima_atualizacao_2019))"
      ],
      "metadata": {
        "colab": {
          "base_uri": "https://localhost:8080/"
        },
        "id": "wnd6tIF0d4Eh",
        "outputId": "c2306972-fe61-49d9-9194-63c037433d25"
      },
      "execution_count": 423,
      "outputs": [
        {
          "output_type": "stream",
          "name": "stdout",
          "text": [
            "Última atualização de 2022 2022-05-31 02:01:00\n",
            "Última atualização de 2021 2022-05-31 02:00:00\n",
            "Última atualização de 2020 2022-05-31 02:00:00\n",
            "Última atualização de 2019 2021-08-06 02:08:00\n"
          ]
        }
      ]
    },
    {
      "cell_type": "code",
      "source": [
        "dados_ceaps_2022 = pd.read_csv(\"/content/drive/MyDrive/Cursos/#7DaysOfCode Alura/Despesas CEAPS 2008-2022 05/despesa_ceaps_2022.csv\", encoding = \"latin-1\", sep = \";\", header = 1, decimal = \",\")\n",
        "#dados_ceap_2022.info()"
      ],
      "metadata": {
        "id": "RDUtnSlnee6J"
      },
      "execution_count": 424,
      "outputs": []
    },
    {
      "cell_type": "code",
      "source": [
        "dados_ceaps_2021 = pd.read_csv(\"/content/drive/MyDrive/Cursos/#7DaysOfCode Alura/Despesas CEAPS 2008-2022 05/despesa_ceaps_2021.csv\", encoding = \"latin-1\", sep = \";\", header = 1, decimal = \",\")\n",
        "#dados_ceap_2021.info()"
      ],
      "metadata": {
        "id": "vP--mmFBfkDx"
      },
      "execution_count": 425,
      "outputs": []
    },
    {
      "cell_type": "code",
      "source": [
        "dados_ceaps_2020 = pd.read_csv(\"/content/drive/MyDrive/Cursos/#7DaysOfCode Alura/Despesas CEAPS 2008-2022 05/despesa_ceaps_2020.csv\", encoding = \"latin-1\", sep = \";\", header = 1, decimal = \",\")\n",
        "#dados_ceap_2020.info()"
      ],
      "metadata": {
        "id": "RTzigp9mfy0a"
      },
      "execution_count": 426,
      "outputs": []
    },
    {
      "cell_type": "code",
      "source": [
        "dados_ceaps_2019 = pd.read_csv(\"/content/drive/MyDrive/Cursos/#7DaysOfCode Alura/Despesas CEAPS 2008-2022 05/despesa_ceaps_2019.csv\", encoding = \"latin-1\", sep = \";\", header = 1, decimal = \",\")\n",
        "#dados_ceap_2019.info()"
      ],
      "metadata": {
        "id": "fRbM5MFcgA7a"
      },
      "execution_count": 427,
      "outputs": []
    },
    {
      "cell_type": "code",
      "source": [
        "dados_ceaps = pd.concat([dados_ceaps_2022, dados_ceaps_2021, dados_ceaps_2020, dados_ceaps_2019])\n",
        "dados_ceaps.info()"
      ],
      "metadata": {
        "colab": {
          "base_uri": "https://localhost:8080/"
        },
        "id": "XzFHBoaygH35",
        "outputId": "d37b2f5e-deb5-404f-d5aa-68e192a42c04"
      },
      "execution_count": 428,
      "outputs": [
        {
          "output_type": "stream",
          "name": "stdout",
          "text": [
            "<class 'pandas.core.frame.DataFrame'>\n",
            "Int64Index: 58711 entries, 0 to 21633\n",
            "Data columns (total 11 columns):\n",
            " #   Column             Non-Null Count  Dtype  \n",
            "---  ------             --------------  -----  \n",
            " 0   ANO                58711 non-null  int64  \n",
            " 1   MES                58711 non-null  int64  \n",
            " 2   SENADOR            58711 non-null  object \n",
            " 3   TIPO_DESPESA       58711 non-null  object \n",
            " 4   CNPJ_CPF           58711 non-null  object \n",
            " 5   FORNECEDOR         58711 non-null  object \n",
            " 6   DOCUMENTO          56380 non-null  object \n",
            " 7   DATA               58711 non-null  object \n",
            " 8   DETALHAMENTO       32829 non-null  object \n",
            " 9   VALOR_REEMBOLSADO  58711 non-null  float64\n",
            " 10  COD_DOCUMENTO      58711 non-null  int64  \n",
            "dtypes: float64(1), int64(3), object(7)\n",
            "memory usage: 5.4+ MB\n"
          ]
        }
      ]
    },
    {
      "cell_type": "code",
      "source": [
        "dados_ceaps.head()"
      ],
      "metadata": {
        "colab": {
          "base_uri": "https://localhost:8080/",
          "height": 206
        },
        "id": "XzDPz_rpgdnZ",
        "outputId": "97627a47-e2fd-4e10-9a00-64545fbe1e3a"
      },
      "execution_count": 429,
      "outputs": [
        {
          "output_type": "execute_result",
          "data": {
            "text/plain": [
              "    ANO  MES       SENADOR                                       TIPO_DESPESA  \\\n",
              "0  2022    1  ACIR GURGACZ  Aluguel de imóveis para escritório político, c...   \n",
              "1  2022    1  ACIR GURGACZ                Divulgação da atividade parlamentar   \n",
              "2  2022    1  ACIR GURGACZ                Divulgação da atividade parlamentar   \n",
              "3  2022    1  ACIR GURGACZ                Divulgação da atividade parlamentar   \n",
              "4  2022    1  ACIR GURGACZ                Divulgação da atividade parlamentar   \n",
              "\n",
              "             CNPJ_CPF                                         FORNECEDOR  \\\n",
              "0      004.948.028-63                      GILBERTO PISELO DO NASCIMENTO   \n",
              "1  26.320.603/0001-64                                      INFORMANAHORA   \n",
              "2  13.659.201/0001-47                    LINHA PURPURA FOTO E VIDEO LTDA   \n",
              "3  23.652.846/0001-01                  ROBERTO GUTIERREZ DA ROCHA M.E.I.   \n",
              "4  08.941.827/0001-01  RONDONIA DINÂMICA COM. E SERV. DE INFORMÁTICA ...   \n",
              "\n",
              "           DOCUMENTO        DATA  \\\n",
              "0             001/22  03/01/2022   \n",
              "1  000000000000310/A  04/01/2022   \n",
              "2                107  14/01/2022   \n",
              "3                187  18/01/2022   \n",
              "4  000000000001772/A  17/01/2022   \n",
              "\n",
              "                                        DETALHAMENTO  VALOR_REEMBOLSADO  \\\n",
              "0  Despesa com pagamento de aluguel de imóvel par...             6000.0   \n",
              "1  Despesa com divulgação da atividade parlamenta...             1500.0   \n",
              "2  Despesa com produção de texto e edição de víde...             6000.0   \n",
              "3                Divulgação da atividade parlamentar             1000.0   \n",
              "4                Divulgação da atividade parlamentar             2000.0   \n",
              "\n",
              "   COD_DOCUMENTO  \n",
              "0        2173614  \n",
              "1        2173615  \n",
              "2        2173616  \n",
              "3        2173618  \n",
              "4        2173617  "
            ],
            "text/html": [
              "\n",
              "  <div id=\"df-eeccaa5c-55be-446d-ab8b-512d24804947\">\n",
              "    <div class=\"colab-df-container\">\n",
              "      <div>\n",
              "<style scoped>\n",
              "    .dataframe tbody tr th:only-of-type {\n",
              "        vertical-align: middle;\n",
              "    }\n",
              "\n",
              "    .dataframe tbody tr th {\n",
              "        vertical-align: top;\n",
              "    }\n",
              "\n",
              "    .dataframe thead th {\n",
              "        text-align: right;\n",
              "    }\n",
              "</style>\n",
              "<table border=\"1\" class=\"dataframe\">\n",
              "  <thead>\n",
              "    <tr style=\"text-align: right;\">\n",
              "      <th></th>\n",
              "      <th>ANO</th>\n",
              "      <th>MES</th>\n",
              "      <th>SENADOR</th>\n",
              "      <th>TIPO_DESPESA</th>\n",
              "      <th>CNPJ_CPF</th>\n",
              "      <th>FORNECEDOR</th>\n",
              "      <th>DOCUMENTO</th>\n",
              "      <th>DATA</th>\n",
              "      <th>DETALHAMENTO</th>\n",
              "      <th>VALOR_REEMBOLSADO</th>\n",
              "      <th>COD_DOCUMENTO</th>\n",
              "    </tr>\n",
              "  </thead>\n",
              "  <tbody>\n",
              "    <tr>\n",
              "      <th>0</th>\n",
              "      <td>2022</td>\n",
              "      <td>1</td>\n",
              "      <td>ACIR GURGACZ</td>\n",
              "      <td>Aluguel de imóveis para escritório político, c...</td>\n",
              "      <td>004.948.028-63</td>\n",
              "      <td>GILBERTO PISELO DO NASCIMENTO</td>\n",
              "      <td>001/22</td>\n",
              "      <td>03/01/2022</td>\n",
              "      <td>Despesa com pagamento de aluguel de imóvel par...</td>\n",
              "      <td>6000.0</td>\n",
              "      <td>2173614</td>\n",
              "    </tr>\n",
              "    <tr>\n",
              "      <th>1</th>\n",
              "      <td>2022</td>\n",
              "      <td>1</td>\n",
              "      <td>ACIR GURGACZ</td>\n",
              "      <td>Divulgação da atividade parlamentar</td>\n",
              "      <td>26.320.603/0001-64</td>\n",
              "      <td>INFORMANAHORA</td>\n",
              "      <td>000000000000310/A</td>\n",
              "      <td>04/01/2022</td>\n",
              "      <td>Despesa com divulgação da atividade parlamenta...</td>\n",
              "      <td>1500.0</td>\n",
              "      <td>2173615</td>\n",
              "    </tr>\n",
              "    <tr>\n",
              "      <th>2</th>\n",
              "      <td>2022</td>\n",
              "      <td>1</td>\n",
              "      <td>ACIR GURGACZ</td>\n",
              "      <td>Divulgação da atividade parlamentar</td>\n",
              "      <td>13.659.201/0001-47</td>\n",
              "      <td>LINHA PURPURA FOTO E VIDEO LTDA</td>\n",
              "      <td>107</td>\n",
              "      <td>14/01/2022</td>\n",
              "      <td>Despesa com produção de texto e edição de víde...</td>\n",
              "      <td>6000.0</td>\n",
              "      <td>2173616</td>\n",
              "    </tr>\n",
              "    <tr>\n",
              "      <th>3</th>\n",
              "      <td>2022</td>\n",
              "      <td>1</td>\n",
              "      <td>ACIR GURGACZ</td>\n",
              "      <td>Divulgação da atividade parlamentar</td>\n",
              "      <td>23.652.846/0001-01</td>\n",
              "      <td>ROBERTO GUTIERREZ DA ROCHA M.E.I.</td>\n",
              "      <td>187</td>\n",
              "      <td>18/01/2022</td>\n",
              "      <td>Divulgação da atividade parlamentar</td>\n",
              "      <td>1000.0</td>\n",
              "      <td>2173618</td>\n",
              "    </tr>\n",
              "    <tr>\n",
              "      <th>4</th>\n",
              "      <td>2022</td>\n",
              "      <td>1</td>\n",
              "      <td>ACIR GURGACZ</td>\n",
              "      <td>Divulgação da atividade parlamentar</td>\n",
              "      <td>08.941.827/0001-01</td>\n",
              "      <td>RONDONIA DINÂMICA COM. E SERV. DE INFORMÁTICA ...</td>\n",
              "      <td>000000000001772/A</td>\n",
              "      <td>17/01/2022</td>\n",
              "      <td>Divulgação da atividade parlamentar</td>\n",
              "      <td>2000.0</td>\n",
              "      <td>2173617</td>\n",
              "    </tr>\n",
              "  </tbody>\n",
              "</table>\n",
              "</div>\n",
              "      <button class=\"colab-df-convert\" onclick=\"convertToInteractive('df-eeccaa5c-55be-446d-ab8b-512d24804947')\"\n",
              "              title=\"Convert this dataframe to an interactive table.\"\n",
              "              style=\"display:none;\">\n",
              "        \n",
              "  <svg xmlns=\"http://www.w3.org/2000/svg\" height=\"24px\"viewBox=\"0 0 24 24\"\n",
              "       width=\"24px\">\n",
              "    <path d=\"M0 0h24v24H0V0z\" fill=\"none\"/>\n",
              "    <path d=\"M18.56 5.44l.94 2.06.94-2.06 2.06-.94-2.06-.94-.94-2.06-.94 2.06-2.06.94zm-11 1L8.5 8.5l.94-2.06 2.06-.94-2.06-.94L8.5 2.5l-.94 2.06-2.06.94zm10 10l.94 2.06.94-2.06 2.06-.94-2.06-.94-.94-2.06-.94 2.06-2.06.94z\"/><path d=\"M17.41 7.96l-1.37-1.37c-.4-.4-.92-.59-1.43-.59-.52 0-1.04.2-1.43.59L10.3 9.45l-7.72 7.72c-.78.78-.78 2.05 0 2.83L4 21.41c.39.39.9.59 1.41.59.51 0 1.02-.2 1.41-.59l7.78-7.78 2.81-2.81c.8-.78.8-2.07 0-2.86zM5.41 20L4 18.59l7.72-7.72 1.47 1.35L5.41 20z\"/>\n",
              "  </svg>\n",
              "      </button>\n",
              "      \n",
              "  <style>\n",
              "    .colab-df-container {\n",
              "      display:flex;\n",
              "      flex-wrap:wrap;\n",
              "      gap: 12px;\n",
              "    }\n",
              "\n",
              "    .colab-df-convert {\n",
              "      background-color: #E8F0FE;\n",
              "      border: none;\n",
              "      border-radius: 50%;\n",
              "      cursor: pointer;\n",
              "      display: none;\n",
              "      fill: #1967D2;\n",
              "      height: 32px;\n",
              "      padding: 0 0 0 0;\n",
              "      width: 32px;\n",
              "    }\n",
              "\n",
              "    .colab-df-convert:hover {\n",
              "      background-color: #E2EBFA;\n",
              "      box-shadow: 0px 1px 2px rgba(60, 64, 67, 0.3), 0px 1px 3px 1px rgba(60, 64, 67, 0.15);\n",
              "      fill: #174EA6;\n",
              "    }\n",
              "\n",
              "    [theme=dark] .colab-df-convert {\n",
              "      background-color: #3B4455;\n",
              "      fill: #D2E3FC;\n",
              "    }\n",
              "\n",
              "    [theme=dark] .colab-df-convert:hover {\n",
              "      background-color: #434B5C;\n",
              "      box-shadow: 0px 1px 3px 1px rgba(0, 0, 0, 0.15);\n",
              "      filter: drop-shadow(0px 1px 2px rgba(0, 0, 0, 0.3));\n",
              "      fill: #FFFFFF;\n",
              "    }\n",
              "  </style>\n",
              "\n",
              "      <script>\n",
              "        const buttonEl =\n",
              "          document.querySelector('#df-eeccaa5c-55be-446d-ab8b-512d24804947 button.colab-df-convert');\n",
              "        buttonEl.style.display =\n",
              "          google.colab.kernel.accessAllowed ? 'block' : 'none';\n",
              "\n",
              "        async function convertToInteractive(key) {\n",
              "          const element = document.querySelector('#df-eeccaa5c-55be-446d-ab8b-512d24804947');\n",
              "          const dataTable =\n",
              "            await google.colab.kernel.invokeFunction('convertToInteractive',\n",
              "                                                     [key], {});\n",
              "          if (!dataTable) return;\n",
              "\n",
              "          const docLinkHtml = 'Like what you see? Visit the ' +\n",
              "            '<a target=\"_blank\" href=https://colab.research.google.com/notebooks/data_table.ipynb>data table notebook</a>'\n",
              "            + ' to learn more about interactive tables.';\n",
              "          element.innerHTML = '';\n",
              "          dataTable['output_type'] = 'display_data';\n",
              "          await google.colab.output.renderOutput(dataTable, element);\n",
              "          const docLink = document.createElement('div');\n",
              "          docLink.innerHTML = docLinkHtml;\n",
              "          element.appendChild(docLink);\n",
              "        }\n",
              "      </script>\n",
              "    </div>\n",
              "  </div>\n",
              "  "
            ]
          },
          "metadata": {},
          "execution_count": 429
        }
      ]
    },
    {
      "cell_type": "markdown",
      "source": [
        "## Tratamentos"
      ],
      "metadata": {
        "id": "_AiPGY5zgpv_"
      }
    },
    {
      "cell_type": "markdown",
      "source": [
        "### Correção de datas"
      ],
      "metadata": {
        "id": "8X20YXsG_YIB"
      }
    },
    {
      "cell_type": "markdown",
      "source": [
        "Algumas linhas estão com o ano inserido errado. Vou assumnir as seguintes substituições:\n",
        "- 0202 = 2002\n",
        "- 0219 = 2019"
      ],
      "metadata": {
        "id": "hjVhSniqoJoo"
      }
    },
    {
      "cell_type": "code",
      "source": [
        "dados_ceaps[\"DATA\"].str[5:].value_counts()"
      ],
      "metadata": {
        "colab": {
          "base_uri": "https://localhost:8080/"
        },
        "id": "fplAjX6srr8z",
        "outputId": "d1db4513-b735-47de-994b-0057107002b4"
      },
      "execution_count": 430,
      "outputs": [
        {
          "output_type": "execute_result",
          "data": {
            "text/plain": [
              "/2019    21565\n",
              "/2021    16836\n",
              "/2020    14000\n",
              "/2022     6205\n",
              "/2018       88\n",
              "/2002        6\n",
              "/2010        4\n",
              "/0202        2\n",
              "/2014        2\n",
              "/2009        1\n",
              "/0219        1\n",
              "/2016        1\n",
              "Name: DATA, dtype: int64"
            ]
          },
          "metadata": {},
          "execution_count": 430
        }
      ]
    },
    {
      "cell_type": "code",
      "source": [
        "index_erro_0202 = dados_ceaps['DATA'].str.contains('/0202')\n",
        "index_erro_0219 = dados_ceaps['DATA'].str.contains('/0219')"
      ],
      "metadata": {
        "id": "A5wh4gVghqOC"
      },
      "execution_count": 431,
      "outputs": []
    },
    {
      "cell_type": "code",
      "source": [
        "dados_ceaps[index_erro_0202]"
      ],
      "metadata": {
        "colab": {
          "base_uri": "https://localhost:8080/",
          "height": 112
        },
        "id": "5zg01VtkiCYq",
        "outputId": "45fb7f5f-1ada-4526-925d-f29872e4cf43"
      },
      "execution_count": 432,
      "outputs": [
        {
          "output_type": "execute_result",
          "data": {
            "text/plain": [
              "        ANO  MES         SENADOR  \\\n",
              "2148   2021   11    CARLOS VIANA   \n",
              "10362  2020    5  PLÍNIO VALÉRIO   \n",
              "\n",
              "                                            TIPO_DESPESA            CNPJ_CPF  \\\n",
              "2148   Passagens aéreas, aquáticas e terrestres nacio...  16.978.175/0001-08   \n",
              "10362                Divulgação da atividade parlamentar  27.209.437/0001-96   \n",
              "\n",
              "                               FORNECEDOR DOCUMENTO        DATA  \\\n",
              "2148         ADRIA VIAGENS E TURISMO LTDA    YK1QHD  29/10/0202   \n",
              "10362  Excelsior Comunicação Digital Ltda    2020/9  05/05/0202   \n",
              "\n",
              "                                            DETALHAMENTO  VALOR_REEMBOLSADO  \\\n",
              "2148   Companhia Aérea: AZUL, Localizador: YK1QHD. Pa...              339.9   \n",
              "10362                                                NaN             1150.0   \n",
              "\n",
              "       COD_DOCUMENTO  \n",
              "2148         2169237  \n",
              "10362        2144535  "
            ],
            "text/html": [
              "\n",
              "  <div id=\"df-beed211d-7575-4b49-9ad7-f1180ccce843\">\n",
              "    <div class=\"colab-df-container\">\n",
              "      <div>\n",
              "<style scoped>\n",
              "    .dataframe tbody tr th:only-of-type {\n",
              "        vertical-align: middle;\n",
              "    }\n",
              "\n",
              "    .dataframe tbody tr th {\n",
              "        vertical-align: top;\n",
              "    }\n",
              "\n",
              "    .dataframe thead th {\n",
              "        text-align: right;\n",
              "    }\n",
              "</style>\n",
              "<table border=\"1\" class=\"dataframe\">\n",
              "  <thead>\n",
              "    <tr style=\"text-align: right;\">\n",
              "      <th></th>\n",
              "      <th>ANO</th>\n",
              "      <th>MES</th>\n",
              "      <th>SENADOR</th>\n",
              "      <th>TIPO_DESPESA</th>\n",
              "      <th>CNPJ_CPF</th>\n",
              "      <th>FORNECEDOR</th>\n",
              "      <th>DOCUMENTO</th>\n",
              "      <th>DATA</th>\n",
              "      <th>DETALHAMENTO</th>\n",
              "      <th>VALOR_REEMBOLSADO</th>\n",
              "      <th>COD_DOCUMENTO</th>\n",
              "    </tr>\n",
              "  </thead>\n",
              "  <tbody>\n",
              "    <tr>\n",
              "      <th>2148</th>\n",
              "      <td>2021</td>\n",
              "      <td>11</td>\n",
              "      <td>CARLOS VIANA</td>\n",
              "      <td>Passagens aéreas, aquáticas e terrestres nacio...</td>\n",
              "      <td>16.978.175/0001-08</td>\n",
              "      <td>ADRIA VIAGENS E TURISMO LTDA</td>\n",
              "      <td>YK1QHD</td>\n",
              "      <td>29/10/0202</td>\n",
              "      <td>Companhia Aérea: AZUL, Localizador: YK1QHD. Pa...</td>\n",
              "      <td>339.9</td>\n",
              "      <td>2169237</td>\n",
              "    </tr>\n",
              "    <tr>\n",
              "      <th>10362</th>\n",
              "      <td>2020</td>\n",
              "      <td>5</td>\n",
              "      <td>PLÍNIO VALÉRIO</td>\n",
              "      <td>Divulgação da atividade parlamentar</td>\n",
              "      <td>27.209.437/0001-96</td>\n",
              "      <td>Excelsior Comunicação Digital Ltda</td>\n",
              "      <td>2020/9</td>\n",
              "      <td>05/05/0202</td>\n",
              "      <td>NaN</td>\n",
              "      <td>1150.0</td>\n",
              "      <td>2144535</td>\n",
              "    </tr>\n",
              "  </tbody>\n",
              "</table>\n",
              "</div>\n",
              "      <button class=\"colab-df-convert\" onclick=\"convertToInteractive('df-beed211d-7575-4b49-9ad7-f1180ccce843')\"\n",
              "              title=\"Convert this dataframe to an interactive table.\"\n",
              "              style=\"display:none;\">\n",
              "        \n",
              "  <svg xmlns=\"http://www.w3.org/2000/svg\" height=\"24px\"viewBox=\"0 0 24 24\"\n",
              "       width=\"24px\">\n",
              "    <path d=\"M0 0h24v24H0V0z\" fill=\"none\"/>\n",
              "    <path d=\"M18.56 5.44l.94 2.06.94-2.06 2.06-.94-2.06-.94-.94-2.06-.94 2.06-2.06.94zm-11 1L8.5 8.5l.94-2.06 2.06-.94-2.06-.94L8.5 2.5l-.94 2.06-2.06.94zm10 10l.94 2.06.94-2.06 2.06-.94-2.06-.94-.94-2.06-.94 2.06-2.06.94z\"/><path d=\"M17.41 7.96l-1.37-1.37c-.4-.4-.92-.59-1.43-.59-.52 0-1.04.2-1.43.59L10.3 9.45l-7.72 7.72c-.78.78-.78 2.05 0 2.83L4 21.41c.39.39.9.59 1.41.59.51 0 1.02-.2 1.41-.59l7.78-7.78 2.81-2.81c.8-.78.8-2.07 0-2.86zM5.41 20L4 18.59l7.72-7.72 1.47 1.35L5.41 20z\"/>\n",
              "  </svg>\n",
              "      </button>\n",
              "      \n",
              "  <style>\n",
              "    .colab-df-container {\n",
              "      display:flex;\n",
              "      flex-wrap:wrap;\n",
              "      gap: 12px;\n",
              "    }\n",
              "\n",
              "    .colab-df-convert {\n",
              "      background-color: #E8F0FE;\n",
              "      border: none;\n",
              "      border-radius: 50%;\n",
              "      cursor: pointer;\n",
              "      display: none;\n",
              "      fill: #1967D2;\n",
              "      height: 32px;\n",
              "      padding: 0 0 0 0;\n",
              "      width: 32px;\n",
              "    }\n",
              "\n",
              "    .colab-df-convert:hover {\n",
              "      background-color: #E2EBFA;\n",
              "      box-shadow: 0px 1px 2px rgba(60, 64, 67, 0.3), 0px 1px 3px 1px rgba(60, 64, 67, 0.15);\n",
              "      fill: #174EA6;\n",
              "    }\n",
              "\n",
              "    [theme=dark] .colab-df-convert {\n",
              "      background-color: #3B4455;\n",
              "      fill: #D2E3FC;\n",
              "    }\n",
              "\n",
              "    [theme=dark] .colab-df-convert:hover {\n",
              "      background-color: #434B5C;\n",
              "      box-shadow: 0px 1px 3px 1px rgba(0, 0, 0, 0.15);\n",
              "      filter: drop-shadow(0px 1px 2px rgba(0, 0, 0, 0.3));\n",
              "      fill: #FFFFFF;\n",
              "    }\n",
              "  </style>\n",
              "\n",
              "      <script>\n",
              "        const buttonEl =\n",
              "          document.querySelector('#df-beed211d-7575-4b49-9ad7-f1180ccce843 button.colab-df-convert');\n",
              "        buttonEl.style.display =\n",
              "          google.colab.kernel.accessAllowed ? 'block' : 'none';\n",
              "\n",
              "        async function convertToInteractive(key) {\n",
              "          const element = document.querySelector('#df-beed211d-7575-4b49-9ad7-f1180ccce843');\n",
              "          const dataTable =\n",
              "            await google.colab.kernel.invokeFunction('convertToInteractive',\n",
              "                                                     [key], {});\n",
              "          if (!dataTable) return;\n",
              "\n",
              "          const docLinkHtml = 'Like what you see? Visit the ' +\n",
              "            '<a target=\"_blank\" href=https://colab.research.google.com/notebooks/data_table.ipynb>data table notebook</a>'\n",
              "            + ' to learn more about interactive tables.';\n",
              "          element.innerHTML = '';\n",
              "          dataTable['output_type'] = 'display_data';\n",
              "          await google.colab.output.renderOutput(dataTable, element);\n",
              "          const docLink = document.createElement('div');\n",
              "          docLink.innerHTML = docLinkHtml;\n",
              "          element.appendChild(docLink);\n",
              "        }\n",
              "      </script>\n",
              "    </div>\n",
              "  </div>\n",
              "  "
            ]
          },
          "metadata": {},
          "execution_count": 432
        }
      ]
    },
    {
      "cell_type": "code",
      "source": [
        "dados_ceaps[index_erro_0219]"
      ],
      "metadata": {
        "colab": {
          "base_uri": "https://localhost:8080/",
          "height": 81
        },
        "id": "jVCBT56FiHLJ",
        "outputId": "46a72266-81c8-44d4-96bf-e03ae9ffa55e"
      },
      "execution_count": 433,
      "outputs": [
        {
          "output_type": "execute_result",
          "data": {
            "text/plain": [
              "        ANO  MES      SENADOR  \\\n",
              "10986  2019    1  LÚCIA VÂNIA   \n",
              "\n",
              "                                            TIPO_DESPESA            CNPJ_CPF  \\\n",
              "10986  Aluguel de imóveis para escritório político, c...  08.573.731/0001-38   \n",
              "\n",
              "                                              FORNECEDOR DOCUMENTO  \\\n",
              "10986  LDE Contabilidade e Administração de Condomíni...   0107007   \n",
              "\n",
              "             DATA      DETALHAMENTO  VALOR_REEMBOLSADO  COD_DOCUMENTO  \n",
              "10986  31/01/0219  Taxa condominial             271.26        2114251  "
            ],
            "text/html": [
              "\n",
              "  <div id=\"df-dac1838e-eddd-451d-a9f8-3b31792b3ab1\">\n",
              "    <div class=\"colab-df-container\">\n",
              "      <div>\n",
              "<style scoped>\n",
              "    .dataframe tbody tr th:only-of-type {\n",
              "        vertical-align: middle;\n",
              "    }\n",
              "\n",
              "    .dataframe tbody tr th {\n",
              "        vertical-align: top;\n",
              "    }\n",
              "\n",
              "    .dataframe thead th {\n",
              "        text-align: right;\n",
              "    }\n",
              "</style>\n",
              "<table border=\"1\" class=\"dataframe\">\n",
              "  <thead>\n",
              "    <tr style=\"text-align: right;\">\n",
              "      <th></th>\n",
              "      <th>ANO</th>\n",
              "      <th>MES</th>\n",
              "      <th>SENADOR</th>\n",
              "      <th>TIPO_DESPESA</th>\n",
              "      <th>CNPJ_CPF</th>\n",
              "      <th>FORNECEDOR</th>\n",
              "      <th>DOCUMENTO</th>\n",
              "      <th>DATA</th>\n",
              "      <th>DETALHAMENTO</th>\n",
              "      <th>VALOR_REEMBOLSADO</th>\n",
              "      <th>COD_DOCUMENTO</th>\n",
              "    </tr>\n",
              "  </thead>\n",
              "  <tbody>\n",
              "    <tr>\n",
              "      <th>10986</th>\n",
              "      <td>2019</td>\n",
              "      <td>1</td>\n",
              "      <td>LÚCIA VÂNIA</td>\n",
              "      <td>Aluguel de imóveis para escritório político, c...</td>\n",
              "      <td>08.573.731/0001-38</td>\n",
              "      <td>LDE Contabilidade e Administração de Condomíni...</td>\n",
              "      <td>0107007</td>\n",
              "      <td>31/01/0219</td>\n",
              "      <td>Taxa condominial</td>\n",
              "      <td>271.26</td>\n",
              "      <td>2114251</td>\n",
              "    </tr>\n",
              "  </tbody>\n",
              "</table>\n",
              "</div>\n",
              "      <button class=\"colab-df-convert\" onclick=\"convertToInteractive('df-dac1838e-eddd-451d-a9f8-3b31792b3ab1')\"\n",
              "              title=\"Convert this dataframe to an interactive table.\"\n",
              "              style=\"display:none;\">\n",
              "        \n",
              "  <svg xmlns=\"http://www.w3.org/2000/svg\" height=\"24px\"viewBox=\"0 0 24 24\"\n",
              "       width=\"24px\">\n",
              "    <path d=\"M0 0h24v24H0V0z\" fill=\"none\"/>\n",
              "    <path d=\"M18.56 5.44l.94 2.06.94-2.06 2.06-.94-2.06-.94-.94-2.06-.94 2.06-2.06.94zm-11 1L8.5 8.5l.94-2.06 2.06-.94-2.06-.94L8.5 2.5l-.94 2.06-2.06.94zm10 10l.94 2.06.94-2.06 2.06-.94-2.06-.94-.94-2.06-.94 2.06-2.06.94z\"/><path d=\"M17.41 7.96l-1.37-1.37c-.4-.4-.92-.59-1.43-.59-.52 0-1.04.2-1.43.59L10.3 9.45l-7.72 7.72c-.78.78-.78 2.05 0 2.83L4 21.41c.39.39.9.59 1.41.59.51 0 1.02-.2 1.41-.59l7.78-7.78 2.81-2.81c.8-.78.8-2.07 0-2.86zM5.41 20L4 18.59l7.72-7.72 1.47 1.35L5.41 20z\"/>\n",
              "  </svg>\n",
              "      </button>\n",
              "      \n",
              "  <style>\n",
              "    .colab-df-container {\n",
              "      display:flex;\n",
              "      flex-wrap:wrap;\n",
              "      gap: 12px;\n",
              "    }\n",
              "\n",
              "    .colab-df-convert {\n",
              "      background-color: #E8F0FE;\n",
              "      border: none;\n",
              "      border-radius: 50%;\n",
              "      cursor: pointer;\n",
              "      display: none;\n",
              "      fill: #1967D2;\n",
              "      height: 32px;\n",
              "      padding: 0 0 0 0;\n",
              "      width: 32px;\n",
              "    }\n",
              "\n",
              "    .colab-df-convert:hover {\n",
              "      background-color: #E2EBFA;\n",
              "      box-shadow: 0px 1px 2px rgba(60, 64, 67, 0.3), 0px 1px 3px 1px rgba(60, 64, 67, 0.15);\n",
              "      fill: #174EA6;\n",
              "    }\n",
              "\n",
              "    [theme=dark] .colab-df-convert {\n",
              "      background-color: #3B4455;\n",
              "      fill: #D2E3FC;\n",
              "    }\n",
              "\n",
              "    [theme=dark] .colab-df-convert:hover {\n",
              "      background-color: #434B5C;\n",
              "      box-shadow: 0px 1px 3px 1px rgba(0, 0, 0, 0.15);\n",
              "      filter: drop-shadow(0px 1px 2px rgba(0, 0, 0, 0.3));\n",
              "      fill: #FFFFFF;\n",
              "    }\n",
              "  </style>\n",
              "\n",
              "      <script>\n",
              "        const buttonEl =\n",
              "          document.querySelector('#df-dac1838e-eddd-451d-a9f8-3b31792b3ab1 button.colab-df-convert');\n",
              "        buttonEl.style.display =\n",
              "          google.colab.kernel.accessAllowed ? 'block' : 'none';\n",
              "\n",
              "        async function convertToInteractive(key) {\n",
              "          const element = document.querySelector('#df-dac1838e-eddd-451d-a9f8-3b31792b3ab1');\n",
              "          const dataTable =\n",
              "            await google.colab.kernel.invokeFunction('convertToInteractive',\n",
              "                                                     [key], {});\n",
              "          if (!dataTable) return;\n",
              "\n",
              "          const docLinkHtml = 'Like what you see? Visit the ' +\n",
              "            '<a target=\"_blank\" href=https://colab.research.google.com/notebooks/data_table.ipynb>data table notebook</a>'\n",
              "            + ' to learn more about interactive tables.';\n",
              "          element.innerHTML = '';\n",
              "          dataTable['output_type'] = 'display_data';\n",
              "          await google.colab.output.renderOutput(dataTable, element);\n",
              "          const docLink = document.createElement('div');\n",
              "          docLink.innerHTML = docLinkHtml;\n",
              "          element.appendChild(docLink);\n",
              "        }\n",
              "      </script>\n",
              "    </div>\n",
              "  </div>\n",
              "  "
            ]
          },
          "metadata": {},
          "execution_count": 433
        }
      ]
    },
    {
      "cell_type": "code",
      "source": [
        "dados_ceaps[\"DATA\"] = [x.replace('0202', '2002') for x in dados_ceaps[\"DATA\"]]\n",
        "dados_ceaps[\"DATA\"] = [x.replace('0219', '2019') for x in dados_ceaps[\"DATA\"]]"
      ],
      "metadata": {
        "id": "EXIodKbcz4GN"
      },
      "execution_count": 434,
      "outputs": []
    },
    {
      "cell_type": "code",
      "source": [
        "dados_ceaps[index_erro_0202]"
      ],
      "metadata": {
        "colab": {
          "base_uri": "https://localhost:8080/",
          "height": 112
        },
        "id": "e1GFi5sp2DmW",
        "outputId": "fc081ffa-c0d3-41b9-d837-155ff155415b"
      },
      "execution_count": 435,
      "outputs": [
        {
          "output_type": "execute_result",
          "data": {
            "text/plain": [
              "        ANO  MES         SENADOR  \\\n",
              "2148   2021   11    CARLOS VIANA   \n",
              "10362  2020    5  PLÍNIO VALÉRIO   \n",
              "\n",
              "                                            TIPO_DESPESA            CNPJ_CPF  \\\n",
              "2148   Passagens aéreas, aquáticas e terrestres nacio...  16.978.175/0001-08   \n",
              "10362                Divulgação da atividade parlamentar  27.209.437/0001-96   \n",
              "\n",
              "                               FORNECEDOR DOCUMENTO        DATA  \\\n",
              "2148         ADRIA VIAGENS E TURISMO LTDA    YK1QHD  29/10/2002   \n",
              "10362  Excelsior Comunicação Digital Ltda    2020/9  05/05/2002   \n",
              "\n",
              "                                            DETALHAMENTO  VALOR_REEMBOLSADO  \\\n",
              "2148   Companhia Aérea: AZUL, Localizador: YK1QHD. Pa...              339.9   \n",
              "10362                                                NaN             1150.0   \n",
              "\n",
              "       COD_DOCUMENTO  \n",
              "2148         2169237  \n",
              "10362        2144535  "
            ],
            "text/html": [
              "\n",
              "  <div id=\"df-1b9c4ba8-903c-47c2-a255-ea8c55c4f60e\">\n",
              "    <div class=\"colab-df-container\">\n",
              "      <div>\n",
              "<style scoped>\n",
              "    .dataframe tbody tr th:only-of-type {\n",
              "        vertical-align: middle;\n",
              "    }\n",
              "\n",
              "    .dataframe tbody tr th {\n",
              "        vertical-align: top;\n",
              "    }\n",
              "\n",
              "    .dataframe thead th {\n",
              "        text-align: right;\n",
              "    }\n",
              "</style>\n",
              "<table border=\"1\" class=\"dataframe\">\n",
              "  <thead>\n",
              "    <tr style=\"text-align: right;\">\n",
              "      <th></th>\n",
              "      <th>ANO</th>\n",
              "      <th>MES</th>\n",
              "      <th>SENADOR</th>\n",
              "      <th>TIPO_DESPESA</th>\n",
              "      <th>CNPJ_CPF</th>\n",
              "      <th>FORNECEDOR</th>\n",
              "      <th>DOCUMENTO</th>\n",
              "      <th>DATA</th>\n",
              "      <th>DETALHAMENTO</th>\n",
              "      <th>VALOR_REEMBOLSADO</th>\n",
              "      <th>COD_DOCUMENTO</th>\n",
              "    </tr>\n",
              "  </thead>\n",
              "  <tbody>\n",
              "    <tr>\n",
              "      <th>2148</th>\n",
              "      <td>2021</td>\n",
              "      <td>11</td>\n",
              "      <td>CARLOS VIANA</td>\n",
              "      <td>Passagens aéreas, aquáticas e terrestres nacio...</td>\n",
              "      <td>16.978.175/0001-08</td>\n",
              "      <td>ADRIA VIAGENS E TURISMO LTDA</td>\n",
              "      <td>YK1QHD</td>\n",
              "      <td>29/10/2002</td>\n",
              "      <td>Companhia Aérea: AZUL, Localizador: YK1QHD. Pa...</td>\n",
              "      <td>339.9</td>\n",
              "      <td>2169237</td>\n",
              "    </tr>\n",
              "    <tr>\n",
              "      <th>10362</th>\n",
              "      <td>2020</td>\n",
              "      <td>5</td>\n",
              "      <td>PLÍNIO VALÉRIO</td>\n",
              "      <td>Divulgação da atividade parlamentar</td>\n",
              "      <td>27.209.437/0001-96</td>\n",
              "      <td>Excelsior Comunicação Digital Ltda</td>\n",
              "      <td>2020/9</td>\n",
              "      <td>05/05/2002</td>\n",
              "      <td>NaN</td>\n",
              "      <td>1150.0</td>\n",
              "      <td>2144535</td>\n",
              "    </tr>\n",
              "  </tbody>\n",
              "</table>\n",
              "</div>\n",
              "      <button class=\"colab-df-convert\" onclick=\"convertToInteractive('df-1b9c4ba8-903c-47c2-a255-ea8c55c4f60e')\"\n",
              "              title=\"Convert this dataframe to an interactive table.\"\n",
              "              style=\"display:none;\">\n",
              "        \n",
              "  <svg xmlns=\"http://www.w3.org/2000/svg\" height=\"24px\"viewBox=\"0 0 24 24\"\n",
              "       width=\"24px\">\n",
              "    <path d=\"M0 0h24v24H0V0z\" fill=\"none\"/>\n",
              "    <path d=\"M18.56 5.44l.94 2.06.94-2.06 2.06-.94-2.06-.94-.94-2.06-.94 2.06-2.06.94zm-11 1L8.5 8.5l.94-2.06 2.06-.94-2.06-.94L8.5 2.5l-.94 2.06-2.06.94zm10 10l.94 2.06.94-2.06 2.06-.94-2.06-.94-.94-2.06-.94 2.06-2.06.94z\"/><path d=\"M17.41 7.96l-1.37-1.37c-.4-.4-.92-.59-1.43-.59-.52 0-1.04.2-1.43.59L10.3 9.45l-7.72 7.72c-.78.78-.78 2.05 0 2.83L4 21.41c.39.39.9.59 1.41.59.51 0 1.02-.2 1.41-.59l7.78-7.78 2.81-2.81c.8-.78.8-2.07 0-2.86zM5.41 20L4 18.59l7.72-7.72 1.47 1.35L5.41 20z\"/>\n",
              "  </svg>\n",
              "      </button>\n",
              "      \n",
              "  <style>\n",
              "    .colab-df-container {\n",
              "      display:flex;\n",
              "      flex-wrap:wrap;\n",
              "      gap: 12px;\n",
              "    }\n",
              "\n",
              "    .colab-df-convert {\n",
              "      background-color: #E8F0FE;\n",
              "      border: none;\n",
              "      border-radius: 50%;\n",
              "      cursor: pointer;\n",
              "      display: none;\n",
              "      fill: #1967D2;\n",
              "      height: 32px;\n",
              "      padding: 0 0 0 0;\n",
              "      width: 32px;\n",
              "    }\n",
              "\n",
              "    .colab-df-convert:hover {\n",
              "      background-color: #E2EBFA;\n",
              "      box-shadow: 0px 1px 2px rgba(60, 64, 67, 0.3), 0px 1px 3px 1px rgba(60, 64, 67, 0.15);\n",
              "      fill: #174EA6;\n",
              "    }\n",
              "\n",
              "    [theme=dark] .colab-df-convert {\n",
              "      background-color: #3B4455;\n",
              "      fill: #D2E3FC;\n",
              "    }\n",
              "\n",
              "    [theme=dark] .colab-df-convert:hover {\n",
              "      background-color: #434B5C;\n",
              "      box-shadow: 0px 1px 3px 1px rgba(0, 0, 0, 0.15);\n",
              "      filter: drop-shadow(0px 1px 2px rgba(0, 0, 0, 0.3));\n",
              "      fill: #FFFFFF;\n",
              "    }\n",
              "  </style>\n",
              "\n",
              "      <script>\n",
              "        const buttonEl =\n",
              "          document.querySelector('#df-1b9c4ba8-903c-47c2-a255-ea8c55c4f60e button.colab-df-convert');\n",
              "        buttonEl.style.display =\n",
              "          google.colab.kernel.accessAllowed ? 'block' : 'none';\n",
              "\n",
              "        async function convertToInteractive(key) {\n",
              "          const element = document.querySelector('#df-1b9c4ba8-903c-47c2-a255-ea8c55c4f60e');\n",
              "          const dataTable =\n",
              "            await google.colab.kernel.invokeFunction('convertToInteractive',\n",
              "                                                     [key], {});\n",
              "          if (!dataTable) return;\n",
              "\n",
              "          const docLinkHtml = 'Like what you see? Visit the ' +\n",
              "            '<a target=\"_blank\" href=https://colab.research.google.com/notebooks/data_table.ipynb>data table notebook</a>'\n",
              "            + ' to learn more about interactive tables.';\n",
              "          element.innerHTML = '';\n",
              "          dataTable['output_type'] = 'display_data';\n",
              "          await google.colab.output.renderOutput(dataTable, element);\n",
              "          const docLink = document.createElement('div');\n",
              "          docLink.innerHTML = docLinkHtml;\n",
              "          element.appendChild(docLink);\n",
              "        }\n",
              "      </script>\n",
              "    </div>\n",
              "  </div>\n",
              "  "
            ]
          },
          "metadata": {},
          "execution_count": 435
        }
      ]
    },
    {
      "cell_type": "code",
      "source": [
        "dados_ceaps[index_erro_0219]"
      ],
      "metadata": {
        "colab": {
          "base_uri": "https://localhost:8080/",
          "height": 81
        },
        "id": "B-8pErTX2qpm",
        "outputId": "c408360f-154c-44e7-ed26-9cb4c88d3855"
      },
      "execution_count": 436,
      "outputs": [
        {
          "output_type": "execute_result",
          "data": {
            "text/plain": [
              "        ANO  MES      SENADOR  \\\n",
              "10986  2019    1  LÚCIA VÂNIA   \n",
              "\n",
              "                                            TIPO_DESPESA            CNPJ_CPF  \\\n",
              "10986  Aluguel de imóveis para escritório político, c...  08.573.731/0001-38   \n",
              "\n",
              "                                              FORNECEDOR DOCUMENTO  \\\n",
              "10986  LDE Contabilidade e Administração de Condomíni...   0107007   \n",
              "\n",
              "             DATA      DETALHAMENTO  VALOR_REEMBOLSADO  COD_DOCUMENTO  \n",
              "10986  31/01/2019  Taxa condominial             271.26        2114251  "
            ],
            "text/html": [
              "\n",
              "  <div id=\"df-6b66ffd6-3016-4efd-9ca9-d03b322e801f\">\n",
              "    <div class=\"colab-df-container\">\n",
              "      <div>\n",
              "<style scoped>\n",
              "    .dataframe tbody tr th:only-of-type {\n",
              "        vertical-align: middle;\n",
              "    }\n",
              "\n",
              "    .dataframe tbody tr th {\n",
              "        vertical-align: top;\n",
              "    }\n",
              "\n",
              "    .dataframe thead th {\n",
              "        text-align: right;\n",
              "    }\n",
              "</style>\n",
              "<table border=\"1\" class=\"dataframe\">\n",
              "  <thead>\n",
              "    <tr style=\"text-align: right;\">\n",
              "      <th></th>\n",
              "      <th>ANO</th>\n",
              "      <th>MES</th>\n",
              "      <th>SENADOR</th>\n",
              "      <th>TIPO_DESPESA</th>\n",
              "      <th>CNPJ_CPF</th>\n",
              "      <th>FORNECEDOR</th>\n",
              "      <th>DOCUMENTO</th>\n",
              "      <th>DATA</th>\n",
              "      <th>DETALHAMENTO</th>\n",
              "      <th>VALOR_REEMBOLSADO</th>\n",
              "      <th>COD_DOCUMENTO</th>\n",
              "    </tr>\n",
              "  </thead>\n",
              "  <tbody>\n",
              "    <tr>\n",
              "      <th>10986</th>\n",
              "      <td>2019</td>\n",
              "      <td>1</td>\n",
              "      <td>LÚCIA VÂNIA</td>\n",
              "      <td>Aluguel de imóveis para escritório político, c...</td>\n",
              "      <td>08.573.731/0001-38</td>\n",
              "      <td>LDE Contabilidade e Administração de Condomíni...</td>\n",
              "      <td>0107007</td>\n",
              "      <td>31/01/2019</td>\n",
              "      <td>Taxa condominial</td>\n",
              "      <td>271.26</td>\n",
              "      <td>2114251</td>\n",
              "    </tr>\n",
              "  </tbody>\n",
              "</table>\n",
              "</div>\n",
              "      <button class=\"colab-df-convert\" onclick=\"convertToInteractive('df-6b66ffd6-3016-4efd-9ca9-d03b322e801f')\"\n",
              "              title=\"Convert this dataframe to an interactive table.\"\n",
              "              style=\"display:none;\">\n",
              "        \n",
              "  <svg xmlns=\"http://www.w3.org/2000/svg\" height=\"24px\"viewBox=\"0 0 24 24\"\n",
              "       width=\"24px\">\n",
              "    <path d=\"M0 0h24v24H0V0z\" fill=\"none\"/>\n",
              "    <path d=\"M18.56 5.44l.94 2.06.94-2.06 2.06-.94-2.06-.94-.94-2.06-.94 2.06-2.06.94zm-11 1L8.5 8.5l.94-2.06 2.06-.94-2.06-.94L8.5 2.5l-.94 2.06-2.06.94zm10 10l.94 2.06.94-2.06 2.06-.94-2.06-.94-.94-2.06-.94 2.06-2.06.94z\"/><path d=\"M17.41 7.96l-1.37-1.37c-.4-.4-.92-.59-1.43-.59-.52 0-1.04.2-1.43.59L10.3 9.45l-7.72 7.72c-.78.78-.78 2.05 0 2.83L4 21.41c.39.39.9.59 1.41.59.51 0 1.02-.2 1.41-.59l7.78-7.78 2.81-2.81c.8-.78.8-2.07 0-2.86zM5.41 20L4 18.59l7.72-7.72 1.47 1.35L5.41 20z\"/>\n",
              "  </svg>\n",
              "      </button>\n",
              "      \n",
              "  <style>\n",
              "    .colab-df-container {\n",
              "      display:flex;\n",
              "      flex-wrap:wrap;\n",
              "      gap: 12px;\n",
              "    }\n",
              "\n",
              "    .colab-df-convert {\n",
              "      background-color: #E8F0FE;\n",
              "      border: none;\n",
              "      border-radius: 50%;\n",
              "      cursor: pointer;\n",
              "      display: none;\n",
              "      fill: #1967D2;\n",
              "      height: 32px;\n",
              "      padding: 0 0 0 0;\n",
              "      width: 32px;\n",
              "    }\n",
              "\n",
              "    .colab-df-convert:hover {\n",
              "      background-color: #E2EBFA;\n",
              "      box-shadow: 0px 1px 2px rgba(60, 64, 67, 0.3), 0px 1px 3px 1px rgba(60, 64, 67, 0.15);\n",
              "      fill: #174EA6;\n",
              "    }\n",
              "\n",
              "    [theme=dark] .colab-df-convert {\n",
              "      background-color: #3B4455;\n",
              "      fill: #D2E3FC;\n",
              "    }\n",
              "\n",
              "    [theme=dark] .colab-df-convert:hover {\n",
              "      background-color: #434B5C;\n",
              "      box-shadow: 0px 1px 3px 1px rgba(0, 0, 0, 0.15);\n",
              "      filter: drop-shadow(0px 1px 2px rgba(0, 0, 0, 0.3));\n",
              "      fill: #FFFFFF;\n",
              "    }\n",
              "  </style>\n",
              "\n",
              "      <script>\n",
              "        const buttonEl =\n",
              "          document.querySelector('#df-6b66ffd6-3016-4efd-9ca9-d03b322e801f button.colab-df-convert');\n",
              "        buttonEl.style.display =\n",
              "          google.colab.kernel.accessAllowed ? 'block' : 'none';\n",
              "\n",
              "        async function convertToInteractive(key) {\n",
              "          const element = document.querySelector('#df-6b66ffd6-3016-4efd-9ca9-d03b322e801f');\n",
              "          const dataTable =\n",
              "            await google.colab.kernel.invokeFunction('convertToInteractive',\n",
              "                                                     [key], {});\n",
              "          if (!dataTable) return;\n",
              "\n",
              "          const docLinkHtml = 'Like what you see? Visit the ' +\n",
              "            '<a target=\"_blank\" href=https://colab.research.google.com/notebooks/data_table.ipynb>data table notebook</a>'\n",
              "            + ' to learn more about interactive tables.';\n",
              "          element.innerHTML = '';\n",
              "          dataTable['output_type'] = 'display_data';\n",
              "          await google.colab.output.renderOutput(dataTable, element);\n",
              "          const docLink = document.createElement('div');\n",
              "          docLink.innerHTML = docLinkHtml;\n",
              "          element.appendChild(docLink);\n",
              "        }\n",
              "      </script>\n",
              "    </div>\n",
              "  </div>\n",
              "  "
            ]
          },
          "metadata": {},
          "execution_count": 436
        }
      ]
    },
    {
      "cell_type": "code",
      "source": [
        "dados_ceaps[\"DATA\"].str[6:].value_counts()"
      ],
      "metadata": {
        "colab": {
          "base_uri": "https://localhost:8080/"
        },
        "id": "VUZCJD_U818A",
        "outputId": "24cd67db-b0b5-4dfd-b488-c30d63827992"
      },
      "execution_count": 437,
      "outputs": [
        {
          "output_type": "execute_result",
          "data": {
            "text/plain": [
              "2019    21566\n",
              "2021    16836\n",
              "2020    14000\n",
              "2022     6205\n",
              "2018       88\n",
              "2002        8\n",
              "2010        4\n",
              "2014        2\n",
              "2009        1\n",
              "2016        1\n",
              "Name: DATA, dtype: int64"
            ]
          },
          "metadata": {},
          "execution_count": 437
        }
      ]
    },
    {
      "cell_type": "markdown",
      "source": [
        "### Conversão da coluna DATA"
      ],
      "metadata": {
        "id": "NqDEb9mQ_b_9"
      }
    },
    {
      "cell_type": "code",
      "source": [
        "dados_ceaps[\"DATA\"] = pd.to_datetime(dados_ceaps[\"DATA\"])"
      ],
      "metadata": {
        "id": "epVFbP2A_O-3"
      },
      "execution_count": 438,
      "outputs": []
    },
    {
      "cell_type": "code",
      "source": [
        "#dados_ceaps.info()"
      ],
      "metadata": {
        "id": "ejKYO7-s_mgn"
      },
      "execution_count": 439,
      "outputs": []
    },
    {
      "cell_type": "markdown",
      "source": [
        "### Conversão da coluna VALOR_REEMBOLSO"
      ],
      "metadata": {
        "id": "jkhMmiAm_zUh"
      }
    },
    {
      "cell_type": "code",
      "source": [
        "dados_ceaps[\"VALOR_REEMBOLSADO\"] = dados_ceaps[\"VALOR_REEMBOLSADO\"].astype(float)"
      ],
      "metadata": {
        "id": "hHirdGed_ogn"
      },
      "execution_count": 440,
      "outputs": []
    },
    {
      "cell_type": "code",
      "source": [
        "#dados_ceap.info()"
      ],
      "metadata": {
        "id": "IWR6-Uix_4iX"
      },
      "execution_count": 441,
      "outputs": []
    },
    {
      "cell_type": "markdown",
      "source": [
        "# Análise sobre os tipos de despesa"
      ],
      "metadata": {
        "id": "PQSsAJmSsUdU"
      }
    },
    {
      "cell_type": "markdown",
      "source": [
        "## Tipos de despesa"
      ],
      "metadata": {
        "id": "9IPyrr6RtWEu"
      }
    },
    {
      "cell_type": "code",
      "source": [
        "dados_ceaps[\"TIPO_DESPESA\"].unique()"
      ],
      "metadata": {
        "colab": {
          "base_uri": "https://localhost:8080/"
        },
        "id": "K9aMw0NztVC4",
        "outputId": "14e72ec0-c995-473b-b7f2-b217cf9253f3"
      },
      "execution_count": 442,
      "outputs": [
        {
          "output_type": "execute_result",
          "data": {
            "text/plain": [
              "array(['Aluguel de imóveis para escritório político, compreendendo despesas concernentes a eles.',\n",
              "       'Divulgação da atividade parlamentar',\n",
              "       'Passagens aéreas, aquáticas e terrestres nacionais',\n",
              "       'Contratação de consultorias, assessorias, pesquisas, trabalhos técnicos e outros serviços de apoio ao exercício do mandato parlamentar',\n",
              "       'Locomoção, hospedagem, alimentação, combustíveis e lubrificantes',\n",
              "       'Aquisição de material de consumo para uso no escritório político, inclusive aquisição ou locação de software, despesas postais, aquisição de publicações, locação de móveis e de equipamentos. ',\n",
              "       'Serviços de Segurança Privada'], dtype=object)"
            ]
          },
          "metadata": {},
          "execution_count": 442
        }
      ]
    },
    {
      "cell_type": "code",
      "source": [
        "recorrencia_despesas = dados_ceaps[\"TIPO_DESPESA\"].value_counts()\n",
        "recorrencia_despesas"
      ],
      "metadata": {
        "colab": {
          "base_uri": "https://localhost:8080/"
        },
        "id": "Me0phEfe_5q_",
        "outputId": "6b1747b1-ea15-4567-a822-5c48854df04a"
      },
      "execution_count": 443,
      "outputs": [
        {
          "output_type": "execute_result",
          "data": {
            "text/plain": [
              "Locomoção, hospedagem, alimentação, combustíveis e lubrificantes                                                                                                                                   21100\n",
              "Aluguel de imóveis para escritório político, compreendendo despesas concernentes a eles.                                                                                                           13088\n",
              "Passagens aéreas, aquáticas e terrestres nacionais                                                                                                                                                 12756\n",
              "Aquisição de material de consumo para uso no escritório político, inclusive aquisição ou locação de software, despesas postais, aquisição de publicações, locação de móveis e de equipamentos.      4223\n",
              "Divulgação da atividade parlamentar                                                                                                                                                                 3927\n",
              "Contratação de consultorias, assessorias, pesquisas, trabalhos técnicos e outros serviços de apoio ao exercício do mandato parlamentar                                                              3520\n",
              "Serviços de Segurança Privada                                                                                                                                                                         97\n",
              "Name: TIPO_DESPESA, dtype: int64"
            ]
          },
          "metadata": {},
          "execution_count": 443
        }
      ]
    },
    {
      "cell_type": "markdown",
      "source": [
        "## Despesas mais recorrentes"
      ],
      "metadata": {
        "id": "WQoKxMPVG6d4"
      }
    },
    {
      "cell_type": "code",
      "source": [
        "recorrencia_despesas = pd.DataFrame(data = [recorrencia_despesas.index, recorrencia_despesas.values])\n",
        "recorrencia_despesas = recorrencia_despesas.T.rename(columns = {0:'tipo_despesa', 1:'n_ocorrencias'})\n",
        "recorrencia_despesas"
      ],
      "metadata": {
        "colab": {
          "base_uri": "https://localhost:8080/",
          "height": 269
        },
        "id": "6KYLLf_60dkJ",
        "outputId": "f8c86ec9-d0ce-4a43-e1ac-aa7c5dce2393"
      },
      "execution_count": 444,
      "outputs": [
        {
          "output_type": "execute_result",
          "data": {
            "text/plain": [
              "                                        tipo_despesa n_ocorrencias\n",
              "0  Locomoção, hospedagem, alimentação, combustíve...         21100\n",
              "1  Aluguel de imóveis para escritório político, c...         13088\n",
              "2  Passagens aéreas, aquáticas e terrestres nacio...         12756\n",
              "3  Aquisição de material de consumo para uso no e...          4223\n",
              "4                Divulgação da atividade parlamentar          3927\n",
              "5  Contratação de consultorias, assessorias, pesq...          3520\n",
              "6                      Serviços de Segurança Privada            97"
            ],
            "text/html": [
              "\n",
              "  <div id=\"df-ef77d95e-f181-4aab-8f03-6de0aede52bb\">\n",
              "    <div class=\"colab-df-container\">\n",
              "      <div>\n",
              "<style scoped>\n",
              "    .dataframe tbody tr th:only-of-type {\n",
              "        vertical-align: middle;\n",
              "    }\n",
              "\n",
              "    .dataframe tbody tr th {\n",
              "        vertical-align: top;\n",
              "    }\n",
              "\n",
              "    .dataframe thead th {\n",
              "        text-align: right;\n",
              "    }\n",
              "</style>\n",
              "<table border=\"1\" class=\"dataframe\">\n",
              "  <thead>\n",
              "    <tr style=\"text-align: right;\">\n",
              "      <th></th>\n",
              "      <th>tipo_despesa</th>\n",
              "      <th>n_ocorrencias</th>\n",
              "    </tr>\n",
              "  </thead>\n",
              "  <tbody>\n",
              "    <tr>\n",
              "      <th>0</th>\n",
              "      <td>Locomoção, hospedagem, alimentação, combustíve...</td>\n",
              "      <td>21100</td>\n",
              "    </tr>\n",
              "    <tr>\n",
              "      <th>1</th>\n",
              "      <td>Aluguel de imóveis para escritório político, c...</td>\n",
              "      <td>13088</td>\n",
              "    </tr>\n",
              "    <tr>\n",
              "      <th>2</th>\n",
              "      <td>Passagens aéreas, aquáticas e terrestres nacio...</td>\n",
              "      <td>12756</td>\n",
              "    </tr>\n",
              "    <tr>\n",
              "      <th>3</th>\n",
              "      <td>Aquisição de material de consumo para uso no e...</td>\n",
              "      <td>4223</td>\n",
              "    </tr>\n",
              "    <tr>\n",
              "      <th>4</th>\n",
              "      <td>Divulgação da atividade parlamentar</td>\n",
              "      <td>3927</td>\n",
              "    </tr>\n",
              "    <tr>\n",
              "      <th>5</th>\n",
              "      <td>Contratação de consultorias, assessorias, pesq...</td>\n",
              "      <td>3520</td>\n",
              "    </tr>\n",
              "    <tr>\n",
              "      <th>6</th>\n",
              "      <td>Serviços de Segurança Privada</td>\n",
              "      <td>97</td>\n",
              "    </tr>\n",
              "  </tbody>\n",
              "</table>\n",
              "</div>\n",
              "      <button class=\"colab-df-convert\" onclick=\"convertToInteractive('df-ef77d95e-f181-4aab-8f03-6de0aede52bb')\"\n",
              "              title=\"Convert this dataframe to an interactive table.\"\n",
              "              style=\"display:none;\">\n",
              "        \n",
              "  <svg xmlns=\"http://www.w3.org/2000/svg\" height=\"24px\"viewBox=\"0 0 24 24\"\n",
              "       width=\"24px\">\n",
              "    <path d=\"M0 0h24v24H0V0z\" fill=\"none\"/>\n",
              "    <path d=\"M18.56 5.44l.94 2.06.94-2.06 2.06-.94-2.06-.94-.94-2.06-.94 2.06-2.06.94zm-11 1L8.5 8.5l.94-2.06 2.06-.94-2.06-.94L8.5 2.5l-.94 2.06-2.06.94zm10 10l.94 2.06.94-2.06 2.06-.94-2.06-.94-.94-2.06-.94 2.06-2.06.94z\"/><path d=\"M17.41 7.96l-1.37-1.37c-.4-.4-.92-.59-1.43-.59-.52 0-1.04.2-1.43.59L10.3 9.45l-7.72 7.72c-.78.78-.78 2.05 0 2.83L4 21.41c.39.39.9.59 1.41.59.51 0 1.02-.2 1.41-.59l7.78-7.78 2.81-2.81c.8-.78.8-2.07 0-2.86zM5.41 20L4 18.59l7.72-7.72 1.47 1.35L5.41 20z\"/>\n",
              "  </svg>\n",
              "      </button>\n",
              "      \n",
              "  <style>\n",
              "    .colab-df-container {\n",
              "      display:flex;\n",
              "      flex-wrap:wrap;\n",
              "      gap: 12px;\n",
              "    }\n",
              "\n",
              "    .colab-df-convert {\n",
              "      background-color: #E8F0FE;\n",
              "      border: none;\n",
              "      border-radius: 50%;\n",
              "      cursor: pointer;\n",
              "      display: none;\n",
              "      fill: #1967D2;\n",
              "      height: 32px;\n",
              "      padding: 0 0 0 0;\n",
              "      width: 32px;\n",
              "    }\n",
              "\n",
              "    .colab-df-convert:hover {\n",
              "      background-color: #E2EBFA;\n",
              "      box-shadow: 0px 1px 2px rgba(60, 64, 67, 0.3), 0px 1px 3px 1px rgba(60, 64, 67, 0.15);\n",
              "      fill: #174EA6;\n",
              "    }\n",
              "\n",
              "    [theme=dark] .colab-df-convert {\n",
              "      background-color: #3B4455;\n",
              "      fill: #D2E3FC;\n",
              "    }\n",
              "\n",
              "    [theme=dark] .colab-df-convert:hover {\n",
              "      background-color: #434B5C;\n",
              "      box-shadow: 0px 1px 3px 1px rgba(0, 0, 0, 0.15);\n",
              "      filter: drop-shadow(0px 1px 2px rgba(0, 0, 0, 0.3));\n",
              "      fill: #FFFFFF;\n",
              "    }\n",
              "  </style>\n",
              "\n",
              "      <script>\n",
              "        const buttonEl =\n",
              "          document.querySelector('#df-ef77d95e-f181-4aab-8f03-6de0aede52bb button.colab-df-convert');\n",
              "        buttonEl.style.display =\n",
              "          google.colab.kernel.accessAllowed ? 'block' : 'none';\n",
              "\n",
              "        async function convertToInteractive(key) {\n",
              "          const element = document.querySelector('#df-ef77d95e-f181-4aab-8f03-6de0aede52bb');\n",
              "          const dataTable =\n",
              "            await google.colab.kernel.invokeFunction('convertToInteractive',\n",
              "                                                     [key], {});\n",
              "          if (!dataTable) return;\n",
              "\n",
              "          const docLinkHtml = 'Like what you see? Visit the ' +\n",
              "            '<a target=\"_blank\" href=https://colab.research.google.com/notebooks/data_table.ipynb>data table notebook</a>'\n",
              "            + ' to learn more about interactive tables.';\n",
              "          element.innerHTML = '';\n",
              "          dataTable['output_type'] = 'display_data';\n",
              "          await google.colab.output.renderOutput(dataTable, element);\n",
              "          const docLink = document.createElement('div');\n",
              "          docLink.innerHTML = docLinkHtml;\n",
              "          element.appendChild(docLink);\n",
              "        }\n",
              "      </script>\n",
              "    </div>\n",
              "  </div>\n",
              "  "
            ]
          },
          "metadata": {},
          "execution_count": 444
        }
      ]
    },
    {
      "cell_type": "markdown",
      "source": [
        "A tabela acima enumera as ocorrências de cada tipo de despesa."
      ],
      "metadata": {
        "id": "4hmj8yQrt0WG"
      }
    },
    {
      "cell_type": "code",
      "source": [
        "import seaborn as sns\n",
        "import matplotlib as mpl\n",
        "import matplotlib.pyplot as plt\n",
        "import numpy as np"
      ],
      "metadata": {
        "id": "5R8xTa7wseFF"
      },
      "execution_count": 445,
      "outputs": []
    },
    {
      "cell_type": "markdown",
      "source": [
        "Padronização dos gráficos de barras horizontais e tratamento dos labels extensos"
      ],
      "metadata": {
        "id": "XgGo2Ay0VFvA"
      }
    },
    {
      "cell_type": "code",
      "source": [
        "def corta_label(label, largura_label = 50):\n",
        "  label_cortada = label\n",
        "  for l in range(largura_label, len(label), largura_label):\n",
        "    while label_cortada[l] != \" \":\n",
        "      l += 1\n",
        "    label_cortada = label_cortada[:l+1] + \"\\n\" + label_cortada[l+1:]\n",
        "\n",
        "  return label_cortada\n",
        "\n",
        "def formata_labels(series_labels):\n",
        "  list_labels = []\n",
        "  for label in series_labels.values:\n",
        "    list_labels.append(corta_label(label))\n",
        "  return list_labels\n",
        "\n",
        "def plota_barras_horizontais(data, x, y, formatacao = 'nenhuma', palette = \"rainbow_r\", titulo = \"\", xlabel = \"\", ylabel = \"\"):\n",
        "  plt.figure(figsize = (13,10))\n",
        "  sns.set_theme(style=\"whitegrid\")\n",
        "\n",
        "  ax = sns.barplot(data = data, x = x, y = y, palette = palette)\n",
        "\n",
        "  labels = formata_labels(data[y])\n",
        "  ax.set_yticklabels(labels)\n",
        "\n",
        "  ax.set_title(titulo, fontsize = 25, pad = 25, loc = 'center')\n",
        "  ax.tick_params(axis = 'y', labelsize = 15)\n",
        "  ax.tick_params(axis = 'x', labelsize = 15)\n",
        "  plt.xlabel(xlabel, fontsize = 20)\n",
        "  plt.ylabel(ylabel)\n",
        "\n",
        "  if formatacao == 'milhoes':\n",
        "    ax.get_xaxis().set_major_formatter(mpl.ticker.FuncFormatter(lambda x,_ : format(int(x/1000000), ',')))\n",
        "\n",
        "  plt.show()"
      ],
      "metadata": {
        "id": "94tq6YM5VPE5"
      },
      "execution_count": 446,
      "outputs": []
    },
    {
      "cell_type": "code",
      "source": [
        "plota_barras_horizontais(recorrencia_despesas, x = 'n_ocorrencias', y = 'tipo_despesa', palette = 'rainbow_r',\n",
        "                            titulo = \"Quantidade de ocorrências de cada tipo de despesa\", xlabel = \"Número de ocorrências\")"
      ],
      "metadata": {
        "colab": {
          "base_uri": "https://localhost:8080/",
          "height": 668
        },
        "id": "cI4pK8yNVm1X",
        "outputId": "d587856a-09ad-4eff-beef-9944a5b34de0"
      },
      "execution_count": 447,
      "outputs": [
        {
          "output_type": "display_data",
          "data": {
            "text/plain": [
              "<Figure size 936x720 with 1 Axes>"
            ],
            "image/png": "[encoded data removed]"
          },
          "metadata": {}
        }
      ]
    },
    {
      "cell_type": "markdown",
      "source": [
        "As despesas mais recorrentes estão relacionadas às viagens dos senadores."
      ],
      "metadata": {
        "id": "aDRNzsO0GuSY"
      }
    },
    {
      "cell_type": "markdown",
      "source": [
        "## Gastos por tipo de despesa"
      ],
      "metadata": {
        "id": "Iv2XCu41JQSo"
      }
    },
    {
      "cell_type": "code",
      "source": [
        "valor_despesas = dados_ceaps.groupby(\"TIPO_DESPESA\").sum()\n",
        "valor_despesas = valor_despesas.reset_index()\n",
        "valor_despesas = valor_despesas[[\"TIPO_DESPESA\", \"VALOR_REEMBOLSADO\"]].rename(columns = {\"TIPO_DESPESA\":'tipo_despesa', \"VALOR_REEMBOLSADO\":'valor_total_reembolso'}).sort_values(by = 'valor_total_reembolso', ascending = False)"
      ],
      "metadata": {
        "id": "cjnwHss-JY3f"
      },
      "execution_count": 448,
      "outputs": []
    },
    {
      "cell_type": "code",
      "source": [
        "valor_despesas"
      ],
      "metadata": {
        "colab": {
          "base_uri": "https://localhost:8080/",
          "height": 269
        },
        "id": "vcqSSJB9Jrdo",
        "outputId": "67d25d97-dcf2-4617-9566-b6295bd871e1"
      },
      "execution_count": 449,
      "outputs": [
        {
          "output_type": "execute_result",
          "data": {
            "text/plain": [
              "                                        tipo_despesa  valor_total_reembolso\n",
              "2  Contratação de consultorias, assessorias, pesq...            20142994.76\n",
              "5  Passagens aéreas, aquáticas e terrestres nacio...            17972305.92\n",
              "4  Locomoção, hospedagem, alimentação, combustíve...            14271285.19\n",
              "0  Aluguel de imóveis para escritório político, c...            13615255.70\n",
              "3                Divulgação da atividade parlamentar            10993370.97\n",
              "1  Aquisição de material de consumo para uso no e...             3166002.92\n",
              "6                      Serviços de Segurança Privada              128965.12"
            ],
            "text/html": [
              "\n",
              "  <div id=\"df-8e45b289-92d1-4039-9ed8-e21eeabd05b0\">\n",
              "    <div class=\"colab-df-container\">\n",
              "      <div>\n",
              "<style scoped>\n",
              "    .dataframe tbody tr th:only-of-type {\n",
              "        vertical-align: middle;\n",
              "    }\n",
              "\n",
              "    .dataframe tbody tr th {\n",
              "        vertical-align: top;\n",
              "    }\n",
              "\n",
              "    .dataframe thead th {\n",
              "        text-align: right;\n",
              "    }\n",
              "</style>\n",
              "<table border=\"1\" class=\"dataframe\">\n",
              "  <thead>\n",
              "    <tr style=\"text-align: right;\">\n",
              "      <th></th>\n",
              "      <th>tipo_despesa</th>\n",
              "      <th>valor_total_reembolso</th>\n",
              "    </tr>\n",
              "  </thead>\n",
              "  <tbody>\n",
              "    <tr>\n",
              "      <th>2</th>\n",
              "      <td>Contratação de consultorias, assessorias, pesq...</td>\n",
              "      <td>20142994.76</td>\n",
              "    </tr>\n",
              "    <tr>\n",
              "      <th>5</th>\n",
              "      <td>Passagens aéreas, aquáticas e terrestres nacio...</td>\n",
              "      <td>17972305.92</td>\n",
              "    </tr>\n",
              "    <tr>\n",
              "      <th>4</th>\n",
              "      <td>Locomoção, hospedagem, alimentação, combustíve...</td>\n",
              "      <td>14271285.19</td>\n",
              "    </tr>\n",
              "    <tr>\n",
              "      <th>0</th>\n",
              "      <td>Aluguel de imóveis para escritório político, c...</td>\n",
              "      <td>13615255.70</td>\n",
              "    </tr>\n",
              "    <tr>\n",
              "      <th>3</th>\n",
              "      <td>Divulgação da atividade parlamentar</td>\n",
              "      <td>10993370.97</td>\n",
              "    </tr>\n",
              "    <tr>\n",
              "      <th>1</th>\n",
              "      <td>Aquisição de material de consumo para uso no e...</td>\n",
              "      <td>3166002.92</td>\n",
              "    </tr>\n",
              "    <tr>\n",
              "      <th>6</th>\n",
              "      <td>Serviços de Segurança Privada</td>\n",
              "      <td>128965.12</td>\n",
              "    </tr>\n",
              "  </tbody>\n",
              "</table>\n",
              "</div>\n",
              "      <button class=\"colab-df-convert\" onclick=\"convertToInteractive('df-8e45b289-92d1-4039-9ed8-e21eeabd05b0')\"\n",
              "              title=\"Convert this dataframe to an interactive table.\"\n",
              "              style=\"display:none;\">\n",
              "        \n",
              "  <svg xmlns=\"http://www.w3.org/2000/svg\" height=\"24px\"viewBox=\"0 0 24 24\"\n",
              "       width=\"24px\">\n",
              "    <path d=\"M0 0h24v24H0V0z\" fill=\"none\"/>\n",
              "    <path d=\"M18.56 5.44l.94 2.06.94-2.06 2.06-.94-2.06-.94-.94-2.06-.94 2.06-2.06.94zm-11 1L8.5 8.5l.94-2.06 2.06-.94-2.06-.94L8.5 2.5l-.94 2.06-2.06.94zm10 10l.94 2.06.94-2.06 2.06-.94-2.06-.94-.94-2.06-.94 2.06-2.06.94z\"/><path d=\"M17.41 7.96l-1.37-1.37c-.4-.4-.92-.59-1.43-.59-.52 0-1.04.2-1.43.59L10.3 9.45l-7.72 7.72c-.78.78-.78 2.05 0 2.83L4 21.41c.39.39.9.59 1.41.59.51 0 1.02-.2 1.41-.59l7.78-7.78 2.81-2.81c.8-.78.8-2.07 0-2.86zM5.41 20L4 18.59l7.72-7.72 1.47 1.35L5.41 20z\"/>\n",
              "  </svg>\n",
              "      </button>\n",
              "      \n",
              "  <style>\n",
              "    .colab-df-container {\n",
              "      display:flex;\n",
              "      flex-wrap:wrap;\n",
              "      gap: 12px;\n",
              "    }\n",
              "\n",
              "    .colab-df-convert {\n",
              "      background-color: #E8F0FE;\n",
              "      border: none;\n",
              "      border-radius: 50%;\n",
              "      cursor: pointer;\n",
              "      display: none;\n",
              "      fill: #1967D2;\n",
              "      height: 32px;\n",
              "      padding: 0 0 0 0;\n",
              "      width: 32px;\n",
              "    }\n",
              "\n",
              "    .colab-df-convert:hover {\n",
              "      background-color: #E2EBFA;\n",
              "      box-shadow: 0px 1px 2px rgba(60, 64, 67, 0.3), 0px 1px 3px 1px rgba(60, 64, 67, 0.15);\n",
              "      fill: #174EA6;\n",
              "    }\n",
              "\n",
              "    [theme=dark] .colab-df-convert {\n",
              "      background-color: #3B4455;\n",
              "      fill: #D2E3FC;\n",
              "    }\n",
              "\n",
              "    [theme=dark] .colab-df-convert:hover {\n",
              "      background-color: #434B5C;\n",
              "      box-shadow: 0px 1px 3px 1px rgba(0, 0, 0, 0.15);\n",
              "      filter: drop-shadow(0px 1px 2px rgba(0, 0, 0, 0.3));\n",
              "      fill: #FFFFFF;\n",
              "    }\n",
              "  </style>\n",
              "\n",
              "      <script>\n",
              "        const buttonEl =\n",
              "          document.querySelector('#df-8e45b289-92d1-4039-9ed8-e21eeabd05b0 button.colab-df-convert');\n",
              "        buttonEl.style.display =\n",
              "          google.colab.kernel.accessAllowed ? 'block' : 'none';\n",
              "\n",
              "        async function convertToInteractive(key) {\n",
              "          const element = document.querySelector('#df-8e45b289-92d1-4039-9ed8-e21eeabd05b0');\n",
              "          const dataTable =\n",
              "            await google.colab.kernel.invokeFunction('convertToInteractive',\n",
              "                                                     [key], {});\n",
              "          if (!dataTable) return;\n",
              "\n",
              "          const docLinkHtml = 'Like what you see? Visit the ' +\n",
              "            '<a target=\"_blank\" href=https://colab.research.google.com/notebooks/data_table.ipynb>data table notebook</a>'\n",
              "            + ' to learn more about interactive tables.';\n",
              "          element.innerHTML = '';\n",
              "          dataTable['output_type'] = 'display_data';\n",
              "          await google.colab.output.renderOutput(dataTable, element);\n",
              "          const docLink = document.createElement('div');\n",
              "          docLink.innerHTML = docLinkHtml;\n",
              "          element.appendChild(docLink);\n",
              "        }\n",
              "      </script>\n",
              "    </div>\n",
              "  </div>\n",
              "  "
            ]
          },
          "metadata": {},
          "execution_count": 449
        }
      ]
    },
    {
      "cell_type": "code",
      "source": [
        "plota_barras_horizontais(valor_despesas, x = 'valor_total_reembolso', y = 'tipo_despesa', palette = 'rainbow_r',\n",
        "                            titulo = \"Gastos por tipo de despesa\", xlabel = \"Valor total de reembolso(em milhões)\", formatacao = 'milhoes')"
      ],
      "metadata": {
        "colab": {
          "base_uri": "https://localhost:8080/",
          "height": 666
        },
        "id": "qNCHmfBCXEjA",
        "outputId": "2d6ea79a-0e3c-4ae3-af4a-1bad202157a9"
      },
      "execution_count": 450,
      "outputs": [
        {
          "output_type": "display_data",
          "data": {
            "text/plain": [
              "<Figure size 936x720 with 1 Axes>"
            ],
            "image/png": "[encoded data removed]"
          },
          "metadata": {}
        }
      ]
    },
    {
      "cell_type": "code",
      "source": [
        ""
      ],
      "metadata": {
        "id": "QvBc10LvYDf6"
      },
      "execution_count": 450,
      "outputs": []
    }
  ]
}