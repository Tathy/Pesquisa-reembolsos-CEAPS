{
  "nbformat": 4,
  "nbformat_minor": 0,
  "metadata": {
    "colab": {
      "name": "Pesquisa sobre dados do CEAPS.ipynb",
      "provenance": []
    },
    "kernelspec": {
      "name": "python3",
      "display_name": "Python 3"
    },
    "language_info": {
      "name": "python"
    }
  },
  "cells": [
    {
      "cell_type": "markdown",
      "source": [
        "# Análise sobre dados do CEAP\n",
        "\n",
        "Fonte: https://www12.senado.leg.br/transparencia/dados-abertos-transparencia/dados-abertos-ceaps"
      ],
      "metadata": {
        "id": "Xjf1B3hypnAE"
      }
    },
    {
      "cell_type": "markdown",
      "source": [
        "No momento em que esta pesquisa está sendo feita, o ano de 2022 ainda não se encerrou, portanto os gastos deste ano ainda não estão completos.\n",
        "\n",
        "**Última atualização:** 11/08/2022"
      ],
      "metadata": {
        "id": "7EX4TejzTcVc"
      }
    },
    {
      "cell_type": "markdown",
      "source": [
        "### Instalação de bibliotecas"
      ],
      "metadata": {
        "id": "0MPivyMLGcfO"
      }
    },
    {
      "cell_type": "code",
      "source": [
        "# versão do matplotlib 3.4.0 ou superior\n",
        "!pip install matplotlib==3.4.0"
      ],
      "metadata": {
        "colab": {
          "base_uri": "https://localhost:8080/"
        },
        "id": "OoWCNzD1Gf3w",
        "outputId": "7006efd7-2321-4b33-ed06-d82a1bb946c7"
      },
      "execution_count": 1,
      "outputs": [
        {
          "output_type": "stream",
          "name": "stdout",
          "text": [
            "Looking in indexes: https://pypi.org/simple, https://us-python.pkg.dev/colab-wheels/public/simple/\n",
            "Requirement already satisfied: matplotlib==3.4.0 in /usr/local/lib/python3.7/dist-packages (3.4.0)\n",
            "Requirement already satisfied: cycler>=0.10 in /usr/local/lib/python3.7/dist-packages (from matplotlib==3.4.0) (0.11.0)\n",
            "Requirement already satisfied: kiwisolver>=1.0.1 in /usr/local/lib/python3.7/dist-packages (from matplotlib==3.4.0) (1.4.4)\n",
            "Requirement already satisfied: pyparsing>=2.2.1 in /usr/local/lib/python3.7/dist-packages (from matplotlib==3.4.0) (3.0.9)\n",
            "Requirement already satisfied: numpy>=1.16 in /usr/local/lib/python3.7/dist-packages (from matplotlib==3.4.0) (1.21.6)\n",
            "Requirement already satisfied: pillow>=6.2.0 in /usr/local/lib/python3.7/dist-packages (from matplotlib==3.4.0) (7.1.2)\n",
            "Requirement already satisfied: python-dateutil>=2.7 in /usr/local/lib/python3.7/dist-packages (from matplotlib==3.4.0) (2.8.2)\n",
            "Requirement already satisfied: typing-extensions in /usr/local/lib/python3.7/dist-packages (from kiwisolver>=1.0.1->matplotlib==3.4.0) (4.1.1)\n",
            "Requirement already satisfied: six>=1.5 in /usr/local/lib/python3.7/dist-packages (from python-dateutil>=2.7->matplotlib==3.4.0) (1.15.0)\n"
          ]
        }
      ]
    },
    {
      "cell_type": "markdown",
      "source": [
        "# Tratamento e Limpeza de dados (2022)"
      ],
      "metadata": {
        "id": "J_8BwU0uqEg8"
      }
    },
    {
      "cell_type": "markdown",
      "source": [
        "### Primeira visualização do arquivo"
      ],
      "metadata": {
        "id": "YTBlJO9VsKf0"
      }
    },
    {
      "cell_type": "code",
      "source": [
        "import pandas as pd"
      ],
      "metadata": {
        "id": "bpdt-LV5sR3d"
      },
      "execution_count": 3,
      "outputs": []
    },
    {
      "cell_type": "code",
      "execution_count": 4,
      "metadata": {
        "colab": {
          "base_uri": "https://localhost:8080/",
          "height": 0
        },
        "id": "3jjcGye0pfie",
        "outputId": "69596ac7-f347-484b-f0c5-fe9eb9b20d48"
      },
      "outputs": [
        {
          "output_type": "execute_result",
          "data": {
            "text/plain": [
              "                                                                                                                                                                                                          ULTIMA ATUALIZACAO  \\\n",
              "ANO  MES SENADOR      TIPO_DESPESA                                       CNPJ_CPF           FORNECEDOR                    DOCUMENTO         DATA       DETALHAMENTO                                        VALOR_REEMBOLSADO   \n",
              "2022 1   ACIR GURGACZ Aluguel de imóveis para escritório político, co... 004.948.028-63     GILBERTO PISELO DO NASCIMENTO 001/22            03/01/2022 Despesa com pagamento de aluguel de imóvel para...               6000   \n",
              "                      Divulgação da atividade parlamentar                26.320.603/0001-64 INFORMANAHORA                 000000000000310/A 04/01/2022 Despesa com divulgação da atividade parlamentar...               1500   \n",
              "\n",
              "                                                                                                                                                                                                          11/08/2022 02:01  \n",
              "ANO  MES SENADOR      TIPO_DESPESA                                       CNPJ_CPF           FORNECEDOR                    DOCUMENTO         DATA       DETALHAMENTO                                          COD_DOCUMENTO  \n",
              "2022 1   ACIR GURGACZ Aluguel de imóveis para escritório político, co... 004.948.028-63     GILBERTO PISELO DO NASCIMENTO 001/22            03/01/2022 Despesa com pagamento de aluguel de imóvel para...          2173614  \n",
              "                      Divulgação da atividade parlamentar                26.320.603/0001-64 INFORMANAHORA                 000000000000310/A 04/01/2022 Despesa com divulgação da atividade parlamentar...          2173615  "
            ],
            "text/html": [
              "\n",
              "  <div id=\"df-7a7cb3bb-099b-45be-b73d-846e6a6b17ec\">\n",
              "    <div class=\"colab-df-container\">\n",
              "      <div>\n",
              "<style scoped>\n",
              "    .dataframe tbody tr th:only-of-type {\n",
              "        vertical-align: middle;\n",
              "    }\n",
              "\n",
              "    .dataframe tbody tr th {\n",
              "        vertical-align: top;\n",
              "    }\n",
              "\n",
              "    .dataframe thead th {\n",
              "        text-align: right;\n",
              "    }\n",
              "</style>\n",
              "<table border=\"1\" class=\"dataframe\">\n",
              "  <thead>\n",
              "    <tr style=\"text-align: right;\">\n",
              "      <th></th>\n",
              "      <th></th>\n",
              "      <th></th>\n",
              "      <th></th>\n",
              "      <th></th>\n",
              "      <th></th>\n",
              "      <th></th>\n",
              "      <th></th>\n",
              "      <th></th>\n",
              "      <th>ULTIMA ATUALIZACAO</th>\n",
              "      <th>11/08/2022 02:01</th>\n",
              "    </tr>\n",
              "  </thead>\n",
              "  <tbody>\n",
              "    <tr>\n",
              "      <th>ANO</th>\n",
              "      <th>MES</th>\n",
              "      <th>SENADOR</th>\n",
              "      <th>TIPO_DESPESA</th>\n",
              "      <th>CNPJ_CPF</th>\n",
              "      <th>FORNECEDOR</th>\n",
              "      <th>DOCUMENTO</th>\n",
              "      <th>DATA</th>\n",
              "      <th>DETALHAMENTO</th>\n",
              "      <td>VALOR_REEMBOLSADO</td>\n",
              "      <td>COD_DOCUMENTO</td>\n",
              "    </tr>\n",
              "    <tr>\n",
              "      <th rowspan=\"2\" valign=\"top\">2022</th>\n",
              "      <th rowspan=\"2\" valign=\"top\">1</th>\n",
              "      <th rowspan=\"2\" valign=\"top\">ACIR GURGACZ</th>\n",
              "      <th>Aluguel de imóveis para escritório político, compreendendo despesas concernentes a eles.</th>\n",
              "      <th>004.948.028-63</th>\n",
              "      <th>GILBERTO PISELO DO NASCIMENTO</th>\n",
              "      <th>001/22</th>\n",
              "      <th>03/01/2022</th>\n",
              "      <th>Despesa com pagamento de aluguel de imóvel para uso do escritório político do Senador Acir Gurgacz em Ji-Paraná/RO.</th>\n",
              "      <td>6000</td>\n",
              "      <td>2173614</td>\n",
              "    </tr>\n",
              "    <tr>\n",
              "      <th>Divulgação da atividade parlamentar</th>\n",
              "      <th>26.320.603/0001-64</th>\n",
              "      <th>INFORMANAHORA</th>\n",
              "      <th>000000000000310/A</th>\n",
              "      <th>04/01/2022</th>\n",
              "      <th>Despesa com divulgação da atividade parlamentar no website www.informanahora.com</th>\n",
              "      <td>1500</td>\n",
              "      <td>2173615</td>\n",
              "    </tr>\n",
              "  </tbody>\n",
              "</table>\n",
              "</div>\n",
              "      <button class=\"colab-df-convert\" onclick=\"convertToInteractive('df-7a7cb3bb-099b-45be-b73d-846e6a6b17ec')\"\n",
              "              title=\"Convert this dataframe to an interactive table.\"\n",
              "              style=\"display:none;\">\n",
              "        \n",
              "  <svg xmlns=\"http://www.w3.org/2000/svg\" height=\"24px\"viewBox=\"0 0 24 24\"\n",
              "       width=\"24px\">\n",
              "    <path d=\"M0 0h24v24H0V0z\" fill=\"none\"/>\n",
              "    <path d=\"M18.56 5.44l.94 2.06.94-2.06 2.06-.94-2.06-.94-.94-2.06-.94 2.06-2.06.94zm-11 1L8.5 8.5l.94-2.06 2.06-.94-2.06-.94L8.5 2.5l-.94 2.06-2.06.94zm10 10l.94 2.06.94-2.06 2.06-.94-2.06-.94-.94-2.06-.94 2.06-2.06.94z\"/><path d=\"M17.41 7.96l-1.37-1.37c-.4-.4-.92-.59-1.43-.59-.52 0-1.04.2-1.43.59L10.3 9.45l-7.72 7.72c-.78.78-.78 2.05 0 2.83L4 21.41c.39.39.9.59 1.41.59.51 0 1.02-.2 1.41-.59l7.78-7.78 2.81-2.81c.8-.78.8-2.07 0-2.86zM5.41 20L4 18.59l7.72-7.72 1.47 1.35L5.41 20z\"/>\n",
              "  </svg>\n",
              "      </button>\n",
              "      \n",
              "  <style>\n",
              "    .colab-df-container {\n",
              "      display:flex;\n",
              "      flex-wrap:wrap;\n",
              "      gap: 12px;\n",
              "    }\n",
              "\n",
              "    .colab-df-convert {\n",
              "      background-color: #E8F0FE;\n",
              "      border: none;\n",
              "      border-radius: 50%;\n",
              "      cursor: pointer;\n",
              "      display: none;\n",
              "      fill: #1967D2;\n",
              "      height: 32px;\n",
              "      padding: 0 0 0 0;\n",
              "      width: 32px;\n",
              "    }\n",
              "\n",
              "    .colab-df-convert:hover {\n",
              "      background-color: #E2EBFA;\n",
              "      box-shadow: 0px 1px 2px rgba(60, 64, 67, 0.3), 0px 1px 3px 1px rgba(60, 64, 67, 0.15);\n",
              "      fill: #174EA6;\n",
              "    }\n",
              "\n",
              "    [theme=dark] .colab-df-convert {\n",
              "      background-color: #3B4455;\n",
              "      fill: #D2E3FC;\n",
              "    }\n",
              "\n",
              "    [theme=dark] .colab-df-convert:hover {\n",
              "      background-color: #434B5C;\n",
              "      box-shadow: 0px 1px 3px 1px rgba(0, 0, 0, 0.15);\n",
              "      filter: drop-shadow(0px 1px 2px rgba(0, 0, 0, 0.3));\n",
              "      fill: #FFFFFF;\n",
              "    }\n",
              "  </style>\n",
              "\n",
              "      <script>\n",
              "        const buttonEl =\n",
              "          document.querySelector('#df-7a7cb3bb-099b-45be-b73d-846e6a6b17ec button.colab-df-convert');\n",
              "        buttonEl.style.display =\n",
              "          google.colab.kernel.accessAllowed ? 'block' : 'none';\n",
              "\n",
              "        async function convertToInteractive(key) {\n",
              "          const element = document.querySelector('#df-7a7cb3bb-099b-45be-b73d-846e6a6b17ec');\n",
              "          const dataTable =\n",
              "            await google.colab.kernel.invokeFunction('convertToInteractive',\n",
              "                                                     [key], {});\n",
              "          if (!dataTable) return;\n",
              "\n",
              "          const docLinkHtml = 'Like what you see? Visit the ' +\n",
              "            '<a target=\"_blank\" href=https://colab.research.google.com/notebooks/data_table.ipynb>data table notebook</a>'\n",
              "            + ' to learn more about interactive tables.';\n",
              "          element.innerHTML = '';\n",
              "          dataTable['output_type'] = 'display_data';\n",
              "          await google.colab.output.renderOutput(dataTable, element);\n",
              "          const docLink = document.createElement('div');\n",
              "          docLink.innerHTML = docLinkHtml;\n",
              "          element.appendChild(docLink);\n",
              "        }\n",
              "      </script>\n",
              "    </div>\n",
              "  </div>\n",
              "  "
            ]
          },
          "metadata": {},
          "execution_count": 4
        }
      ],
      "source": [
        "ceaps_2022 = pd.read_csv('https://www.senado.gov.br/transparencia/LAI/verba/despesa_ceaps_2022.csv', encoding = 'latin-1', sep = \";\", nrows = 3)\n",
        "ceaps_2022.head()"
      ]
    },
    {
      "cell_type": "code",
      "source": [
        "ceaps_2022.info()"
      ],
      "metadata": {
        "colab": {
          "base_uri": "https://localhost:8080/"
        },
        "id": "6JygmC2xpnVP",
        "outputId": "3cadd361-aa61-4717-f206-315d8d2c15fe"
      },
      "execution_count": 5,
      "outputs": [
        {
          "output_type": "stream",
          "name": "stdout",
          "text": [
            "<class 'pandas.core.frame.DataFrame'>\n",
            "MultiIndex: 3 entries, ('ANO', 'MES', 'SENADOR', 'TIPO_DESPESA', 'CNPJ_CPF', 'FORNECEDOR', 'DOCUMENTO', 'DATA', 'DETALHAMENTO') to ('2022', '1', 'ACIR GURGACZ', 'Divulgação da atividade parlamentar', '26.320.603/0001-64', 'INFORMANAHORA', '000000000000310/A', '04/01/2022', 'Despesa com divulgação da atividade parlamentar no website www.informanahora.com')\n",
            "Data columns (total 2 columns):\n",
            " #   Column              Non-Null Count  Dtype \n",
            "---  ------              --------------  ----- \n",
            " 0   ULTIMA ATUALIZACAO  3 non-null      object\n",
            " 1   11/08/2022 02:01    3 non-null      object\n",
            "dtypes: object(2)\n",
            "memory usage: 1.4+ KB\n"
          ]
        }
      ]
    },
    {
      "cell_type": "markdown",
      "source": [
        "* O arquivo começa com a data da última atualização, isso faz com que hajam apenas duas colunas e que algumas linhas de valor igual se agrupem na tabela."
      ],
      "metadata": {
        "id": "rCdcks9MtTPj"
      }
    },
    {
      "cell_type": "markdown",
      "source": [
        "## Extração da data da última atualização"
      ],
      "metadata": {
        "id": "26d9Qz7SuMax"
      }
    },
    {
      "cell_type": "code",
      "source": [
        "# Convertendo uma string em datetime\n",
        "# Referência: https://www.alura.com.br/artigos/lidando-com-datas-e-horarios-no-python?gclid=Cj0KCQjw-daUBhCIARIsALbkjSZTiCmktYTMVezV0Ubq_ONo5bJ7O6QuNcoXBGSD3yH7n0x46v89QDIaAtBbEALw_wcB\n",
        "\n",
        "from datetime import datetime"
      ],
      "metadata": {
        "id": "VOfi1TS9uSPv"
      },
      "execution_count": 6,
      "outputs": []
    },
    {
      "cell_type": "code",
      "source": [
        "atualizacao_texto = pd.read_csv('https://www.senado.gov.br/transparencia/LAI/verba/despesa_ceaps_2022.csv', encoding = 'latin-1', sep = \";\", nrows = 0)\n",
        "atualizacao_texto.columns[1]"
      ],
      "metadata": {
        "colab": {
          "base_uri": "https://localhost:8080/",
          "height": 0
        },
        "id": "wYZ2GRoOtQle",
        "outputId": "66c70f73-1c37-4953-87f0-1879f9d51c85"
      },
      "execution_count": 7,
      "outputs": [
        {
          "output_type": "execute_result",
          "data": {
            "text/plain": [
              "'11/08/2022 02:01'"
            ],
            "application/vnd.google.colaboratory.intrinsic+json": {
              "type": "string"
            }
          },
          "metadata": {},
          "execution_count": 7
        }
      ]
    },
    {
      "cell_type": "code",
      "source": [
        "atualizacao_texto = atualizacao_texto.columns[1]\n",
        "ultima_atualizacao_2022 = datetime.strptime(atualizacao_texto, '%d/%m/%Y %H:%M')\n",
        "print(\"Última atualização do dataset (2022) \" + str(ultima_atualizacao_2022))"
      ],
      "metadata": {
        "colab": {
          "base_uri": "https://localhost:8080/"
        },
        "id": "i_kLpVlSuq0m",
        "outputId": "3a448c80-b92b-4ffd-8788-d99a1a72e870"
      },
      "execution_count": 8,
      "outputs": [
        {
          "output_type": "stream",
          "name": "stdout",
          "text": [
            "Última atualização do dataset (2022) 2022-08-11 02:01:00\n"
          ]
        }
      ]
    },
    {
      "cell_type": "markdown",
      "source": [
        "## Abertura do dataset"
      ],
      "metadata": {
        "id": "ZX-Sho6Ov2A7"
      }
    },
    {
      "cell_type": "code",
      "source": [
        "# O header = 1 faz com que o arquivo seja lido a partir da segunda linha, ignorando a primeira e evitando o problema do multi index\n",
        "\n",
        "ceaps_2022 = pd.read_csv('https://www.senado.gov.br/transparencia/LAI/verba/despesa_ceaps_2022.csv', encoding = \"latin-1\", sep = \";\", header = 1, decimal = \",\")\n",
        "ceaps_2022.head()"
      ],
      "metadata": {
        "colab": {
          "base_uri": "https://localhost:8080/",
          "height": 0
        },
        "id": "ngjLEOzvu8GG",
        "outputId": "7d39cb89-9a64-4104-dc10-62a7795ea7f8"
      },
      "execution_count": 9,
      "outputs": [
        {
          "output_type": "execute_result",
          "data": {
            "text/plain": [
              "    ANO  MES       SENADOR                                       TIPO_DESPESA  \\\n",
              "0  2022    1  ACIR GURGACZ  Aluguel de imóveis para escritório político, c...   \n",
              "1  2022    1  ACIR GURGACZ                Divulgação da atividade parlamentar   \n",
              "2  2022    1  ACIR GURGACZ                Divulgação da atividade parlamentar   \n",
              "3  2022    1  ACIR GURGACZ                Divulgação da atividade parlamentar   \n",
              "4  2022    1  ACIR GURGACZ                Divulgação da atividade parlamentar   \n",
              "\n",
              "             CNPJ_CPF                                         FORNECEDOR  \\\n",
              "0      004.948.028-63                      GILBERTO PISELO DO NASCIMENTO   \n",
              "1  26.320.603/0001-64                                      INFORMANAHORA   \n",
              "2  13.659.201/0001-47                    LINHA PURPURA FOTO E VIDEO LTDA   \n",
              "3  23.652.846/0001-01                  ROBERTO GUTIERREZ DA ROCHA M.E.I.   \n",
              "4  08.941.827/0001-01  RONDONIA DINÂMICA COM. E SERV. DE INFORMÁTICA ...   \n",
              "\n",
              "           DOCUMENTO        DATA  \\\n",
              "0             001/22  03/01/2022   \n",
              "1  000000000000310/A  04/01/2022   \n",
              "2                107  14/01/2022   \n",
              "3                187  18/01/2022   \n",
              "4  000000000001772/A  17/01/2022   \n",
              "\n",
              "                                        DETALHAMENTO  VALOR_REEMBOLSADO  \\\n",
              "0  Despesa com pagamento de aluguel de imóvel par...             6000.0   \n",
              "1  Despesa com divulgação da atividade parlamenta...             1500.0   \n",
              "2  Despesa com produção de texto e edição de víde...             6000.0   \n",
              "3                Divulgação da atividade parlamentar             1000.0   \n",
              "4                Divulgação da atividade parlamentar             2000.0   \n",
              "\n",
              "   COD_DOCUMENTO  \n",
              "0        2173614  \n",
              "1        2173615  \n",
              "2        2173616  \n",
              "3        2173618  \n",
              "4        2173617  "
            ],
            "text/html": [
              "\n",
              "  <div id=\"df-acba0b76-6b18-4dde-ab85-a0fda71ecf6e\">\n",
              "    <div class=\"colab-df-container\">\n",
              "      <div>\n",
              "<style scoped>\n",
              "    .dataframe tbody tr th:only-of-type {\n",
              "        vertical-align: middle;\n",
              "    }\n",
              "\n",
              "    .dataframe tbody tr th {\n",
              "        vertical-align: top;\n",
              "    }\n",
              "\n",
              "    .dataframe thead th {\n",
              "        text-align: right;\n",
              "    }\n",
              "</style>\n",
              "<table border=\"1\" class=\"dataframe\">\n",
              "  <thead>\n",
              "    <tr style=\"text-align: right;\">\n",
              "      <th></th>\n",
              "      <th>ANO</th>\n",
              "      <th>MES</th>\n",
              "      <th>SENADOR</th>\n",
              "      <th>TIPO_DESPESA</th>\n",
              "      <th>CNPJ_CPF</th>\n",
              "      <th>FORNECEDOR</th>\n",
              "      <th>DOCUMENTO</th>\n",
              "      <th>DATA</th>\n",
              "      <th>DETALHAMENTO</th>\n",
              "      <th>VALOR_REEMBOLSADO</th>\n",
              "      <th>COD_DOCUMENTO</th>\n",
              "    </tr>\n",
              "  </thead>\n",
              "  <tbody>\n",
              "    <tr>\n",
              "      <th>0</th>\n",
              "      <td>2022</td>\n",
              "      <td>1</td>\n",
              "      <td>ACIR GURGACZ</td>\n",
              "      <td>Aluguel de imóveis para escritório político, c...</td>\n",
              "      <td>004.948.028-63</td>\n",
              "      <td>GILBERTO PISELO DO NASCIMENTO</td>\n",
              "      <td>001/22</td>\n",
              "      <td>03/01/2022</td>\n",
              "      <td>Despesa com pagamento de aluguel de imóvel par...</td>\n",
              "      <td>6000.0</td>\n",
              "      <td>2173614</td>\n",
              "    </tr>\n",
              "    <tr>\n",
              "      <th>1</th>\n",
              "      <td>2022</td>\n",
              "      <td>1</td>\n",
              "      <td>ACIR GURGACZ</td>\n",
              "      <td>Divulgação da atividade parlamentar</td>\n",
              "      <td>26.320.603/0001-64</td>\n",
              "      <td>INFORMANAHORA</td>\n",
              "      <td>000000000000310/A</td>\n",
              "      <td>04/01/2022</td>\n",
              "      <td>Despesa com divulgação da atividade parlamenta...</td>\n",
              "      <td>1500.0</td>\n",
              "      <td>2173615</td>\n",
              "    </tr>\n",
              "    <tr>\n",
              "      <th>2</th>\n",
              "      <td>2022</td>\n",
              "      <td>1</td>\n",
              "      <td>ACIR GURGACZ</td>\n",
              "      <td>Divulgação da atividade parlamentar</td>\n",
              "      <td>13.659.201/0001-47</td>\n",
              "      <td>LINHA PURPURA FOTO E VIDEO LTDA</td>\n",
              "      <td>107</td>\n",
              "      <td>14/01/2022</td>\n",
              "      <td>Despesa com produção de texto e edição de víde...</td>\n",
              "      <td>6000.0</td>\n",
              "      <td>2173616</td>\n",
              "    </tr>\n",
              "    <tr>\n",
              "      <th>3</th>\n",
              "      <td>2022</td>\n",
              "      <td>1</td>\n",
              "      <td>ACIR GURGACZ</td>\n",
              "      <td>Divulgação da atividade parlamentar</td>\n",
              "      <td>23.652.846/0001-01</td>\n",
              "      <td>ROBERTO GUTIERREZ DA ROCHA M.E.I.</td>\n",
              "      <td>187</td>\n",
              "      <td>18/01/2022</td>\n",
              "      <td>Divulgação da atividade parlamentar</td>\n",
              "      <td>1000.0</td>\n",
              "      <td>2173618</td>\n",
              "    </tr>\n",
              "    <tr>\n",
              "      <th>4</th>\n",
              "      <td>2022</td>\n",
              "      <td>1</td>\n",
              "      <td>ACIR GURGACZ</td>\n",
              "      <td>Divulgação da atividade parlamentar</td>\n",
              "      <td>08.941.827/0001-01</td>\n",
              "      <td>RONDONIA DINÂMICA COM. E SERV. DE INFORMÁTICA ...</td>\n",
              "      <td>000000000001772/A</td>\n",
              "      <td>17/01/2022</td>\n",
              "      <td>Divulgação da atividade parlamentar</td>\n",
              "      <td>2000.0</td>\n",
              "      <td>2173617</td>\n",
              "    </tr>\n",
              "  </tbody>\n",
              "</table>\n",
              "</div>\n",
              "      <button class=\"colab-df-convert\" onclick=\"convertToInteractive('df-acba0b76-6b18-4dde-ab85-a0fda71ecf6e')\"\n",
              "              title=\"Convert this dataframe to an interactive table.\"\n",
              "              style=\"display:none;\">\n",
              "        \n",
              "  <svg xmlns=\"http://www.w3.org/2000/svg\" height=\"24px\"viewBox=\"0 0 24 24\"\n",
              "       width=\"24px\">\n",
              "    <path d=\"M0 0h24v24H0V0z\" fill=\"none\"/>\n",
              "    <path d=\"M18.56 5.44l.94 2.06.94-2.06 2.06-.94-2.06-.94-.94-2.06-.94 2.06-2.06.94zm-11 1L8.5 8.5l.94-2.06 2.06-.94-2.06-.94L8.5 2.5l-.94 2.06-2.06.94zm10 10l.94 2.06.94-2.06 2.06-.94-2.06-.94-.94-2.06-.94 2.06-2.06.94z\"/><path d=\"M17.41 7.96l-1.37-1.37c-.4-.4-.92-.59-1.43-.59-.52 0-1.04.2-1.43.59L10.3 9.45l-7.72 7.72c-.78.78-.78 2.05 0 2.83L4 21.41c.39.39.9.59 1.41.59.51 0 1.02-.2 1.41-.59l7.78-7.78 2.81-2.81c.8-.78.8-2.07 0-2.86zM5.41 20L4 18.59l7.72-7.72 1.47 1.35L5.41 20z\"/>\n",
              "  </svg>\n",
              "      </button>\n",
              "      \n",
              "  <style>\n",
              "    .colab-df-container {\n",
              "      display:flex;\n",
              "      flex-wrap:wrap;\n",
              "      gap: 12px;\n",
              "    }\n",
              "\n",
              "    .colab-df-convert {\n",
              "      background-color: #E8F0FE;\n",
              "      border: none;\n",
              "      border-radius: 50%;\n",
              "      cursor: pointer;\n",
              "      display: none;\n",
              "      fill: #1967D2;\n",
              "      height: 32px;\n",
              "      padding: 0 0 0 0;\n",
              "      width: 32px;\n",
              "    }\n",
              "\n",
              "    .colab-df-convert:hover {\n",
              "      background-color: #E2EBFA;\n",
              "      box-shadow: 0px 1px 2px rgba(60, 64, 67, 0.3), 0px 1px 3px 1px rgba(60, 64, 67, 0.15);\n",
              "      fill: #174EA6;\n",
              "    }\n",
              "\n",
              "    [theme=dark] .colab-df-convert {\n",
              "      background-color: #3B4455;\n",
              "      fill: #D2E3FC;\n",
              "    }\n",
              "\n",
              "    [theme=dark] .colab-df-convert:hover {\n",
              "      background-color: #434B5C;\n",
              "      box-shadow: 0px 1px 3px 1px rgba(0, 0, 0, 0.15);\n",
              "      filter: drop-shadow(0px 1px 2px rgba(0, 0, 0, 0.3));\n",
              "      fill: #FFFFFF;\n",
              "    }\n",
              "  </style>\n",
              "\n",
              "      <script>\n",
              "        const buttonEl =\n",
              "          document.querySelector('#df-acba0b76-6b18-4dde-ab85-a0fda71ecf6e button.colab-df-convert');\n",
              "        buttonEl.style.display =\n",
              "          google.colab.kernel.accessAllowed ? 'block' : 'none';\n",
              "\n",
              "        async function convertToInteractive(key) {\n",
              "          const element = document.querySelector('#df-acba0b76-6b18-4dde-ab85-a0fda71ecf6e');\n",
              "          const dataTable =\n",
              "            await google.colab.kernel.invokeFunction('convertToInteractive',\n",
              "                                                     [key], {});\n",
              "          if (!dataTable) return;\n",
              "\n",
              "          const docLinkHtml = 'Like what you see? Visit the ' +\n",
              "            '<a target=\"_blank\" href=https://colab.research.google.com/notebooks/data_table.ipynb>data table notebook</a>'\n",
              "            + ' to learn more about interactive tables.';\n",
              "          element.innerHTML = '';\n",
              "          dataTable['output_type'] = 'display_data';\n",
              "          await google.colab.output.renderOutput(dataTable, element);\n",
              "          const docLink = document.createElement('div');\n",
              "          docLink.innerHTML = docLinkHtml;\n",
              "          element.appendChild(docLink);\n",
              "        }\n",
              "      </script>\n",
              "    </div>\n",
              "  </div>\n",
              "  "
            ]
          },
          "metadata": {},
          "execution_count": 9
        }
      ]
    },
    {
      "cell_type": "code",
      "source": [
        "ceaps_2022.info()"
      ],
      "metadata": {
        "colab": {
          "base_uri": "https://localhost:8080/"
        },
        "id": "dTIAluQ5wOBt",
        "outputId": "373cdf30-d3e0-42d5-c79d-972d786a798d"
      },
      "execution_count": 10,
      "outputs": [
        {
          "output_type": "stream",
          "name": "stdout",
          "text": [
            "<class 'pandas.core.frame.DataFrame'>\n",
            "RangeIndex: 9761 entries, 0 to 9760\n",
            "Data columns (total 11 columns):\n",
            " #   Column             Non-Null Count  Dtype  \n",
            "---  ------             --------------  -----  \n",
            " 0   ANO                9761 non-null   int64  \n",
            " 1   MES                9761 non-null   int64  \n",
            " 2   SENADOR            9761 non-null   object \n",
            " 3   TIPO_DESPESA       9761 non-null   object \n",
            " 4   CNPJ_CPF           9761 non-null   object \n",
            " 5   FORNECEDOR         9761 non-null   object \n",
            " 6   DOCUMENTO          9250 non-null   object \n",
            " 7   DATA               9761 non-null   object \n",
            " 8   DETALHAMENTO       5178 non-null   object \n",
            " 9   VALOR_REEMBOLSADO  9761 non-null   float64\n",
            " 10  COD_DOCUMENTO      9761 non-null   int64  \n",
            "dtypes: float64(1), int64(3), object(7)\n",
            "memory usage: 839.0+ KB\n"
          ]
        }
      ]
    },
    {
      "cell_type": "markdown",
      "source": [
        "* Os campos ANO, MES, SENADOR, TIPO_DESPESA, CNPJ_CPF, FORNECEDOR, DATA, VALOR_REEMBOLSADO, COD_DOCUMENTO estão preenchidos, mas não necessariamente possuem valores válidos.\n",
        "\n",
        "* Os campos DOCUMENTO e DETALHAMENTO possuem células nulas. \n",
        "\n",
        "* Todos os nomes são de senadores reais."
      ],
      "metadata": {
        "id": "mSDVm0EYwpNq"
      }
    },
    {
      "cell_type": "markdown",
      "source": [
        "# União dos dados de 2011 a 2022 e Tratamentos"
      ],
      "metadata": {
        "id": "PvgDXP_Q7MjW"
      }
    },
    {
      "cell_type": "markdown",
      "source": [
        "* Optei por não utilizar os dados desde o início do CEAPS (2008) porque o período 2008-2010 não abrange um mandato presidencial completo."
      ],
      "metadata": {
        "id": "mjhJI2NQQ56S"
      }
    },
    {
      "cell_type": "markdown",
      "source": [
        "## Abertura dos datasets"
      ],
      "metadata": {
        "id": "3ZLDtWrc7SLx"
      }
    },
    {
      "cell_type": "code",
      "source": [
        "def extrai_dados(caminho):\n",
        "  ultima_atualizacao = 0\n",
        "  #atualizacao_texto = pd.read_csv(caminho, encoding = \"latin-1\", sep = \";\", nrows = 0)\n",
        "  #atualizacao_texto = atualizacao_texto.columns[1]\n",
        "  #ultima_atualizacao = datetime.strptime(atualizacao_texto, '%d/%m/%Y %H:%M')\n",
        "\n",
        "  dados = pd.read_csv(caminho, decimal = ',', encoding = 'latin-1', sep = ';', header = 1)\n",
        "\n",
        "  return ultima_atualizacao, dados"
      ],
      "metadata": {
        "id": "7q7dDrz1WMdI"
      },
      "execution_count": 11,
      "outputs": []
    },
    {
      "cell_type": "code",
      "source": [
        "# 2022 a 2019\n",
        "ultima_atualizacao_2022, ceaps_2022 = extrai_dados('https://www.senado.gov.br/transparencia/LAI/verba/despesa_ceaps_2022.csv')\n",
        "ultima_atualizacao_2021, ceaps_2021 = extrai_dados('https://www.senado.gov.br/transparencia/LAI/verba/despesa_ceaps_2021.csv')\n",
        "ultima_atualizacao_2020, ceaps_2020 = extrai_dados('https://www.senado.gov.br/transparencia/LAI/verba/despesa_ceaps_2020.csv')\n",
        "ultima_atualizacao_2019, ceaps_2019 = extrai_dados('https://www.senado.gov.br/transparencia/LAI/verba/despesa_ceaps_2019.csv')\n",
        "\n",
        "print(\"Última atualização de 2022 \" + str(ultima_atualizacao_2022))\n",
        "print(\"Última atualização de 2021 \" + str(ultima_atualizacao_2021))\n",
        "print(\"Última atualização de 2020 \" + str(ultima_atualizacao_2020))\n",
        "print(\"Última atualização de 2019 \" + str(ultima_atualizacao_2019))"
      ],
      "metadata": {
        "colab": {
          "base_uri": "https://localhost:8080/"
        },
        "id": "Ki9vySNYWljM",
        "outputId": "b015537d-14e3-40f3-8bce-cad179eb07e6"
      },
      "execution_count": 12,
      "outputs": [
        {
          "output_type": "stream",
          "name": "stdout",
          "text": [
            "Última atualização de 2022 0\n",
            "Última atualização de 2021 0\n",
            "Última atualização de 2020 0\n",
            "Última atualização de 2019 0\n"
          ]
        }
      ]
    },
    {
      "cell_type": "code",
      "source": [
        "# 2018 a 2015\n",
        "ultima_atualizacao_2018, ceaps_2018 = extrai_dados('https://www.senado.gov.br/transparencia/LAI/verba/despesa_ceaps_2018.csv')\n",
        "ultima_atualizacao_2017, ceaps_2017 = extrai_dados('https://www.senado.gov.br/transparencia/LAI/verba/despesa_ceaps_2017.csv')\n",
        "ultima_atualizacao_2016, ceaps_2016 = extrai_dados('https://www.senado.gov.br/transparencia/LAI/verba/despesa_ceaps_2016.csv')\n",
        "ultima_atualizacao_2015, ceaps_2015 = extrai_dados('https://www.senado.gov.br/transparencia/LAI/verba/despesa_ceaps_2015.csv')\n",
        "\n",
        "print(\"Última atualização de 2018 \" + str(ultima_atualizacao_2018))\n",
        "print(\"Última atualização de 2017 \" + str(ultima_atualizacao_2017))\n",
        "print(\"Última atualização de 2016 \" + str(ultima_atualizacao_2016))\n",
        "print(\"Última atualização de 2015 \" + str(ultima_atualizacao_2015))"
      ],
      "metadata": {
        "colab": {
          "base_uri": "https://localhost:8080/"
        },
        "id": "6oCyRSGAXli5",
        "outputId": "1935453b-4dab-457d-ecea-b95d5cfbbb3a"
      },
      "execution_count": 13,
      "outputs": [
        {
          "output_type": "stream",
          "name": "stdout",
          "text": [
            "Última atualização de 2018 0\n",
            "Última atualização de 2017 0\n",
            "Última atualização de 2016 0\n",
            "Última atualização de 2015 0\n"
          ]
        }
      ]
    },
    {
      "cell_type": "code",
      "source": [
        "# 2014 a 2011\n",
        "ultima_atualizacao_2014, ceaps_2014 = extrai_dados('https://www.senado.gov.br/transparencia/LAI/verba/despesa_ceaps_2014.csv')\n",
        "ultima_atualizacao_2013, ceaps_2013 = extrai_dados('https://www.senado.gov.br/transparencia/LAI/verba/despesa_ceaps_2013.csv')\n",
        "ultima_atualizacao_2012, ceaps_2012 = extrai_dados('https://www.senado.gov.br/transparencia/LAI/verba/despesa_ceaps_2012.csv')\n",
        "ultima_atualizacao_2011, ceaps_2011 = extrai_dados('https://www.senado.gov.br/transparencia/LAI/verba/despesa_ceaps_2011.csv')\n",
        "\n",
        "# O arquivo de 2013 possui um campo com caracteres que atrapalham a leitura e conversão dos dados\n",
        "ceaps_2013['VALOR_REEMBOLSADO'] = ceaps_2013['VALOR_REEMBOLSADO'].str.replace(',', '.')\n",
        "ceaps_2013['VALOR_REEMBOLSADO'] = ceaps_2013['VALOR_REEMBOLSADO'].str.replace('\\n', '')\n",
        "ceaps_2013['VALOR_REEMBOLSADO'] = ceaps_2013['VALOR_REEMBOLSADO'].str.replace('\\r', '')\n",
        "ceaps_2013['VALOR_REEMBOLSADO'] = ceaps_2013['VALOR_REEMBOLSADO'].astype('float')\n",
        "\n",
        "print(\"Última atualização de 2014 \" + str(ultima_atualizacao_2014))\n",
        "print(\"Última atualização de 2013 \" + str(ultima_atualizacao_2013))\n",
        "print(\"Última atualização de 2012 \" + str(ultima_atualizacao_2012))\n",
        "print(\"Última atualização de 2011 \" + str(ultima_atualizacao_2011))"
      ],
      "metadata": {
        "colab": {
          "base_uri": "https://localhost:8080/"
        },
        "id": "7-AwRpX2Yh7R",
        "outputId": "e33e55c7-154d-4b5e-8381-d9e236d2c921"
      },
      "execution_count": 14,
      "outputs": [
        {
          "output_type": "stream",
          "name": "stdout",
          "text": [
            "Última atualização de 2014 0\n",
            "Última atualização de 2013 0\n",
            "Última atualização de 2012 0\n",
            "Última atualização de 2011 0\n"
          ]
        }
      ]
    },
    {
      "cell_type": "code",
      "source": [
        "# 2008 a 2010\n",
        "#ultima_atualizacao_2010, ceaps_2010 = extrai_dados('https://www.senado.gov.br/transparencia/LAI/verba/despesa_ceaps_2010.csv')\n",
        "#ultima_atualizacao_2009, ceaps_2009 = extrai_dados('https://www.senado.gov.br/transparencia/LAI/verba/despesa_ceaps_2009.csv')\n",
        "#ultima_atualizacao_2008, ceaps_2008 = extrai_dados('https://www.senado.gov.br/transparencia/LAI/verba/despesa_ceaps_2008.csv')\n",
        "\n",
        "#print(\"Última atualização de 2010 \" + str(ultima_atualizacao_2010))\n",
        "#print(\"Última atualização de 2009 \" + str(ultima_atualizacao_2009))\n",
        "#print(\"Última atualização de 2008 \" + str(ultima_atualizacao_2008))"
      ],
      "metadata": {
        "id": "Vbvi5OR4Y--2"
      },
      "execution_count": 15,
      "outputs": []
    },
    {
      "cell_type": "markdown",
      "source": [
        "Todas as tabelas possuem as mesmas colunas."
      ],
      "metadata": {
        "id": "2tYQzCbP9K2y"
      }
    },
    {
      "cell_type": "code",
      "source": [
        "dados = [ceaps_2022, ceaps_2021, ceaps_2020, ceaps_2019, ceaps_2018, ceaps_2017, ceaps_2016, ceaps_2015, ceaps_2014, ceaps_2013, ceaps_2012, ceaps_2011]\n",
        "dados_ceaps = pd.concat(dados)\n",
        "dados_ceaps.info()"
      ],
      "metadata": {
        "colab": {
          "base_uri": "https://localhost:8080/"
        },
        "id": "jbzyE9V49E6S",
        "outputId": "f1270ed5-b2ba-4cc9-cf7f-c568fccd9a66"
      },
      "execution_count": 16,
      "outputs": [
        {
          "output_type": "stream",
          "name": "stdout",
          "text": [
            "<class 'pandas.core.frame.DataFrame'>\n",
            "Int64Index: 273778 entries, 0 to 25573\n",
            "Data columns (total 11 columns):\n",
            " #   Column             Non-Null Count   Dtype  \n",
            "---  ------             --------------   -----  \n",
            " 0   ANO                273778 non-null  int64  \n",
            " 1   MES                273778 non-null  int64  \n",
            " 2   SENADOR            273778 non-null  object \n",
            " 3   TIPO_DESPESA       273778 non-null  object \n",
            " 4   CNPJ_CPF           273778 non-null  object \n",
            " 5   FORNECEDOR         273778 non-null  object \n",
            " 6   DOCUMENTO          255029 non-null  object \n",
            " 7   DATA               273778 non-null  object \n",
            " 8   DETALHAMENTO       176747 non-null  object \n",
            " 9   VALOR_REEMBOLSADO  273778 non-null  float64\n",
            " 10  COD_DOCUMENTO      273776 non-null  float64\n",
            "dtypes: float64(2), int64(2), object(7)\n",
            "memory usage: 25.1+ MB\n"
          ]
        }
      ]
    },
    {
      "cell_type": "code",
      "source": [
        "dados_ceaps.isnull().any()"
      ],
      "metadata": {
        "colab": {
          "base_uri": "https://localhost:8080/"
        },
        "id": "ddAbXQbIXjYj",
        "outputId": "6d3886ac-7689-4a17-895d-cf174de571b8"
      },
      "execution_count": 17,
      "outputs": [
        {
          "output_type": "execute_result",
          "data": {
            "text/plain": [
              "ANO                  False\n",
              "MES                  False\n",
              "SENADOR              False\n",
              "TIPO_DESPESA         False\n",
              "CNPJ_CPF             False\n",
              "FORNECEDOR           False\n",
              "DOCUMENTO             True\n",
              "DATA                 False\n",
              "DETALHAMENTO          True\n",
              "VALOR_REEMBOLSADO    False\n",
              "COD_DOCUMENTO         True\n",
              "dtype: bool"
            ]
          },
          "metadata": {},
          "execution_count": 17
        }
      ]
    },
    {
      "cell_type": "markdown",
      "source": [
        "* As colunas ANO, MES, SENADOR, TIPO_DESPESA, CNPJ_CPF, FORNECEDOR, DATA e VALOR_REEMBOLSADO estão totalmente preenchidas.\n",
        "\n",
        "* Há dois COD_DOCUMENTO faltando.\n",
        "\n",
        "* Faltam dados nas colunas DOCUMENTO e DETALHAMENTO."
      ],
      "metadata": {
        "id": "oQyf0s2LUe80"
      }
    },
    {
      "cell_type": "code",
      "source": [
        "dados_ceaps.head()"
      ],
      "metadata": {
        "colab": {
          "base_uri": "https://localhost:8080/",
          "height": 337
        },
        "id": "5XLqdwSz9cDi",
        "outputId": "140a4950-7130-41fe-e0a0-844fb5efbdb8"
      },
      "execution_count": 18,
      "outputs": [
        {
          "output_type": "execute_result",
          "data": {
            "text/plain": [
              "    ANO  MES       SENADOR                                       TIPO_DESPESA  \\\n",
              "0  2022    1  ACIR GURGACZ  Aluguel de imóveis para escritório político, c...   \n",
              "1  2022    1  ACIR GURGACZ                Divulgação da atividade parlamentar   \n",
              "2  2022    1  ACIR GURGACZ                Divulgação da atividade parlamentar   \n",
              "3  2022    1  ACIR GURGACZ                Divulgação da atividade parlamentar   \n",
              "4  2022    1  ACIR GURGACZ                Divulgação da atividade parlamentar   \n",
              "\n",
              "             CNPJ_CPF                                         FORNECEDOR  \\\n",
              "0      004.948.028-63                      GILBERTO PISELO DO NASCIMENTO   \n",
              "1  26.320.603/0001-64                                      INFORMANAHORA   \n",
              "2  13.659.201/0001-47                    LINHA PURPURA FOTO E VIDEO LTDA   \n",
              "3  23.652.846/0001-01                  ROBERTO GUTIERREZ DA ROCHA M.E.I.   \n",
              "4  08.941.827/0001-01  RONDONIA DINÂMICA COM. E SERV. DE INFORMÁTICA ...   \n",
              "\n",
              "           DOCUMENTO        DATA  \\\n",
              "0             001/22  03/01/2022   \n",
              "1  000000000000310/A  04/01/2022   \n",
              "2                107  14/01/2022   \n",
              "3                187  18/01/2022   \n",
              "4  000000000001772/A  17/01/2022   \n",
              "\n",
              "                                        DETALHAMENTO  VALOR_REEMBOLSADO  \\\n",
              "0  Despesa com pagamento de aluguel de imóvel par...             6000.0   \n",
              "1  Despesa com divulgação da atividade parlamenta...             1500.0   \n",
              "2  Despesa com produção de texto e edição de víde...             6000.0   \n",
              "3                Divulgação da atividade parlamentar             1000.0   \n",
              "4                Divulgação da atividade parlamentar             2000.0   \n",
              "\n",
              "   COD_DOCUMENTO  \n",
              "0      2173614.0  \n",
              "1      2173615.0  \n",
              "2      2173616.0  \n",
              "3      2173618.0  \n",
              "4      2173617.0  "
            ],
            "text/html": [
              "\n",
              "  <div id=\"df-a1b177c2-4fa7-4178-b21c-73606d708ead\">\n",
              "    <div class=\"colab-df-container\">\n",
              "      <div>\n",
              "<style scoped>\n",
              "    .dataframe tbody tr th:only-of-type {\n",
              "        vertical-align: middle;\n",
              "    }\n",
              "\n",
              "    .dataframe tbody tr th {\n",
              "        vertical-align: top;\n",
              "    }\n",
              "\n",
              "    .dataframe thead th {\n",
              "        text-align: right;\n",
              "    }\n",
              "</style>\n",
              "<table border=\"1\" class=\"dataframe\">\n",
              "  <thead>\n",
              "    <tr style=\"text-align: right;\">\n",
              "      <th></th>\n",
              "      <th>ANO</th>\n",
              "      <th>MES</th>\n",
              "      <th>SENADOR</th>\n",
              "      <th>TIPO_DESPESA</th>\n",
              "      <th>CNPJ_CPF</th>\n",
              "      <th>FORNECEDOR</th>\n",
              "      <th>DOCUMENTO</th>\n",
              "      <th>DATA</th>\n",
              "      <th>DETALHAMENTO</th>\n",
              "      <th>VALOR_REEMBOLSADO</th>\n",
              "      <th>COD_DOCUMENTO</th>\n",
              "    </tr>\n",
              "  </thead>\n",
              "  <tbody>\n",
              "    <tr>\n",
              "      <th>0</th>\n",
              "      <td>2022</td>\n",
              "      <td>1</td>\n",
              "      <td>ACIR GURGACZ</td>\n",
              "      <td>Aluguel de imóveis para escritório político, c...</td>\n",
              "      <td>004.948.028-63</td>\n",
              "      <td>GILBERTO PISELO DO NASCIMENTO</td>\n",
              "      <td>001/22</td>\n",
              "      <td>03/01/2022</td>\n",
              "      <td>Despesa com pagamento de aluguel de imóvel par...</td>\n",
              "      <td>6000.0</td>\n",
              "      <td>2173614.0</td>\n",
              "    </tr>\n",
              "    <tr>\n",
              "      <th>1</th>\n",
              "      <td>2022</td>\n",
              "      <td>1</td>\n",
              "      <td>ACIR GURGACZ</td>\n",
              "      <td>Divulgação da atividade parlamentar</td>\n",
              "      <td>26.320.603/0001-64</td>\n",
              "      <td>INFORMANAHORA</td>\n",
              "      <td>000000000000310/A</td>\n",
              "      <td>04/01/2022</td>\n",
              "      <td>Despesa com divulgação da atividade parlamenta...</td>\n",
              "      <td>1500.0</td>\n",
              "      <td>2173615.0</td>\n",
              "    </tr>\n",
              "    <tr>\n",
              "      <th>2</th>\n",
              "      <td>2022</td>\n",
              "      <td>1</td>\n",
              "      <td>ACIR GURGACZ</td>\n",
              "      <td>Divulgação da atividade parlamentar</td>\n",
              "      <td>13.659.201/0001-47</td>\n",
              "      <td>LINHA PURPURA FOTO E VIDEO LTDA</td>\n",
              "      <td>107</td>\n",
              "      <td>14/01/2022</td>\n",
              "      <td>Despesa com produção de texto e edição de víde...</td>\n",
              "      <td>6000.0</td>\n",
              "      <td>2173616.0</td>\n",
              "    </tr>\n",
              "    <tr>\n",
              "      <th>3</th>\n",
              "      <td>2022</td>\n",
              "      <td>1</td>\n",
              "      <td>ACIR GURGACZ</td>\n",
              "      <td>Divulgação da atividade parlamentar</td>\n",
              "      <td>23.652.846/0001-01</td>\n",
              "      <td>ROBERTO GUTIERREZ DA ROCHA M.E.I.</td>\n",
              "      <td>187</td>\n",
              "      <td>18/01/2022</td>\n",
              "      <td>Divulgação da atividade parlamentar</td>\n",
              "      <td>1000.0</td>\n",
              "      <td>2173618.0</td>\n",
              "    </tr>\n",
              "    <tr>\n",
              "      <th>4</th>\n",
              "      <td>2022</td>\n",
              "      <td>1</td>\n",
              "      <td>ACIR GURGACZ</td>\n",
              "      <td>Divulgação da atividade parlamentar</td>\n",
              "      <td>08.941.827/0001-01</td>\n",
              "      <td>RONDONIA DINÂMICA COM. E SERV. DE INFORMÁTICA ...</td>\n",
              "      <td>000000000001772/A</td>\n",
              "      <td>17/01/2022</td>\n",
              "      <td>Divulgação da atividade parlamentar</td>\n",
              "      <td>2000.0</td>\n",
              "      <td>2173617.0</td>\n",
              "    </tr>\n",
              "  </tbody>\n",
              "</table>\n",
              "</div>\n",
              "      <button class=\"colab-df-convert\" onclick=\"convertToInteractive('df-a1b177c2-4fa7-4178-b21c-73606d708ead')\"\n",
              "              title=\"Convert this dataframe to an interactive table.\"\n",
              "              style=\"display:none;\">\n",
              "        \n",
              "  <svg xmlns=\"http://www.w3.org/2000/svg\" height=\"24px\"viewBox=\"0 0 24 24\"\n",
              "       width=\"24px\">\n",
              "    <path d=\"M0 0h24v24H0V0z\" fill=\"none\"/>\n",
              "    <path d=\"M18.56 5.44l.94 2.06.94-2.06 2.06-.94-2.06-.94-.94-2.06-.94 2.06-2.06.94zm-11 1L8.5 8.5l.94-2.06 2.06-.94-2.06-.94L8.5 2.5l-.94 2.06-2.06.94zm10 10l.94 2.06.94-2.06 2.06-.94-2.06-.94-.94-2.06-.94 2.06-2.06.94z\"/><path d=\"M17.41 7.96l-1.37-1.37c-.4-.4-.92-.59-1.43-.59-.52 0-1.04.2-1.43.59L10.3 9.45l-7.72 7.72c-.78.78-.78 2.05 0 2.83L4 21.41c.39.39.9.59 1.41.59.51 0 1.02-.2 1.41-.59l7.78-7.78 2.81-2.81c.8-.78.8-2.07 0-2.86zM5.41 20L4 18.59l7.72-7.72 1.47 1.35L5.41 20z\"/>\n",
              "  </svg>\n",
              "      </button>\n",
              "      \n",
              "  <style>\n",
              "    .colab-df-container {\n",
              "      display:flex;\n",
              "      flex-wrap:wrap;\n",
              "      gap: 12px;\n",
              "    }\n",
              "\n",
              "    .colab-df-convert {\n",
              "      background-color: #E8F0FE;\n",
              "      border: none;\n",
              "      border-radius: 50%;\n",
              "      cursor: pointer;\n",
              "      display: none;\n",
              "      fill: #1967D2;\n",
              "      height: 32px;\n",
              "      padding: 0 0 0 0;\n",
              "      width: 32px;\n",
              "    }\n",
              "\n",
              "    .colab-df-convert:hover {\n",
              "      background-color: #E2EBFA;\n",
              "      box-shadow: 0px 1px 2px rgba(60, 64, 67, 0.3), 0px 1px 3px 1px rgba(60, 64, 67, 0.15);\n",
              "      fill: #174EA6;\n",
              "    }\n",
              "\n",
              "    [theme=dark] .colab-df-convert {\n",
              "      background-color: #3B4455;\n",
              "      fill: #D2E3FC;\n",
              "    }\n",
              "\n",
              "    [theme=dark] .colab-df-convert:hover {\n",
              "      background-color: #434B5C;\n",
              "      box-shadow: 0px 1px 3px 1px rgba(0, 0, 0, 0.15);\n",
              "      filter: drop-shadow(0px 1px 2px rgba(0, 0, 0, 0.3));\n",
              "      fill: #FFFFFF;\n",
              "    }\n",
              "  </style>\n",
              "\n",
              "      <script>\n",
              "        const buttonEl =\n",
              "          document.querySelector('#df-a1b177c2-4fa7-4178-b21c-73606d708ead button.colab-df-convert');\n",
              "        buttonEl.style.display =\n",
              "          google.colab.kernel.accessAllowed ? 'block' : 'none';\n",
              "\n",
              "        async function convertToInteractive(key) {\n",
              "          const element = document.querySelector('#df-a1b177c2-4fa7-4178-b21c-73606d708ead');\n",
              "          const dataTable =\n",
              "            await google.colab.kernel.invokeFunction('convertToInteractive',\n",
              "                                                     [key], {});\n",
              "          if (!dataTable) return;\n",
              "\n",
              "          const docLinkHtml = 'Like what you see? Visit the ' +\n",
              "            '<a target=\"_blank\" href=https://colab.research.google.com/notebooks/data_table.ipynb>data table notebook</a>'\n",
              "            + ' to learn more about interactive tables.';\n",
              "          element.innerHTML = '';\n",
              "          dataTable['output_type'] = 'display_data';\n",
              "          await google.colab.output.renderOutput(dataTable, element);\n",
              "          const docLink = document.createElement('div');\n",
              "          docLink.innerHTML = docLinkHtml;\n",
              "          element.appendChild(docLink);\n",
              "        }\n",
              "      </script>\n",
              "    </div>\n",
              "  </div>\n",
              "  "
            ]
          },
          "metadata": {},
          "execution_count": 18
        }
      ]
    },
    {
      "cell_type": "markdown",
      "source": [
        "## Tratamentos"
      ],
      "metadata": {
        "id": "XkLmaWMK_o2F"
      }
    },
    {
      "cell_type": "markdown",
      "source": [
        "### Correção de datas"
      ],
      "metadata": {
        "id": "0fUYAkswCoRr"
      }
    },
    {
      "cell_type": "markdown",
      "source": [
        "* As datas contêm muitos problemas de preenchimento, desde campos preenchidos com texto até valores muito altos ou muito baixos.\n",
        "\n",
        "* Para evitar transtornos, passarei a considerar apenas as colunas MES e ANO, que compõem a data em que o reembolso foi requisitado, e não parecem conter erros tão aparentes. "
      ],
      "metadata": {
        "id": "eEQooWaxuL9c"
      }
    },
    {
      "cell_type": "code",
      "source": [
        "print(dados_ceaps['MES'].unique())\n",
        "print(dados_ceaps['ANO'].unique())"
      ],
      "metadata": {
        "colab": {
          "base_uri": "https://localhost:8080/"
        },
        "id": "j9wSHTUkvhp0",
        "outputId": "258d73bf-9cf6-4b28-954c-e9b7db6478bd"
      },
      "execution_count": 19,
      "outputs": [
        {
          "output_type": "stream",
          "name": "stdout",
          "text": [
            "[ 1  2  3  4  5  6  7  8  9 10 11 12]\n",
            "[2022 2021 2020 2019 2018 2017 2016 2015 2014 2013 2012 2011]\n"
          ]
        }
      ]
    },
    {
      "cell_type": "markdown",
      "source": [
        "### Erros encontrados no preenchimento do campo DATA"
      ],
      "metadata": {
        "id": "5xf52jK8vrx9"
      }
    },
    {
      "cell_type": "markdown",
      "source": [
        "#### Em duas linhas, o campo DATA foi preenchido com o que deveria estar no campo DETALHAMENTO, provavelmente um equívoco na hora de preencher o formulário."
      ],
      "metadata": {
        "id": "Nq5FaaXDUH3o"
      }
    },
    {
      "cell_type": "code",
      "source": [
        "dados_ceaps['DATA'].str[6:].value_counts()"
      ],
      "metadata": {
        "colab": {
          "base_uri": "https://localhost:8080/"
        },
        "id": "VLBTWJ7h9kMh",
        "outputId": "39214cfb-ad0f-4529-8b36-d0eb1f9aa30b"
      },
      "execution_count": 20,
      "outputs": [
        {
          "output_type": "execute_result",
          "data": {
            "text/plain": [
              "2012                                                                                                                                                         30215\n",
              "2013                                                                                                                                                         29290\n",
              "2017                                                                                                                                                         27111\n",
              "2016                                                                                                                                                         26786\n",
              "2015                                                                                                                                                         26003\n",
              "2011                                                                                                                                                         25513\n",
              "2018                                                                                                                                                         24399\n",
              "2014                                                                                                                                                         22009\n",
              "2019                                                                                                                                                         21683\n",
              "2021                                                                                                                                                         16847\n",
              "2020                                                                                                                                                         14003\n",
              "2022                                                                                                                                                          9799\n",
              "2010                                                                                                                                                            32\n",
              "2001                                                                                                                                                            23\n",
              "2002                                                                                                                                                            12\n",
              "2106                                                                                                                                                             6\n",
              "2007                                                                                                                                                             4\n",
              "0201                                                                                                                                                             3\n",
              "0202                                                                                                                                                             2\n",
              "0215                                                                                                                                                             2\n",
              "2041                                                                                                                                                             2\n",
              "2004                                                                                                                                                             2\n",
              "1962                                                                                                                                                             2\n",
              "1201                                                                                                                                                             2\n",
              "2105                                                                                                                                                             2\n",
              "1965                                                                                                                                                             1\n",
              "1956                                                                                                                                                             1\n",
              "2023                                                                                                                                                             1\n",
              "1980                                                                                                                                                             1\n",
              "hia Aérea: TAM, Localizador: YXGDSJ. Passageiros: JOSÉ SILVIO MONTEIRO (Matrícula 188223, COMISSIONADO), Voo: 3538 - BRASÍLIA/ARACAJU - 07/08/2015;              1\n",
              "5201                                                                                                                                                             1\n",
              "2003                                                                                                                                                             1\n",
              "5015                                                                                                                                                             1\n",
              "2915                                                                                                                                                             1\n",
              "hia Aérea: AVIANCA, Localizador: ZNEU9F. Passageiros: EDUARDO ALVES DO AMORIM (Matrícula 234312, PARLAMENTAR), Voo: 6223 - ARACAJU/BRASÍLIA - 24/08/2015;        1\n",
              "2101                                                                                                                                                             1\n",
              "1986                                                                                                                                                             1\n",
              "0206                                                                                                                                                             1\n",
              "1977                                                                                                                                                             1\n",
              "0200                                                                                                                                                             1\n",
              "0216                                                                                                                                                             1\n",
              "3016                                                                                                                                                             1\n",
              "5017                                                                                                                                                             1\n",
              "0217                                                                                                                                                             1\n",
              "2107                                                                                                                                                             1\n",
              "1017                                                                                                                                                             1\n",
              "0208                                                                                                                                                             1\n",
              "1957                                                                                                                                                             1\n",
              "0219                                                                                                                                                             1\n",
              "2009                                                                                                                                                             1\n",
              "1901                                                                                                                                                             1\n",
              "Name: DATA, dtype: int64"
            ]
          },
          "metadata": {},
          "execution_count": 20
        }
      ]
    },
    {
      "cell_type": "code",
      "source": [
        "index_erros = dados_ceaps['DATA'].str.contains('Aérea')\n",
        "index_erros\n",
        "dados_ceaps[index_erros]"
      ],
      "metadata": {
        "colab": {
          "base_uri": "https://localhost:8080/",
          "height": 0
        },
        "id": "0jqqAM2vekKo",
        "outputId": "afc4af2a-fa7e-41fd-d91c-217c6704d38c"
      },
      "execution_count": 21,
      "outputs": [
        {
          "output_type": "execute_result",
          "data": {
            "text/plain": [
              "       ANO  MES         SENADOR  \\\n",
              "5922  2015    8  EDUARDO AMORIM   \n",
              "5929  2015    8  EDUARDO AMORIM   \n",
              "\n",
              "                                           TIPO_DESPESA            CNPJ_CPF  \\\n",
              "5922  Passagens aéreas, aquáticas e terrestres nacio...  13.353.495/0001-84   \n",
              "5929  Passagens aéreas, aquáticas e terrestres nacio...  13.353.495/0001-84   \n",
              "\n",
              "                           FORNECEDOR                  DOCUMENTO  \\\n",
              "5922  PROPAGTUR - Propag Turismo Ltda    SEM FATURA\";02/08/2015\"   \n",
              "5929  PROPAGTUR - Propag Turismo Ltda  ¨¨SEM FATURA\";17/08/2015\"   \n",
              "\n",
              "                                                   DATA DETALHAMENTO  \\\n",
              "5922  Companhia Aérea: TAM, Localizador: YXGDSJ. Pas...       469,53   \n",
              "5929  Companhia Aérea: AVIANCA, Localizador: ZNEU9F....       460,45   \n",
              "\n",
              "      VALOR_REEMBOLSADO  COD_DOCUMENTO  \n",
              "5922          2014675.0            NaN  \n",
              "5929          2016557.0            NaN  "
            ],
            "text/html": [
              "\n",
              "  <div id=\"df-d75b0778-1717-4862-81b5-2f54178c4409\">\n",
              "    <div class=\"colab-df-container\">\n",
              "      <div>\n",
              "<style scoped>\n",
              "    .dataframe tbody tr th:only-of-type {\n",
              "        vertical-align: middle;\n",
              "    }\n",
              "\n",
              "    .dataframe tbody tr th {\n",
              "        vertical-align: top;\n",
              "    }\n",
              "\n",
              "    .dataframe thead th {\n",
              "        text-align: right;\n",
              "    }\n",
              "</style>\n",
              "<table border=\"1\" class=\"dataframe\">\n",
              "  <thead>\n",
              "    <tr style=\"text-align: right;\">\n",
              "      <th></th>\n",
              "      <th>ANO</th>\n",
              "      <th>MES</th>\n",
              "      <th>SENADOR</th>\n",
              "      <th>TIPO_DESPESA</th>\n",
              "      <th>CNPJ_CPF</th>\n",
              "      <th>FORNECEDOR</th>\n",
              "      <th>DOCUMENTO</th>\n",
              "      <th>DATA</th>\n",
              "      <th>DETALHAMENTO</th>\n",
              "      <th>VALOR_REEMBOLSADO</th>\n",
              "      <th>COD_DOCUMENTO</th>\n",
              "    </tr>\n",
              "  </thead>\n",
              "  <tbody>\n",
              "    <tr>\n",
              "      <th>5922</th>\n",
              "      <td>2015</td>\n",
              "      <td>8</td>\n",
              "      <td>EDUARDO AMORIM</td>\n",
              "      <td>Passagens aéreas, aquáticas e terrestres nacio...</td>\n",
              "      <td>13.353.495/0001-84</td>\n",
              "      <td>PROPAGTUR - Propag Turismo Ltda</td>\n",
              "      <td>SEM FATURA\";02/08/2015\"</td>\n",
              "      <td>Companhia Aérea: TAM, Localizador: YXGDSJ. Pas...</td>\n",
              "      <td>469,53</td>\n",
              "      <td>2014675.0</td>\n",
              "      <td>NaN</td>\n",
              "    </tr>\n",
              "    <tr>\n",
              "      <th>5929</th>\n",
              "      <td>2015</td>\n",
              "      <td>8</td>\n",
              "      <td>EDUARDO AMORIM</td>\n",
              "      <td>Passagens aéreas, aquáticas e terrestres nacio...</td>\n",
              "      <td>13.353.495/0001-84</td>\n",
              "      <td>PROPAGTUR - Propag Turismo Ltda</td>\n",
              "      <td>¨¨SEM FATURA\";17/08/2015\"</td>\n",
              "      <td>Companhia Aérea: AVIANCA, Localizador: ZNEU9F....</td>\n",
              "      <td>460,45</td>\n",
              "      <td>2016557.0</td>\n",
              "      <td>NaN</td>\n",
              "    </tr>\n",
              "  </tbody>\n",
              "</table>\n",
              "</div>\n",
              "      <button class=\"colab-df-convert\" onclick=\"convertToInteractive('df-d75b0778-1717-4862-81b5-2f54178c4409')\"\n",
              "              title=\"Convert this dataframe to an interactive table.\"\n",
              "              style=\"display:none;\">\n",
              "        \n",
              "  <svg xmlns=\"http://www.w3.org/2000/svg\" height=\"24px\"viewBox=\"0 0 24 24\"\n",
              "       width=\"24px\">\n",
              "    <path d=\"M0 0h24v24H0V0z\" fill=\"none\"/>\n",
              "    <path d=\"M18.56 5.44l.94 2.06.94-2.06 2.06-.94-2.06-.94-.94-2.06-.94 2.06-2.06.94zm-11 1L8.5 8.5l.94-2.06 2.06-.94-2.06-.94L8.5 2.5l-.94 2.06-2.06.94zm10 10l.94 2.06.94-2.06 2.06-.94-2.06-.94-.94-2.06-.94 2.06-2.06.94z\"/><path d=\"M17.41 7.96l-1.37-1.37c-.4-.4-.92-.59-1.43-.59-.52 0-1.04.2-1.43.59L10.3 9.45l-7.72 7.72c-.78.78-.78 2.05 0 2.83L4 21.41c.39.39.9.59 1.41.59.51 0 1.02-.2 1.41-.59l7.78-7.78 2.81-2.81c.8-.78.8-2.07 0-2.86zM5.41 20L4 18.59l7.72-7.72 1.47 1.35L5.41 20z\"/>\n",
              "  </svg>\n",
              "      </button>\n",
              "      \n",
              "  <style>\n",
              "    .colab-df-container {\n",
              "      display:flex;\n",
              "      flex-wrap:wrap;\n",
              "      gap: 12px;\n",
              "    }\n",
              "\n",
              "    .colab-df-convert {\n",
              "      background-color: #E8F0FE;\n",
              "      border: none;\n",
              "      border-radius: 50%;\n",
              "      cursor: pointer;\n",
              "      display: none;\n",
              "      fill: #1967D2;\n",
              "      height: 32px;\n",
              "      padding: 0 0 0 0;\n",
              "      width: 32px;\n",
              "    }\n",
              "\n",
              "    .colab-df-convert:hover {\n",
              "      background-color: #E2EBFA;\n",
              "      box-shadow: 0px 1px 2px rgba(60, 64, 67, 0.3), 0px 1px 3px 1px rgba(60, 64, 67, 0.15);\n",
              "      fill: #174EA6;\n",
              "    }\n",
              "\n",
              "    [theme=dark] .colab-df-convert {\n",
              "      background-color: #3B4455;\n",
              "      fill: #D2E3FC;\n",
              "    }\n",
              "\n",
              "    [theme=dark] .colab-df-convert:hover {\n",
              "      background-color: #434B5C;\n",
              "      box-shadow: 0px 1px 3px 1px rgba(0, 0, 0, 0.15);\n",
              "      filter: drop-shadow(0px 1px 2px rgba(0, 0, 0, 0.3));\n",
              "      fill: #FFFFFF;\n",
              "    }\n",
              "  </style>\n",
              "\n",
              "      <script>\n",
              "        const buttonEl =\n",
              "          document.querySelector('#df-d75b0778-1717-4862-81b5-2f54178c4409 button.colab-df-convert');\n",
              "        buttonEl.style.display =\n",
              "          google.colab.kernel.accessAllowed ? 'block' : 'none';\n",
              "\n",
              "        async function convertToInteractive(key) {\n",
              "          const element = document.querySelector('#df-d75b0778-1717-4862-81b5-2f54178c4409');\n",
              "          const dataTable =\n",
              "            await google.colab.kernel.invokeFunction('convertToInteractive',\n",
              "                                                     [key], {});\n",
              "          if (!dataTable) return;\n",
              "\n",
              "          const docLinkHtml = 'Like what you see? Visit the ' +\n",
              "            '<a target=\"_blank\" href=https://colab.research.google.com/notebooks/data_table.ipynb>data table notebook</a>'\n",
              "            + ' to learn more about interactive tables.';\n",
              "          element.innerHTML = '';\n",
              "          dataTable['output_type'] = 'display_data';\n",
              "          await google.colab.output.renderOutput(dataTable, element);\n",
              "          const docLink = document.createElement('div');\n",
              "          docLink.innerHTML = docLinkHtml;\n",
              "          element.appendChild(docLink);\n",
              "        }\n",
              "      </script>\n",
              "    </div>\n",
              "  </div>\n",
              "  "
            ]
          },
          "metadata": {},
          "execution_count": 21
        }
      ]
    },
    {
      "cell_type": "code",
      "source": [
        "dados_ceaps[\"DATA\"] = [x.replace('Companhia Aérea: AVIANCA, Localizador: ZNEU9F. Passageiros: EDUARDO ALVES DO AMORIM (Matrícula 234312, PARLAMENTAR), Voo: 6223 - ARACAJU/BRASÍLIA - 24/08/2015;', '24/08/2015') for x in dados_ceaps[\"DATA\"]]\n",
        "dados_ceaps[\"DATA\"] = [x.replace('Companhia Aérea: TAM, Localizador: YXGDSJ. Passageiros: JOSÉ SILVIO MONTEIRO (Matrícula 188223, COMISSIONADO), Voo: 3538 - BRASÍLIA/ARACAJU - 07/08/2015;', '07/08/2015') for x in dados_ceaps[\"DATA\"]]"
      ],
      "metadata": {
        "id": "Lqnzboppg0MZ"
      },
      "execution_count": 22,
      "outputs": []
    },
    {
      "cell_type": "markdown",
      "source": [
        "* O restante dos valores das duas linhas parecem estar preenchidos com números possivelmente reais.\n",
        "\n",
        "* Entretando, alguns dos anos fornecidos sequer estão dentro das margens aceitas pelo datetime e podem gerar erros em uma conversão direta."
      ],
      "metadata": {
        "id": "CDI1GUPVgSIk"
      }
    },
    {
      "cell_type": "markdown",
      "source": [
        "#### Datas com valores muito aquém do que poderia ser possível"
      ],
      "metadata": {
        "id": "gnYXNwVpV0xk"
      }
    },
    {
      "cell_type": "code",
      "source": [
        "dados_ceaps['DATA'].str[6:].value_counts()"
      ],
      "metadata": {
        "colab": {
          "base_uri": "https://localhost:8080/"
        },
        "id": "A-ak1_-thgGH",
        "outputId": "1c28071d-2074-4066-d0c3-fdf9fc0a8619"
      },
      "execution_count": 23,
      "outputs": [
        {
          "output_type": "execute_result",
          "data": {
            "text/plain": [
              "2012    30215\n",
              "2013    29290\n",
              "2017    27111\n",
              "2016    26786\n",
              "2015    26005\n",
              "2011    25513\n",
              "2018    24399\n",
              "2014    22009\n",
              "2019    21683\n",
              "2021    16847\n",
              "2020    14003\n",
              "2022     9799\n",
              "2010       32\n",
              "2001       23\n",
              "2002       12\n",
              "2106        6\n",
              "2007        4\n",
              "0201        3\n",
              "1962        2\n",
              "2041        2\n",
              "0215        2\n",
              "1201        2\n",
              "2105        2\n",
              "2004        2\n",
              "0202        2\n",
              "2023        1\n",
              "2003        1\n",
              "1956        1\n",
              "1965        1\n",
              "5201        1\n",
              "1980        1\n",
              "5015        1\n",
              "2915        1\n",
              "0217        1\n",
              "1986        1\n",
              "0206        1\n",
              "1977        1\n",
              "0200        1\n",
              "0216        1\n",
              "3016        1\n",
              "5017        1\n",
              "2101        1\n",
              "2107        1\n",
              "1017        1\n",
              "0208        1\n",
              "1957        1\n",
              "0219        1\n",
              "2009        1\n",
              "1901        1\n",
              "Name: DATA, dtype: int64"
            ]
          },
          "metadata": {},
          "execution_count": 23
        }
      ]
    },
    {
      "cell_type": "code",
      "source": [
        "dados_ceaps['ANO_INT_TEMP'] = pd.to_numeric(dados_ceaps['DATA'].str[6:])\n",
        "dados_ceaps.info()"
      ],
      "metadata": {
        "colab": {
          "base_uri": "https://localhost:8080/"
        },
        "id": "2og_Gn4FlpDJ",
        "outputId": "0ba66c1f-c08e-4572-f100-c161c2e665cd"
      },
      "execution_count": 24,
      "outputs": [
        {
          "output_type": "stream",
          "name": "stdout",
          "text": [
            "<class 'pandas.core.frame.DataFrame'>\n",
            "Int64Index: 273778 entries, 0 to 25573\n",
            "Data columns (total 12 columns):\n",
            " #   Column             Non-Null Count   Dtype  \n",
            "---  ------             --------------   -----  \n",
            " 0   ANO                273778 non-null  int64  \n",
            " 1   MES                273778 non-null  int64  \n",
            " 2   SENADOR            273778 non-null  object \n",
            " 3   TIPO_DESPESA       273778 non-null  object \n",
            " 4   CNPJ_CPF           273778 non-null  object \n",
            " 5   FORNECEDOR         273778 non-null  object \n",
            " 6   DOCUMENTO          255029 non-null  object \n",
            " 7   DATA               273778 non-null  object \n",
            " 8   DETALHAMENTO       176747 non-null  object \n",
            " 9   VALOR_REEMBOLSADO  273778 non-null  float64\n",
            " 10  COD_DOCUMENTO      273776 non-null  float64\n",
            " 11  ANO_INT_TEMP       273778 non-null  int64  \n",
            "dtypes: float64(2), int64(3), object(7)\n",
            "memory usage: 27.2+ MB\n"
          ]
        }
      ]
    },
    {
      "cell_type": "code",
      "source": [
        "index_ano_invalido_maiores = dados_ceaps['ANO_INT_TEMP'] > 2261\n",
        "dados_ceaps[index_ano_invalido_maiores]"
      ],
      "metadata": {
        "colab": {
          "base_uri": "https://localhost:8080/",
          "height": 0
        },
        "id": "XCcwkj78mDWV",
        "outputId": "8248b77a-28bf-48c3-d38a-9cfb0657ee3f"
      },
      "execution_count": 25,
      "outputs": [
        {
          "output_type": "execute_result",
          "data": {
            "text/plain": [
              "        ANO  MES             SENADOR  \\\n",
              "2191   2016   10    ARMANDO MONTEIRO   \n",
              "12438  2016    4       JOSÉ MEDEIROS   \n",
              "10358  2015   10  JOÃO ALBERTO SOUZA   \n",
              "12179  2015    4       JOSÉ MEDEIROS   \n",
              "22966  2015    5       TELMÁRIO MOTA   \n",
              "\n",
              "                                            TIPO_DESPESA            CNPJ_CPF  \\\n",
              "2191   Aluguel de imóveis para escritório político, c...  41.054.867/0001-07   \n",
              "12438  Locomoção, hospedagem, alimentação, combustíve...  12.262.251/0001-23   \n",
              "10358  Passagens aéreas, aquáticas e terrestres nacio...  16.978.175/0001-08   \n",
              "12179  Passagens aéreas, aquáticas e terrestres nacio...  16.978.175/0001-08   \n",
              "22966  Passagens aéreas, aquáticas e terrestres nacio...  12.795.601/0001-17   \n",
              "\n",
              "                             FORNECEDOR   DOCUMENTO        DATA  \\\n",
              "2191                Jadan Office Center  1101610021  20/07/5017   \n",
              "12438             HOTEL GRAN ODARA LTDA       65509  02/04/3016   \n",
              "10358      ADRIA VIAGENS E TURISMO LTDA         NaN  06/10/2915   \n",
              "12179                     ADRIA VIAGENS         NaN  24/02/5015   \n",
              "22966  GLOBAL VIAGENS EVENTOS E TURISMO      010/15  08/05/5201   \n",
              "\n",
              "                                            DETALHAMENTO  VALOR_REEMBOLSADO  \\\n",
              "2191   Taxa de condomínio do escritório parlamentar, ...             811.89   \n",
              "12438                             despesa com hospedagem             259.90   \n",
              "10358  Companhia Aérea: GOL, Localizador: HF2VJM. Pas...             993.46   \n",
              "12179  Companhia Aérea: AVIANCA, Localizador: 42BZ8L....             821.25   \n",
              "22966  Companhia Aérea: TAM, Localizador: 5MHYZ3. Pas...            2659.35   \n",
              "\n",
              "       COD_DOCUMENTO  ANO_INT_TEMP  \n",
              "2191       2050224.0          5017  \n",
              "12438      2034257.0          3016  \n",
              "10358      2029364.0          2915  \n",
              "12179      2011103.0          5015  \n",
              "22966      2007486.0          5201  "
            ],
            "text/html": [
              "\n",
              "  <div id=\"df-1fe09f40-055b-4c01-900a-6575734643c9\">\n",
              "    <div class=\"colab-df-container\">\n",
              "      <div>\n",
              "<style scoped>\n",
              "    .dataframe tbody tr th:only-of-type {\n",
              "        vertical-align: middle;\n",
              "    }\n",
              "\n",
              "    .dataframe tbody tr th {\n",
              "        vertical-align: top;\n",
              "    }\n",
              "\n",
              "    .dataframe thead th {\n",
              "        text-align: right;\n",
              "    }\n",
              "</style>\n",
              "<table border=\"1\" class=\"dataframe\">\n",
              "  <thead>\n",
              "    <tr style=\"text-align: right;\">\n",
              "      <th></th>\n",
              "      <th>ANO</th>\n",
              "      <th>MES</th>\n",
              "      <th>SENADOR</th>\n",
              "      <th>TIPO_DESPESA</th>\n",
              "      <th>CNPJ_CPF</th>\n",
              "      <th>FORNECEDOR</th>\n",
              "      <th>DOCUMENTO</th>\n",
              "      <th>DATA</th>\n",
              "      <th>DETALHAMENTO</th>\n",
              "      <th>VALOR_REEMBOLSADO</th>\n",
              "      <th>COD_DOCUMENTO</th>\n",
              "      <th>ANO_INT_TEMP</th>\n",
              "    </tr>\n",
              "  </thead>\n",
              "  <tbody>\n",
              "    <tr>\n",
              "      <th>2191</th>\n",
              "      <td>2016</td>\n",
              "      <td>10</td>\n",
              "      <td>ARMANDO MONTEIRO</td>\n",
              "      <td>Aluguel de imóveis para escritório político, c...</td>\n",
              "      <td>41.054.867/0001-07</td>\n",
              "      <td>Jadan Office Center</td>\n",
              "      <td>1101610021</td>\n",
              "      <td>20/07/5017</td>\n",
              "      <td>Taxa de condomínio do escritório parlamentar, ...</td>\n",
              "      <td>811.89</td>\n",
              "      <td>2050224.0</td>\n",
              "      <td>5017</td>\n",
              "    </tr>\n",
              "    <tr>\n",
              "      <th>12438</th>\n",
              "      <td>2016</td>\n",
              "      <td>4</td>\n",
              "      <td>JOSÉ MEDEIROS</td>\n",
              "      <td>Locomoção, hospedagem, alimentação, combustíve...</td>\n",
              "      <td>12.262.251/0001-23</td>\n",
              "      <td>HOTEL GRAN ODARA LTDA</td>\n",
              "      <td>65509</td>\n",
              "      <td>02/04/3016</td>\n",
              "      <td>despesa com hospedagem</td>\n",
              "      <td>259.90</td>\n",
              "      <td>2034257.0</td>\n",
              "      <td>3016</td>\n",
              "    </tr>\n",
              "    <tr>\n",
              "      <th>10358</th>\n",
              "      <td>2015</td>\n",
              "      <td>10</td>\n",
              "      <td>JOÃO ALBERTO SOUZA</td>\n",
              "      <td>Passagens aéreas, aquáticas e terrestres nacio...</td>\n",
              "      <td>16.978.175/0001-08</td>\n",
              "      <td>ADRIA VIAGENS E TURISMO LTDA</td>\n",
              "      <td>NaN</td>\n",
              "      <td>06/10/2915</td>\n",
              "      <td>Companhia Aérea: GOL, Localizador: HF2VJM. Pas...</td>\n",
              "      <td>993.46</td>\n",
              "      <td>2029364.0</td>\n",
              "      <td>2915</td>\n",
              "    </tr>\n",
              "    <tr>\n",
              "      <th>12179</th>\n",
              "      <td>2015</td>\n",
              "      <td>4</td>\n",
              "      <td>JOSÉ MEDEIROS</td>\n",
              "      <td>Passagens aéreas, aquáticas e terrestres nacio...</td>\n",
              "      <td>16.978.175/0001-08</td>\n",
              "      <td>ADRIA VIAGENS</td>\n",
              "      <td>NaN</td>\n",
              "      <td>24/02/5015</td>\n",
              "      <td>Companhia Aérea: AVIANCA, Localizador: 42BZ8L....</td>\n",
              "      <td>821.25</td>\n",
              "      <td>2011103.0</td>\n",
              "      <td>5015</td>\n",
              "    </tr>\n",
              "    <tr>\n",
              "      <th>22966</th>\n",
              "      <td>2015</td>\n",
              "      <td>5</td>\n",
              "      <td>TELMÁRIO MOTA</td>\n",
              "      <td>Passagens aéreas, aquáticas e terrestres nacio...</td>\n",
              "      <td>12.795.601/0001-17</td>\n",
              "      <td>GLOBAL VIAGENS EVENTOS E TURISMO</td>\n",
              "      <td>010/15</td>\n",
              "      <td>08/05/5201</td>\n",
              "      <td>Companhia Aérea: TAM, Localizador: 5MHYZ3. Pas...</td>\n",
              "      <td>2659.35</td>\n",
              "      <td>2007486.0</td>\n",
              "      <td>5201</td>\n",
              "    </tr>\n",
              "  </tbody>\n",
              "</table>\n",
              "</div>\n",
              "      <button class=\"colab-df-convert\" onclick=\"convertToInteractive('df-1fe09f40-055b-4c01-900a-6575734643c9')\"\n",
              "              title=\"Convert this dataframe to an interactive table.\"\n",
              "              style=\"display:none;\">\n",
              "        \n",
              "  <svg xmlns=\"http://www.w3.org/2000/svg\" height=\"24px\"viewBox=\"0 0 24 24\"\n",
              "       width=\"24px\">\n",
              "    <path d=\"M0 0h24v24H0V0z\" fill=\"none\"/>\n",
              "    <path d=\"M18.56 5.44l.94 2.06.94-2.06 2.06-.94-2.06-.94-.94-2.06-.94 2.06-2.06.94zm-11 1L8.5 8.5l.94-2.06 2.06-.94-2.06-.94L8.5 2.5l-.94 2.06-2.06.94zm10 10l.94 2.06.94-2.06 2.06-.94-2.06-.94-.94-2.06-.94 2.06-2.06.94z\"/><path d=\"M17.41 7.96l-1.37-1.37c-.4-.4-.92-.59-1.43-.59-.52 0-1.04.2-1.43.59L10.3 9.45l-7.72 7.72c-.78.78-.78 2.05 0 2.83L4 21.41c.39.39.9.59 1.41.59.51 0 1.02-.2 1.41-.59l7.78-7.78 2.81-2.81c.8-.78.8-2.07 0-2.86zM5.41 20L4 18.59l7.72-7.72 1.47 1.35L5.41 20z\"/>\n",
              "  </svg>\n",
              "      </button>\n",
              "      \n",
              "  <style>\n",
              "    .colab-df-container {\n",
              "      display:flex;\n",
              "      flex-wrap:wrap;\n",
              "      gap: 12px;\n",
              "    }\n",
              "\n",
              "    .colab-df-convert {\n",
              "      background-color: #E8F0FE;\n",
              "      border: none;\n",
              "      border-radius: 50%;\n",
              "      cursor: pointer;\n",
              "      display: none;\n",
              "      fill: #1967D2;\n",
              "      height: 32px;\n",
              "      padding: 0 0 0 0;\n",
              "      width: 32px;\n",
              "    }\n",
              "\n",
              "    .colab-df-convert:hover {\n",
              "      background-color: #E2EBFA;\n",
              "      box-shadow: 0px 1px 2px rgba(60, 64, 67, 0.3), 0px 1px 3px 1px rgba(60, 64, 67, 0.15);\n",
              "      fill: #174EA6;\n",
              "    }\n",
              "\n",
              "    [theme=dark] .colab-df-convert {\n",
              "      background-color: #3B4455;\n",
              "      fill: #D2E3FC;\n",
              "    }\n",
              "\n",
              "    [theme=dark] .colab-df-convert:hover {\n",
              "      background-color: #434B5C;\n",
              "      box-shadow: 0px 1px 3px 1px rgba(0, 0, 0, 0.15);\n",
              "      filter: drop-shadow(0px 1px 2px rgba(0, 0, 0, 0.3));\n",
              "      fill: #FFFFFF;\n",
              "    }\n",
              "  </style>\n",
              "\n",
              "      <script>\n",
              "        const buttonEl =\n",
              "          document.querySelector('#df-1fe09f40-055b-4c01-900a-6575734643c9 button.colab-df-convert');\n",
              "        buttonEl.style.display =\n",
              "          google.colab.kernel.accessAllowed ? 'block' : 'none';\n",
              "\n",
              "        async function convertToInteractive(key) {\n",
              "          const element = document.querySelector('#df-1fe09f40-055b-4c01-900a-6575734643c9');\n",
              "          const dataTable =\n",
              "            await google.colab.kernel.invokeFunction('convertToInteractive',\n",
              "                                                     [key], {});\n",
              "          if (!dataTable) return;\n",
              "\n",
              "          const docLinkHtml = 'Like what you see? Visit the ' +\n",
              "            '<a target=\"_blank\" href=https://colab.research.google.com/notebooks/data_table.ipynb>data table notebook</a>'\n",
              "            + ' to learn more about interactive tables.';\n",
              "          element.innerHTML = '';\n",
              "          dataTable['output_type'] = 'display_data';\n",
              "          await google.colab.output.renderOutput(dataTable, element);\n",
              "          const docLink = document.createElement('div');\n",
              "          docLink.innerHTML = docLinkHtml;\n",
              "          element.appendChild(docLink);\n",
              "        }\n",
              "      </script>\n",
              "    </div>\n",
              "  </div>\n",
              "  "
            ]
          },
          "metadata": {},
          "execution_count": 25
        }
      ]
    },
    {
      "cell_type": "code",
      "source": [
        "index_ano_invalido_menores = dados_ceaps['ANO_INT_TEMP'] < 1677\n",
        "display(dados_ceaps[index_ano_invalido_menores])"
      ],
      "metadata": {
        "colab": {
          "base_uri": "https://localhost:8080/",
          "height": 0
        },
        "id": "GrstbglMqAmQ",
        "outputId": "36f20a37-b0a9-479c-b193-56fdaff75f69"
      },
      "execution_count": 26,
      "outputs": [
        {
          "output_type": "display_data",
          "data": {
            "text/plain": [
              "        ANO  MES         SENADOR  \\\n",
              "2148   2021   11    CARLOS VIANA   \n",
              "10362  2020    5  PLÍNIO VALÉRIO   \n",
              "10986  2019    1     LÚCIA VÂNIA   \n",
              "13941  2018    3     LÚCIA VÂNIA   \n",
              "16559  2018   11      PAULO PAIM   \n",
              "6613   2017   12   ELMANO FÉRRER   \n",
              "15747  2017   11     LÚCIA VÂNIA   \n",
              "15978  2017   11     MAGNO MALTA   \n",
              "18527  2017    3     PAULO ROCHA   \n",
              "26445  2017    3   ZEZÉ PERRELLA   \n",
              "13618  2016    4      JOSÉ SERRA   \n",
              "13733  2016   10     KÁTIA ABREU   \n",
              "17978  2016   10      PAULO PAIM   \n",
              "11826  2015    8   JOSÉ AGRIPINO   \n",
              "18561  2015    4     PAULO ROCHA   \n",
              "18565  2015    4     PAULO ROCHA   \n",
              "\n",
              "                                            TIPO_DESPESA            CNPJ_CPF  \\\n",
              "2148   Passagens aéreas, aquáticas e terrestres nacio...  16.978.175/0001-08   \n",
              "10362                Divulgação da atividade parlamentar  27.209.437/0001-96   \n",
              "10986  Aluguel de imóveis para escritório político, c...  08.573.731/0001-38   \n",
              "13941  Aluguel de imóveis para escritório político, c...  02.266.468/0001-58   \n",
              "16559  Locomoção, hospedagem, alimentação, combustíve...  22.484.857/0001-67   \n",
              "6613   Aluguel de imóveis para escritório político, c...  06.277.571/0001-54   \n",
              "15747  Locomoção, hospedagem, alimentação, combustíve...  02.072.286/0006-50   \n",
              "15978  Aluguel de imóveis para escritório político, c...  02.558.157/0001-62   \n",
              "18527  Passagens aéreas, aquáticas e terrestres nacio...  07.575.651/0001-59   \n",
              "26445  Passagens aéreas, aquáticas e terrestres nacio...  33.937.681/0001-78   \n",
              "13618  Locomoção, hospedagem, alimentação, combustíve...  52.791.571/0001-95   \n",
              "13733  Locomoção, hospedagem, alimentação, combustíve...  56.548.779/0001-39   \n",
              "17978  Passagens aéreas, aquáticas e terrestres nacio...  33.937.681/0001-78   \n",
              "11826                      Serviços de Segurança Privada  10.209.529/0001-73   \n",
              "18561  Passagens aéreas, aquáticas e terrestres nacio...  02.012.862/0001-60   \n",
              "18565  Passagens aéreas, aquáticas e terrestres nacio...  07.575.651/0001-59   \n",
              "\n",
              "                                              FORNECEDOR    DOCUMENTO  \\\n",
              "2148                        ADRIA VIAGENS E TURISMO LTDA       YK1QHD   \n",
              "10362                 Excelsior Comunicação Digital Ltda       2020/9   \n",
              "10986  LDE Contabilidade e Administração de Condomíni...      0107007   \n",
              "13941                                   URBS Imobiliária       177528   \n",
              "16559                  Britim Combustíveis Eirelli - EPP       108199   \n",
              "6613                       IMOBILIÁRIA SANTA CLARA LTDA.        73859   \n",
              "15747                         Petroil Combustívels Ltda.         5021   \n",
              "15978                             Telefonica Brasil S.A.  05162707630   \n",
              "18527                             VRG Linhas Aereas S.A.       PKIP6Q   \n",
              "26445                                              LATAM       3WI7U2   \n",
              "13618                         A Ferreira Automóveis LTDA       541327   \n",
              "13733  Transamérica Comercial e Serviços Ltda SCP La ...     00038600   \n",
              "17978                                              LATAM       5HJBB4   \n",
              "11826        Branco Oliveira Limpeza e Conservação Ltda.          034   \n",
              "18561                              TAM Linhas Aéreas S.A       XGUHHW   \n",
              "18565                             VRG Linhas Aereas S.A.       THIEUG   \n",
              "\n",
              "             DATA                                       DETALHAMENTO  \\\n",
              "2148   29/10/0202  Companhia Aérea: AZUL, Localizador: YK1QHD. Pa...   \n",
              "10362  05/05/0202                                                NaN   \n",
              "10986  31/01/0219                                   Taxa condominial   \n",
              "13941  09/05/0208  Pagamento de taxa de aluguel referente ao imóv...   \n",
              "16559  16/11/1201  Aquisição de combustível para veículos utiliza...   \n",
              "6613   06/02/1017  DESPESA COM PAGAMENTO DE ALUGUEL DO ESCRITÓRIO...   \n",
              "15747  30/11/1201  Aquisição de combustível para veículo utilizad...   \n",
              "15978  09/11/0201  Despesa com imóvel político: pagamento de tele...   \n",
              "18527  02/03/0201  Companhia Aérea: GOL, Localizador: PKIP6Q. Pas...   \n",
              "26445  13/02/0217  Companhia Aérea: LATAM, Localizador: 3WI7U2. P...   \n",
              "13618  04/04/0216  Senador José Serra - Aquisição de combustível ...   \n",
              "13733  31/10/0200  Hospedagem (R$ 648,44) e alimentação (R$ 40,00...   \n",
              "17978  31/10/0206  Companhia Aérea: LATAM, Localizador: 5HJBB4. P...   \n",
              "11826  26/08/0201                                                NaN   \n",
              "18561  22/04/0215  Companhia Aérea: TAM, Localizador: XGUHHW. Pas...   \n",
              "18565  23/04/0215  Companhia Aérea: GOL, Localizador: THIEUG. Pas...   \n",
              "\n",
              "       VALOR_REEMBOLSADO  COD_DOCUMENTO  ANO_INT_TEMP  \n",
              "2148              339.90      2169237.0           202  \n",
              "10362            1150.00      2144535.0           202  \n",
              "10986             271.26      2114251.0           219  \n",
              "13941            1200.00      2096075.0           208  \n",
              "16559             100.00      2111217.0          1201  \n",
              "6613             2973.45      2083148.0          1017  \n",
              "15747             100.00      2084741.0          1201  \n",
              "15978             421.28      2084537.0           201  \n",
              "18527             731.79      2060535.0           201  \n",
              "26445             430.51      2062578.0           217  \n",
              "13618             158.58      2036344.0           216  \n",
              "13733             688.44      2051549.0           200  \n",
              "17978            1860.79      2051216.0           206  \n",
              "11826            4029.11      2016913.0           201  \n",
              "18561             853.93      2008125.0           215  \n",
              "18565             813.93      2008124.0           215  "
            ],
            "text/html": [
              "\n",
              "  <div id=\"df-5e286a9a-feef-4743-b5d2-7f2ff4825d5e\">\n",
              "    <div class=\"colab-df-container\">\n",
              "      <div>\n",
              "<style scoped>\n",
              "    .dataframe tbody tr th:only-of-type {\n",
              "        vertical-align: middle;\n",
              "    }\n",
              "\n",
              "    .dataframe tbody tr th {\n",
              "        vertical-align: top;\n",
              "    }\n",
              "\n",
              "    .dataframe thead th {\n",
              "        text-align: right;\n",
              "    }\n",
              "</style>\n",
              "<table border=\"1\" class=\"dataframe\">\n",
              "  <thead>\n",
              "    <tr style=\"text-align: right;\">\n",
              "      <th></th>\n",
              "      <th>ANO</th>\n",
              "      <th>MES</th>\n",
              "      <th>SENADOR</th>\n",
              "      <th>TIPO_DESPESA</th>\n",
              "      <th>CNPJ_CPF</th>\n",
              "      <th>FORNECEDOR</th>\n",
              "      <th>DOCUMENTO</th>\n",
              "      <th>DATA</th>\n",
              "      <th>DETALHAMENTO</th>\n",
              "      <th>VALOR_REEMBOLSADO</th>\n",
              "      <th>COD_DOCUMENTO</th>\n",
              "      <th>ANO_INT_TEMP</th>\n",
              "    </tr>\n",
              "  </thead>\n",
              "  <tbody>\n",
              "    <tr>\n",
              "      <th>2148</th>\n",
              "      <td>2021</td>\n",
              "      <td>11</td>\n",
              "      <td>CARLOS VIANA</td>\n",
              "      <td>Passagens aéreas, aquáticas e terrestres nacio...</td>\n",
              "      <td>16.978.175/0001-08</td>\n",
              "      <td>ADRIA VIAGENS E TURISMO LTDA</td>\n",
              "      <td>YK1QHD</td>\n",
              "      <td>29/10/0202</td>\n",
              "      <td>Companhia Aérea: AZUL, Localizador: YK1QHD. Pa...</td>\n",
              "      <td>339.90</td>\n",
              "      <td>2169237.0</td>\n",
              "      <td>202</td>\n",
              "    </tr>\n",
              "    <tr>\n",
              "      <th>10362</th>\n",
              "      <td>2020</td>\n",
              "      <td>5</td>\n",
              "      <td>PLÍNIO VALÉRIO</td>\n",
              "      <td>Divulgação da atividade parlamentar</td>\n",
              "      <td>27.209.437/0001-96</td>\n",
              "      <td>Excelsior Comunicação Digital Ltda</td>\n",
              "      <td>2020/9</td>\n",
              "      <td>05/05/0202</td>\n",
              "      <td>NaN</td>\n",
              "      <td>1150.00</td>\n",
              "      <td>2144535.0</td>\n",
              "      <td>202</td>\n",
              "    </tr>\n",
              "    <tr>\n",
              "      <th>10986</th>\n",
              "      <td>2019</td>\n",
              "      <td>1</td>\n",
              "      <td>LÚCIA VÂNIA</td>\n",
              "      <td>Aluguel de imóveis para escritório político, c...</td>\n",
              "      <td>08.573.731/0001-38</td>\n",
              "      <td>LDE Contabilidade e Administração de Condomíni...</td>\n",
              "      <td>0107007</td>\n",
              "      <td>31/01/0219</td>\n",
              "      <td>Taxa condominial</td>\n",
              "      <td>271.26</td>\n",
              "      <td>2114251.0</td>\n",
              "      <td>219</td>\n",
              "    </tr>\n",
              "    <tr>\n",
              "      <th>13941</th>\n",
              "      <td>2018</td>\n",
              "      <td>3</td>\n",
              "      <td>LÚCIA VÂNIA</td>\n",
              "      <td>Aluguel de imóveis para escritório político, c...</td>\n",
              "      <td>02.266.468/0001-58</td>\n",
              "      <td>URBS Imobiliária</td>\n",
              "      <td>177528</td>\n",
              "      <td>09/05/0208</td>\n",
              "      <td>Pagamento de taxa de aluguel referente ao imóv...</td>\n",
              "      <td>1200.00</td>\n",
              "      <td>2096075.0</td>\n",
              "      <td>208</td>\n",
              "    </tr>\n",
              "    <tr>\n",
              "      <th>16559</th>\n",
              "      <td>2018</td>\n",
              "      <td>11</td>\n",
              "      <td>PAULO PAIM</td>\n",
              "      <td>Locomoção, hospedagem, alimentação, combustíve...</td>\n",
              "      <td>22.484.857/0001-67</td>\n",
              "      <td>Britim Combustíveis Eirelli - EPP</td>\n",
              "      <td>108199</td>\n",
              "      <td>16/11/1201</td>\n",
              "      <td>Aquisição de combustível para veículos utiliza...</td>\n",
              "      <td>100.00</td>\n",
              "      <td>2111217.0</td>\n",
              "      <td>1201</td>\n",
              "    </tr>\n",
              "    <tr>\n",
              "      <th>6613</th>\n",
              "      <td>2017</td>\n",
              "      <td>12</td>\n",
              "      <td>ELMANO FÉRRER</td>\n",
              "      <td>Aluguel de imóveis para escritório político, c...</td>\n",
              "      <td>06.277.571/0001-54</td>\n",
              "      <td>IMOBILIÁRIA SANTA CLARA LTDA.</td>\n",
              "      <td>73859</td>\n",
              "      <td>06/02/1017</td>\n",
              "      <td>DESPESA COM PAGAMENTO DE ALUGUEL DO ESCRITÓRIO...</td>\n",
              "      <td>2973.45</td>\n",
              "      <td>2083148.0</td>\n",
              "      <td>1017</td>\n",
              "    </tr>\n",
              "    <tr>\n",
              "      <th>15747</th>\n",
              "      <td>2017</td>\n",
              "      <td>11</td>\n",
              "      <td>LÚCIA VÂNIA</td>\n",
              "      <td>Locomoção, hospedagem, alimentação, combustíve...</td>\n",
              "      <td>02.072.286/0006-50</td>\n",
              "      <td>Petroil Combustívels Ltda.</td>\n",
              "      <td>5021</td>\n",
              "      <td>30/11/1201</td>\n",
              "      <td>Aquisição de combustível para veículo utilizad...</td>\n",
              "      <td>100.00</td>\n",
              "      <td>2084741.0</td>\n",
              "      <td>1201</td>\n",
              "    </tr>\n",
              "    <tr>\n",
              "      <th>15978</th>\n",
              "      <td>2017</td>\n",
              "      <td>11</td>\n",
              "      <td>MAGNO MALTA</td>\n",
              "      <td>Aluguel de imóveis para escritório político, c...</td>\n",
              "      <td>02.558.157/0001-62</td>\n",
              "      <td>Telefonica Brasil S.A.</td>\n",
              "      <td>05162707630</td>\n",
              "      <td>09/11/0201</td>\n",
              "      <td>Despesa com imóvel político: pagamento de tele...</td>\n",
              "      <td>421.28</td>\n",
              "      <td>2084537.0</td>\n",
              "      <td>201</td>\n",
              "    </tr>\n",
              "    <tr>\n",
              "      <th>18527</th>\n",
              "      <td>2017</td>\n",
              "      <td>3</td>\n",
              "      <td>PAULO ROCHA</td>\n",
              "      <td>Passagens aéreas, aquáticas e terrestres nacio...</td>\n",
              "      <td>07.575.651/0001-59</td>\n",
              "      <td>VRG Linhas Aereas S.A.</td>\n",
              "      <td>PKIP6Q</td>\n",
              "      <td>02/03/0201</td>\n",
              "      <td>Companhia Aérea: GOL, Localizador: PKIP6Q. Pas...</td>\n",
              "      <td>731.79</td>\n",
              "      <td>2060535.0</td>\n",
              "      <td>201</td>\n",
              "    </tr>\n",
              "    <tr>\n",
              "      <th>26445</th>\n",
              "      <td>2017</td>\n",
              "      <td>3</td>\n",
              "      <td>ZEZÉ PERRELLA</td>\n",
              "      <td>Passagens aéreas, aquáticas e terrestres nacio...</td>\n",
              "      <td>33.937.681/0001-78</td>\n",
              "      <td>LATAM</td>\n",
              "      <td>3WI7U2</td>\n",
              "      <td>13/02/0217</td>\n",
              "      <td>Companhia Aérea: LATAM, Localizador: 3WI7U2. P...</td>\n",
              "      <td>430.51</td>\n",
              "      <td>2062578.0</td>\n",
              "      <td>217</td>\n",
              "    </tr>\n",
              "    <tr>\n",
              "      <th>13618</th>\n",
              "      <td>2016</td>\n",
              "      <td>4</td>\n",
              "      <td>JOSÉ SERRA</td>\n",
              "      <td>Locomoção, hospedagem, alimentação, combustíve...</td>\n",
              "      <td>52.791.571/0001-95</td>\n",
              "      <td>A Ferreira Automóveis LTDA</td>\n",
              "      <td>541327</td>\n",
              "      <td>04/04/0216</td>\n",
              "      <td>Senador José Serra - Aquisição de combustível ...</td>\n",
              "      <td>158.58</td>\n",
              "      <td>2036344.0</td>\n",
              "      <td>216</td>\n",
              "    </tr>\n",
              "    <tr>\n",
              "      <th>13733</th>\n",
              "      <td>2016</td>\n",
              "      <td>10</td>\n",
              "      <td>KÁTIA ABREU</td>\n",
              "      <td>Locomoção, hospedagem, alimentação, combustíve...</td>\n",
              "      <td>56.548.779/0001-39</td>\n",
              "      <td>Transamérica Comercial e Serviços Ltda SCP La ...</td>\n",
              "      <td>00038600</td>\n",
              "      <td>31/10/0200</td>\n",
              "      <td>Hospedagem (R$ 648,44) e alimentação (R$ 40,00...</td>\n",
              "      <td>688.44</td>\n",
              "      <td>2051549.0</td>\n",
              "      <td>200</td>\n",
              "    </tr>\n",
              "    <tr>\n",
              "      <th>17978</th>\n",
              "      <td>2016</td>\n",
              "      <td>10</td>\n",
              "      <td>PAULO PAIM</td>\n",
              "      <td>Passagens aéreas, aquáticas e terrestres nacio...</td>\n",
              "      <td>33.937.681/0001-78</td>\n",
              "      <td>LATAM</td>\n",
              "      <td>5HJBB4</td>\n",
              "      <td>31/10/0206</td>\n",
              "      <td>Companhia Aérea: LATAM, Localizador: 5HJBB4. P...</td>\n",
              "      <td>1860.79</td>\n",
              "      <td>2051216.0</td>\n",
              "      <td>206</td>\n",
              "    </tr>\n",
              "    <tr>\n",
              "      <th>11826</th>\n",
              "      <td>2015</td>\n",
              "      <td>8</td>\n",
              "      <td>JOSÉ AGRIPINO</td>\n",
              "      <td>Serviços de Segurança Privada</td>\n",
              "      <td>10.209.529/0001-73</td>\n",
              "      <td>Branco Oliveira Limpeza e Conservação Ltda.</td>\n",
              "      <td>034</td>\n",
              "      <td>26/08/0201</td>\n",
              "      <td>NaN</td>\n",
              "      <td>4029.11</td>\n",
              "      <td>2016913.0</td>\n",
              "      <td>201</td>\n",
              "    </tr>\n",
              "    <tr>\n",
              "      <th>18561</th>\n",
              "      <td>2015</td>\n",
              "      <td>4</td>\n",
              "      <td>PAULO ROCHA</td>\n",
              "      <td>Passagens aéreas, aquáticas e terrestres nacio...</td>\n",
              "      <td>02.012.862/0001-60</td>\n",
              "      <td>TAM Linhas Aéreas S.A</td>\n",
              "      <td>XGUHHW</td>\n",
              "      <td>22/04/0215</td>\n",
              "      <td>Companhia Aérea: TAM, Localizador: XGUHHW. Pas...</td>\n",
              "      <td>853.93</td>\n",
              "      <td>2008125.0</td>\n",
              "      <td>215</td>\n",
              "    </tr>\n",
              "    <tr>\n",
              "      <th>18565</th>\n",
              "      <td>2015</td>\n",
              "      <td>4</td>\n",
              "      <td>PAULO ROCHA</td>\n",
              "      <td>Passagens aéreas, aquáticas e terrestres nacio...</td>\n",
              "      <td>07.575.651/0001-59</td>\n",
              "      <td>VRG Linhas Aereas S.A.</td>\n",
              "      <td>THIEUG</td>\n",
              "      <td>23/04/0215</td>\n",
              "      <td>Companhia Aérea: GOL, Localizador: THIEUG. Pas...</td>\n",
              "      <td>813.93</td>\n",
              "      <td>2008124.0</td>\n",
              "      <td>215</td>\n",
              "    </tr>\n",
              "  </tbody>\n",
              "</table>\n",
              "</div>\n",
              "      <button class=\"colab-df-convert\" onclick=\"convertToInteractive('df-5e286a9a-feef-4743-b5d2-7f2ff4825d5e')\"\n",
              "              title=\"Convert this dataframe to an interactive table.\"\n",
              "              style=\"display:none;\">\n",
              "        \n",
              "  <svg xmlns=\"http://www.w3.org/2000/svg\" height=\"24px\"viewBox=\"0 0 24 24\"\n",
              "       width=\"24px\">\n",
              "    <path d=\"M0 0h24v24H0V0z\" fill=\"none\"/>\n",
              "    <path d=\"M18.56 5.44l.94 2.06.94-2.06 2.06-.94-2.06-.94-.94-2.06-.94 2.06-2.06.94zm-11 1L8.5 8.5l.94-2.06 2.06-.94-2.06-.94L8.5 2.5l-.94 2.06-2.06.94zm10 10l.94 2.06.94-2.06 2.06-.94-2.06-.94-.94-2.06-.94 2.06-2.06.94z\"/><path d=\"M17.41 7.96l-1.37-1.37c-.4-.4-.92-.59-1.43-.59-.52 0-1.04.2-1.43.59L10.3 9.45l-7.72 7.72c-.78.78-.78 2.05 0 2.83L4 21.41c.39.39.9.59 1.41.59.51 0 1.02-.2 1.41-.59l7.78-7.78 2.81-2.81c.8-.78.8-2.07 0-2.86zM5.41 20L4 18.59l7.72-7.72 1.47 1.35L5.41 20z\"/>\n",
              "  </svg>\n",
              "      </button>\n",
              "      \n",
              "  <style>\n",
              "    .colab-df-container {\n",
              "      display:flex;\n",
              "      flex-wrap:wrap;\n",
              "      gap: 12px;\n",
              "    }\n",
              "\n",
              "    .colab-df-convert {\n",
              "      background-color: #E8F0FE;\n",
              "      border: none;\n",
              "      border-radius: 50%;\n",
              "      cursor: pointer;\n",
              "      display: none;\n",
              "      fill: #1967D2;\n",
              "      height: 32px;\n",
              "      padding: 0 0 0 0;\n",
              "      width: 32px;\n",
              "    }\n",
              "\n",
              "    .colab-df-convert:hover {\n",
              "      background-color: #E2EBFA;\n",
              "      box-shadow: 0px 1px 2px rgba(60, 64, 67, 0.3), 0px 1px 3px 1px rgba(60, 64, 67, 0.15);\n",
              "      fill: #174EA6;\n",
              "    }\n",
              "\n",
              "    [theme=dark] .colab-df-convert {\n",
              "      background-color: #3B4455;\n",
              "      fill: #D2E3FC;\n",
              "    }\n",
              "\n",
              "    [theme=dark] .colab-df-convert:hover {\n",
              "      background-color: #434B5C;\n",
              "      box-shadow: 0px 1px 3px 1px rgba(0, 0, 0, 0.15);\n",
              "      filter: drop-shadow(0px 1px 2px rgba(0, 0, 0, 0.3));\n",
              "      fill: #FFFFFF;\n",
              "    }\n",
              "  </style>\n",
              "\n",
              "      <script>\n",
              "        const buttonEl =\n",
              "          document.querySelector('#df-5e286a9a-feef-4743-b5d2-7f2ff4825d5e button.colab-df-convert');\n",
              "        buttonEl.style.display =\n",
              "          google.colab.kernel.accessAllowed ? 'block' : 'none';\n",
              "\n",
              "        async function convertToInteractive(key) {\n",
              "          const element = document.querySelector('#df-5e286a9a-feef-4743-b5d2-7f2ff4825d5e');\n",
              "          const dataTable =\n",
              "            await google.colab.kernel.invokeFunction('convertToInteractive',\n",
              "                                                     [key], {});\n",
              "          if (!dataTable) return;\n",
              "\n",
              "          const docLinkHtml = 'Like what you see? Visit the ' +\n",
              "            '<a target=\"_blank\" href=https://colab.research.google.com/notebooks/data_table.ipynb>data table notebook</a>'\n",
              "            + ' to learn more about interactive tables.';\n",
              "          element.innerHTML = '';\n",
              "          dataTable['output_type'] = 'display_data';\n",
              "          await google.colab.output.renderOutput(dataTable, element);\n",
              "          const docLink = document.createElement('div');\n",
              "          docLink.innerHTML = docLinkHtml;\n",
              "          element.appendChild(docLink);\n",
              "        }\n",
              "      </script>\n",
              "    </div>\n",
              "  </div>\n",
              "  "
            ]
          },
          "metadata": {}
        }
      ]
    },
    {
      "cell_type": "code",
      "source": [
        "dados_ceaps[index_ano_invalido_maiores]['DETALHAMENTO'].values"
      ],
      "metadata": {
        "colab": {
          "base_uri": "https://localhost:8080/"
        },
        "id": "D9O0rD7Jn7kw",
        "outputId": "2f5bde4f-ab7e-496a-ea27-db7f8b0bfd44"
      },
      "execution_count": 27,
      "outputs": [
        {
          "output_type": "execute_result",
          "data": {
            "text/plain": [
              "array(['Taxa de condomínio do escritório parlamentar, sala 1002, Recife/PE.',\n",
              "       'despesa com hospedagem',\n",
              "       'Companhia Aérea: GOL, Localizador: HF2VJM. Passageiros: JOÃO ALBERTO DE SOUZA (Matrícula 147907, PARLAMENTAR), Voo: 1912 - BRASILIA/ SAO LUIS - 15/10/2015;',\n",
              "       'Companhia Aérea: AVIANCA, Localizador: 42BZ8L. Passageiros: JOSÉ ANTONIO DOS SANTOS MEDEIROS (Matrícula 295775, PARLAMENTAR), Voo: 6186 - CUIABÁ/BRASILIA - 26/04/2015;',\n",
              "       'Companhia Aérea: TAM, Localizador: 5MHYZ3. Passageiros: TELMARIO MOTA DE OLIVEIRA (Matrícula 175459, PARLAMENTAR), Voo: 4675 - BVB-BSB - 11/05/2015;'],\n",
              "      dtype=object)"
            ]
          },
          "metadata": {},
          "execution_count": 27
        }
      ]
    },
    {
      "cell_type": "code",
      "source": [
        "dados_ceaps[index_ano_invalido_menores]['DETALHAMENTO'].values"
      ],
      "metadata": {
        "colab": {
          "base_uri": "https://localhost:8080/"
        },
        "id": "kM8AbJRuqJAD",
        "outputId": "b59a6251-2008-4420-8b55-955ba58bb870"
      },
      "execution_count": 28,
      "outputs": [
        {
          "output_type": "execute_result",
          "data": {
            "text/plain": [
              "array(['Companhia Aérea: AZUL, Localizador: YK1QHD. Passageiros: CARLOS ALBERTO DIAS VIANA (Matrícula 341463, PARLAMENTAR), Voo: 4126 - CNF-BSB - 28/11/2021;',\n",
              "       nan, 'Taxa condominial',\n",
              "       'Pagamento de taxa de aluguel referente ao imóvel destinado ao escritório político.',\n",
              "       'Aquisição de combustível para veículos utilizados na atividade parlamentar.',\n",
              "       'DESPESA COM PAGAMENTO DE ALUGUEL DO ESCRITÓRIO DE APOIO DO SENADOR ELMANO FÉRRER NO PIAUÍ.',\n",
              "       'Aquisição de combustível para veículo utilizado na atividade parlamentar.',\n",
              "       'Despesa com imóvel político: pagamento de telefone fixo',\n",
              "       'Companhia Aérea: GOL, Localizador: PKIP6Q. Passageiros: MARISA ALVES ROMAO (Matrícula 312359, COMISSIONADO), Voo: 1749 - MARABÁ/BELÉM - 06/03/2017;',\n",
              "       'Companhia Aérea: LATAM, Localizador: 3WI7U2. Passageiros: VANESSA COSTA GUIMARÃES DE CARVALHO (Matrícula 252168, COMISSIONADO), Voo: 3349 - BSB/CNF - 23/03/2017; VANESSA COSTA GUIMARÃES DE CARVALHO (Matrícula 252168, COMISSIONADO), Voo: 3496 - CNF/BSB - 27/03/2017;',\n",
              "       'Senador José Serra - Aquisição de combustível para veículo utilizado na atividade parlamentar no Estado.',\n",
              "       'Hospedagem (R$ 648,44) e alimentação (R$ 40,00) para a senadora em atividade parlamentar.',\n",
              "       'Companhia Aérea: LATAM, Localizador: 5HJBB4. Passageiros: PAULO RENATO PAIM (Matrícula 161278, PARLAMENTAR), Voo: 3057 - BRASÍLIA - PORTO ALEGRE - 20/10/2016;',\n",
              "       nan,\n",
              "       'Companhia Aérea: TAM, Localizador: XGUHHW. Passageiros: JOÃO BATISTA BARBOSA DA SILVA (Matrícula 192688, COMISSIONADO), Voo: 1978 - BRASÍLIA/BELÉM - 23/04/2015;',\n",
              "       'Companhia Aérea: GOL, Localizador: THIEUG. Passageiros: PAULO ROBERTO GALVÃO DA ROCHA (Matrícula 296263, PARLAMENTAR), Voo: 1978 - BRASÍLIA/BELÉM - 23/04/2015;'],\n",
              "      dtype=object)"
            ]
          },
          "metadata": {},
          "execution_count": 28
        }
      ]
    },
    {
      "cell_type": "code",
      "source": [
        "dados_ceaps.drop(columns = ['ANO_INT_TEMP'], inplace = True)"
      ],
      "metadata": {
        "id": "SVl4zg2sJPcb"
      },
      "execution_count": 29,
      "outputs": []
    },
    {
      "cell_type": "markdown",
      "source": [
        "* Nem todos os textos encontrados no Detalhamento indicam a data real do gasto, além de exigirem um tratamento específico linha a linha."
      ],
      "metadata": {
        "id": "vP9kk8nvWIok"
      }
    },
    {
      "cell_type": "markdown",
      "source": [
        "### Composição da data de requisição de reembolso"
      ],
      "metadata": {
        "id": "M-1-qdcnCrEx"
      }
    },
    {
      "cell_type": "markdown",
      "source": [
        "* Todas as datas estarão concentradas no primeiro dia do mês, a data de requisição do reembolso não está completa no dataset."
      ],
      "metadata": {
        "id": "MrH2g-bZWoFU"
      }
    },
    {
      "cell_type": "code",
      "source": [
        "dados_ceaps['MES'] = dados_ceaps['MES'].astype('str')\n",
        "dados_ceaps['ANO'] = dados_ceaps['ANO'].astype('str')\n",
        "\n",
        "dados_ceaps['DATA_REQUISICAO'] = dados_ceaps['MES'].str.zfill(2) + '/' + dados_ceaps['ANO']\n",
        "dados_ceaps['DATA_REQUISICAO'] = pd.to_datetime(dados_ceaps['DATA_REQUISICAO'])\n",
        "\n",
        "dados_ceaps['MES'] = dados_ceaps['MES'].astype('int')\n",
        "dados_ceaps['ANO'] = dados_ceaps['ANO'].astype('int')\n",
        "\n",
        "dados_ceaps.head()"
      ],
      "metadata": {
        "colab": {
          "base_uri": "https://localhost:8080/",
          "height": 0
        },
        "id": "-6Ho-m6FwUl-",
        "outputId": "caa5b804-4c48-42f6-98a0-c65117f191f1"
      },
      "execution_count": 30,
      "outputs": [
        {
          "output_type": "execute_result",
          "data": {
            "text/plain": [
              "    ANO  MES       SENADOR                                       TIPO_DESPESA  \\\n",
              "0  2022    1  ACIR GURGACZ  Aluguel de imóveis para escritório político, c...   \n",
              "1  2022    1  ACIR GURGACZ                Divulgação da atividade parlamentar   \n",
              "2  2022    1  ACIR GURGACZ                Divulgação da atividade parlamentar   \n",
              "3  2022    1  ACIR GURGACZ                Divulgação da atividade parlamentar   \n",
              "4  2022    1  ACIR GURGACZ                Divulgação da atividade parlamentar   \n",
              "\n",
              "             CNPJ_CPF                                         FORNECEDOR  \\\n",
              "0      004.948.028-63                      GILBERTO PISELO DO NASCIMENTO   \n",
              "1  26.320.603/0001-64                                      INFORMANAHORA   \n",
              "2  13.659.201/0001-47                    LINHA PURPURA FOTO E VIDEO LTDA   \n",
              "3  23.652.846/0001-01                  ROBERTO GUTIERREZ DA ROCHA M.E.I.   \n",
              "4  08.941.827/0001-01  RONDONIA DINÂMICA COM. E SERV. DE INFORMÁTICA ...   \n",
              "\n",
              "           DOCUMENTO        DATA  \\\n",
              "0             001/22  03/01/2022   \n",
              "1  000000000000310/A  04/01/2022   \n",
              "2                107  14/01/2022   \n",
              "3                187  18/01/2022   \n",
              "4  000000000001772/A  17/01/2022   \n",
              "\n",
              "                                        DETALHAMENTO  VALOR_REEMBOLSADO  \\\n",
              "0  Despesa com pagamento de aluguel de imóvel par...             6000.0   \n",
              "1  Despesa com divulgação da atividade parlamenta...             1500.0   \n",
              "2  Despesa com produção de texto e edição de víde...             6000.0   \n",
              "3                Divulgação da atividade parlamentar             1000.0   \n",
              "4                Divulgação da atividade parlamentar             2000.0   \n",
              "\n",
              "   COD_DOCUMENTO DATA_REQUISICAO  \n",
              "0      2173614.0      2022-01-01  \n",
              "1      2173615.0      2022-01-01  \n",
              "2      2173616.0      2022-01-01  \n",
              "3      2173618.0      2022-01-01  \n",
              "4      2173617.0      2022-01-01  "
            ],
            "text/html": [
              "\n",
              "  <div id=\"df-305ad8b3-7bc3-4a68-ae20-02f6dcaf769e\">\n",
              "    <div class=\"colab-df-container\">\n",
              "      <div>\n",
              "<style scoped>\n",
              "    .dataframe tbody tr th:only-of-type {\n",
              "        vertical-align: middle;\n",
              "    }\n",
              "\n",
              "    .dataframe tbody tr th {\n",
              "        vertical-align: top;\n",
              "    }\n",
              "\n",
              "    .dataframe thead th {\n",
              "        text-align: right;\n",
              "    }\n",
              "</style>\n",
              "<table border=\"1\" class=\"dataframe\">\n",
              "  <thead>\n",
              "    <tr style=\"text-align: right;\">\n",
              "      <th></th>\n",
              "      <th>ANO</th>\n",
              "      <th>MES</th>\n",
              "      <th>SENADOR</th>\n",
              "      <th>TIPO_DESPESA</th>\n",
              "      <th>CNPJ_CPF</th>\n",
              "      <th>FORNECEDOR</th>\n",
              "      <th>DOCUMENTO</th>\n",
              "      <th>DATA</th>\n",
              "      <th>DETALHAMENTO</th>\n",
              "      <th>VALOR_REEMBOLSADO</th>\n",
              "      <th>COD_DOCUMENTO</th>\n",
              "      <th>DATA_REQUISICAO</th>\n",
              "    </tr>\n",
              "  </thead>\n",
              "  <tbody>\n",
              "    <tr>\n",
              "      <th>0</th>\n",
              "      <td>2022</td>\n",
              "      <td>1</td>\n",
              "      <td>ACIR GURGACZ</td>\n",
              "      <td>Aluguel de imóveis para escritório político, c...</td>\n",
              "      <td>004.948.028-63</td>\n",
              "      <td>GILBERTO PISELO DO NASCIMENTO</td>\n",
              "      <td>001/22</td>\n",
              "      <td>03/01/2022</td>\n",
              "      <td>Despesa com pagamento de aluguel de imóvel par...</td>\n",
              "      <td>6000.0</td>\n",
              "      <td>2173614.0</td>\n",
              "      <td>2022-01-01</td>\n",
              "    </tr>\n",
              "    <tr>\n",
              "      <th>1</th>\n",
              "      <td>2022</td>\n",
              "      <td>1</td>\n",
              "      <td>ACIR GURGACZ</td>\n",
              "      <td>Divulgação da atividade parlamentar</td>\n",
              "      <td>26.320.603/0001-64</td>\n",
              "      <td>INFORMANAHORA</td>\n",
              "      <td>000000000000310/A</td>\n",
              "      <td>04/01/2022</td>\n",
              "      <td>Despesa com divulgação da atividade parlamenta...</td>\n",
              "      <td>1500.0</td>\n",
              "      <td>2173615.0</td>\n",
              "      <td>2022-01-01</td>\n",
              "    </tr>\n",
              "    <tr>\n",
              "      <th>2</th>\n",
              "      <td>2022</td>\n",
              "      <td>1</td>\n",
              "      <td>ACIR GURGACZ</td>\n",
              "      <td>Divulgação da atividade parlamentar</td>\n",
              "      <td>13.659.201/0001-47</td>\n",
              "      <td>LINHA PURPURA FOTO E VIDEO LTDA</td>\n",
              "      <td>107</td>\n",
              "      <td>14/01/2022</td>\n",
              "      <td>Despesa com produção de texto e edição de víde...</td>\n",
              "      <td>6000.0</td>\n",
              "      <td>2173616.0</td>\n",
              "      <td>2022-01-01</td>\n",
              "    </tr>\n",
              "    <tr>\n",
              "      <th>3</th>\n",
              "      <td>2022</td>\n",
              "      <td>1</td>\n",
              "      <td>ACIR GURGACZ</td>\n",
              "      <td>Divulgação da atividade parlamentar</td>\n",
              "      <td>23.652.846/0001-01</td>\n",
              "      <td>ROBERTO GUTIERREZ DA ROCHA M.E.I.</td>\n",
              "      <td>187</td>\n",
              "      <td>18/01/2022</td>\n",
              "      <td>Divulgação da atividade parlamentar</td>\n",
              "      <td>1000.0</td>\n",
              "      <td>2173618.0</td>\n",
              "      <td>2022-01-01</td>\n",
              "    </tr>\n",
              "    <tr>\n",
              "      <th>4</th>\n",
              "      <td>2022</td>\n",
              "      <td>1</td>\n",
              "      <td>ACIR GURGACZ</td>\n",
              "      <td>Divulgação da atividade parlamentar</td>\n",
              "      <td>08.941.827/0001-01</td>\n",
              "      <td>RONDONIA DINÂMICA COM. E SERV. DE INFORMÁTICA ...</td>\n",
              "      <td>000000000001772/A</td>\n",
              "      <td>17/01/2022</td>\n",
              "      <td>Divulgação da atividade parlamentar</td>\n",
              "      <td>2000.0</td>\n",
              "      <td>2173617.0</td>\n",
              "      <td>2022-01-01</td>\n",
              "    </tr>\n",
              "  </tbody>\n",
              "</table>\n",
              "</div>\n",
              "      <button class=\"colab-df-convert\" onclick=\"convertToInteractive('df-305ad8b3-7bc3-4a68-ae20-02f6dcaf769e')\"\n",
              "              title=\"Convert this dataframe to an interactive table.\"\n",
              "              style=\"display:none;\">\n",
              "        \n",
              "  <svg xmlns=\"http://www.w3.org/2000/svg\" height=\"24px\"viewBox=\"0 0 24 24\"\n",
              "       width=\"24px\">\n",
              "    <path d=\"M0 0h24v24H0V0z\" fill=\"none\"/>\n",
              "    <path d=\"M18.56 5.44l.94 2.06.94-2.06 2.06-.94-2.06-.94-.94-2.06-.94 2.06-2.06.94zm-11 1L8.5 8.5l.94-2.06 2.06-.94-2.06-.94L8.5 2.5l-.94 2.06-2.06.94zm10 10l.94 2.06.94-2.06 2.06-.94-2.06-.94-.94-2.06-.94 2.06-2.06.94z\"/><path d=\"M17.41 7.96l-1.37-1.37c-.4-.4-.92-.59-1.43-.59-.52 0-1.04.2-1.43.59L10.3 9.45l-7.72 7.72c-.78.78-.78 2.05 0 2.83L4 21.41c.39.39.9.59 1.41.59.51 0 1.02-.2 1.41-.59l7.78-7.78 2.81-2.81c.8-.78.8-2.07 0-2.86zM5.41 20L4 18.59l7.72-7.72 1.47 1.35L5.41 20z\"/>\n",
              "  </svg>\n",
              "      </button>\n",
              "      \n",
              "  <style>\n",
              "    .colab-df-container {\n",
              "      display:flex;\n",
              "      flex-wrap:wrap;\n",
              "      gap: 12px;\n",
              "    }\n",
              "\n",
              "    .colab-df-convert {\n",
              "      background-color: #E8F0FE;\n",
              "      border: none;\n",
              "      border-radius: 50%;\n",
              "      cursor: pointer;\n",
              "      display: none;\n",
              "      fill: #1967D2;\n",
              "      height: 32px;\n",
              "      padding: 0 0 0 0;\n",
              "      width: 32px;\n",
              "    }\n",
              "\n",
              "    .colab-df-convert:hover {\n",
              "      background-color: #E2EBFA;\n",
              "      box-shadow: 0px 1px 2px rgba(60, 64, 67, 0.3), 0px 1px 3px 1px rgba(60, 64, 67, 0.15);\n",
              "      fill: #174EA6;\n",
              "    }\n",
              "\n",
              "    [theme=dark] .colab-df-convert {\n",
              "      background-color: #3B4455;\n",
              "      fill: #D2E3FC;\n",
              "    }\n",
              "\n",
              "    [theme=dark] .colab-df-convert:hover {\n",
              "      background-color: #434B5C;\n",
              "      box-shadow: 0px 1px 3px 1px rgba(0, 0, 0, 0.15);\n",
              "      filter: drop-shadow(0px 1px 2px rgba(0, 0, 0, 0.3));\n",
              "      fill: #FFFFFF;\n",
              "    }\n",
              "  </style>\n",
              "\n",
              "      <script>\n",
              "        const buttonEl =\n",
              "          document.querySelector('#df-305ad8b3-7bc3-4a68-ae20-02f6dcaf769e button.colab-df-convert');\n",
              "        buttonEl.style.display =\n",
              "          google.colab.kernel.accessAllowed ? 'block' : 'none';\n",
              "\n",
              "        async function convertToInteractive(key) {\n",
              "          const element = document.querySelector('#df-305ad8b3-7bc3-4a68-ae20-02f6dcaf769e');\n",
              "          const dataTable =\n",
              "            await google.colab.kernel.invokeFunction('convertToInteractive',\n",
              "                                                     [key], {});\n",
              "          if (!dataTable) return;\n",
              "\n",
              "          const docLinkHtml = 'Like what you see? Visit the ' +\n",
              "            '<a target=\"_blank\" href=https://colab.research.google.com/notebooks/data_table.ipynb>data table notebook</a>'\n",
              "            + ' to learn more about interactive tables.';\n",
              "          element.innerHTML = '';\n",
              "          dataTable['output_type'] = 'display_data';\n",
              "          await google.colab.output.renderOutput(dataTable, element);\n",
              "          const docLink = document.createElement('div');\n",
              "          docLink.innerHTML = docLinkHtml;\n",
              "          element.appendChild(docLink);\n",
              "        }\n",
              "      </script>\n",
              "    </div>\n",
              "  </div>\n",
              "  "
            ]
          },
          "metadata": {},
          "execution_count": 30
        }
      ]
    },
    {
      "cell_type": "code",
      "source": [
        "dados_ceaps.info()"
      ],
      "metadata": {
        "colab": {
          "base_uri": "https://localhost:8080/"
        },
        "id": "idU7aArWCflY",
        "outputId": "f454ec21-9658-4143-baa9-97369282224d"
      },
      "execution_count": 31,
      "outputs": [
        {
          "output_type": "stream",
          "name": "stdout",
          "text": [
            "<class 'pandas.core.frame.DataFrame'>\n",
            "Int64Index: 273778 entries, 0 to 25573\n",
            "Data columns (total 12 columns):\n",
            " #   Column             Non-Null Count   Dtype         \n",
            "---  ------             --------------   -----         \n",
            " 0   ANO                273778 non-null  int64         \n",
            " 1   MES                273778 non-null  int64         \n",
            " 2   SENADOR            273778 non-null  object        \n",
            " 3   TIPO_DESPESA       273778 non-null  object        \n",
            " 4   CNPJ_CPF           273778 non-null  object        \n",
            " 5   FORNECEDOR         273778 non-null  object        \n",
            " 6   DOCUMENTO          255029 non-null  object        \n",
            " 7   DATA               273778 non-null  object        \n",
            " 8   DETALHAMENTO       176747 non-null  object        \n",
            " 9   VALOR_REEMBOLSADO  273778 non-null  float64       \n",
            " 10  COD_DOCUMENTO      273776 non-null  float64       \n",
            " 11  DATA_REQUISICAO    273778 non-null  datetime64[ns]\n",
            "dtypes: datetime64[ns](1), float64(2), int64(2), object(7)\n",
            "memory usage: 27.2+ MB\n"
          ]
        }
      ]
    },
    {
      "cell_type": "markdown",
      "source": [
        "### Tratamento de valores nulos"
      ],
      "metadata": {
        "id": "S9LEepgNZC7C"
      }
    },
    {
      "cell_type": "markdown",
      "source": [
        "* Como o dataset já possui textos com acentuação, optei por não evitá-la."
      ],
      "metadata": {
        "id": "8mVnTqlFZaqd"
      }
    },
    {
      "cell_type": "code",
      "source": [
        "dados_ceaps['COD_DOCUMENTO'] = dados_ceaps['COD_DOCUMENTO'].fillna('Não informado')\n",
        "dados_ceaps['DOCUMENTO'] = dados_ceaps['DOCUMENTO'].fillna('Não informado')\n",
        "dados_ceaps['DETALHAMENTO'] = dados_ceaps['DETALHAMENTO'].fillna('Não informado')"
      ],
      "metadata": {
        "id": "7OoiDdjgZGBm"
      },
      "execution_count": 32,
      "outputs": []
    },
    {
      "cell_type": "code",
      "source": [
        "dados_ceaps.isnull().any()"
      ],
      "metadata": {
        "colab": {
          "base_uri": "https://localhost:8080/"
        },
        "id": "zvtQomauZzWq",
        "outputId": "e049f415-96ac-4913-85bb-d2b64a3fd1ba"
      },
      "execution_count": 33,
      "outputs": [
        {
          "output_type": "execute_result",
          "data": {
            "text/plain": [
              "ANO                  False\n",
              "MES                  False\n",
              "SENADOR              False\n",
              "TIPO_DESPESA         False\n",
              "CNPJ_CPF             False\n",
              "FORNECEDOR           False\n",
              "DOCUMENTO            False\n",
              "DATA                 False\n",
              "DETALHAMENTO         False\n",
              "VALOR_REEMBOLSADO    False\n",
              "COD_DOCUMENTO        False\n",
              "DATA_REQUISICAO      False\n",
              "dtype: bool"
            ]
          },
          "metadata": {},
          "execution_count": 33
        }
      ]
    },
    {
      "cell_type": "markdown",
      "source": [
        "### Verificação de valores inconsistentes de reembolso"
      ],
      "metadata": {
        "id": "qpVw1QPHZ72K"
      }
    },
    {
      "cell_type": "markdown",
      "source": [
        "#### Valores negativos"
      ],
      "metadata": {
        "id": "f6lkkZmua8xs"
      }
    },
    {
      "cell_type": "code",
      "source": [
        "dados_ceaps['VALOR_REEMBOLSADO'].sort_values()"
      ],
      "metadata": {
        "colab": {
          "base_uri": "https://localhost:8080/"
        },
        "id": "k6PLP4HLZ7IJ",
        "outputId": "42428f19-1b3c-4f66-8406-d714c2bbc057"
      },
      "execution_count": 34,
      "outputs": [
        {
          "output_type": "execute_result",
          "data": {
            "text/plain": [
              "8024       -1500.00\n",
              "4384        -243.40\n",
              "18934         -9.00\n",
              "10383          0.01\n",
              "14718          0.01\n",
              "            ...    \n",
              "4432      216780.00\n",
              "4635      256980.00\n",
              "4716      270000.00\n",
              "5922     2014675.00\n",
              "5929     2016557.00\n",
              "Name: VALOR_REEMBOLSADO, Length: 273778, dtype: float64"
            ]
          },
          "metadata": {},
          "execution_count": 34
        }
      ]
    },
    {
      "cell_type": "markdown",
      "source": [
        "* Os valores serão substituídos pelos seus módulos para evitar valores nulos."
      ],
      "metadata": {
        "id": "5HTXT-OFaL-o"
      }
    },
    {
      "cell_type": "code",
      "source": [
        "dados_ceaps['VALOR_REEMBOLSADO'] = abs(dados_ceaps['VALOR_REEMBOLSADO'])"
      ],
      "metadata": {
        "id": "t0M_ox9mazMX"
      },
      "execution_count": 35,
      "outputs": []
    },
    {
      "cell_type": "markdown",
      "source": [
        "#### Valores muito baixos ( < R$ 1,00)"
      ],
      "metadata": {
        "id": "9XQ9P4NnbAMq"
      }
    },
    {
      "cell_type": "code",
      "source": [
        "dados_ceaps['VALOR_REEMBOLSADO'].sort_values()"
      ],
      "metadata": {
        "colab": {
          "base_uri": "https://localhost:8080/"
        },
        "id": "F9f-1q9mbHo_",
        "outputId": "5e320831-41cb-42a3-dd91-bf9563bc3236"
      },
      "execution_count": 36,
      "outputs": [
        {
          "output_type": "execute_result",
          "data": {
            "text/plain": [
              "18767          0.01\n",
              "7391           0.01\n",
              "15             0.01\n",
              "12249          0.01\n",
              "3295           0.01\n",
              "            ...    \n",
              "4432      216780.00\n",
              "4635      256980.00\n",
              "4716      270000.00\n",
              "5922     2014675.00\n",
              "5929     2016557.00\n",
              "Name: VALOR_REEMBOLSADO, Length: 273778, dtype: float64"
            ]
          },
          "metadata": {},
          "execution_count": 36
        }
      ]
    },
    {
      "cell_type": "code",
      "source": [
        "dados_ceaps.query('VALOR_REEMBOLSADO < 1')"
      ],
      "metadata": {
        "colab": {
          "base_uri": "https://localhost:8080/",
          "height": 641
        },
        "id": "mramzVgXbLCs",
        "outputId": "ed548fa4-7074-4211-9f7c-9177bc042ff4"
      },
      "execution_count": 37,
      "outputs": [
        {
          "output_type": "execute_result",
          "data": {
            "text/plain": [
              "        ANO  MES           SENADOR  \\\n",
              "615    2022    1   CARLOS PORTINHO   \n",
              "1686   2022    4      DÁRIO BERGER   \n",
              "5028   2022    7  JEAN PAUL PRATES   \n",
              "1451   2021    8   CARLOS PORTINHO   \n",
              "1485   2021    9   CARLOS PORTINHO   \n",
              "...     ...  ...               ...   \n",
              "29830  2012   10   WELLINGTON DIAS   \n",
              "1397   2011    2          ANA RITA   \n",
              "9599   2011   11      JAYME CAMPOS   \n",
              "12100  2011    5    LÍDICE DA MATA   \n",
              "24972  2011   11   WALTER PINHEIRO   \n",
              "\n",
              "                                            TIPO_DESPESA            CNPJ_CPF  \\\n",
              "615    Passagens aéreas, aquáticas e terrestres nacio...  09.296.295/0001-60   \n",
              "1686   Passagens aéreas, aquáticas e terrestres nacio...  33.937.681/0001-78   \n",
              "5028   Locomoção, hospedagem, alimentação, combustíve...  05.756.905/0001-00   \n",
              "1451   Passagens aéreas, aquáticas e terrestres nacio...  33.937.681/0001-78   \n",
              "1485   Passagens aéreas, aquáticas e terrestres nacio...  09.296.295/0001-60   \n",
              "...                                                  ...                 ...   \n",
              "29830  Locomoção, hospedagem, alimentação, combustíve...  52.378.239/0001-01   \n",
              "1397   Aquisição de material de consumo para uso no e...  34.028.316/8391-97   \n",
              "9599                 Divulgação da atividade parlamentar  05.366.239/0001-01   \n",
              "12100  Aluguel de imóveis para escritório político, c...  15.139.629/0001-94   \n",
              "24972  Locomoção, hospedagem, alimentação, combustíve...  13.578.265/0001-13   \n",
              "\n",
              "                                              FORNECEDOR         DOCUMENTO  \\\n",
              "615                                                 AZUL            MGMLGZ   \n",
              "1686                                               LATAM            TGJGQI   \n",
              "5028                  ASSU COMERCIAL DE PETROLEO EIRELLI            143432   \n",
              "1451                                               LATAM            INOSTW   \n",
              "1485                                                AZUL            YYMQTR   \n",
              "...                                                  ...               ...   \n",
              "29830  COOPERATIVA MISTA DE TRABALHO DOS MOTORISTAS A...            234C16   \n",
              "1397              ECT-EMP.BRAS DE CORREIOS E TELEGRAFOS                 23   \n",
              "9599                                    02 Internet Ltda    48111250300061   \n",
              "12100                                             COELBA         004413252   \n",
              "24972                                    POSTOS MATARIPE  PBO-22111111-001   \n",
              "\n",
              "             DATA                                       DETALHAMENTO  \\\n",
              "615    19/01/2022  Companhia Aérea: AZUL, Localizador: MGMLGZ. Pa...   \n",
              "1686   20/04/2022  Companhia Aérea: LATAM, Localizador: TGJGQI. P...   \n",
              "5028   22/07/2022                                      Não informado   \n",
              "1451   18/08/2021  Companhia Aérea: LATAM, Localizador: INOSTW. P...   \n",
              "1485   27/09/2021  Companhia Aérea: AZUL, Localizador: YYMQTR. Pa...   \n",
              "...           ...                                                ...   \n",
              "29830  15/10/2012                                      Não informado   \n",
              "1397   01/02/2011                                      Não informado   \n",
              "9599   08/11/2011                                      Não informado   \n",
              "12100  27/05/2011                                      Não informado   \n",
              "24972  30/11/2011                                      Não informado   \n",
              "\n",
              "       VALOR_REEMBOLSADO COD_DOCUMENTO DATA_REQUISICAO  \n",
              "615                 0.01     2173057.0      2022-01-01  \n",
              "1686                0.01     2179322.0      2022-04-01  \n",
              "5028                0.03     2184690.0      2022-07-01  \n",
              "1451                0.90     2164842.0      2021-08-01  \n",
              "1485                0.01     2167020.0      2021-09-01  \n",
              "...                  ...           ...             ...  \n",
              "29830               0.40      650779.0      2012-10-01  \n",
              "1397                0.70      389977.0      2011-02-01  \n",
              "9599                0.60      457627.0      2011-11-01  \n",
              "12100               0.40      376454.0      2011-05-01  \n",
              "24972               0.05      476441.0      2011-11-01  \n",
              "\n",
              "[117 rows x 12 columns]"
            ],
            "text/html": [
              "\n",
              "  <div id=\"df-8b11bc43-9c97-4b2f-b8a9-23931e012500\">\n",
              "    <div class=\"colab-df-container\">\n",
              "      <div>\n",
              "<style scoped>\n",
              "    .dataframe tbody tr th:only-of-type {\n",
              "        vertical-align: middle;\n",
              "    }\n",
              "\n",
              "    .dataframe tbody tr th {\n",
              "        vertical-align: top;\n",
              "    }\n",
              "\n",
              "    .dataframe thead th {\n",
              "        text-align: right;\n",
              "    }\n",
              "</style>\n",
              "<table border=\"1\" class=\"dataframe\">\n",
              "  <thead>\n",
              "    <tr style=\"text-align: right;\">\n",
              "      <th></th>\n",
              "      <th>ANO</th>\n",
              "      <th>MES</th>\n",
              "      <th>SENADOR</th>\n",
              "      <th>TIPO_DESPESA</th>\n",
              "      <th>CNPJ_CPF</th>\n",
              "      <th>FORNECEDOR</th>\n",
              "      <th>DOCUMENTO</th>\n",
              "      <th>DATA</th>\n",
              "      <th>DETALHAMENTO</th>\n",
              "      <th>VALOR_REEMBOLSADO</th>\n",
              "      <th>COD_DOCUMENTO</th>\n",
              "      <th>DATA_REQUISICAO</th>\n",
              "    </tr>\n",
              "  </thead>\n",
              "  <tbody>\n",
              "    <tr>\n",
              "      <th>615</th>\n",
              "      <td>2022</td>\n",
              "      <td>1</td>\n",
              "      <td>CARLOS PORTINHO</td>\n",
              "      <td>Passagens aéreas, aquáticas e terrestres nacio...</td>\n",
              "      <td>09.296.295/0001-60</td>\n",
              "      <td>AZUL</td>\n",
              "      <td>MGMLGZ</td>\n",
              "      <td>19/01/2022</td>\n",
              "      <td>Companhia Aérea: AZUL, Localizador: MGMLGZ. Pa...</td>\n",
              "      <td>0.01</td>\n",
              "      <td>2173057.0</td>\n",
              "      <td>2022-01-01</td>\n",
              "    </tr>\n",
              "    <tr>\n",
              "      <th>1686</th>\n",
              "      <td>2022</td>\n",
              "      <td>4</td>\n",
              "      <td>DÁRIO BERGER</td>\n",
              "      <td>Passagens aéreas, aquáticas e terrestres nacio...</td>\n",
              "      <td>33.937.681/0001-78</td>\n",
              "      <td>LATAM</td>\n",
              "      <td>TGJGQI</td>\n",
              "      <td>20/04/2022</td>\n",
              "      <td>Companhia Aérea: LATAM, Localizador: TGJGQI. P...</td>\n",
              "      <td>0.01</td>\n",
              "      <td>2179322.0</td>\n",
              "      <td>2022-04-01</td>\n",
              "    </tr>\n",
              "    <tr>\n",
              "      <th>5028</th>\n",
              "      <td>2022</td>\n",
              "      <td>7</td>\n",
              "      <td>JEAN PAUL PRATES</td>\n",
              "      <td>Locomoção, hospedagem, alimentação, combustíve...</td>\n",
              "      <td>05.756.905/0001-00</td>\n",
              "      <td>ASSU COMERCIAL DE PETROLEO EIRELLI</td>\n",
              "      <td>143432</td>\n",
              "      <td>22/07/2022</td>\n",
              "      <td>Não informado</td>\n",
              "      <td>0.03</td>\n",
              "      <td>2184690.0</td>\n",
              "      <td>2022-07-01</td>\n",
              "    </tr>\n",
              "    <tr>\n",
              "      <th>1451</th>\n",
              "      <td>2021</td>\n",
              "      <td>8</td>\n",
              "      <td>CARLOS PORTINHO</td>\n",
              "      <td>Passagens aéreas, aquáticas e terrestres nacio...</td>\n",
              "      <td>33.937.681/0001-78</td>\n",
              "      <td>LATAM</td>\n",
              "      <td>INOSTW</td>\n",
              "      <td>18/08/2021</td>\n",
              "      <td>Companhia Aérea: LATAM, Localizador: INOSTW. P...</td>\n",
              "      <td>0.90</td>\n",
              "      <td>2164842.0</td>\n",
              "      <td>2021-08-01</td>\n",
              "    </tr>\n",
              "    <tr>\n",
              "      <th>1485</th>\n",
              "      <td>2021</td>\n",
              "      <td>9</td>\n",
              "      <td>CARLOS PORTINHO</td>\n",
              "      <td>Passagens aéreas, aquáticas e terrestres nacio...</td>\n",
              "      <td>09.296.295/0001-60</td>\n",
              "      <td>AZUL</td>\n",
              "      <td>YYMQTR</td>\n",
              "      <td>27/09/2021</td>\n",
              "      <td>Companhia Aérea: AZUL, Localizador: YYMQTR. Pa...</td>\n",
              "      <td>0.01</td>\n",
              "      <td>2167020.0</td>\n",
              "      <td>2021-09-01</td>\n",
              "    </tr>\n",
              "    <tr>\n",
              "      <th>...</th>\n",
              "      <td>...</td>\n",
              "      <td>...</td>\n",
              "      <td>...</td>\n",
              "      <td>...</td>\n",
              "      <td>...</td>\n",
              "      <td>...</td>\n",
              "      <td>...</td>\n",
              "      <td>...</td>\n",
              "      <td>...</td>\n",
              "      <td>...</td>\n",
              "      <td>...</td>\n",
              "      <td>...</td>\n",
              "    </tr>\n",
              "    <tr>\n",
              "      <th>29830</th>\n",
              "      <td>2012</td>\n",
              "      <td>10</td>\n",
              "      <td>WELLINGTON DIAS</td>\n",
              "      <td>Locomoção, hospedagem, alimentação, combustíve...</td>\n",
              "      <td>52.378.239/0001-01</td>\n",
              "      <td>COOPERATIVA MISTA DE TRABALHO DOS MOTORISTAS A...</td>\n",
              "      <td>234C16</td>\n",
              "      <td>15/10/2012</td>\n",
              "      <td>Não informado</td>\n",
              "      <td>0.40</td>\n",
              "      <td>650779.0</td>\n",
              "      <td>2012-10-01</td>\n",
              "    </tr>\n",
              "    <tr>\n",
              "      <th>1397</th>\n",
              "      <td>2011</td>\n",
              "      <td>2</td>\n",
              "      <td>ANA RITA</td>\n",
              "      <td>Aquisição de material de consumo para uso no e...</td>\n",
              "      <td>34.028.316/8391-97</td>\n",
              "      <td>ECT-EMP.BRAS DE CORREIOS E TELEGRAFOS</td>\n",
              "      <td>23</td>\n",
              "      <td>01/02/2011</td>\n",
              "      <td>Não informado</td>\n",
              "      <td>0.70</td>\n",
              "      <td>389977.0</td>\n",
              "      <td>2011-02-01</td>\n",
              "    </tr>\n",
              "    <tr>\n",
              "      <th>9599</th>\n",
              "      <td>2011</td>\n",
              "      <td>11</td>\n",
              "      <td>JAYME CAMPOS</td>\n",
              "      <td>Divulgação da atividade parlamentar</td>\n",
              "      <td>05.366.239/0001-01</td>\n",
              "      <td>02 Internet Ltda</td>\n",
              "      <td>48111250300061</td>\n",
              "      <td>08/11/2011</td>\n",
              "      <td>Não informado</td>\n",
              "      <td>0.60</td>\n",
              "      <td>457627.0</td>\n",
              "      <td>2011-11-01</td>\n",
              "    </tr>\n",
              "    <tr>\n",
              "      <th>12100</th>\n",
              "      <td>2011</td>\n",
              "      <td>5</td>\n",
              "      <td>LÍDICE DA MATA</td>\n",
              "      <td>Aluguel de imóveis para escritório político, c...</td>\n",
              "      <td>15.139.629/0001-94</td>\n",
              "      <td>COELBA</td>\n",
              "      <td>004413252</td>\n",
              "      <td>27/05/2011</td>\n",
              "      <td>Não informado</td>\n",
              "      <td>0.40</td>\n",
              "      <td>376454.0</td>\n",
              "      <td>2011-05-01</td>\n",
              "    </tr>\n",
              "    <tr>\n",
              "      <th>24972</th>\n",
              "      <td>2011</td>\n",
              "      <td>11</td>\n",
              "      <td>WALTER PINHEIRO</td>\n",
              "      <td>Locomoção, hospedagem, alimentação, combustíve...</td>\n",
              "      <td>13.578.265/0001-13</td>\n",
              "      <td>POSTOS MATARIPE</td>\n",
              "      <td>PBO-22111111-001</td>\n",
              "      <td>30/11/2011</td>\n",
              "      <td>Não informado</td>\n",
              "      <td>0.05</td>\n",
              "      <td>476441.0</td>\n",
              "      <td>2011-11-01</td>\n",
              "    </tr>\n",
              "  </tbody>\n",
              "</table>\n",
              "<p>117 rows × 12 columns</p>\n",
              "</div>\n",
              "      <button class=\"colab-df-convert\" onclick=\"convertToInteractive('df-8b11bc43-9c97-4b2f-b8a9-23931e012500')\"\n",
              "              title=\"Convert this dataframe to an interactive table.\"\n",
              "              style=\"display:none;\">\n",
              "        \n",
              "  <svg xmlns=\"http://www.w3.org/2000/svg\" height=\"24px\"viewBox=\"0 0 24 24\"\n",
              "       width=\"24px\">\n",
              "    <path d=\"M0 0h24v24H0V0z\" fill=\"none\"/>\n",
              "    <path d=\"M18.56 5.44l.94 2.06.94-2.06 2.06-.94-2.06-.94-.94-2.06-.94 2.06-2.06.94zm-11 1L8.5 8.5l.94-2.06 2.06-.94-2.06-.94L8.5 2.5l-.94 2.06-2.06.94zm10 10l.94 2.06.94-2.06 2.06-.94-2.06-.94-.94-2.06-.94 2.06-2.06.94z\"/><path d=\"M17.41 7.96l-1.37-1.37c-.4-.4-.92-.59-1.43-.59-.52 0-1.04.2-1.43.59L10.3 9.45l-7.72 7.72c-.78.78-.78 2.05 0 2.83L4 21.41c.39.39.9.59 1.41.59.51 0 1.02-.2 1.41-.59l7.78-7.78 2.81-2.81c.8-.78.8-2.07 0-2.86zM5.41 20L4 18.59l7.72-7.72 1.47 1.35L5.41 20z\"/>\n",
              "  </svg>\n",
              "      </button>\n",
              "      \n",
              "  <style>\n",
              "    .colab-df-container {\n",
              "      display:flex;\n",
              "      flex-wrap:wrap;\n",
              "      gap: 12px;\n",
              "    }\n",
              "\n",
              "    .colab-df-convert {\n",
              "      background-color: #E8F0FE;\n",
              "      border: none;\n",
              "      border-radius: 50%;\n",
              "      cursor: pointer;\n",
              "      display: none;\n",
              "      fill: #1967D2;\n",
              "      height: 32px;\n",
              "      padding: 0 0 0 0;\n",
              "      width: 32px;\n",
              "    }\n",
              "\n",
              "    .colab-df-convert:hover {\n",
              "      background-color: #E2EBFA;\n",
              "      box-shadow: 0px 1px 2px rgba(60, 64, 67, 0.3), 0px 1px 3px 1px rgba(60, 64, 67, 0.15);\n",
              "      fill: #174EA6;\n",
              "    }\n",
              "\n",
              "    [theme=dark] .colab-df-convert {\n",
              "      background-color: #3B4455;\n",
              "      fill: #D2E3FC;\n",
              "    }\n",
              "\n",
              "    [theme=dark] .colab-df-convert:hover {\n",
              "      background-color: #434B5C;\n",
              "      box-shadow: 0px 1px 3px 1px rgba(0, 0, 0, 0.15);\n",
              "      filter: drop-shadow(0px 1px 2px rgba(0, 0, 0, 0.3));\n",
              "      fill: #FFFFFF;\n",
              "    }\n",
              "  </style>\n",
              "\n",
              "      <script>\n",
              "        const buttonEl =\n",
              "          document.querySelector('#df-8b11bc43-9c97-4b2f-b8a9-23931e012500 button.colab-df-convert');\n",
              "        buttonEl.style.display =\n",
              "          google.colab.kernel.accessAllowed ? 'block' : 'none';\n",
              "\n",
              "        async function convertToInteractive(key) {\n",
              "          const element = document.querySelector('#df-8b11bc43-9c97-4b2f-b8a9-23931e012500');\n",
              "          const dataTable =\n",
              "            await google.colab.kernel.invokeFunction('convertToInteractive',\n",
              "                                                     [key], {});\n",
              "          if (!dataTable) return;\n",
              "\n",
              "          const docLinkHtml = 'Like what you see? Visit the ' +\n",
              "            '<a target=\"_blank\" href=https://colab.research.google.com/notebooks/data_table.ipynb>data table notebook</a>'\n",
              "            + ' to learn more about interactive tables.';\n",
              "          element.innerHTML = '';\n",
              "          dataTable['output_type'] = 'display_data';\n",
              "          await google.colab.output.renderOutput(dataTable, element);\n",
              "          const docLink = document.createElement('div');\n",
              "          docLink.innerHTML = docLinkHtml;\n",
              "          element.appendChild(docLink);\n",
              "        }\n",
              "      </script>\n",
              "    </div>\n",
              "  </div>\n",
              "  "
            ]
          },
          "metadata": {},
          "execution_count": 37
        }
      ]
    },
    {
      "cell_type": "markdown",
      "source": [
        "* Há muitas requisições com valores muito baixos e totalmente inconsistentes com o que foi informado no TIPO_DESPESA."
      ],
      "metadata": {
        "id": "lChc3AJLbyAd"
      }
    },
    {
      "cell_type": "markdown",
      "source": [
        "## Salvando arquivo"
      ],
      "metadata": {
        "id": "JVn31Fjaj7Xr"
      }
    },
    {
      "cell_type": "code",
      "source": [
        "# caminho, decimal = ',', encoding = 'latin-1', sep = ';', header = 1\n",
        "dados_ceaps.to_csv('dados_ceaps_2019-2022.csv', index = False, decimal = ',', encoding = 'latin-1')"
      ],
      "metadata": {
        "id": "nixFY2sdj_R4"
      },
      "execution_count": 55,
      "outputs": []
    },
    {
      "cell_type": "markdown",
      "source": [
        "# Abrindo arquivo (iniciar daqui caso já tenha o dataset tratado)"
      ],
      "metadata": {
        "id": "cPTC6bAsniu3"
      }
    },
    {
      "cell_type": "code",
      "source": [
        "# versão do matplotlib 3.4.0 ou superior\n",
        "!pip install matplotlib==3.4.0"
      ],
      "metadata": {
        "id": "gnagiOlBnygu"
      },
      "execution_count": null,
      "outputs": []
    },
    {
      "cell_type": "code",
      "source": [
        "import pandas as pd\n",
        "\n",
        "dados_ceaps = pd.read_csv('/content/drive/MyDrive/Projetos/7 Days Of Code/datasets/dados_ceaps_2019-2022.csv', decimal = ',', encoding = 'latin-1')\n",
        "dados_ceaps['DATA_REQUISICAO'] = pd.to_datetime(dados_ceaps['DATA_REQUISICAO'])\n",
        "dados_ceaps.info()"
      ],
      "metadata": {
        "colab": {
          "base_uri": "https://localhost:8080/"
        },
        "id": "ULwiUrHTkvi7",
        "outputId": "c6e8f66c-8110-4357-e758-1e829bc003a1"
      },
      "execution_count": 4,
      "outputs": [
        {
          "output_type": "stream",
          "name": "stdout",
          "text": [
            "<class 'pandas.core.frame.DataFrame'>\n",
            "RangeIndex: 273778 entries, 0 to 273777\n",
            "Data columns (total 12 columns):\n",
            " #   Column             Non-Null Count   Dtype         \n",
            "---  ------             --------------   -----         \n",
            " 0   ANO                273778 non-null  int64         \n",
            " 1   MES                273778 non-null  int64         \n",
            " 2   SENADOR            273778 non-null  object        \n",
            " 3   TIPO_DESPESA       273778 non-null  object        \n",
            " 4   CNPJ_CPF           273778 non-null  object        \n",
            " 5   FORNECEDOR         273778 non-null  object        \n",
            " 6   DOCUMENTO          273778 non-null  object        \n",
            " 7   DATA               273778 non-null  object        \n",
            " 8   DETALHAMENTO       273778 non-null  object        \n",
            " 9   VALOR_REEMBOLSADO  273778 non-null  float64       \n",
            " 10  COD_DOCUMENTO      273778 non-null  object        \n",
            " 11  DATA_REQUISICAO    273778 non-null  datetime64[ns]\n",
            "dtypes: datetime64[ns](1), float64(1), int64(2), object(8)\n",
            "memory usage: 25.1+ MB\n"
          ]
        }
      ]
    },
    {
      "cell_type": "markdown",
      "source": [
        "# Análises sobre tipos de despesas (2019-2022)"
      ],
      "metadata": {
        "id": "iKoH5qlYDaTu"
      }
    },
    {
      "cell_type": "markdown",
      "source": [
        "## Tipos de despesas"
      ],
      "metadata": {
        "id": "uKlWO7vRD25K"
      }
    },
    {
      "cell_type": "code",
      "source": [
        "dados_ceaps['TIPO_DESPESA'].value_counts()"
      ],
      "metadata": {
        "colab": {
          "base_uri": "https://localhost:8080/"
        },
        "id": "AhY3uV92C0RY",
        "outputId": "9511a1ff-56f4-4658-9aee-cb548a4a9f12"
      },
      "execution_count": 5,
      "outputs": [
        {
          "output_type": "execute_result",
          "data": {
            "text/plain": [
              "Locomoção, hospedagem, alimentação, combustíveis e lubrificantes                                                                                                                                   107810\n",
              "Passagens aéreas, aquáticas e terrestres nacionais                                                                                                                                                  67377\n",
              "Aluguel de imóveis para escritório político, compreendendo despesas concernentes a eles.                                                                                                            53906\n",
              "Aquisição de material de consumo para uso no escritório político, inclusive aquisição ou locação de software, despesas postais, aquisição de publicações, locação de móveis e de equipamentos.      21143\n",
              "Divulgação da atividade parlamentar                                                                                                                                                                 12005\n",
              "Contratação de consultorias, assessorias, pesquisas, trabalhos técnicos e outros serviços de apoio ao exercício do mandato parlamentar                                                              10601\n",
              "Serviços de Segurança Privada                                                                                                                                                                         936\n",
              "Name: TIPO_DESPESA, dtype: int64"
            ]
          },
          "metadata": {},
          "execution_count": 5
        }
      ]
    },
    {
      "cell_type": "code",
      "source": [
        "dados_ceaps.query('ANO >= 2019')['TIPO_DESPESA'].value_counts()"
      ],
      "metadata": {
        "colab": {
          "base_uri": "https://localhost:8080/"
        },
        "id": "gLvxVG0qPUcQ",
        "outputId": "500f670a-db89-435e-a15e-c2c513aa008f"
      },
      "execution_count": 6,
      "outputs": [
        {
          "output_type": "execute_result",
          "data": {
            "text/plain": [
              "Locomoção, hospedagem, alimentação, combustíveis e lubrificantes                                                                                                                                   22696\n",
              "Aluguel de imóveis para escritório político, compreendendo despesas concernentes a eles.                                                                                                           13753\n",
              "Passagens aéreas, aquáticas e terrestres nacionais                                                                                                                                                 13511\n",
              "Aquisição de material de consumo para uso no escritório político, inclusive aquisição ou locação de software, despesas postais, aquisição de publicações, locação de móveis e de equipamentos.      4463\n",
              "Divulgação da atividade parlamentar                                                                                                                                                                 4088\n",
              "Contratação de consultorias, assessorias, pesquisas, trabalhos técnicos e outros serviços de apoio ao exercício do mandato parlamentar                                                              3696\n",
              "Serviços de Segurança Privada                                                                                                                                                                        105\n",
              "Name: TIPO_DESPESA, dtype: int64"
            ]
          },
          "metadata": {},
          "execution_count": 6
        }
      ]
    },
    {
      "cell_type": "markdown",
      "source": [
        "## Despesas mais recorrentes"
      ],
      "metadata": {
        "id": "0LjDO68PEigP"
      }
    },
    {
      "cell_type": "code",
      "source": [
        "recorrencia_despesas = dados_ceaps.query('ANO >= 2019')['TIPO_DESPESA'].value_counts()\n",
        "recorrencia_despesas = pd.DataFrame(data = [recorrencia_despesas.index, recorrencia_despesas.values])\n",
        "recorrencia_despesas = recorrencia_despesas.T.rename(columns = {0:'tipo_despesa', 1:'n_ocorrencias'})\n",
        "recorrencia_despesas"
      ],
      "metadata": {
        "colab": {
          "base_uri": "https://localhost:8080/",
          "height": 269
        },
        "id": "93xfNC1WD8yI",
        "outputId": "0d4be303-02e3-48e7-9029-92b602b6da1b"
      },
      "execution_count": 7,
      "outputs": [
        {
          "output_type": "execute_result",
          "data": {
            "text/plain": [
              "                                        tipo_despesa n_ocorrencias\n",
              "0  Locomoção, hospedagem, alimentação, combustíve...         22696\n",
              "1  Aluguel de imóveis para escritório político, c...         13753\n",
              "2  Passagens aéreas, aquáticas e terrestres nacio...         13511\n",
              "3  Aquisição de material de consumo para uso no e...          4463\n",
              "4                Divulgação da atividade parlamentar          4088\n",
              "5  Contratação de consultorias, assessorias, pesq...          3696\n",
              "6                      Serviços de Segurança Privada           105"
            ],
            "text/html": [
              "\n",
              "  <div id=\"df-dd2cb049-169f-45ce-95f2-6108afd7dae8\">\n",
              "    <div class=\"colab-df-container\">\n",
              "      <div>\n",
              "<style scoped>\n",
              "    .dataframe tbody tr th:only-of-type {\n",
              "        vertical-align: middle;\n",
              "    }\n",
              "\n",
              "    .dataframe tbody tr th {\n",
              "        vertical-align: top;\n",
              "    }\n",
              "\n",
              "    .dataframe thead th {\n",
              "        text-align: right;\n",
              "    }\n",
              "</style>\n",
              "<table border=\"1\" class=\"dataframe\">\n",
              "  <thead>\n",
              "    <tr style=\"text-align: right;\">\n",
              "      <th></th>\n",
              "      <th>tipo_despesa</th>\n",
              "      <th>n_ocorrencias</th>\n",
              "    </tr>\n",
              "  </thead>\n",
              "  <tbody>\n",
              "    <tr>\n",
              "      <th>0</th>\n",
              "      <td>Locomoção, hospedagem, alimentação, combustíve...</td>\n",
              "      <td>22696</td>\n",
              "    </tr>\n",
              "    <tr>\n",
              "      <th>1</th>\n",
              "      <td>Aluguel de imóveis para escritório político, c...</td>\n",
              "      <td>13753</td>\n",
              "    </tr>\n",
              "    <tr>\n",
              "      <th>2</th>\n",
              "      <td>Passagens aéreas, aquáticas e terrestres nacio...</td>\n",
              "      <td>13511</td>\n",
              "    </tr>\n",
              "    <tr>\n",
              "      <th>3</th>\n",
              "      <td>Aquisição de material de consumo para uso no e...</td>\n",
              "      <td>4463</td>\n",
              "    </tr>\n",
              "    <tr>\n",
              "      <th>4</th>\n",
              "      <td>Divulgação da atividade parlamentar</td>\n",
              "      <td>4088</td>\n",
              "    </tr>\n",
              "    <tr>\n",
              "      <th>5</th>\n",
              "      <td>Contratação de consultorias, assessorias, pesq...</td>\n",
              "      <td>3696</td>\n",
              "    </tr>\n",
              "    <tr>\n",
              "      <th>6</th>\n",
              "      <td>Serviços de Segurança Privada</td>\n",
              "      <td>105</td>\n",
              "    </tr>\n",
              "  </tbody>\n",
              "</table>\n",
              "</div>\n",
              "      <button class=\"colab-df-convert\" onclick=\"convertToInteractive('df-dd2cb049-169f-45ce-95f2-6108afd7dae8')\"\n",
              "              title=\"Convert this dataframe to an interactive table.\"\n",
              "              style=\"display:none;\">\n",
              "        \n",
              "  <svg xmlns=\"http://www.w3.org/2000/svg\" height=\"24px\"viewBox=\"0 0 24 24\"\n",
              "       width=\"24px\">\n",
              "    <path d=\"M0 0h24v24H0V0z\" fill=\"none\"/>\n",
              "    <path d=\"M18.56 5.44l.94 2.06.94-2.06 2.06-.94-2.06-.94-.94-2.06-.94 2.06-2.06.94zm-11 1L8.5 8.5l.94-2.06 2.06-.94-2.06-.94L8.5 2.5l-.94 2.06-2.06.94zm10 10l.94 2.06.94-2.06 2.06-.94-2.06-.94-.94-2.06-.94 2.06-2.06.94z\"/><path d=\"M17.41 7.96l-1.37-1.37c-.4-.4-.92-.59-1.43-.59-.52 0-1.04.2-1.43.59L10.3 9.45l-7.72 7.72c-.78.78-.78 2.05 0 2.83L4 21.41c.39.39.9.59 1.41.59.51 0 1.02-.2 1.41-.59l7.78-7.78 2.81-2.81c.8-.78.8-2.07 0-2.86zM5.41 20L4 18.59l7.72-7.72 1.47 1.35L5.41 20z\"/>\n",
              "  </svg>\n",
              "      </button>\n",
              "      \n",
              "  <style>\n",
              "    .colab-df-container {\n",
              "      display:flex;\n",
              "      flex-wrap:wrap;\n",
              "      gap: 12px;\n",
              "    }\n",
              "\n",
              "    .colab-df-convert {\n",
              "      background-color: #E8F0FE;\n",
              "      border: none;\n",
              "      border-radius: 50%;\n",
              "      cursor: pointer;\n",
              "      display: none;\n",
              "      fill: #1967D2;\n",
              "      height: 32px;\n",
              "      padding: 0 0 0 0;\n",
              "      width: 32px;\n",
              "    }\n",
              "\n",
              "    .colab-df-convert:hover {\n",
              "      background-color: #E2EBFA;\n",
              "      box-shadow: 0px 1px 2px rgba(60, 64, 67, 0.3), 0px 1px 3px 1px rgba(60, 64, 67, 0.15);\n",
              "      fill: #174EA6;\n",
              "    }\n",
              "\n",
              "    [theme=dark] .colab-df-convert {\n",
              "      background-color: #3B4455;\n",
              "      fill: #D2E3FC;\n",
              "    }\n",
              "\n",
              "    [theme=dark] .colab-df-convert:hover {\n",
              "      background-color: #434B5C;\n",
              "      box-shadow: 0px 1px 3px 1px rgba(0, 0, 0, 0.15);\n",
              "      filter: drop-shadow(0px 1px 2px rgba(0, 0, 0, 0.3));\n",
              "      fill: #FFFFFF;\n",
              "    }\n",
              "  </style>\n",
              "\n",
              "      <script>\n",
              "        const buttonEl =\n",
              "          document.querySelector('#df-dd2cb049-169f-45ce-95f2-6108afd7dae8 button.colab-df-convert');\n",
              "        buttonEl.style.display =\n",
              "          google.colab.kernel.accessAllowed ? 'block' : 'none';\n",
              "\n",
              "        async function convertToInteractive(key) {\n",
              "          const element = document.querySelector('#df-dd2cb049-169f-45ce-95f2-6108afd7dae8');\n",
              "          const dataTable =\n",
              "            await google.colab.kernel.invokeFunction('convertToInteractive',\n",
              "                                                     [key], {});\n",
              "          if (!dataTable) return;\n",
              "\n",
              "          const docLinkHtml = 'Like what you see? Visit the ' +\n",
              "            '<a target=\"_blank\" href=https://colab.research.google.com/notebooks/data_table.ipynb>data table notebook</a>'\n",
              "            + ' to learn more about interactive tables.';\n",
              "          element.innerHTML = '';\n",
              "          dataTable['output_type'] = 'display_data';\n",
              "          await google.colab.output.renderOutput(dataTable, element);\n",
              "          const docLink = document.createElement('div');\n",
              "          docLink.innerHTML = docLinkHtml;\n",
              "          element.appendChild(docLink);\n",
              "        }\n",
              "      </script>\n",
              "    </div>\n",
              "  </div>\n",
              "  "
            ]
          },
          "metadata": {},
          "execution_count": 7
        }
      ]
    },
    {
      "cell_type": "markdown",
      "source": [
        "A tabela acima contém cada tipo de despesa e a quantidade de vezes que cada uma ocorre no dataset, da mais frequente para a menos frequente."
      ],
      "metadata": {
        "id": "hHQvJPIJRY1L"
      }
    },
    {
      "cell_type": "code",
      "source": [
        "import seaborn as sns\n",
        "import matplotlib as mpl\n",
        "import matplotlib.pyplot as plt\n",
        "import numpy as np"
      ],
      "metadata": {
        "id": "ohQ_i7dqElBA"
      },
      "execution_count": 8,
      "outputs": []
    },
    {
      "cell_type": "markdown",
      "source": [
        "Padronização dos gráficos de barras horizontais e tratamento dos labels extensos"
      ],
      "metadata": {
        "id": "7kaqiu4-Rx08"
      }
    },
    {
      "cell_type": "code",
      "source": [
        "def corta_label(label, largura_label = 50):\n",
        "  label_cortada = label\n",
        "  for l in range(largura_label, len(label), largura_label):\n",
        "    while label_cortada[l] != \" \":\n",
        "      l += 1\n",
        "    label_cortada = label_cortada[:l] + \"\\n\" + label_cortada[l:]\n",
        "\n",
        "  return label_cortada\n",
        "\n",
        "def formata_labels(series_labels):\n",
        "  list_labels = []\n",
        "  for label in series_labels.values:\n",
        "    list_labels.append(corta_label(label))\n",
        "  return list_labels\n",
        "\n",
        "def plota_barras_horizontais(data, x, y, formatacao = 'nenhuma', palette = \"Blues_r\", titulo = \"\", xlabel = \"\", ylabel = \"\"):\n",
        "  plt.figure(figsize = (13,10))\n",
        "\n",
        "  if formatacao == 'milhoes':\n",
        "    data_2 = data.copy()\n",
        "    data_2[x] = (data_2[x]/1000000).round(2)\n",
        "    ax = sns.barplot(data = data_2, x = x, y = y, palette = palette)\n",
        "  else:\n",
        "    ax = sns.barplot(data = data, x = x, y = y, palette = palette)\n",
        "\n",
        "  labels = formata_labels(data[y])\n",
        "  ax.set_yticklabels(labels)\n",
        "\n",
        "  ax.set_title(titulo, fontsize = 25, pad = 25, loc = 'center')\n",
        "  ax.tick_params(axis = 'y', labelsize = 15)\n",
        "  ax.tick_params(axis = 'x', labelsize = 15)\n",
        "  plt.xlabel(xlabel, fontsize = 20)\n",
        "  plt.ylabel(ylabel)\n",
        "\n",
        "  ax.grid(False)\n",
        "  sns.despine(bottom = True, left = True)\n",
        "  ax.set(xticklabels = [])\n",
        "\n",
        "  ax.bar_label(ax.containers[0])\n",
        "\n",
        "  #if formatacao == 'milhoes':\n",
        "    #ax.get_xaxis().set_major_formatter(mpl.ticker.FuncFormatter(lambda x,_ : format(int(x/1000000), ',')))\n",
        "    #ax.bar_label(ax.containers[0]/1000000)\n",
        "\n",
        "  plt.show()"
      ],
      "metadata": {
        "id": "Q6k-xlUMRths"
      },
      "execution_count": 9,
      "outputs": []
    },
    {
      "cell_type": "code",
      "source": [
        "plota_barras_horizontais(recorrencia_despesas, x = 'n_ocorrencias', y = 'tipo_despesa',\n",
        "                            titulo = \"Quantidade de ocorrências de cada tipo de despesa, 2019-2022\")"
      ],
      "metadata": {
        "colab": {
          "base_uri": "https://localhost:8080/",
          "height": 620
        },
        "id": "jDj5pZgER0b7",
        "outputId": "0d0b9df8-7da4-49a1-a4d3-d0609d3a9989"
      },
      "execution_count": 10,
      "outputs": [
        {
          "output_type": "display_data",
          "data": {
            "text/plain": [
              "<Figure size 936x720 with 1 Axes>"
            ],
            "image/png": "[encoded data removed]"
          },
          "metadata": {
            "needs_background": "light"
          }
        }
      ]
    },
    {
      "cell_type": "markdown",
      "source": [
        "As despesas mais recorrentes estão relacionadas às viagens dos senadores."
      ],
      "metadata": {
        "id": "sH2notUBSM9V"
      }
    },
    {
      "cell_type": "markdown",
      "source": [
        "## Gastos por tipo de despesa"
      ],
      "metadata": {
        "id": "UOrH4U46SPyD"
      }
    },
    {
      "cell_type": "code",
      "source": [
        "valor_despesas = dados_ceaps.query('ANO >= 2019').groupby(\"TIPO_DESPESA\").sum()\n",
        "valor_despesas = valor_despesas.reset_index()\n",
        "valor_despesas = valor_despesas[[\"TIPO_DESPESA\", \"VALOR_REEMBOLSADO\"]].rename(columns = {\"TIPO_DESPESA\":'tipo_despesa', \"VALOR_REEMBOLSADO\":'valor_total_reembolso'}).sort_values(by = 'valor_total_reembolso', ascending = False)\n",
        "valor_despesas"
      ],
      "metadata": {
        "colab": {
          "base_uri": "https://localhost:8080/",
          "height": 269
        },
        "id": "cls9bE5xR2x0",
        "outputId": "ce01deb1-cc52-4946-8f74-bd310d4a9ac9"
      },
      "execution_count": 11,
      "outputs": [
        {
          "output_type": "execute_result",
          "data": {
            "text/plain": [
              "                                        tipo_despesa  valor_total_reembolso\n",
              "2  Contratação de consultorias, assessorias, pesq...            21094144.20\n",
              "5  Passagens aéreas, aquáticas e terrestres nacio...            19662092.77\n",
              "4  Locomoção, hospedagem, alimentação, combustíve...            15531775.51\n",
              "0  Aluguel de imóveis para escritório político, c...            14397821.12\n",
              "3                Divulgação da atividade parlamentar            11528174.32\n",
              "1  Aquisição de material de consumo para uso no e...             3363897.00\n",
              "6                      Serviços de Segurança Privada              132898.80"
            ],
            "text/html": [
              "\n",
              "  <div id=\"df-dc6ffdf3-5377-4a48-8f68-7db52fce9f92\">\n",
              "    <div class=\"colab-df-container\">\n",
              "      <div>\n",
              "<style scoped>\n",
              "    .dataframe tbody tr th:only-of-type {\n",
              "        vertical-align: middle;\n",
              "    }\n",
              "\n",
              "    .dataframe tbody tr th {\n",
              "        vertical-align: top;\n",
              "    }\n",
              "\n",
              "    .dataframe thead th {\n",
              "        text-align: right;\n",
              "    }\n",
              "</style>\n",
              "<table border=\"1\" class=\"dataframe\">\n",
              "  <thead>\n",
              "    <tr style=\"text-align: right;\">\n",
              "      <th></th>\n",
              "      <th>tipo_despesa</th>\n",
              "      <th>valor_total_reembolso</th>\n",
              "    </tr>\n",
              "  </thead>\n",
              "  <tbody>\n",
              "    <tr>\n",
              "      <th>2</th>\n",
              "      <td>Contratação de consultorias, assessorias, pesq...</td>\n",
              "      <td>21094144.20</td>\n",
              "    </tr>\n",
              "    <tr>\n",
              "      <th>5</th>\n",
              "      <td>Passagens aéreas, aquáticas e terrestres nacio...</td>\n",
              "      <td>19662092.77</td>\n",
              "    </tr>\n",
              "    <tr>\n",
              "      <th>4</th>\n",
              "      <td>Locomoção, hospedagem, alimentação, combustíve...</td>\n",
              "      <td>15531775.51</td>\n",
              "    </tr>\n",
              "    <tr>\n",
              "      <th>0</th>\n",
              "      <td>Aluguel de imóveis para escritório político, c...</td>\n",
              "      <td>14397821.12</td>\n",
              "    </tr>\n",
              "    <tr>\n",
              "      <th>3</th>\n",
              "      <td>Divulgação da atividade parlamentar</td>\n",
              "      <td>11528174.32</td>\n",
              "    </tr>\n",
              "    <tr>\n",
              "      <th>1</th>\n",
              "      <td>Aquisição de material de consumo para uso no e...</td>\n",
              "      <td>3363897.00</td>\n",
              "    </tr>\n",
              "    <tr>\n",
              "      <th>6</th>\n",
              "      <td>Serviços de Segurança Privada</td>\n",
              "      <td>132898.80</td>\n",
              "    </tr>\n",
              "  </tbody>\n",
              "</table>\n",
              "</div>\n",
              "      <button class=\"colab-df-convert\" onclick=\"convertToInteractive('df-dc6ffdf3-5377-4a48-8f68-7db52fce9f92')\"\n",
              "              title=\"Convert this dataframe to an interactive table.\"\n",
              "              style=\"display:none;\">\n",
              "        \n",
              "  <svg xmlns=\"http://www.w3.org/2000/svg\" height=\"24px\"viewBox=\"0 0 24 24\"\n",
              "       width=\"24px\">\n",
              "    <path d=\"M0 0h24v24H0V0z\" fill=\"none\"/>\n",
              "    <path d=\"M18.56 5.44l.94 2.06.94-2.06 2.06-.94-2.06-.94-.94-2.06-.94 2.06-2.06.94zm-11 1L8.5 8.5l.94-2.06 2.06-.94-2.06-.94L8.5 2.5l-.94 2.06-2.06.94zm10 10l.94 2.06.94-2.06 2.06-.94-2.06-.94-.94-2.06-.94 2.06-2.06.94z\"/><path d=\"M17.41 7.96l-1.37-1.37c-.4-.4-.92-.59-1.43-.59-.52 0-1.04.2-1.43.59L10.3 9.45l-7.72 7.72c-.78.78-.78 2.05 0 2.83L4 21.41c.39.39.9.59 1.41.59.51 0 1.02-.2 1.41-.59l7.78-7.78 2.81-2.81c.8-.78.8-2.07 0-2.86zM5.41 20L4 18.59l7.72-7.72 1.47 1.35L5.41 20z\"/>\n",
              "  </svg>\n",
              "      </button>\n",
              "      \n",
              "  <style>\n",
              "    .colab-df-container {\n",
              "      display:flex;\n",
              "      flex-wrap:wrap;\n",
              "      gap: 12px;\n",
              "    }\n",
              "\n",
              "    .colab-df-convert {\n",
              "      background-color: #E8F0FE;\n",
              "      border: none;\n",
              "      border-radius: 50%;\n",
              "      cursor: pointer;\n",
              "      display: none;\n",
              "      fill: #1967D2;\n",
              "      height: 32px;\n",
              "      padding: 0 0 0 0;\n",
              "      width: 32px;\n",
              "    }\n",
              "\n",
              "    .colab-df-convert:hover {\n",
              "      background-color: #E2EBFA;\n",
              "      box-shadow: 0px 1px 2px rgba(60, 64, 67, 0.3), 0px 1px 3px 1px rgba(60, 64, 67, 0.15);\n",
              "      fill: #174EA6;\n",
              "    }\n",
              "\n",
              "    [theme=dark] .colab-df-convert {\n",
              "      background-color: #3B4455;\n",
              "      fill: #D2E3FC;\n",
              "    }\n",
              "\n",
              "    [theme=dark] .colab-df-convert:hover {\n",
              "      background-color: #434B5C;\n",
              "      box-shadow: 0px 1px 3px 1px rgba(0, 0, 0, 0.15);\n",
              "      filter: drop-shadow(0px 1px 2px rgba(0, 0, 0, 0.3));\n",
              "      fill: #FFFFFF;\n",
              "    }\n",
              "  </style>\n",
              "\n",
              "      <script>\n",
              "        const buttonEl =\n",
              "          document.querySelector('#df-dc6ffdf3-5377-4a48-8f68-7db52fce9f92 button.colab-df-convert');\n",
              "        buttonEl.style.display =\n",
              "          google.colab.kernel.accessAllowed ? 'block' : 'none';\n",
              "\n",
              "        async function convertToInteractive(key) {\n",
              "          const element = document.querySelector('#df-dc6ffdf3-5377-4a48-8f68-7db52fce9f92');\n",
              "          const dataTable =\n",
              "            await google.colab.kernel.invokeFunction('convertToInteractive',\n",
              "                                                     [key], {});\n",
              "          if (!dataTable) return;\n",
              "\n",
              "          const docLinkHtml = 'Like what you see? Visit the ' +\n",
              "            '<a target=\"_blank\" href=https://colab.research.google.com/notebooks/data_table.ipynb>data table notebook</a>'\n",
              "            + ' to learn more about interactive tables.';\n",
              "          element.innerHTML = '';\n",
              "          dataTable['output_type'] = 'display_data';\n",
              "          await google.colab.output.renderOutput(dataTable, element);\n",
              "          const docLink = document.createElement('div');\n",
              "          docLink.innerHTML = docLinkHtml;\n",
              "          element.appendChild(docLink);\n",
              "        }\n",
              "      </script>\n",
              "    </div>\n",
              "  </div>\n",
              "  "
            ]
          },
          "metadata": {},
          "execution_count": 11
        }
      ]
    },
    {
      "cell_type": "code",
      "source": [
        "plota_barras_horizontais(valor_despesas, x = 'valor_total_reembolso', y = 'tipo_despesa',\n",
        "                            titulo = \"Gastos por tipo de despesa (em milhões) 2019-2022\", formatacao = 'milhoes')"
      ],
      "metadata": {
        "colab": {
          "base_uri": "https://localhost:8080/",
          "height": 619
        },
        "id": "l98d-0YpSSvT",
        "outputId": "b18afeab-3589-4df7-8099-778407a6a797"
      },
      "execution_count": 12,
      "outputs": [
        {
          "output_type": "display_data",
          "data": {
            "text/plain": [
              "<Figure size 936x720 with 1 Axes>"
            ],
            "image/png": "[encoded data removed]"
          },
          "metadata": {
            "needs_background": "light"
          }
        }
      ]
    }
  ]
}