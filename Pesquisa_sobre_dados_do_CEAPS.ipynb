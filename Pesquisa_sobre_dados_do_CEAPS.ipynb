{
  "nbformat": 4,
  "nbformat_minor": 0,
  "metadata": {
    "colab": {
      "name": "Pesquisa sobre dados do CEAPS.ipynb",
      "provenance": []
    },
    "kernelspec": {
      "name": "python3",
      "display_name": "Python 3"
    },
    "language_info": {
      "name": "python"
    }
  },
  "cells": [
    {
      "cell_type": "markdown",
      "source": [
        "# Análise sobre dados do CEAP\n",
        "\n",
        "Fonte: https://www12.senado.leg.br/transparencia/dados-abertos-transparencia/dados-abertos-ceaps"
      ],
      "metadata": {
        "id": "Xjf1B3hypnAE"
      }
    },
    {
      "cell_type": "markdown",
      "source": [
        "No momento em que esta pesquisa está sendo feita, o ano de 2022 ainda não se encerrou, portanto os gastos deste ano ainda não estão completos.\n",
        "\n",
        "**Última atualização:** 11/08/2022"
      ],
      "metadata": {
        "id": "7EX4TejzTcVc"
      }
    },
    {
      "cell_type": "markdown",
      "source": [
        "# Tratamento e Limpeza de dados (2022)"
      ],
      "metadata": {
        "id": "J_8BwU0uqEg8"
      }
    },
    {
      "cell_type": "markdown",
      "source": [
        "### Primeira visualização do arquivo"
      ],
      "metadata": {
        "id": "YTBlJO9VsKf0"
      }
    },
    {
      "cell_type": "code",
      "source": [
        "import pandas as pd"
      ],
      "metadata": {
        "id": "bpdt-LV5sR3d"
      },
      "execution_count": 2,
      "outputs": []
    },
    {
      "cell_type": "code",
      "execution_count": 3,
      "metadata": {
        "colab": {
          "base_uri": "https://localhost:8080/",
          "height": 240
        },
        "id": "3jjcGye0pfie",
        "outputId": "d9767717-dca7-4f0e-c5c7-c4279534d097"
      },
      "outputs": [
        {
          "output_type": "execute_result",
          "data": {
            "text/plain": [
              "                                                                                                                                                                                                          ULTIMA ATUALIZACAO  \\\n",
              "ANO  MES SENADOR      TIPO_DESPESA                                       CNPJ_CPF           FORNECEDOR                    DOCUMENTO         DATA       DETALHAMENTO                                        VALOR_REEMBOLSADO   \n",
              "2022 1   ACIR GURGACZ Aluguel de imóveis para escritório político, co... 004.948.028-63     GILBERTO PISELO DO NASCIMENTO 001/22            03/01/2022 Despesa com pagamento de aluguel de imóvel para...               6000   \n",
              "                      Divulgação da atividade parlamentar                26.320.603/0001-64 INFORMANAHORA                 000000000000310/A 04/01/2022 Despesa com divulgação da atividade parlamentar...               1500   \n",
              "\n",
              "                                                                                                                                                                                                          11/08/2022 02:01  \n",
              "ANO  MES SENADOR      TIPO_DESPESA                                       CNPJ_CPF           FORNECEDOR                    DOCUMENTO         DATA       DETALHAMENTO                                          COD_DOCUMENTO  \n",
              "2022 1   ACIR GURGACZ Aluguel de imóveis para escritório político, co... 004.948.028-63     GILBERTO PISELO DO NASCIMENTO 001/22            03/01/2022 Despesa com pagamento de aluguel de imóvel para...          2173614  \n",
              "                      Divulgação da atividade parlamentar                26.320.603/0001-64 INFORMANAHORA                 000000000000310/A 04/01/2022 Despesa com divulgação da atividade parlamentar...          2173615  "
            ],
            "text/html": [
              "\n",
              "  <div id=\"df-2a74781e-20bc-4262-8f78-4efd89e8ec44\">\n",
              "    <div class=\"colab-df-container\">\n",
              "      <div>\n",
              "<style scoped>\n",
              "    .dataframe tbody tr th:only-of-type {\n",
              "        vertical-align: middle;\n",
              "    }\n",
              "\n",
              "    .dataframe tbody tr th {\n",
              "        vertical-align: top;\n",
              "    }\n",
              "\n",
              "    .dataframe thead th {\n",
              "        text-align: right;\n",
              "    }\n",
              "</style>\n",
              "<table border=\"1\" class=\"dataframe\">\n",
              "  <thead>\n",
              "    <tr style=\"text-align: right;\">\n",
              "      <th></th>\n",
              "      <th></th>\n",
              "      <th></th>\n",
              "      <th></th>\n",
              "      <th></th>\n",
              "      <th></th>\n",
              "      <th></th>\n",
              "      <th></th>\n",
              "      <th></th>\n",
              "      <th>ULTIMA ATUALIZACAO</th>\n",
              "      <th>11/08/2022 02:01</th>\n",
              "    </tr>\n",
              "  </thead>\n",
              "  <tbody>\n",
              "    <tr>\n",
              "      <th>ANO</th>\n",
              "      <th>MES</th>\n",
              "      <th>SENADOR</th>\n",
              "      <th>TIPO_DESPESA</th>\n",
              "      <th>CNPJ_CPF</th>\n",
              "      <th>FORNECEDOR</th>\n",
              "      <th>DOCUMENTO</th>\n",
              "      <th>DATA</th>\n",
              "      <th>DETALHAMENTO</th>\n",
              "      <td>VALOR_REEMBOLSADO</td>\n",
              "      <td>COD_DOCUMENTO</td>\n",
              "    </tr>\n",
              "    <tr>\n",
              "      <th rowspan=\"2\" valign=\"top\">2022</th>\n",
              "      <th rowspan=\"2\" valign=\"top\">1</th>\n",
              "      <th rowspan=\"2\" valign=\"top\">ACIR GURGACZ</th>\n",
              "      <th>Aluguel de imóveis para escritório político, compreendendo despesas concernentes a eles.</th>\n",
              "      <th>004.948.028-63</th>\n",
              "      <th>GILBERTO PISELO DO NASCIMENTO</th>\n",
              "      <th>001/22</th>\n",
              "      <th>03/01/2022</th>\n",
              "      <th>Despesa com pagamento de aluguel de imóvel para uso do escritório político do Senador Acir Gurgacz em Ji-Paraná/RO.</th>\n",
              "      <td>6000</td>\n",
              "      <td>2173614</td>\n",
              "    </tr>\n",
              "    <tr>\n",
              "      <th>Divulgação da atividade parlamentar</th>\n",
              "      <th>26.320.603/0001-64</th>\n",
              "      <th>INFORMANAHORA</th>\n",
              "      <th>000000000000310/A</th>\n",
              "      <th>04/01/2022</th>\n",
              "      <th>Despesa com divulgação da atividade parlamentar no website www.informanahora.com</th>\n",
              "      <td>1500</td>\n",
              "      <td>2173615</td>\n",
              "    </tr>\n",
              "  </tbody>\n",
              "</table>\n",
              "</div>\n",
              "      <button class=\"colab-df-convert\" onclick=\"convertToInteractive('df-2a74781e-20bc-4262-8f78-4efd89e8ec44')\"\n",
              "              title=\"Convert this dataframe to an interactive table.\"\n",
              "              style=\"display:none;\">\n",
              "        \n",
              "  <svg xmlns=\"http://www.w3.org/2000/svg\" height=\"24px\"viewBox=\"0 0 24 24\"\n",
              "       width=\"24px\">\n",
              "    <path d=\"M0 0h24v24H0V0z\" fill=\"none\"/>\n",
              "    <path d=\"M18.56 5.44l.94 2.06.94-2.06 2.06-.94-2.06-.94-.94-2.06-.94 2.06-2.06.94zm-11 1L8.5 8.5l.94-2.06 2.06-.94-2.06-.94L8.5 2.5l-.94 2.06-2.06.94zm10 10l.94 2.06.94-2.06 2.06-.94-2.06-.94-.94-2.06-.94 2.06-2.06.94z\"/><path d=\"M17.41 7.96l-1.37-1.37c-.4-.4-.92-.59-1.43-.59-.52 0-1.04.2-1.43.59L10.3 9.45l-7.72 7.72c-.78.78-.78 2.05 0 2.83L4 21.41c.39.39.9.59 1.41.59.51 0 1.02-.2 1.41-.59l7.78-7.78 2.81-2.81c.8-.78.8-2.07 0-2.86zM5.41 20L4 18.59l7.72-7.72 1.47 1.35L5.41 20z\"/>\n",
              "  </svg>\n",
              "      </button>\n",
              "      \n",
              "  <style>\n",
              "    .colab-df-container {\n",
              "      display:flex;\n",
              "      flex-wrap:wrap;\n",
              "      gap: 12px;\n",
              "    }\n",
              "\n",
              "    .colab-df-convert {\n",
              "      background-color: #E8F0FE;\n",
              "      border: none;\n",
              "      border-radius: 50%;\n",
              "      cursor: pointer;\n",
              "      display: none;\n",
              "      fill: #1967D2;\n",
              "      height: 32px;\n",
              "      padding: 0 0 0 0;\n",
              "      width: 32px;\n",
              "    }\n",
              "\n",
              "    .colab-df-convert:hover {\n",
              "      background-color: #E2EBFA;\n",
              "      box-shadow: 0px 1px 2px rgba(60, 64, 67, 0.3), 0px 1px 3px 1px rgba(60, 64, 67, 0.15);\n",
              "      fill: #174EA6;\n",
              "    }\n",
              "\n",
              "    [theme=dark] .colab-df-convert {\n",
              "      background-color: #3B4455;\n",
              "      fill: #D2E3FC;\n",
              "    }\n",
              "\n",
              "    [theme=dark] .colab-df-convert:hover {\n",
              "      background-color: #434B5C;\n",
              "      box-shadow: 0px 1px 3px 1px rgba(0, 0, 0, 0.15);\n",
              "      filter: drop-shadow(0px 1px 2px rgba(0, 0, 0, 0.3));\n",
              "      fill: #FFFFFF;\n",
              "    }\n",
              "  </style>\n",
              "\n",
              "      <script>\n",
              "        const buttonEl =\n",
              "          document.querySelector('#df-2a74781e-20bc-4262-8f78-4efd89e8ec44 button.colab-df-convert');\n",
              "        buttonEl.style.display =\n",
              "          google.colab.kernel.accessAllowed ? 'block' : 'none';\n",
              "\n",
              "        async function convertToInteractive(key) {\n",
              "          const element = document.querySelector('#df-2a74781e-20bc-4262-8f78-4efd89e8ec44');\n",
              "          const dataTable =\n",
              "            await google.colab.kernel.invokeFunction('convertToInteractive',\n",
              "                                                     [key], {});\n",
              "          if (!dataTable) return;\n",
              "\n",
              "          const docLinkHtml = 'Like what you see? Visit the ' +\n",
              "            '<a target=\"_blank\" href=https://colab.research.google.com/notebooks/data_table.ipynb>data table notebook</a>'\n",
              "            + ' to learn more about interactive tables.';\n",
              "          element.innerHTML = '';\n",
              "          dataTable['output_type'] = 'display_data';\n",
              "          await google.colab.output.renderOutput(dataTable, element);\n",
              "          const docLink = document.createElement('div');\n",
              "          docLink.innerHTML = docLinkHtml;\n",
              "          element.appendChild(docLink);\n",
              "        }\n",
              "      </script>\n",
              "    </div>\n",
              "  </div>\n",
              "  "
            ]
          },
          "metadata": {},
          "execution_count": 3
        }
      ],
      "source": [
        "ceaps_2022 = pd.read_csv('https://www.senado.gov.br/transparencia/LAI/verba/despesa_ceaps_2022.csv', encoding = 'latin-1', sep = \";\", nrows = 3)\n",
        "ceaps_2022.head()"
      ]
    },
    {
      "cell_type": "code",
      "source": [
        "ceaps_2022.info()"
      ],
      "metadata": {
        "colab": {
          "base_uri": "https://localhost:8080/"
        },
        "id": "6JygmC2xpnVP",
        "outputId": "e43b4d9d-8ec0-4fee-8ec7-534de3b300a3"
      },
      "execution_count": 4,
      "outputs": [
        {
          "output_type": "stream",
          "name": "stdout",
          "text": [
            "<class 'pandas.core.frame.DataFrame'>\n",
            "MultiIndex: 3 entries, ('ANO', 'MES', 'SENADOR', 'TIPO_DESPESA', 'CNPJ_CPF', 'FORNECEDOR', 'DOCUMENTO', 'DATA', 'DETALHAMENTO') to ('2022', '1', 'ACIR GURGACZ', 'Divulgação da atividade parlamentar', '26.320.603/0001-64', 'INFORMANAHORA', '000000000000310/A', '04/01/2022', 'Despesa com divulgação da atividade parlamentar no website www.informanahora.com')\n",
            "Data columns (total 2 columns):\n",
            " #   Column              Non-Null Count  Dtype \n",
            "---  ------              --------------  ----- \n",
            " 0   ULTIMA ATUALIZACAO  3 non-null      object\n",
            " 1   11/08/2022 02:01    3 non-null      object\n",
            "dtypes: object(2)\n",
            "memory usage: 1.4+ KB\n"
          ]
        }
      ]
    },
    {
      "cell_type": "markdown",
      "source": [
        "* O arquivo começa com a data da última atualização, isso faz com que hajam apenas duas colunas e que algumas linhas de valor igual se agrupem na tabela."
      ],
      "metadata": {
        "id": "rCdcks9MtTPj"
      }
    },
    {
      "cell_type": "markdown",
      "source": [
        "## Extração da data da última atualização"
      ],
      "metadata": {
        "id": "26d9Qz7SuMax"
      }
    },
    {
      "cell_type": "code",
      "source": [
        "# Convertendo uma string em datetime\n",
        "# Referência: https://www.alura.com.br/artigos/lidando-com-datas-e-horarios-no-python?gclid=Cj0KCQjw-daUBhCIARIsALbkjSZTiCmktYTMVezV0Ubq_ONo5bJ7O6QuNcoXBGSD3yH7n0x46v89QDIaAtBbEALw_wcB\n",
        "\n",
        "from datetime import datetime"
      ],
      "metadata": {
        "id": "VOfi1TS9uSPv"
      },
      "execution_count": 5,
      "outputs": []
    },
    {
      "cell_type": "code",
      "source": [
        "atualizacao_texto = pd.read_csv('https://www.senado.gov.br/transparencia/LAI/verba/despesa_ceaps_2022.csv', encoding = 'latin-1', sep = \";\", nrows = 0)\n",
        "atualizacao_texto.columns[1]"
      ],
      "metadata": {
        "colab": {
          "base_uri": "https://localhost:8080/",
          "height": 35
        },
        "id": "wYZ2GRoOtQle",
        "outputId": "f52ed092-224f-4809-8b58-1a7174e355b7"
      },
      "execution_count": 6,
      "outputs": [
        {
          "output_type": "execute_result",
          "data": {
            "text/plain": [
              "'11/08/2022 02:01'"
            ],
            "application/vnd.google.colaboratory.intrinsic+json": {
              "type": "string"
            }
          },
          "metadata": {},
          "execution_count": 6
        }
      ]
    },
    {
      "cell_type": "code",
      "source": [
        "atualizacao_texto = atualizacao_texto.columns[1]\n",
        "ultima_atualizacao_2022 = datetime.strptime(atualizacao_texto, '%d/%m/%Y %H:%M')\n",
        "print(\"Última atualização do dataset (2022) \" + str(ultima_atualizacao_2022))"
      ],
      "metadata": {
        "colab": {
          "base_uri": "https://localhost:8080/"
        },
        "id": "i_kLpVlSuq0m",
        "outputId": "2bfa8d7f-f06f-498c-c4da-fdb0aa8c2075"
      },
      "execution_count": 7,
      "outputs": [
        {
          "output_type": "stream",
          "name": "stdout",
          "text": [
            "Última atualização do dataset (2022) 2022-08-11 02:01:00\n"
          ]
        }
      ]
    },
    {
      "cell_type": "markdown",
      "source": [
        "## Abertura do dataset"
      ],
      "metadata": {
        "id": "ZX-Sho6Ov2A7"
      }
    },
    {
      "cell_type": "code",
      "source": [
        "# O header = 1 faz com que o arquivo seja lido a partir da segunda linha, ignorando a primeira e evitando o problema do multi index\n",
        "\n",
        "ceaps_2022 = pd.read_csv('https://www.senado.gov.br/transparencia/LAI/verba/despesa_ceaps_2022.csv', encoding = \"latin-1\", sep = \";\", header = 1, decimal = \",\")\n",
        "ceaps_2022.head()"
      ],
      "metadata": {
        "colab": {
          "base_uri": "https://localhost:8080/",
          "height": 337
        },
        "id": "ngjLEOzvu8GG",
        "outputId": "f85f25e2-d845-4b91-ae80-e5d8c2448fc6"
      },
      "execution_count": 8,
      "outputs": [
        {
          "output_type": "execute_result",
          "data": {
            "text/plain": [
              "    ANO  MES       SENADOR                                       TIPO_DESPESA  \\\n",
              "0  2022    1  ACIR GURGACZ  Aluguel de imóveis para escritório político, c...   \n",
              "1  2022    1  ACIR GURGACZ                Divulgação da atividade parlamentar   \n",
              "2  2022    1  ACIR GURGACZ                Divulgação da atividade parlamentar   \n",
              "3  2022    1  ACIR GURGACZ                Divulgação da atividade parlamentar   \n",
              "4  2022    1  ACIR GURGACZ                Divulgação da atividade parlamentar   \n",
              "\n",
              "             CNPJ_CPF                                         FORNECEDOR  \\\n",
              "0      004.948.028-63                      GILBERTO PISELO DO NASCIMENTO   \n",
              "1  26.320.603/0001-64                                      INFORMANAHORA   \n",
              "2  13.659.201/0001-47                    LINHA PURPURA FOTO E VIDEO LTDA   \n",
              "3  23.652.846/0001-01                  ROBERTO GUTIERREZ DA ROCHA M.E.I.   \n",
              "4  08.941.827/0001-01  RONDONIA DINÂMICA COM. E SERV. DE INFORMÁTICA ...   \n",
              "\n",
              "           DOCUMENTO        DATA  \\\n",
              "0             001/22  03/01/2022   \n",
              "1  000000000000310/A  04/01/2022   \n",
              "2                107  14/01/2022   \n",
              "3                187  18/01/2022   \n",
              "4  000000000001772/A  17/01/2022   \n",
              "\n",
              "                                        DETALHAMENTO  VALOR_REEMBOLSADO  \\\n",
              "0  Despesa com pagamento de aluguel de imóvel par...             6000.0   \n",
              "1  Despesa com divulgação da atividade parlamenta...             1500.0   \n",
              "2  Despesa com produção de texto e edição de víde...             6000.0   \n",
              "3                Divulgação da atividade parlamentar             1000.0   \n",
              "4                Divulgação da atividade parlamentar             2000.0   \n",
              "\n",
              "   COD_DOCUMENTO  \n",
              "0        2173614  \n",
              "1        2173615  \n",
              "2        2173616  \n",
              "3        2173618  \n",
              "4        2173617  "
            ],
            "text/html": [
              "\n",
              "  <div id=\"df-1545b340-4b33-450c-8870-e90e5974be55\">\n",
              "    <div class=\"colab-df-container\">\n",
              "      <div>\n",
              "<style scoped>\n",
              "    .dataframe tbody tr th:only-of-type {\n",
              "        vertical-align: middle;\n",
              "    }\n",
              "\n",
              "    .dataframe tbody tr th {\n",
              "        vertical-align: top;\n",
              "    }\n",
              "\n",
              "    .dataframe thead th {\n",
              "        text-align: right;\n",
              "    }\n",
              "</style>\n",
              "<table border=\"1\" class=\"dataframe\">\n",
              "  <thead>\n",
              "    <tr style=\"text-align: right;\">\n",
              "      <th></th>\n",
              "      <th>ANO</th>\n",
              "      <th>MES</th>\n",
              "      <th>SENADOR</th>\n",
              "      <th>TIPO_DESPESA</th>\n",
              "      <th>CNPJ_CPF</th>\n",
              "      <th>FORNECEDOR</th>\n",
              "      <th>DOCUMENTO</th>\n",
              "      <th>DATA</th>\n",
              "      <th>DETALHAMENTO</th>\n",
              "      <th>VALOR_REEMBOLSADO</th>\n",
              "      <th>COD_DOCUMENTO</th>\n",
              "    </tr>\n",
              "  </thead>\n",
              "  <tbody>\n",
              "    <tr>\n",
              "      <th>0</th>\n",
              "      <td>2022</td>\n",
              "      <td>1</td>\n",
              "      <td>ACIR GURGACZ</td>\n",
              "      <td>Aluguel de imóveis para escritório político, c...</td>\n",
              "      <td>004.948.028-63</td>\n",
              "      <td>GILBERTO PISELO DO NASCIMENTO</td>\n",
              "      <td>001/22</td>\n",
              "      <td>03/01/2022</td>\n",
              "      <td>Despesa com pagamento de aluguel de imóvel par...</td>\n",
              "      <td>6000.0</td>\n",
              "      <td>2173614</td>\n",
              "    </tr>\n",
              "    <tr>\n",
              "      <th>1</th>\n",
              "      <td>2022</td>\n",
              "      <td>1</td>\n",
              "      <td>ACIR GURGACZ</td>\n",
              "      <td>Divulgação da atividade parlamentar</td>\n",
              "      <td>26.320.603/0001-64</td>\n",
              "      <td>INFORMANAHORA</td>\n",
              "      <td>000000000000310/A</td>\n",
              "      <td>04/01/2022</td>\n",
              "      <td>Despesa com divulgação da atividade parlamenta...</td>\n",
              "      <td>1500.0</td>\n",
              "      <td>2173615</td>\n",
              "    </tr>\n",
              "    <tr>\n",
              "      <th>2</th>\n",
              "      <td>2022</td>\n",
              "      <td>1</td>\n",
              "      <td>ACIR GURGACZ</td>\n",
              "      <td>Divulgação da atividade parlamentar</td>\n",
              "      <td>13.659.201/0001-47</td>\n",
              "      <td>LINHA PURPURA FOTO E VIDEO LTDA</td>\n",
              "      <td>107</td>\n",
              "      <td>14/01/2022</td>\n",
              "      <td>Despesa com produção de texto e edição de víde...</td>\n",
              "      <td>6000.0</td>\n",
              "      <td>2173616</td>\n",
              "    </tr>\n",
              "    <tr>\n",
              "      <th>3</th>\n",
              "      <td>2022</td>\n",
              "      <td>1</td>\n",
              "      <td>ACIR GURGACZ</td>\n",
              "      <td>Divulgação da atividade parlamentar</td>\n",
              "      <td>23.652.846/0001-01</td>\n",
              "      <td>ROBERTO GUTIERREZ DA ROCHA M.E.I.</td>\n",
              "      <td>187</td>\n",
              "      <td>18/01/2022</td>\n",
              "      <td>Divulgação da atividade parlamentar</td>\n",
              "      <td>1000.0</td>\n",
              "      <td>2173618</td>\n",
              "    </tr>\n",
              "    <tr>\n",
              "      <th>4</th>\n",
              "      <td>2022</td>\n",
              "      <td>1</td>\n",
              "      <td>ACIR GURGACZ</td>\n",
              "      <td>Divulgação da atividade parlamentar</td>\n",
              "      <td>08.941.827/0001-01</td>\n",
              "      <td>RONDONIA DINÂMICA COM. E SERV. DE INFORMÁTICA ...</td>\n",
              "      <td>000000000001772/A</td>\n",
              "      <td>17/01/2022</td>\n",
              "      <td>Divulgação da atividade parlamentar</td>\n",
              "      <td>2000.0</td>\n",
              "      <td>2173617</td>\n",
              "    </tr>\n",
              "  </tbody>\n",
              "</table>\n",
              "</div>\n",
              "      <button class=\"colab-df-convert\" onclick=\"convertToInteractive('df-1545b340-4b33-450c-8870-e90e5974be55')\"\n",
              "              title=\"Convert this dataframe to an interactive table.\"\n",
              "              style=\"display:none;\">\n",
              "        \n",
              "  <svg xmlns=\"http://www.w3.org/2000/svg\" height=\"24px\"viewBox=\"0 0 24 24\"\n",
              "       width=\"24px\">\n",
              "    <path d=\"M0 0h24v24H0V0z\" fill=\"none\"/>\n",
              "    <path d=\"M18.56 5.44l.94 2.06.94-2.06 2.06-.94-2.06-.94-.94-2.06-.94 2.06-2.06.94zm-11 1L8.5 8.5l.94-2.06 2.06-.94-2.06-.94L8.5 2.5l-.94 2.06-2.06.94zm10 10l.94 2.06.94-2.06 2.06-.94-2.06-.94-.94-2.06-.94 2.06-2.06.94z\"/><path d=\"M17.41 7.96l-1.37-1.37c-.4-.4-.92-.59-1.43-.59-.52 0-1.04.2-1.43.59L10.3 9.45l-7.72 7.72c-.78.78-.78 2.05 0 2.83L4 21.41c.39.39.9.59 1.41.59.51 0 1.02-.2 1.41-.59l7.78-7.78 2.81-2.81c.8-.78.8-2.07 0-2.86zM5.41 20L4 18.59l7.72-7.72 1.47 1.35L5.41 20z\"/>\n",
              "  </svg>\n",
              "      </button>\n",
              "      \n",
              "  <style>\n",
              "    .colab-df-container {\n",
              "      display:flex;\n",
              "      flex-wrap:wrap;\n",
              "      gap: 12px;\n",
              "    }\n",
              "\n",
              "    .colab-df-convert {\n",
              "      background-color: #E8F0FE;\n",
              "      border: none;\n",
              "      border-radius: 50%;\n",
              "      cursor: pointer;\n",
              "      display: none;\n",
              "      fill: #1967D2;\n",
              "      height: 32px;\n",
              "      padding: 0 0 0 0;\n",
              "      width: 32px;\n",
              "    }\n",
              "\n",
              "    .colab-df-convert:hover {\n",
              "      background-color: #E2EBFA;\n",
              "      box-shadow: 0px 1px 2px rgba(60, 64, 67, 0.3), 0px 1px 3px 1px rgba(60, 64, 67, 0.15);\n",
              "      fill: #174EA6;\n",
              "    }\n",
              "\n",
              "    [theme=dark] .colab-df-convert {\n",
              "      background-color: #3B4455;\n",
              "      fill: #D2E3FC;\n",
              "    }\n",
              "\n",
              "    [theme=dark] .colab-df-convert:hover {\n",
              "      background-color: #434B5C;\n",
              "      box-shadow: 0px 1px 3px 1px rgba(0, 0, 0, 0.15);\n",
              "      filter: drop-shadow(0px 1px 2px rgba(0, 0, 0, 0.3));\n",
              "      fill: #FFFFFF;\n",
              "    }\n",
              "  </style>\n",
              "\n",
              "      <script>\n",
              "        const buttonEl =\n",
              "          document.querySelector('#df-1545b340-4b33-450c-8870-e90e5974be55 button.colab-df-convert');\n",
              "        buttonEl.style.display =\n",
              "          google.colab.kernel.accessAllowed ? 'block' : 'none';\n",
              "\n",
              "        async function convertToInteractive(key) {\n",
              "          const element = document.querySelector('#df-1545b340-4b33-450c-8870-e90e5974be55');\n",
              "          const dataTable =\n",
              "            await google.colab.kernel.invokeFunction('convertToInteractive',\n",
              "                                                     [key], {});\n",
              "          if (!dataTable) return;\n",
              "\n",
              "          const docLinkHtml = 'Like what you see? Visit the ' +\n",
              "            '<a target=\"_blank\" href=https://colab.research.google.com/notebooks/data_table.ipynb>data table notebook</a>'\n",
              "            + ' to learn more about interactive tables.';\n",
              "          element.innerHTML = '';\n",
              "          dataTable['output_type'] = 'display_data';\n",
              "          await google.colab.output.renderOutput(dataTable, element);\n",
              "          const docLink = document.createElement('div');\n",
              "          docLink.innerHTML = docLinkHtml;\n",
              "          element.appendChild(docLink);\n",
              "        }\n",
              "      </script>\n",
              "    </div>\n",
              "  </div>\n",
              "  "
            ]
          },
          "metadata": {},
          "execution_count": 8
        }
      ]
    },
    {
      "cell_type": "code",
      "source": [
        "ceaps_2022.info()"
      ],
      "metadata": {
        "colab": {
          "base_uri": "https://localhost:8080/"
        },
        "id": "dTIAluQ5wOBt",
        "outputId": "671e7864-3544-4ffd-fd1d-376d3a48480e"
      },
      "execution_count": 9,
      "outputs": [
        {
          "output_type": "stream",
          "name": "stdout",
          "text": [
            "<class 'pandas.core.frame.DataFrame'>\n",
            "RangeIndex: 9761 entries, 0 to 9760\n",
            "Data columns (total 11 columns):\n",
            " #   Column             Non-Null Count  Dtype  \n",
            "---  ------             --------------  -----  \n",
            " 0   ANO                9761 non-null   int64  \n",
            " 1   MES                9761 non-null   int64  \n",
            " 2   SENADOR            9761 non-null   object \n",
            " 3   TIPO_DESPESA       9761 non-null   object \n",
            " 4   CNPJ_CPF           9761 non-null   object \n",
            " 5   FORNECEDOR         9761 non-null   object \n",
            " 6   DOCUMENTO          9250 non-null   object \n",
            " 7   DATA               9761 non-null   object \n",
            " 8   DETALHAMENTO       5178 non-null   object \n",
            " 9   VALOR_REEMBOLSADO  9761 non-null   float64\n",
            " 10  COD_DOCUMENTO      9761 non-null   int64  \n",
            "dtypes: float64(1), int64(3), object(7)\n",
            "memory usage: 839.0+ KB\n"
          ]
        }
      ]
    },
    {
      "cell_type": "markdown",
      "source": [
        "* Os campos ANO, MES, SENADOR, TIPO_DESPESA, CNPJ_CPF, FORNECEDOR, DATA, VALOR_REEMBOLSADO, COD_DOCUMENTO estão preenchidos, mas não necessariamente possuem valores válidos.\n",
        "\n",
        "* Os campos DOCUMENTO e DETALHAMENTO possuem células nulas. \n",
        "\n",
        "* Todos os nomes são de senadores reais."
      ],
      "metadata": {
        "id": "mSDVm0EYwpNq"
      }
    },
    {
      "cell_type": "markdown",
      "source": [
        "# União dos dados de 2011 a 2022 e Tratamentos"
      ],
      "metadata": {
        "id": "PvgDXP_Q7MjW"
      }
    },
    {
      "cell_type": "markdown",
      "source": [
        "* Optei por não utilizar os dados desde o início do CEAPS (2008) porque o período 2008-2010 não abrange um mandato presidencial completo."
      ],
      "metadata": {
        "id": "mjhJI2NQQ56S"
      }
    },
    {
      "cell_type": "markdown",
      "source": [
        "## Abertura dos datasets"
      ],
      "metadata": {
        "id": "3ZLDtWrc7SLx"
      }
    },
    {
      "cell_type": "code",
      "source": [
        "def extrai_dados(caminho):\n",
        "  atualizacao_texto = pd.read_csv(caminho, encoding = \"latin-1\", sep = \";\", nrows = 0)\n",
        "  atualizacao_texto = atualizacao_texto.columns[1]\n",
        "  ultima_atualizacao = datetime.strptime(atualizacao_texto, '%d/%m/%Y %H:%M')\n",
        "\n",
        "  dados = pd.read_csv(caminho, decimal = ',', encoding = 'latin-1', sep = ';', header = 1)\n",
        "\n",
        "  return ultima_atualizacao, dados"
      ],
      "metadata": {
        "id": "7q7dDrz1WMdI"
      },
      "execution_count": 10,
      "outputs": []
    },
    {
      "cell_type": "code",
      "source": [
        "# 2022 a 2019\n",
        "ultima_atualizacao_2022, ceaps_2022 = extrai_dados('https://www.senado.gov.br/transparencia/LAI/verba/despesa_ceaps_2022.csv')\n",
        "ultima_atualizacao_2021, ceaps_2021 = extrai_dados('https://www.senado.gov.br/transparencia/LAI/verba/despesa_ceaps_2021.csv')\n",
        "ultima_atualizacao_2020, ceaps_2020 = extrai_dados('https://www.senado.gov.br/transparencia/LAI/verba/despesa_ceaps_2020.csv')\n",
        "ultima_atualizacao_2019, ceaps_2019 = extrai_dados('https://www.senado.gov.br/transparencia/LAI/verba/despesa_ceaps_2019.csv')\n",
        "\n",
        "print(\"Última atualização de 2022 \" + str(ultima_atualizacao_2022))\n",
        "print(\"Última atualização de 2021 \" + str(ultima_atualizacao_2021))\n",
        "print(\"Última atualização de 2020 \" + str(ultima_atualizacao_2020))\n",
        "print(\"Última atualização de 2019 \" + str(ultima_atualizacao_2019))"
      ],
      "metadata": {
        "colab": {
          "base_uri": "https://localhost:8080/"
        },
        "id": "Ki9vySNYWljM",
        "outputId": "f220b79f-93cb-444e-9016-e5170e561cf7"
      },
      "execution_count": 11,
      "outputs": [
        {
          "output_type": "stream",
          "name": "stdout",
          "text": [
            "Última atualização de 2022 2022-08-11 02:01:00\n",
            "Última atualização de 2021 2022-08-11 02:00:00\n",
            "Última atualização de 2020 2022-08-11 02:00:00\n",
            "Última atualização de 2019 2021-08-06 02:08:00\n"
          ]
        }
      ]
    },
    {
      "cell_type": "code",
      "source": [
        "# 2018 a 2015\n",
        "ultima_atualizacao_2018, ceaps_2018 = extrai_dados('https://www.senado.gov.br/transparencia/LAI/verba/despesa_ceaps_2018.csv')\n",
        "ultima_atualizacao_2017, ceaps_2017 = extrai_dados('https://www.senado.gov.br/transparencia/LAI/verba/despesa_ceaps_2017.csv')\n",
        "ultima_atualizacao_2016, ceaps_2016 = extrai_dados('https://www.senado.gov.br/transparencia/LAI/verba/despesa_ceaps_2016.csv')\n",
        "ultima_atualizacao_2015, ceaps_2015 = extrai_dados('https://www.senado.gov.br/transparencia/LAI/verba/despesa_ceaps_2015.csv')\n",
        "\n",
        "print(\"Última atualização de 2018 \" + str(ultima_atualizacao_2018))\n",
        "print(\"Última atualização de 2017 \" + str(ultima_atualizacao_2017))\n",
        "print(\"Última atualização de 2016 \" + str(ultima_atualizacao_2016))\n",
        "print(\"Última atualização de 2015 \" + str(ultima_atualizacao_2015))"
      ],
      "metadata": {
        "colab": {
          "base_uri": "https://localhost:8080/"
        },
        "id": "6oCyRSGAXli5",
        "outputId": "bbe4b2b4-be3f-4d54-982d-710dff472015"
      },
      "execution_count": 12,
      "outputs": [
        {
          "output_type": "stream",
          "name": "stdout",
          "text": [
            "Última atualização de 2018 2021-08-06 02:06:00\n",
            "Última atualização de 2017 2021-08-06 02:05:00\n",
            "Última atualização de 2016 2021-08-06 02:03:00\n",
            "Última atualização de 2015 2021-08-06 02:01:00\n"
          ]
        }
      ]
    },
    {
      "cell_type": "code",
      "source": [
        "# 2014 a 2011\n",
        "ultima_atualizacao_2014, ceaps_2014 = extrai_dados('https://www.senado.gov.br/transparencia/LAI/verba/despesa_ceaps_2014.csv')\n",
        "ultima_atualizacao_2013, ceaps_2013 = extrai_dados('https://www.senado.gov.br/transparencia/LAI/verba/despesa_ceaps_2013.csv')\n",
        "ultima_atualizacao_2012, ceaps_2012 = extrai_dados('https://www.senado.gov.br/transparencia/LAI/verba/despesa_ceaps_2012.csv')\n",
        "ultima_atualizacao_2011, ceaps_2011 = extrai_dados('https://www.senado.gov.br/transparencia/LAI/verba/despesa_ceaps_2011.csv')\n",
        "\n",
        "# O arquivo de 2013 possui um campo com caracteres que atrapalham a leitura e conversão dos dados\n",
        "ceaps_2013['VALOR_REEMBOLSADO'] = ceaps_2013['VALOR_REEMBOLSADO'].str.replace(',', '.')\n",
        "ceaps_2013['VALOR_REEMBOLSADO'] = ceaps_2013['VALOR_REEMBOLSADO'].str.replace('\\n', '')\n",
        "ceaps_2013['VALOR_REEMBOLSADO'] = ceaps_2013['VALOR_REEMBOLSADO'].str.replace('\\r', '')\n",
        "ceaps_2013['VALOR_REEMBOLSADO'] = ceaps_2013['VALOR_REEMBOLSADO'].astype('float')\n",
        "\n",
        "print(\"Última atualização de 2014 \" + str(ultima_atualizacao_2014))\n",
        "print(\"Última atualização de 2013 \" + str(ultima_atualizacao_2013))\n",
        "print(\"Última atualização de 2012 \" + str(ultima_atualizacao_2012))\n",
        "print(\"Última atualização de 2011 \" + str(ultima_atualizacao_2011))"
      ],
      "metadata": {
        "colab": {
          "base_uri": "https://localhost:8080/"
        },
        "id": "7-AwRpX2Yh7R",
        "outputId": "599f03bd-daed-45b2-8d8f-50ff19d9e879"
      },
      "execution_count": 13,
      "outputs": [
        {
          "output_type": "stream",
          "name": "stdout",
          "text": [
            "Última atualização de 2014 2021-08-06 02:01:00\n",
            "Última atualização de 2013 2021-08-06 02:01:00\n",
            "Última atualização de 2012 2021-08-06 02:01:00\n",
            "Última atualização de 2011 2021-08-06 02:00:00\n"
          ]
        }
      ]
    },
    {
      "cell_type": "code",
      "source": [
        "# 2008 a 2010\n",
        "#ultima_atualizacao_2010, ceaps_2010 = extrai_dados('https://www.senado.gov.br/transparencia/LAI/verba/despesa_ceaps_2010.csv')\n",
        "#ultima_atualizacao_2009, ceaps_2009 = extrai_dados('https://www.senado.gov.br/transparencia/LAI/verba/despesa_ceaps_2009.csv')\n",
        "#ultima_atualizacao_2008, ceaps_2008 = extrai_dados('https://www.senado.gov.br/transparencia/LAI/verba/despesa_ceaps_2008.csv')\n",
        "\n",
        "#print(\"Última atualização de 2010 \" + str(ultima_atualizacao_2010))\n",
        "#print(\"Última atualização de 2009 \" + str(ultima_atualizacao_2009))\n",
        "#print(\"Última atualização de 2008 \" + str(ultima_atualizacao_2008))"
      ],
      "metadata": {
        "id": "Vbvi5OR4Y--2"
      },
      "execution_count": 14,
      "outputs": []
    },
    {
      "cell_type": "markdown",
      "source": [
        "Todas as tabelas possuem as mesmas colunas."
      ],
      "metadata": {
        "id": "2tYQzCbP9K2y"
      }
    },
    {
      "cell_type": "code",
      "source": [
        "dados = [ceaps_2022, ceaps_2021, ceaps_2020, ceaps_2019, ceaps_2018, ceaps_2017, ceaps_2016, ceaps_2015, ceaps_2014, ceaps_2013, ceaps_2012, ceaps_2011]\n",
        "dados_ceaps = pd.concat(dados)\n",
        "dados_ceaps.info()"
      ],
      "metadata": {
        "colab": {
          "base_uri": "https://localhost:8080/"
        },
        "id": "jbzyE9V49E6S",
        "outputId": "989d6418-0c0b-4c08-b903-3457033e1775"
      },
      "execution_count": 15,
      "outputs": [
        {
          "output_type": "stream",
          "name": "stdout",
          "text": [
            "<class 'pandas.core.frame.DataFrame'>\n",
            "Int64Index: 273778 entries, 0 to 25573\n",
            "Data columns (total 11 columns):\n",
            " #   Column             Non-Null Count   Dtype  \n",
            "---  ------             --------------   -----  \n",
            " 0   ANO                273778 non-null  int64  \n",
            " 1   MES                273778 non-null  int64  \n",
            " 2   SENADOR            273778 non-null  object \n",
            " 3   TIPO_DESPESA       273778 non-null  object \n",
            " 4   CNPJ_CPF           273778 non-null  object \n",
            " 5   FORNECEDOR         273778 non-null  object \n",
            " 6   DOCUMENTO          255029 non-null  object \n",
            " 7   DATA               273778 non-null  object \n",
            " 8   DETALHAMENTO       176747 non-null  object \n",
            " 9   VALOR_REEMBOLSADO  273778 non-null  float64\n",
            " 10  COD_DOCUMENTO      273776 non-null  float64\n",
            "dtypes: float64(2), int64(2), object(7)\n",
            "memory usage: 25.1+ MB\n"
          ]
        }
      ]
    },
    {
      "cell_type": "code",
      "source": [
        "dados_ceaps.isnull().any()"
      ],
      "metadata": {
        "colab": {
          "base_uri": "https://localhost:8080/"
        },
        "id": "ddAbXQbIXjYj",
        "outputId": "67695fb9-c91c-4514-aaf5-6607532cb0ce"
      },
      "execution_count": 16,
      "outputs": [
        {
          "output_type": "execute_result",
          "data": {
            "text/plain": [
              "ANO                  False\n",
              "MES                  False\n",
              "SENADOR              False\n",
              "TIPO_DESPESA         False\n",
              "CNPJ_CPF             False\n",
              "FORNECEDOR           False\n",
              "DOCUMENTO             True\n",
              "DATA                 False\n",
              "DETALHAMENTO          True\n",
              "VALOR_REEMBOLSADO    False\n",
              "COD_DOCUMENTO         True\n",
              "dtype: bool"
            ]
          },
          "metadata": {},
          "execution_count": 16
        }
      ]
    },
    {
      "cell_type": "markdown",
      "source": [
        "* As colunas ANO, MES, SENADOR, TIPO_DESPESA, CNPJ_CPF, FORNECEDOR, DATA e VALOR_REEMBOLSADO estão totalmente preenchidas.\n",
        "\n",
        "* Há dois COD_DOCUMENTO faltando.\n",
        "\n",
        "* Faltam dados nas colunas DOCUMENTO e DETALHAMENTO."
      ],
      "metadata": {
        "id": "oQyf0s2LUe80"
      }
    },
    {
      "cell_type": "code",
      "source": [
        "dados_ceaps.head()"
      ],
      "metadata": {
        "colab": {
          "base_uri": "https://localhost:8080/",
          "height": 337
        },
        "id": "5XLqdwSz9cDi",
        "outputId": "590e586a-6b3e-4bf0-c368-fe0759ed722a"
      },
      "execution_count": 18,
      "outputs": [
        {
          "output_type": "execute_result",
          "data": {
            "text/plain": [
              "    ANO  MES       SENADOR                                       TIPO_DESPESA  \\\n",
              "0  2022    1  ACIR GURGACZ  Aluguel de imóveis para escritório político, c...   \n",
              "1  2022    1  ACIR GURGACZ                Divulgação da atividade parlamentar   \n",
              "2  2022    1  ACIR GURGACZ                Divulgação da atividade parlamentar   \n",
              "3  2022    1  ACIR GURGACZ                Divulgação da atividade parlamentar   \n",
              "4  2022    1  ACIR GURGACZ                Divulgação da atividade parlamentar   \n",
              "\n",
              "             CNPJ_CPF                                         FORNECEDOR  \\\n",
              "0      004.948.028-63                      GILBERTO PISELO DO NASCIMENTO   \n",
              "1  26.320.603/0001-64                                      INFORMANAHORA   \n",
              "2  13.659.201/0001-47                    LINHA PURPURA FOTO E VIDEO LTDA   \n",
              "3  23.652.846/0001-01                  ROBERTO GUTIERREZ DA ROCHA M.E.I.   \n",
              "4  08.941.827/0001-01  RONDONIA DINÂMICA COM. E SERV. DE INFORMÁTICA ...   \n",
              "\n",
              "           DOCUMENTO        DATA  \\\n",
              "0             001/22  03/01/2022   \n",
              "1  000000000000310/A  04/01/2022   \n",
              "2                107  14/01/2022   \n",
              "3                187  18/01/2022   \n",
              "4  000000000001772/A  17/01/2022   \n",
              "\n",
              "                                        DETALHAMENTO  VALOR_REEMBOLSADO  \\\n",
              "0  Despesa com pagamento de aluguel de imóvel par...             6000.0   \n",
              "1  Despesa com divulgação da atividade parlamenta...             1500.0   \n",
              "2  Despesa com produção de texto e edição de víde...             6000.0   \n",
              "3                Divulgação da atividade parlamentar             1000.0   \n",
              "4                Divulgação da atividade parlamentar             2000.0   \n",
              "\n",
              "   COD_DOCUMENTO  \n",
              "0      2173614.0  \n",
              "1      2173615.0  \n",
              "2      2173616.0  \n",
              "3      2173618.0  \n",
              "4      2173617.0  "
            ],
            "text/html": [
              "\n",
              "  <div id=\"df-66d03cb4-ce38-4b62-8a54-2ec04f6f38af\">\n",
              "    <div class=\"colab-df-container\">\n",
              "      <div>\n",
              "<style scoped>\n",
              "    .dataframe tbody tr th:only-of-type {\n",
              "        vertical-align: middle;\n",
              "    }\n",
              "\n",
              "    .dataframe tbody tr th {\n",
              "        vertical-align: top;\n",
              "    }\n",
              "\n",
              "    .dataframe thead th {\n",
              "        text-align: right;\n",
              "    }\n",
              "</style>\n",
              "<table border=\"1\" class=\"dataframe\">\n",
              "  <thead>\n",
              "    <tr style=\"text-align: right;\">\n",
              "      <th></th>\n",
              "      <th>ANO</th>\n",
              "      <th>MES</th>\n",
              "      <th>SENADOR</th>\n",
              "      <th>TIPO_DESPESA</th>\n",
              "      <th>CNPJ_CPF</th>\n",
              "      <th>FORNECEDOR</th>\n",
              "      <th>DOCUMENTO</th>\n",
              "      <th>DATA</th>\n",
              "      <th>DETALHAMENTO</th>\n",
              "      <th>VALOR_REEMBOLSADO</th>\n",
              "      <th>COD_DOCUMENTO</th>\n",
              "    </tr>\n",
              "  </thead>\n",
              "  <tbody>\n",
              "    <tr>\n",
              "      <th>0</th>\n",
              "      <td>2022</td>\n",
              "      <td>1</td>\n",
              "      <td>ACIR GURGACZ</td>\n",
              "      <td>Aluguel de imóveis para escritório político, c...</td>\n",
              "      <td>004.948.028-63</td>\n",
              "      <td>GILBERTO PISELO DO NASCIMENTO</td>\n",
              "      <td>001/22</td>\n",
              "      <td>03/01/2022</td>\n",
              "      <td>Despesa com pagamento de aluguel de imóvel par...</td>\n",
              "      <td>6000.0</td>\n",
              "      <td>2173614.0</td>\n",
              "    </tr>\n",
              "    <tr>\n",
              "      <th>1</th>\n",
              "      <td>2022</td>\n",
              "      <td>1</td>\n",
              "      <td>ACIR GURGACZ</td>\n",
              "      <td>Divulgação da atividade parlamentar</td>\n",
              "      <td>26.320.603/0001-64</td>\n",
              "      <td>INFORMANAHORA</td>\n",
              "      <td>000000000000310/A</td>\n",
              "      <td>04/01/2022</td>\n",
              "      <td>Despesa com divulgação da atividade parlamenta...</td>\n",
              "      <td>1500.0</td>\n",
              "      <td>2173615.0</td>\n",
              "    </tr>\n",
              "    <tr>\n",
              "      <th>2</th>\n",
              "      <td>2022</td>\n",
              "      <td>1</td>\n",
              "      <td>ACIR GURGACZ</td>\n",
              "      <td>Divulgação da atividade parlamentar</td>\n",
              "      <td>13.659.201/0001-47</td>\n",
              "      <td>LINHA PURPURA FOTO E VIDEO LTDA</td>\n",
              "      <td>107</td>\n",
              "      <td>14/01/2022</td>\n",
              "      <td>Despesa com produção de texto e edição de víde...</td>\n",
              "      <td>6000.0</td>\n",
              "      <td>2173616.0</td>\n",
              "    </tr>\n",
              "    <tr>\n",
              "      <th>3</th>\n",
              "      <td>2022</td>\n",
              "      <td>1</td>\n",
              "      <td>ACIR GURGACZ</td>\n",
              "      <td>Divulgação da atividade parlamentar</td>\n",
              "      <td>23.652.846/0001-01</td>\n",
              "      <td>ROBERTO GUTIERREZ DA ROCHA M.E.I.</td>\n",
              "      <td>187</td>\n",
              "      <td>18/01/2022</td>\n",
              "      <td>Divulgação da atividade parlamentar</td>\n",
              "      <td>1000.0</td>\n",
              "      <td>2173618.0</td>\n",
              "    </tr>\n",
              "    <tr>\n",
              "      <th>4</th>\n",
              "      <td>2022</td>\n",
              "      <td>1</td>\n",
              "      <td>ACIR GURGACZ</td>\n",
              "      <td>Divulgação da atividade parlamentar</td>\n",
              "      <td>08.941.827/0001-01</td>\n",
              "      <td>RONDONIA DINÂMICA COM. E SERV. DE INFORMÁTICA ...</td>\n",
              "      <td>000000000001772/A</td>\n",
              "      <td>17/01/2022</td>\n",
              "      <td>Divulgação da atividade parlamentar</td>\n",
              "      <td>2000.0</td>\n",
              "      <td>2173617.0</td>\n",
              "    </tr>\n",
              "  </tbody>\n",
              "</table>\n",
              "</div>\n",
              "      <button class=\"colab-df-convert\" onclick=\"convertToInteractive('df-66d03cb4-ce38-4b62-8a54-2ec04f6f38af')\"\n",
              "              title=\"Convert this dataframe to an interactive table.\"\n",
              "              style=\"display:none;\">\n",
              "        \n",
              "  <svg xmlns=\"http://www.w3.org/2000/svg\" height=\"24px\"viewBox=\"0 0 24 24\"\n",
              "       width=\"24px\">\n",
              "    <path d=\"M0 0h24v24H0V0z\" fill=\"none\"/>\n",
              "    <path d=\"M18.56 5.44l.94 2.06.94-2.06 2.06-.94-2.06-.94-.94-2.06-.94 2.06-2.06.94zm-11 1L8.5 8.5l.94-2.06 2.06-.94-2.06-.94L8.5 2.5l-.94 2.06-2.06.94zm10 10l.94 2.06.94-2.06 2.06-.94-2.06-.94-.94-2.06-.94 2.06-2.06.94z\"/><path d=\"M17.41 7.96l-1.37-1.37c-.4-.4-.92-.59-1.43-.59-.52 0-1.04.2-1.43.59L10.3 9.45l-7.72 7.72c-.78.78-.78 2.05 0 2.83L4 21.41c.39.39.9.59 1.41.59.51 0 1.02-.2 1.41-.59l7.78-7.78 2.81-2.81c.8-.78.8-2.07 0-2.86zM5.41 20L4 18.59l7.72-7.72 1.47 1.35L5.41 20z\"/>\n",
              "  </svg>\n",
              "      </button>\n",
              "      \n",
              "  <style>\n",
              "    .colab-df-container {\n",
              "      display:flex;\n",
              "      flex-wrap:wrap;\n",
              "      gap: 12px;\n",
              "    }\n",
              "\n",
              "    .colab-df-convert {\n",
              "      background-color: #E8F0FE;\n",
              "      border: none;\n",
              "      border-radius: 50%;\n",
              "      cursor: pointer;\n",
              "      display: none;\n",
              "      fill: #1967D2;\n",
              "      height: 32px;\n",
              "      padding: 0 0 0 0;\n",
              "      width: 32px;\n",
              "    }\n",
              "\n",
              "    .colab-df-convert:hover {\n",
              "      background-color: #E2EBFA;\n",
              "      box-shadow: 0px 1px 2px rgba(60, 64, 67, 0.3), 0px 1px 3px 1px rgba(60, 64, 67, 0.15);\n",
              "      fill: #174EA6;\n",
              "    }\n",
              "\n",
              "    [theme=dark] .colab-df-convert {\n",
              "      background-color: #3B4455;\n",
              "      fill: #D2E3FC;\n",
              "    }\n",
              "\n",
              "    [theme=dark] .colab-df-convert:hover {\n",
              "      background-color: #434B5C;\n",
              "      box-shadow: 0px 1px 3px 1px rgba(0, 0, 0, 0.15);\n",
              "      filter: drop-shadow(0px 1px 2px rgba(0, 0, 0, 0.3));\n",
              "      fill: #FFFFFF;\n",
              "    }\n",
              "  </style>\n",
              "\n",
              "      <script>\n",
              "        const buttonEl =\n",
              "          document.querySelector('#df-66d03cb4-ce38-4b62-8a54-2ec04f6f38af button.colab-df-convert');\n",
              "        buttonEl.style.display =\n",
              "          google.colab.kernel.accessAllowed ? 'block' : 'none';\n",
              "\n",
              "        async function convertToInteractive(key) {\n",
              "          const element = document.querySelector('#df-66d03cb4-ce38-4b62-8a54-2ec04f6f38af');\n",
              "          const dataTable =\n",
              "            await google.colab.kernel.invokeFunction('convertToInteractive',\n",
              "                                                     [key], {});\n",
              "          if (!dataTable) return;\n",
              "\n",
              "          const docLinkHtml = 'Like what you see? Visit the ' +\n",
              "            '<a target=\"_blank\" href=https://colab.research.google.com/notebooks/data_table.ipynb>data table notebook</a>'\n",
              "            + ' to learn more about interactive tables.';\n",
              "          element.innerHTML = '';\n",
              "          dataTable['output_type'] = 'display_data';\n",
              "          await google.colab.output.renderOutput(dataTable, element);\n",
              "          const docLink = document.createElement('div');\n",
              "          docLink.innerHTML = docLinkHtml;\n",
              "          element.appendChild(docLink);\n",
              "        }\n",
              "      </script>\n",
              "    </div>\n",
              "  </div>\n",
              "  "
            ]
          },
          "metadata": {},
          "execution_count": 18
        }
      ]
    },
    {
      "cell_type": "markdown",
      "source": [
        "## Tratamentos"
      ],
      "metadata": {
        "id": "XkLmaWMK_o2F"
      }
    },
    {
      "cell_type": "markdown",
      "source": [
        "### Correção de datas"
      ],
      "metadata": {
        "id": "0fUYAkswCoRr"
      }
    },
    {
      "cell_type": "markdown",
      "source": [
        "* As datas contêm muitos problemas de preenchimento, desde campos preenchidos com texto até valores muito altos ou muito baixos.\n",
        "\n",
        "* Para evitar transtornos, passarei a considerar apenas as colunas MES e ANO, que compõem a data em que o reembolso foi requisitado, e não parecem conter erros tão aparentes. "
      ],
      "metadata": {
        "id": "eEQooWaxuL9c"
      }
    },
    {
      "cell_type": "code",
      "source": [
        "print(dados_ceaps['MES'].unique())\n",
        "print(dados_ceaps['ANO'].unique())"
      ],
      "metadata": {
        "colab": {
          "base_uri": "https://localhost:8080/"
        },
        "id": "j9wSHTUkvhp0",
        "outputId": "58fb840c-2aa1-429a-ad95-bb6b8444f046"
      },
      "execution_count": 19,
      "outputs": [
        {
          "output_type": "stream",
          "name": "stdout",
          "text": [
            "[ 1  2  3  4  5  6  7  8  9 10 11 12]\n",
            "[2022 2021 2020 2019 2018 2017 2016 2015 2014 2013 2012 2011]\n"
          ]
        }
      ]
    },
    {
      "cell_type": "markdown",
      "source": [
        "### Erros encontrados no preenchimento do campo DATA"
      ],
      "metadata": {
        "id": "5xf52jK8vrx9"
      }
    },
    {
      "cell_type": "markdown",
      "source": [
        "#### Em duas linhas, o campo DATA foi preenchido com o que deveria estar no campo DETALHAMENTO, provavelmente um equívoco na hora de preencher o formulário."
      ],
      "metadata": {
        "id": "Nq5FaaXDUH3o"
      }
    },
    {
      "cell_type": "code",
      "source": [
        "dados_ceaps['DATA'].str[6:].value_counts()"
      ],
      "metadata": {
        "colab": {
          "base_uri": "https://localhost:8080/"
        },
        "id": "VLBTWJ7h9kMh",
        "outputId": "8b569487-da92-45fa-d238-b698e31075d5"
      },
      "execution_count": 20,
      "outputs": [
        {
          "output_type": "execute_result",
          "data": {
            "text/plain": [
              "2012                                                                                                                                                         30215\n",
              "2013                                                                                                                                                         29290\n",
              "2017                                                                                                                                                         27111\n",
              "2016                                                                                                                                                         26786\n",
              "2015                                                                                                                                                         26003\n",
              "2011                                                                                                                                                         25513\n",
              "2018                                                                                                                                                         24399\n",
              "2014                                                                                                                                                         22009\n",
              "2019                                                                                                                                                         21683\n",
              "2021                                                                                                                                                         16847\n",
              "2020                                                                                                                                                         14003\n",
              "2022                                                                                                                                                          9799\n",
              "2010                                                                                                                                                            32\n",
              "2001                                                                                                                                                            23\n",
              "2002                                                                                                                                                            12\n",
              "2106                                                                                                                                                             6\n",
              "2007                                                                                                                                                             4\n",
              "0201                                                                                                                                                             3\n",
              "0202                                                                                                                                                             2\n",
              "0215                                                                                                                                                             2\n",
              "2041                                                                                                                                                             2\n",
              "2004                                                                                                                                                             2\n",
              "1962                                                                                                                                                             2\n",
              "1201                                                                                                                                                             2\n",
              "2105                                                                                                                                                             2\n",
              "1965                                                                                                                                                             1\n",
              "1956                                                                                                                                                             1\n",
              "2023                                                                                                                                                             1\n",
              "1980                                                                                                                                                             1\n",
              "hia Aérea: TAM, Localizador: YXGDSJ. Passageiros: JOSÉ SILVIO MONTEIRO (Matrícula 188223, COMISSIONADO), Voo: 3538 - BRASÍLIA/ARACAJU - 07/08/2015;              1\n",
              "5201                                                                                                                                                             1\n",
              "2003                                                                                                                                                             1\n",
              "5015                                                                                                                                                             1\n",
              "2915                                                                                                                                                             1\n",
              "hia Aérea: AVIANCA, Localizador: ZNEU9F. Passageiros: EDUARDO ALVES DO AMORIM (Matrícula 234312, PARLAMENTAR), Voo: 6223 - ARACAJU/BRASÍLIA - 24/08/2015;        1\n",
              "2101                                                                                                                                                             1\n",
              "1986                                                                                                                                                             1\n",
              "0206                                                                                                                                                             1\n",
              "1977                                                                                                                                                             1\n",
              "0200                                                                                                                                                             1\n",
              "0216                                                                                                                                                             1\n",
              "3016                                                                                                                                                             1\n",
              "5017                                                                                                                                                             1\n",
              "0217                                                                                                                                                             1\n",
              "2107                                                                                                                                                             1\n",
              "1017                                                                                                                                                             1\n",
              "0208                                                                                                                                                             1\n",
              "1957                                                                                                                                                             1\n",
              "0219                                                                                                                                                             1\n",
              "2009                                                                                                                                                             1\n",
              "1901                                                                                                                                                             1\n",
              "Name: DATA, dtype: int64"
            ]
          },
          "metadata": {},
          "execution_count": 20
        }
      ]
    },
    {
      "cell_type": "code",
      "source": [
        "index_erros = dados_ceaps['DATA'].str.contains('Aérea')\n",
        "index_erros\n",
        "dados_ceaps[index_erros]"
      ],
      "metadata": {
        "colab": {
          "base_uri": "https://localhost:8080/",
          "height": 0
        },
        "id": "0jqqAM2vekKo",
        "outputId": "97dd1a5f-7650-4d71-c431-c3500749f162"
      },
      "execution_count": 21,
      "outputs": [
        {
          "output_type": "execute_result",
          "data": {
            "text/plain": [
              "       ANO  MES         SENADOR  \\\n",
              "5922  2015    8  EDUARDO AMORIM   \n",
              "5929  2015    8  EDUARDO AMORIM   \n",
              "\n",
              "                                           TIPO_DESPESA            CNPJ_CPF  \\\n",
              "5922  Passagens aéreas, aquáticas e terrestres nacio...  13.353.495/0001-84   \n",
              "5929  Passagens aéreas, aquáticas e terrestres nacio...  13.353.495/0001-84   \n",
              "\n",
              "                           FORNECEDOR                  DOCUMENTO  \\\n",
              "5922  PROPAGTUR - Propag Turismo Ltda    SEM FATURA\";02/08/2015\"   \n",
              "5929  PROPAGTUR - Propag Turismo Ltda  ¨¨SEM FATURA\";17/08/2015\"   \n",
              "\n",
              "                                                   DATA DETALHAMENTO  \\\n",
              "5922  Companhia Aérea: TAM, Localizador: YXGDSJ. Pas...       469,53   \n",
              "5929  Companhia Aérea: AVIANCA, Localizador: ZNEU9F....       460,45   \n",
              "\n",
              "      VALOR_REEMBOLSADO  COD_DOCUMENTO  \n",
              "5922          2014675.0            NaN  \n",
              "5929          2016557.0            NaN  "
            ],
            "text/html": [
              "\n",
              "  <div id=\"df-83e61000-6a1a-48e5-83a3-fe5b833c131e\">\n",
              "    <div class=\"colab-df-container\">\n",
              "      <div>\n",
              "<style scoped>\n",
              "    .dataframe tbody tr th:only-of-type {\n",
              "        vertical-align: middle;\n",
              "    }\n",
              "\n",
              "    .dataframe tbody tr th {\n",
              "        vertical-align: top;\n",
              "    }\n",
              "\n",
              "    .dataframe thead th {\n",
              "        text-align: right;\n",
              "    }\n",
              "</style>\n",
              "<table border=\"1\" class=\"dataframe\">\n",
              "  <thead>\n",
              "    <tr style=\"text-align: right;\">\n",
              "      <th></th>\n",
              "      <th>ANO</th>\n",
              "      <th>MES</th>\n",
              "      <th>SENADOR</th>\n",
              "      <th>TIPO_DESPESA</th>\n",
              "      <th>CNPJ_CPF</th>\n",
              "      <th>FORNECEDOR</th>\n",
              "      <th>DOCUMENTO</th>\n",
              "      <th>DATA</th>\n",
              "      <th>DETALHAMENTO</th>\n",
              "      <th>VALOR_REEMBOLSADO</th>\n",
              "      <th>COD_DOCUMENTO</th>\n",
              "    </tr>\n",
              "  </thead>\n",
              "  <tbody>\n",
              "    <tr>\n",
              "      <th>5922</th>\n",
              "      <td>2015</td>\n",
              "      <td>8</td>\n",
              "      <td>EDUARDO AMORIM</td>\n",
              "      <td>Passagens aéreas, aquáticas e terrestres nacio...</td>\n",
              "      <td>13.353.495/0001-84</td>\n",
              "      <td>PROPAGTUR - Propag Turismo Ltda</td>\n",
              "      <td>SEM FATURA\";02/08/2015\"</td>\n",
              "      <td>Companhia Aérea: TAM, Localizador: YXGDSJ. Pas...</td>\n",
              "      <td>469,53</td>\n",
              "      <td>2014675.0</td>\n",
              "      <td>NaN</td>\n",
              "    </tr>\n",
              "    <tr>\n",
              "      <th>5929</th>\n",
              "      <td>2015</td>\n",
              "      <td>8</td>\n",
              "      <td>EDUARDO AMORIM</td>\n",
              "      <td>Passagens aéreas, aquáticas e terrestres nacio...</td>\n",
              "      <td>13.353.495/0001-84</td>\n",
              "      <td>PROPAGTUR - Propag Turismo Ltda</td>\n",
              "      <td>¨¨SEM FATURA\";17/08/2015\"</td>\n",
              "      <td>Companhia Aérea: AVIANCA, Localizador: ZNEU9F....</td>\n",
              "      <td>460,45</td>\n",
              "      <td>2016557.0</td>\n",
              "      <td>NaN</td>\n",
              "    </tr>\n",
              "  </tbody>\n",
              "</table>\n",
              "</div>\n",
              "      <button class=\"colab-df-convert\" onclick=\"convertToInteractive('df-83e61000-6a1a-48e5-83a3-fe5b833c131e')\"\n",
              "              title=\"Convert this dataframe to an interactive table.\"\n",
              "              style=\"display:none;\">\n",
              "        \n",
              "  <svg xmlns=\"http://www.w3.org/2000/svg\" height=\"24px\"viewBox=\"0 0 24 24\"\n",
              "       width=\"24px\">\n",
              "    <path d=\"M0 0h24v24H0V0z\" fill=\"none\"/>\n",
              "    <path d=\"M18.56 5.44l.94 2.06.94-2.06 2.06-.94-2.06-.94-.94-2.06-.94 2.06-2.06.94zm-11 1L8.5 8.5l.94-2.06 2.06-.94-2.06-.94L8.5 2.5l-.94 2.06-2.06.94zm10 10l.94 2.06.94-2.06 2.06-.94-2.06-.94-.94-2.06-.94 2.06-2.06.94z\"/><path d=\"M17.41 7.96l-1.37-1.37c-.4-.4-.92-.59-1.43-.59-.52 0-1.04.2-1.43.59L10.3 9.45l-7.72 7.72c-.78.78-.78 2.05 0 2.83L4 21.41c.39.39.9.59 1.41.59.51 0 1.02-.2 1.41-.59l7.78-7.78 2.81-2.81c.8-.78.8-2.07 0-2.86zM5.41 20L4 18.59l7.72-7.72 1.47 1.35L5.41 20z\"/>\n",
              "  </svg>\n",
              "      </button>\n",
              "      \n",
              "  <style>\n",
              "    .colab-df-container {\n",
              "      display:flex;\n",
              "      flex-wrap:wrap;\n",
              "      gap: 12px;\n",
              "    }\n",
              "\n",
              "    .colab-df-convert {\n",
              "      background-color: #E8F0FE;\n",
              "      border: none;\n",
              "      border-radius: 50%;\n",
              "      cursor: pointer;\n",
              "      display: none;\n",
              "      fill: #1967D2;\n",
              "      height: 32px;\n",
              "      padding: 0 0 0 0;\n",
              "      width: 32px;\n",
              "    }\n",
              "\n",
              "    .colab-df-convert:hover {\n",
              "      background-color: #E2EBFA;\n",
              "      box-shadow: 0px 1px 2px rgba(60, 64, 67, 0.3), 0px 1px 3px 1px rgba(60, 64, 67, 0.15);\n",
              "      fill: #174EA6;\n",
              "    }\n",
              "\n",
              "    [theme=dark] .colab-df-convert {\n",
              "      background-color: #3B4455;\n",
              "      fill: #D2E3FC;\n",
              "    }\n",
              "\n",
              "    [theme=dark] .colab-df-convert:hover {\n",
              "      background-color: #434B5C;\n",
              "      box-shadow: 0px 1px 3px 1px rgba(0, 0, 0, 0.15);\n",
              "      filter: drop-shadow(0px 1px 2px rgba(0, 0, 0, 0.3));\n",
              "      fill: #FFFFFF;\n",
              "    }\n",
              "  </style>\n",
              "\n",
              "      <script>\n",
              "        const buttonEl =\n",
              "          document.querySelector('#df-83e61000-6a1a-48e5-83a3-fe5b833c131e button.colab-df-convert');\n",
              "        buttonEl.style.display =\n",
              "          google.colab.kernel.accessAllowed ? 'block' : 'none';\n",
              "\n",
              "        async function convertToInteractive(key) {\n",
              "          const element = document.querySelector('#df-83e61000-6a1a-48e5-83a3-fe5b833c131e');\n",
              "          const dataTable =\n",
              "            await google.colab.kernel.invokeFunction('convertToInteractive',\n",
              "                                                     [key], {});\n",
              "          if (!dataTable) return;\n",
              "\n",
              "          const docLinkHtml = 'Like what you see? Visit the ' +\n",
              "            '<a target=\"_blank\" href=https://colab.research.google.com/notebooks/data_table.ipynb>data table notebook</a>'\n",
              "            + ' to learn more about interactive tables.';\n",
              "          element.innerHTML = '';\n",
              "          dataTable['output_type'] = 'display_data';\n",
              "          await google.colab.output.renderOutput(dataTable, element);\n",
              "          const docLink = document.createElement('div');\n",
              "          docLink.innerHTML = docLinkHtml;\n",
              "          element.appendChild(docLink);\n",
              "        }\n",
              "      </script>\n",
              "    </div>\n",
              "  </div>\n",
              "  "
            ]
          },
          "metadata": {},
          "execution_count": 21
        }
      ]
    },
    {
      "cell_type": "code",
      "source": [
        "dados_ceaps[\"DATA\"] = [x.replace('Companhia Aérea: AVIANCA, Localizador: ZNEU9F. Passageiros: EDUARDO ALVES DO AMORIM (Matrícula 234312, PARLAMENTAR), Voo: 6223 - ARACAJU/BRASÍLIA - 24/08/2015;', '24/08/2015') for x in dados_ceaps[\"DATA\"]]\n",
        "dados_ceaps[\"DATA\"] = [x.replace('Companhia Aérea: TAM, Localizador: YXGDSJ. Passageiros: JOSÉ SILVIO MONTEIRO (Matrícula 188223, COMISSIONADO), Voo: 3538 - BRASÍLIA/ARACAJU - 07/08/2015;', '07/08/2015') for x in dados_ceaps[\"DATA\"]]"
      ],
      "metadata": {
        "id": "Lqnzboppg0MZ"
      },
      "execution_count": 22,
      "outputs": []
    },
    {
      "cell_type": "markdown",
      "source": [
        "* O restante dos valores das duas linhas parecem estar preenchidos com números possivelmente reais.\n",
        "\n",
        "* Entretando, alguns dos anos fornecidos sequer estão dentro das margens aceitas pelo datetime e podem gerar erros em uma conversão direta."
      ],
      "metadata": {
        "id": "CDI1GUPVgSIk"
      }
    },
    {
      "cell_type": "markdown",
      "source": [
        "#### Datas com valores muito aquém do que poderia ser possível"
      ],
      "metadata": {
        "id": "gnYXNwVpV0xk"
      }
    },
    {
      "cell_type": "code",
      "source": [
        "dados_ceaps['DATA'].str[6:].value_counts()"
      ],
      "metadata": {
        "colab": {
          "base_uri": "https://localhost:8080/"
        },
        "id": "A-ak1_-thgGH",
        "outputId": "df6ce135-37b9-4730-9f1a-d03da5c796c7"
      },
      "execution_count": 23,
      "outputs": [
        {
          "output_type": "execute_result",
          "data": {
            "text/plain": [
              "2012    30215\n",
              "2013    29290\n",
              "2017    27111\n",
              "2016    26786\n",
              "2015    26005\n",
              "2011    25513\n",
              "2018    24399\n",
              "2014    22009\n",
              "2019    21683\n",
              "2021    16847\n",
              "2020    14003\n",
              "2022     9799\n",
              "2010       32\n",
              "2001       23\n",
              "2002       12\n",
              "2106        6\n",
              "2007        4\n",
              "0201        3\n",
              "1962        2\n",
              "2041        2\n",
              "0215        2\n",
              "1201        2\n",
              "2105        2\n",
              "2004        2\n",
              "0202        2\n",
              "2023        1\n",
              "2003        1\n",
              "1956        1\n",
              "1965        1\n",
              "5201        1\n",
              "1980        1\n",
              "5015        1\n",
              "2915        1\n",
              "0217        1\n",
              "1986        1\n",
              "0206        1\n",
              "1977        1\n",
              "0200        1\n",
              "0216        1\n",
              "3016        1\n",
              "5017        1\n",
              "2101        1\n",
              "2107        1\n",
              "1017        1\n",
              "0208        1\n",
              "1957        1\n",
              "0219        1\n",
              "2009        1\n",
              "1901        1\n",
              "Name: DATA, dtype: int64"
            ]
          },
          "metadata": {},
          "execution_count": 23
        }
      ]
    },
    {
      "cell_type": "code",
      "source": [
        "dados_ceaps['ANO_INT_TEMP'] = pd.to_numeric(dados_ceaps['DATA'].str[6:])\n",
        "dados_ceaps.info()"
      ],
      "metadata": {
        "colab": {
          "base_uri": "https://localhost:8080/"
        },
        "id": "2og_Gn4FlpDJ",
        "outputId": "7e712a78-7279-461c-9dae-7547c3e82bb0"
      },
      "execution_count": 24,
      "outputs": [
        {
          "output_type": "stream",
          "name": "stdout",
          "text": [
            "<class 'pandas.core.frame.DataFrame'>\n",
            "Int64Index: 273778 entries, 0 to 25573\n",
            "Data columns (total 12 columns):\n",
            " #   Column             Non-Null Count   Dtype  \n",
            "---  ------             --------------   -----  \n",
            " 0   ANO                273778 non-null  int64  \n",
            " 1   MES                273778 non-null  int64  \n",
            " 2   SENADOR            273778 non-null  object \n",
            " 3   TIPO_DESPESA       273778 non-null  object \n",
            " 4   CNPJ_CPF           273778 non-null  object \n",
            " 5   FORNECEDOR         273778 non-null  object \n",
            " 6   DOCUMENTO          255029 non-null  object \n",
            " 7   DATA               273778 non-null  object \n",
            " 8   DETALHAMENTO       176747 non-null  object \n",
            " 9   VALOR_REEMBOLSADO  273778 non-null  float64\n",
            " 10  COD_DOCUMENTO      273776 non-null  float64\n",
            " 11  ANO_INT_TEMP       273778 non-null  int64  \n",
            "dtypes: float64(2), int64(3), object(7)\n",
            "memory usage: 27.2+ MB\n"
          ]
        }
      ]
    },
    {
      "cell_type": "code",
      "source": [
        "index_ano_invalido_maiores = dados_ceaps['ANO_INT_TEMP'] > 2261\n",
        "dados_ceaps[index_ano_invalido_maiores]"
      ],
      "metadata": {
        "colab": {
          "base_uri": "https://localhost:8080/",
          "height": 0
        },
        "id": "XCcwkj78mDWV",
        "outputId": "a2f71220-6734-49a7-e3bd-1b8f03531133"
      },
      "execution_count": 25,
      "outputs": [
        {
          "output_type": "execute_result",
          "data": {
            "text/plain": [
              "        ANO  MES             SENADOR  \\\n",
              "2191   2016   10    ARMANDO MONTEIRO   \n",
              "12438  2016    4       JOSÉ MEDEIROS   \n",
              "10358  2015   10  JOÃO ALBERTO SOUZA   \n",
              "12179  2015    4       JOSÉ MEDEIROS   \n",
              "22966  2015    5       TELMÁRIO MOTA   \n",
              "\n",
              "                                            TIPO_DESPESA            CNPJ_CPF  \\\n",
              "2191   Aluguel de imóveis para escritório político, c...  41.054.867/0001-07   \n",
              "12438  Locomoção, hospedagem, alimentação, combustíve...  12.262.251/0001-23   \n",
              "10358  Passagens aéreas, aquáticas e terrestres nacio...  16.978.175/0001-08   \n",
              "12179  Passagens aéreas, aquáticas e terrestres nacio...  16.978.175/0001-08   \n",
              "22966  Passagens aéreas, aquáticas e terrestres nacio...  12.795.601/0001-17   \n",
              "\n",
              "                             FORNECEDOR   DOCUMENTO        DATA  \\\n",
              "2191                Jadan Office Center  1101610021  20/07/5017   \n",
              "12438             HOTEL GRAN ODARA LTDA       65509  02/04/3016   \n",
              "10358      ADRIA VIAGENS E TURISMO LTDA         NaN  06/10/2915   \n",
              "12179                     ADRIA VIAGENS         NaN  24/02/5015   \n",
              "22966  GLOBAL VIAGENS EVENTOS E TURISMO      010/15  08/05/5201   \n",
              "\n",
              "                                            DETALHAMENTO  VALOR_REEMBOLSADO  \\\n",
              "2191   Taxa de condomínio do escritório parlamentar, ...             811.89   \n",
              "12438                             despesa com hospedagem             259.90   \n",
              "10358  Companhia Aérea: GOL, Localizador: HF2VJM. Pas...             993.46   \n",
              "12179  Companhia Aérea: AVIANCA, Localizador: 42BZ8L....             821.25   \n",
              "22966  Companhia Aérea: TAM, Localizador: 5MHYZ3. Pas...            2659.35   \n",
              "\n",
              "       COD_DOCUMENTO  ANO_INT_TEMP  \n",
              "2191       2050224.0          5017  \n",
              "12438      2034257.0          3016  \n",
              "10358      2029364.0          2915  \n",
              "12179      2011103.0          5015  \n",
              "22966      2007486.0          5201  "
            ],
            "text/html": [
              "\n",
              "  <div id=\"df-b15620b0-990d-45c9-bb70-81beec8fe346\">\n",
              "    <div class=\"colab-df-container\">\n",
              "      <div>\n",
              "<style scoped>\n",
              "    .dataframe tbody tr th:only-of-type {\n",
              "        vertical-align: middle;\n",
              "    }\n",
              "\n",
              "    .dataframe tbody tr th {\n",
              "        vertical-align: top;\n",
              "    }\n",
              "\n",
              "    .dataframe thead th {\n",
              "        text-align: right;\n",
              "    }\n",
              "</style>\n",
              "<table border=\"1\" class=\"dataframe\">\n",
              "  <thead>\n",
              "    <tr style=\"text-align: right;\">\n",
              "      <th></th>\n",
              "      <th>ANO</th>\n",
              "      <th>MES</th>\n",
              "      <th>SENADOR</th>\n",
              "      <th>TIPO_DESPESA</th>\n",
              "      <th>CNPJ_CPF</th>\n",
              "      <th>FORNECEDOR</th>\n",
              "      <th>DOCUMENTO</th>\n",
              "      <th>DATA</th>\n",
              "      <th>DETALHAMENTO</th>\n",
              "      <th>VALOR_REEMBOLSADO</th>\n",
              "      <th>COD_DOCUMENTO</th>\n",
              "      <th>ANO_INT_TEMP</th>\n",
              "    </tr>\n",
              "  </thead>\n",
              "  <tbody>\n",
              "    <tr>\n",
              "      <th>2191</th>\n",
              "      <td>2016</td>\n",
              "      <td>10</td>\n",
              "      <td>ARMANDO MONTEIRO</td>\n",
              "      <td>Aluguel de imóveis para escritório político, c...</td>\n",
              "      <td>41.054.867/0001-07</td>\n",
              "      <td>Jadan Office Center</td>\n",
              "      <td>1101610021</td>\n",
              "      <td>20/07/5017</td>\n",
              "      <td>Taxa de condomínio do escritório parlamentar, ...</td>\n",
              "      <td>811.89</td>\n",
              "      <td>2050224.0</td>\n",
              "      <td>5017</td>\n",
              "    </tr>\n",
              "    <tr>\n",
              "      <th>12438</th>\n",
              "      <td>2016</td>\n",
              "      <td>4</td>\n",
              "      <td>JOSÉ MEDEIROS</td>\n",
              "      <td>Locomoção, hospedagem, alimentação, combustíve...</td>\n",
              "      <td>12.262.251/0001-23</td>\n",
              "      <td>HOTEL GRAN ODARA LTDA</td>\n",
              "      <td>65509</td>\n",
              "      <td>02/04/3016</td>\n",
              "      <td>despesa com hospedagem</td>\n",
              "      <td>259.90</td>\n",
              "      <td>2034257.0</td>\n",
              "      <td>3016</td>\n",
              "    </tr>\n",
              "    <tr>\n",
              "      <th>10358</th>\n",
              "      <td>2015</td>\n",
              "      <td>10</td>\n",
              "      <td>JOÃO ALBERTO SOUZA</td>\n",
              "      <td>Passagens aéreas, aquáticas e terrestres nacio...</td>\n",
              "      <td>16.978.175/0001-08</td>\n",
              "      <td>ADRIA VIAGENS E TURISMO LTDA</td>\n",
              "      <td>NaN</td>\n",
              "      <td>06/10/2915</td>\n",
              "      <td>Companhia Aérea: GOL, Localizador: HF2VJM. Pas...</td>\n",
              "      <td>993.46</td>\n",
              "      <td>2029364.0</td>\n",
              "      <td>2915</td>\n",
              "    </tr>\n",
              "    <tr>\n",
              "      <th>12179</th>\n",
              "      <td>2015</td>\n",
              "      <td>4</td>\n",
              "      <td>JOSÉ MEDEIROS</td>\n",
              "      <td>Passagens aéreas, aquáticas e terrestres nacio...</td>\n",
              "      <td>16.978.175/0001-08</td>\n",
              "      <td>ADRIA VIAGENS</td>\n",
              "      <td>NaN</td>\n",
              "      <td>24/02/5015</td>\n",
              "      <td>Companhia Aérea: AVIANCA, Localizador: 42BZ8L....</td>\n",
              "      <td>821.25</td>\n",
              "      <td>2011103.0</td>\n",
              "      <td>5015</td>\n",
              "    </tr>\n",
              "    <tr>\n",
              "      <th>22966</th>\n",
              "      <td>2015</td>\n",
              "      <td>5</td>\n",
              "      <td>TELMÁRIO MOTA</td>\n",
              "      <td>Passagens aéreas, aquáticas e terrestres nacio...</td>\n",
              "      <td>12.795.601/0001-17</td>\n",
              "      <td>GLOBAL VIAGENS EVENTOS E TURISMO</td>\n",
              "      <td>010/15</td>\n",
              "      <td>08/05/5201</td>\n",
              "      <td>Companhia Aérea: TAM, Localizador: 5MHYZ3. Pas...</td>\n",
              "      <td>2659.35</td>\n",
              "      <td>2007486.0</td>\n",
              "      <td>5201</td>\n",
              "    </tr>\n",
              "  </tbody>\n",
              "</table>\n",
              "</div>\n",
              "      <button class=\"colab-df-convert\" onclick=\"convertToInteractive('df-b15620b0-990d-45c9-bb70-81beec8fe346')\"\n",
              "              title=\"Convert this dataframe to an interactive table.\"\n",
              "              style=\"display:none;\">\n",
              "        \n",
              "  <svg xmlns=\"http://www.w3.org/2000/svg\" height=\"24px\"viewBox=\"0 0 24 24\"\n",
              "       width=\"24px\">\n",
              "    <path d=\"M0 0h24v24H0V0z\" fill=\"none\"/>\n",
              "    <path d=\"M18.56 5.44l.94 2.06.94-2.06 2.06-.94-2.06-.94-.94-2.06-.94 2.06-2.06.94zm-11 1L8.5 8.5l.94-2.06 2.06-.94-2.06-.94L8.5 2.5l-.94 2.06-2.06.94zm10 10l.94 2.06.94-2.06 2.06-.94-2.06-.94-.94-2.06-.94 2.06-2.06.94z\"/><path d=\"M17.41 7.96l-1.37-1.37c-.4-.4-.92-.59-1.43-.59-.52 0-1.04.2-1.43.59L10.3 9.45l-7.72 7.72c-.78.78-.78 2.05 0 2.83L4 21.41c.39.39.9.59 1.41.59.51 0 1.02-.2 1.41-.59l7.78-7.78 2.81-2.81c.8-.78.8-2.07 0-2.86zM5.41 20L4 18.59l7.72-7.72 1.47 1.35L5.41 20z\"/>\n",
              "  </svg>\n",
              "      </button>\n",
              "      \n",
              "  <style>\n",
              "    .colab-df-container {\n",
              "      display:flex;\n",
              "      flex-wrap:wrap;\n",
              "      gap: 12px;\n",
              "    }\n",
              "\n",
              "    .colab-df-convert {\n",
              "      background-color: #E8F0FE;\n",
              "      border: none;\n",
              "      border-radius: 50%;\n",
              "      cursor: pointer;\n",
              "      display: none;\n",
              "      fill: #1967D2;\n",
              "      height: 32px;\n",
              "      padding: 0 0 0 0;\n",
              "      width: 32px;\n",
              "    }\n",
              "\n",
              "    .colab-df-convert:hover {\n",
              "      background-color: #E2EBFA;\n",
              "      box-shadow: 0px 1px 2px rgba(60, 64, 67, 0.3), 0px 1px 3px 1px rgba(60, 64, 67, 0.15);\n",
              "      fill: #174EA6;\n",
              "    }\n",
              "\n",
              "    [theme=dark] .colab-df-convert {\n",
              "      background-color: #3B4455;\n",
              "      fill: #D2E3FC;\n",
              "    }\n",
              "\n",
              "    [theme=dark] .colab-df-convert:hover {\n",
              "      background-color: #434B5C;\n",
              "      box-shadow: 0px 1px 3px 1px rgba(0, 0, 0, 0.15);\n",
              "      filter: drop-shadow(0px 1px 2px rgba(0, 0, 0, 0.3));\n",
              "      fill: #FFFFFF;\n",
              "    }\n",
              "  </style>\n",
              "\n",
              "      <script>\n",
              "        const buttonEl =\n",
              "          document.querySelector('#df-b15620b0-990d-45c9-bb70-81beec8fe346 button.colab-df-convert');\n",
              "        buttonEl.style.display =\n",
              "          google.colab.kernel.accessAllowed ? 'block' : 'none';\n",
              "\n",
              "        async function convertToInteractive(key) {\n",
              "          const element = document.querySelector('#df-b15620b0-990d-45c9-bb70-81beec8fe346');\n",
              "          const dataTable =\n",
              "            await google.colab.kernel.invokeFunction('convertToInteractive',\n",
              "                                                     [key], {});\n",
              "          if (!dataTable) return;\n",
              "\n",
              "          const docLinkHtml = 'Like what you see? Visit the ' +\n",
              "            '<a target=\"_blank\" href=https://colab.research.google.com/notebooks/data_table.ipynb>data table notebook</a>'\n",
              "            + ' to learn more about interactive tables.';\n",
              "          element.innerHTML = '';\n",
              "          dataTable['output_type'] = 'display_data';\n",
              "          await google.colab.output.renderOutput(dataTable, element);\n",
              "          const docLink = document.createElement('div');\n",
              "          docLink.innerHTML = docLinkHtml;\n",
              "          element.appendChild(docLink);\n",
              "        }\n",
              "      </script>\n",
              "    </div>\n",
              "  </div>\n",
              "  "
            ]
          },
          "metadata": {},
          "execution_count": 25
        }
      ]
    },
    {
      "cell_type": "code",
      "source": [
        "index_ano_invalido_menores = dados_ceaps['ANO_INT_TEMP'] < 1677\n",
        "display(dados_ceaps[index_ano_invalido_menores])"
      ],
      "metadata": {
        "colab": {
          "base_uri": "https://localhost:8080/",
          "height": 0
        },
        "id": "GrstbglMqAmQ",
        "outputId": "27188e2f-0cfc-4c8b-de1f-1ddc2b25340b"
      },
      "execution_count": 26,
      "outputs": [
        {
          "output_type": "display_data",
          "data": {
            "text/plain": [
              "        ANO  MES         SENADOR  \\\n",
              "2148   2021   11    CARLOS VIANA   \n",
              "10362  2020    5  PLÍNIO VALÉRIO   \n",
              "10986  2019    1     LÚCIA VÂNIA   \n",
              "13941  2018    3     LÚCIA VÂNIA   \n",
              "16559  2018   11      PAULO PAIM   \n",
              "6613   2017   12   ELMANO FÉRRER   \n",
              "15747  2017   11     LÚCIA VÂNIA   \n",
              "15978  2017   11     MAGNO MALTA   \n",
              "18527  2017    3     PAULO ROCHA   \n",
              "26445  2017    3   ZEZÉ PERRELLA   \n",
              "13618  2016    4      JOSÉ SERRA   \n",
              "13733  2016   10     KÁTIA ABREU   \n",
              "17978  2016   10      PAULO PAIM   \n",
              "11826  2015    8   JOSÉ AGRIPINO   \n",
              "18561  2015    4     PAULO ROCHA   \n",
              "18565  2015    4     PAULO ROCHA   \n",
              "\n",
              "                                            TIPO_DESPESA            CNPJ_CPF  \\\n",
              "2148   Passagens aéreas, aquáticas e terrestres nacio...  16.978.175/0001-08   \n",
              "10362                Divulgação da atividade parlamentar  27.209.437/0001-96   \n",
              "10986  Aluguel de imóveis para escritório político, c...  08.573.731/0001-38   \n",
              "13941  Aluguel de imóveis para escritório político, c...  02.266.468/0001-58   \n",
              "16559  Locomoção, hospedagem, alimentação, combustíve...  22.484.857/0001-67   \n",
              "6613   Aluguel de imóveis para escritório político, c...  06.277.571/0001-54   \n",
              "15747  Locomoção, hospedagem, alimentação, combustíve...  02.072.286/0006-50   \n",
              "15978  Aluguel de imóveis para escritório político, c...  02.558.157/0001-62   \n",
              "18527  Passagens aéreas, aquáticas e terrestres nacio...  07.575.651/0001-59   \n",
              "26445  Passagens aéreas, aquáticas e terrestres nacio...  33.937.681/0001-78   \n",
              "13618  Locomoção, hospedagem, alimentação, combustíve...  52.791.571/0001-95   \n",
              "13733  Locomoção, hospedagem, alimentação, combustíve...  56.548.779/0001-39   \n",
              "17978  Passagens aéreas, aquáticas e terrestres nacio...  33.937.681/0001-78   \n",
              "11826                      Serviços de Segurança Privada  10.209.529/0001-73   \n",
              "18561  Passagens aéreas, aquáticas e terrestres nacio...  02.012.862/0001-60   \n",
              "18565  Passagens aéreas, aquáticas e terrestres nacio...  07.575.651/0001-59   \n",
              "\n",
              "                                              FORNECEDOR    DOCUMENTO  \\\n",
              "2148                        ADRIA VIAGENS E TURISMO LTDA       YK1QHD   \n",
              "10362                 Excelsior Comunicação Digital Ltda       2020/9   \n",
              "10986  LDE Contabilidade e Administração de Condomíni...      0107007   \n",
              "13941                                   URBS Imobiliária       177528   \n",
              "16559                  Britim Combustíveis Eirelli - EPP       108199   \n",
              "6613                       IMOBILIÁRIA SANTA CLARA LTDA.        73859   \n",
              "15747                         Petroil Combustívels Ltda.         5021   \n",
              "15978                             Telefonica Brasil S.A.  05162707630   \n",
              "18527                             VRG Linhas Aereas S.A.       PKIP6Q   \n",
              "26445                                              LATAM       3WI7U2   \n",
              "13618                         A Ferreira Automóveis LTDA       541327   \n",
              "13733  Transamérica Comercial e Serviços Ltda SCP La ...     00038600   \n",
              "17978                                              LATAM       5HJBB4   \n",
              "11826        Branco Oliveira Limpeza e Conservação Ltda.          034   \n",
              "18561                              TAM Linhas Aéreas S.A       XGUHHW   \n",
              "18565                             VRG Linhas Aereas S.A.       THIEUG   \n",
              "\n",
              "             DATA                                       DETALHAMENTO  \\\n",
              "2148   29/10/0202  Companhia Aérea: AZUL, Localizador: YK1QHD. Pa...   \n",
              "10362  05/05/0202                                                NaN   \n",
              "10986  31/01/0219                                   Taxa condominial   \n",
              "13941  09/05/0208  Pagamento de taxa de aluguel referente ao imóv...   \n",
              "16559  16/11/1201  Aquisição de combustível para veículos utiliza...   \n",
              "6613   06/02/1017  DESPESA COM PAGAMENTO DE ALUGUEL DO ESCRITÓRIO...   \n",
              "15747  30/11/1201  Aquisição de combustível para veículo utilizad...   \n",
              "15978  09/11/0201  Despesa com imóvel político: pagamento de tele...   \n",
              "18527  02/03/0201  Companhia Aérea: GOL, Localizador: PKIP6Q. Pas...   \n",
              "26445  13/02/0217  Companhia Aérea: LATAM, Localizador: 3WI7U2. P...   \n",
              "13618  04/04/0216  Senador José Serra - Aquisição de combustível ...   \n",
              "13733  31/10/0200  Hospedagem (R$ 648,44) e alimentação (R$ 40,00...   \n",
              "17978  31/10/0206  Companhia Aérea: LATAM, Localizador: 5HJBB4. P...   \n",
              "11826  26/08/0201                                                NaN   \n",
              "18561  22/04/0215  Companhia Aérea: TAM, Localizador: XGUHHW. Pas...   \n",
              "18565  23/04/0215  Companhia Aérea: GOL, Localizador: THIEUG. Pas...   \n",
              "\n",
              "       VALOR_REEMBOLSADO  COD_DOCUMENTO  ANO_INT_TEMP  \n",
              "2148              339.90      2169237.0           202  \n",
              "10362            1150.00      2144535.0           202  \n",
              "10986             271.26      2114251.0           219  \n",
              "13941            1200.00      2096075.0           208  \n",
              "16559             100.00      2111217.0          1201  \n",
              "6613             2973.45      2083148.0          1017  \n",
              "15747             100.00      2084741.0          1201  \n",
              "15978             421.28      2084537.0           201  \n",
              "18527             731.79      2060535.0           201  \n",
              "26445             430.51      2062578.0           217  \n",
              "13618             158.58      2036344.0           216  \n",
              "13733             688.44      2051549.0           200  \n",
              "17978            1860.79      2051216.0           206  \n",
              "11826            4029.11      2016913.0           201  \n",
              "18561             853.93      2008125.0           215  \n",
              "18565             813.93      2008124.0           215  "
            ],
            "text/html": [
              "\n",
              "  <div id=\"df-d85c4a27-407c-4a21-8913-83e3a9deb37c\">\n",
              "    <div class=\"colab-df-container\">\n",
              "      <div>\n",
              "<style scoped>\n",
              "    .dataframe tbody tr th:only-of-type {\n",
              "        vertical-align: middle;\n",
              "    }\n",
              "\n",
              "    .dataframe tbody tr th {\n",
              "        vertical-align: top;\n",
              "    }\n",
              "\n",
              "    .dataframe thead th {\n",
              "        text-align: right;\n",
              "    }\n",
              "</style>\n",
              "<table border=\"1\" class=\"dataframe\">\n",
              "  <thead>\n",
              "    <tr style=\"text-align: right;\">\n",
              "      <th></th>\n",
              "      <th>ANO</th>\n",
              "      <th>MES</th>\n",
              "      <th>SENADOR</th>\n",
              "      <th>TIPO_DESPESA</th>\n",
              "      <th>CNPJ_CPF</th>\n",
              "      <th>FORNECEDOR</th>\n",
              "      <th>DOCUMENTO</th>\n",
              "      <th>DATA</th>\n",
              "      <th>DETALHAMENTO</th>\n",
              "      <th>VALOR_REEMBOLSADO</th>\n",
              "      <th>COD_DOCUMENTO</th>\n",
              "      <th>ANO_INT_TEMP</th>\n",
              "    </tr>\n",
              "  </thead>\n",
              "  <tbody>\n",
              "    <tr>\n",
              "      <th>2148</th>\n",
              "      <td>2021</td>\n",
              "      <td>11</td>\n",
              "      <td>CARLOS VIANA</td>\n",
              "      <td>Passagens aéreas, aquáticas e terrestres nacio...</td>\n",
              "      <td>16.978.175/0001-08</td>\n",
              "      <td>ADRIA VIAGENS E TURISMO LTDA</td>\n",
              "      <td>YK1QHD</td>\n",
              "      <td>29/10/0202</td>\n",
              "      <td>Companhia Aérea: AZUL, Localizador: YK1QHD. Pa...</td>\n",
              "      <td>339.90</td>\n",
              "      <td>2169237.0</td>\n",
              "      <td>202</td>\n",
              "    </tr>\n",
              "    <tr>\n",
              "      <th>10362</th>\n",
              "      <td>2020</td>\n",
              "      <td>5</td>\n",
              "      <td>PLÍNIO VALÉRIO</td>\n",
              "      <td>Divulgação da atividade parlamentar</td>\n",
              "      <td>27.209.437/0001-96</td>\n",
              "      <td>Excelsior Comunicação Digital Ltda</td>\n",
              "      <td>2020/9</td>\n",
              "      <td>05/05/0202</td>\n",
              "      <td>NaN</td>\n",
              "      <td>1150.00</td>\n",
              "      <td>2144535.0</td>\n",
              "      <td>202</td>\n",
              "    </tr>\n",
              "    <tr>\n",
              "      <th>10986</th>\n",
              "      <td>2019</td>\n",
              "      <td>1</td>\n",
              "      <td>LÚCIA VÂNIA</td>\n",
              "      <td>Aluguel de imóveis para escritório político, c...</td>\n",
              "      <td>08.573.731/0001-38</td>\n",
              "      <td>LDE Contabilidade e Administração de Condomíni...</td>\n",
              "      <td>0107007</td>\n",
              "      <td>31/01/0219</td>\n",
              "      <td>Taxa condominial</td>\n",
              "      <td>271.26</td>\n",
              "      <td>2114251.0</td>\n",
              "      <td>219</td>\n",
              "    </tr>\n",
              "    <tr>\n",
              "      <th>13941</th>\n",
              "      <td>2018</td>\n",
              "      <td>3</td>\n",
              "      <td>LÚCIA VÂNIA</td>\n",
              "      <td>Aluguel de imóveis para escritório político, c...</td>\n",
              "      <td>02.266.468/0001-58</td>\n",
              "      <td>URBS Imobiliária</td>\n",
              "      <td>177528</td>\n",
              "      <td>09/05/0208</td>\n",
              "      <td>Pagamento de taxa de aluguel referente ao imóv...</td>\n",
              "      <td>1200.00</td>\n",
              "      <td>2096075.0</td>\n",
              "      <td>208</td>\n",
              "    </tr>\n",
              "    <tr>\n",
              "      <th>16559</th>\n",
              "      <td>2018</td>\n",
              "      <td>11</td>\n",
              "      <td>PAULO PAIM</td>\n",
              "      <td>Locomoção, hospedagem, alimentação, combustíve...</td>\n",
              "      <td>22.484.857/0001-67</td>\n",
              "      <td>Britim Combustíveis Eirelli - EPP</td>\n",
              "      <td>108199</td>\n",
              "      <td>16/11/1201</td>\n",
              "      <td>Aquisição de combustível para veículos utiliza...</td>\n",
              "      <td>100.00</td>\n",
              "      <td>2111217.0</td>\n",
              "      <td>1201</td>\n",
              "    </tr>\n",
              "    <tr>\n",
              "      <th>6613</th>\n",
              "      <td>2017</td>\n",
              "      <td>12</td>\n",
              "      <td>ELMANO FÉRRER</td>\n",
              "      <td>Aluguel de imóveis para escritório político, c...</td>\n",
              "      <td>06.277.571/0001-54</td>\n",
              "      <td>IMOBILIÁRIA SANTA CLARA LTDA.</td>\n",
              "      <td>73859</td>\n",
              "      <td>06/02/1017</td>\n",
              "      <td>DESPESA COM PAGAMENTO DE ALUGUEL DO ESCRITÓRIO...</td>\n",
              "      <td>2973.45</td>\n",
              "      <td>2083148.0</td>\n",
              "      <td>1017</td>\n",
              "    </tr>\n",
              "    <tr>\n",
              "      <th>15747</th>\n",
              "      <td>2017</td>\n",
              "      <td>11</td>\n",
              "      <td>LÚCIA VÂNIA</td>\n",
              "      <td>Locomoção, hospedagem, alimentação, combustíve...</td>\n",
              "      <td>02.072.286/0006-50</td>\n",
              "      <td>Petroil Combustívels Ltda.</td>\n",
              "      <td>5021</td>\n",
              "      <td>30/11/1201</td>\n",
              "      <td>Aquisição de combustível para veículo utilizad...</td>\n",
              "      <td>100.00</td>\n",
              "      <td>2084741.0</td>\n",
              "      <td>1201</td>\n",
              "    </tr>\n",
              "    <tr>\n",
              "      <th>15978</th>\n",
              "      <td>2017</td>\n",
              "      <td>11</td>\n",
              "      <td>MAGNO MALTA</td>\n",
              "      <td>Aluguel de imóveis para escritório político, c...</td>\n",
              "      <td>02.558.157/0001-62</td>\n",
              "      <td>Telefonica Brasil S.A.</td>\n",
              "      <td>05162707630</td>\n",
              "      <td>09/11/0201</td>\n",
              "      <td>Despesa com imóvel político: pagamento de tele...</td>\n",
              "      <td>421.28</td>\n",
              "      <td>2084537.0</td>\n",
              "      <td>201</td>\n",
              "    </tr>\n",
              "    <tr>\n",
              "      <th>18527</th>\n",
              "      <td>2017</td>\n",
              "      <td>3</td>\n",
              "      <td>PAULO ROCHA</td>\n",
              "      <td>Passagens aéreas, aquáticas e terrestres nacio...</td>\n",
              "      <td>07.575.651/0001-59</td>\n",
              "      <td>VRG Linhas Aereas S.A.</td>\n",
              "      <td>PKIP6Q</td>\n",
              "      <td>02/03/0201</td>\n",
              "      <td>Companhia Aérea: GOL, Localizador: PKIP6Q. Pas...</td>\n",
              "      <td>731.79</td>\n",
              "      <td>2060535.0</td>\n",
              "      <td>201</td>\n",
              "    </tr>\n",
              "    <tr>\n",
              "      <th>26445</th>\n",
              "      <td>2017</td>\n",
              "      <td>3</td>\n",
              "      <td>ZEZÉ PERRELLA</td>\n",
              "      <td>Passagens aéreas, aquáticas e terrestres nacio...</td>\n",
              "      <td>33.937.681/0001-78</td>\n",
              "      <td>LATAM</td>\n",
              "      <td>3WI7U2</td>\n",
              "      <td>13/02/0217</td>\n",
              "      <td>Companhia Aérea: LATAM, Localizador: 3WI7U2. P...</td>\n",
              "      <td>430.51</td>\n",
              "      <td>2062578.0</td>\n",
              "      <td>217</td>\n",
              "    </tr>\n",
              "    <tr>\n",
              "      <th>13618</th>\n",
              "      <td>2016</td>\n",
              "      <td>4</td>\n",
              "      <td>JOSÉ SERRA</td>\n",
              "      <td>Locomoção, hospedagem, alimentação, combustíve...</td>\n",
              "      <td>52.791.571/0001-95</td>\n",
              "      <td>A Ferreira Automóveis LTDA</td>\n",
              "      <td>541327</td>\n",
              "      <td>04/04/0216</td>\n",
              "      <td>Senador José Serra - Aquisição de combustível ...</td>\n",
              "      <td>158.58</td>\n",
              "      <td>2036344.0</td>\n",
              "      <td>216</td>\n",
              "    </tr>\n",
              "    <tr>\n",
              "      <th>13733</th>\n",
              "      <td>2016</td>\n",
              "      <td>10</td>\n",
              "      <td>KÁTIA ABREU</td>\n",
              "      <td>Locomoção, hospedagem, alimentação, combustíve...</td>\n",
              "      <td>56.548.779/0001-39</td>\n",
              "      <td>Transamérica Comercial e Serviços Ltda SCP La ...</td>\n",
              "      <td>00038600</td>\n",
              "      <td>31/10/0200</td>\n",
              "      <td>Hospedagem (R$ 648,44) e alimentação (R$ 40,00...</td>\n",
              "      <td>688.44</td>\n",
              "      <td>2051549.0</td>\n",
              "      <td>200</td>\n",
              "    </tr>\n",
              "    <tr>\n",
              "      <th>17978</th>\n",
              "      <td>2016</td>\n",
              "      <td>10</td>\n",
              "      <td>PAULO PAIM</td>\n",
              "      <td>Passagens aéreas, aquáticas e terrestres nacio...</td>\n",
              "      <td>33.937.681/0001-78</td>\n",
              "      <td>LATAM</td>\n",
              "      <td>5HJBB4</td>\n",
              "      <td>31/10/0206</td>\n",
              "      <td>Companhia Aérea: LATAM, Localizador: 5HJBB4. P...</td>\n",
              "      <td>1860.79</td>\n",
              "      <td>2051216.0</td>\n",
              "      <td>206</td>\n",
              "    </tr>\n",
              "    <tr>\n",
              "      <th>11826</th>\n",
              "      <td>2015</td>\n",
              "      <td>8</td>\n",
              "      <td>JOSÉ AGRIPINO</td>\n",
              "      <td>Serviços de Segurança Privada</td>\n",
              "      <td>10.209.529/0001-73</td>\n",
              "      <td>Branco Oliveira Limpeza e Conservação Ltda.</td>\n",
              "      <td>034</td>\n",
              "      <td>26/08/0201</td>\n",
              "      <td>NaN</td>\n",
              "      <td>4029.11</td>\n",
              "      <td>2016913.0</td>\n",
              "      <td>201</td>\n",
              "    </tr>\n",
              "    <tr>\n",
              "      <th>18561</th>\n",
              "      <td>2015</td>\n",
              "      <td>4</td>\n",
              "      <td>PAULO ROCHA</td>\n",
              "      <td>Passagens aéreas, aquáticas e terrestres nacio...</td>\n",
              "      <td>02.012.862/0001-60</td>\n",
              "      <td>TAM Linhas Aéreas S.A</td>\n",
              "      <td>XGUHHW</td>\n",
              "      <td>22/04/0215</td>\n",
              "      <td>Companhia Aérea: TAM, Localizador: XGUHHW. Pas...</td>\n",
              "      <td>853.93</td>\n",
              "      <td>2008125.0</td>\n",
              "      <td>215</td>\n",
              "    </tr>\n",
              "    <tr>\n",
              "      <th>18565</th>\n",
              "      <td>2015</td>\n",
              "      <td>4</td>\n",
              "      <td>PAULO ROCHA</td>\n",
              "      <td>Passagens aéreas, aquáticas e terrestres nacio...</td>\n",
              "      <td>07.575.651/0001-59</td>\n",
              "      <td>VRG Linhas Aereas S.A.</td>\n",
              "      <td>THIEUG</td>\n",
              "      <td>23/04/0215</td>\n",
              "      <td>Companhia Aérea: GOL, Localizador: THIEUG. Pas...</td>\n",
              "      <td>813.93</td>\n",
              "      <td>2008124.0</td>\n",
              "      <td>215</td>\n",
              "    </tr>\n",
              "  </tbody>\n",
              "</table>\n",
              "</div>\n",
              "      <button class=\"colab-df-convert\" onclick=\"convertToInteractive('df-d85c4a27-407c-4a21-8913-83e3a9deb37c')\"\n",
              "              title=\"Convert this dataframe to an interactive table.\"\n",
              "              style=\"display:none;\">\n",
              "        \n",
              "  <svg xmlns=\"http://www.w3.org/2000/svg\" height=\"24px\"viewBox=\"0 0 24 24\"\n",
              "       width=\"24px\">\n",
              "    <path d=\"M0 0h24v24H0V0z\" fill=\"none\"/>\n",
              "    <path d=\"M18.56 5.44l.94 2.06.94-2.06 2.06-.94-2.06-.94-.94-2.06-.94 2.06-2.06.94zm-11 1L8.5 8.5l.94-2.06 2.06-.94-2.06-.94L8.5 2.5l-.94 2.06-2.06.94zm10 10l.94 2.06.94-2.06 2.06-.94-2.06-.94-.94-2.06-.94 2.06-2.06.94z\"/><path d=\"M17.41 7.96l-1.37-1.37c-.4-.4-.92-.59-1.43-.59-.52 0-1.04.2-1.43.59L10.3 9.45l-7.72 7.72c-.78.78-.78 2.05 0 2.83L4 21.41c.39.39.9.59 1.41.59.51 0 1.02-.2 1.41-.59l7.78-7.78 2.81-2.81c.8-.78.8-2.07 0-2.86zM5.41 20L4 18.59l7.72-7.72 1.47 1.35L5.41 20z\"/>\n",
              "  </svg>\n",
              "      </button>\n",
              "      \n",
              "  <style>\n",
              "    .colab-df-container {\n",
              "      display:flex;\n",
              "      flex-wrap:wrap;\n",
              "      gap: 12px;\n",
              "    }\n",
              "\n",
              "    .colab-df-convert {\n",
              "      background-color: #E8F0FE;\n",
              "      border: none;\n",
              "      border-radius: 50%;\n",
              "      cursor: pointer;\n",
              "      display: none;\n",
              "      fill: #1967D2;\n",
              "      height: 32px;\n",
              "      padding: 0 0 0 0;\n",
              "      width: 32px;\n",
              "    }\n",
              "\n",
              "    .colab-df-convert:hover {\n",
              "      background-color: #E2EBFA;\n",
              "      box-shadow: 0px 1px 2px rgba(60, 64, 67, 0.3), 0px 1px 3px 1px rgba(60, 64, 67, 0.15);\n",
              "      fill: #174EA6;\n",
              "    }\n",
              "\n",
              "    [theme=dark] .colab-df-convert {\n",
              "      background-color: #3B4455;\n",
              "      fill: #D2E3FC;\n",
              "    }\n",
              "\n",
              "    [theme=dark] .colab-df-convert:hover {\n",
              "      background-color: #434B5C;\n",
              "      box-shadow: 0px 1px 3px 1px rgba(0, 0, 0, 0.15);\n",
              "      filter: drop-shadow(0px 1px 2px rgba(0, 0, 0, 0.3));\n",
              "      fill: #FFFFFF;\n",
              "    }\n",
              "  </style>\n",
              "\n",
              "      <script>\n",
              "        const buttonEl =\n",
              "          document.querySelector('#df-d85c4a27-407c-4a21-8913-83e3a9deb37c button.colab-df-convert');\n",
              "        buttonEl.style.display =\n",
              "          google.colab.kernel.accessAllowed ? 'block' : 'none';\n",
              "\n",
              "        async function convertToInteractive(key) {\n",
              "          const element = document.querySelector('#df-d85c4a27-407c-4a21-8913-83e3a9deb37c');\n",
              "          const dataTable =\n",
              "            await google.colab.kernel.invokeFunction('convertToInteractive',\n",
              "                                                     [key], {});\n",
              "          if (!dataTable) return;\n",
              "\n",
              "          const docLinkHtml = 'Like what you see? Visit the ' +\n",
              "            '<a target=\"_blank\" href=https://colab.research.google.com/notebooks/data_table.ipynb>data table notebook</a>'\n",
              "            + ' to learn more about interactive tables.';\n",
              "          element.innerHTML = '';\n",
              "          dataTable['output_type'] = 'display_data';\n",
              "          await google.colab.output.renderOutput(dataTable, element);\n",
              "          const docLink = document.createElement('div');\n",
              "          docLink.innerHTML = docLinkHtml;\n",
              "          element.appendChild(docLink);\n",
              "        }\n",
              "      </script>\n",
              "    </div>\n",
              "  </div>\n",
              "  "
            ]
          },
          "metadata": {}
        }
      ]
    },
    {
      "cell_type": "code",
      "source": [
        "dados_ceaps[index_ano_invalido_maiores]['DETALHAMENTO'].values"
      ],
      "metadata": {
        "colab": {
          "base_uri": "https://localhost:8080/"
        },
        "id": "D9O0rD7Jn7kw",
        "outputId": "3f17f2a0-9eaa-475e-b0e3-b9ccb2a4d384"
      },
      "execution_count": 27,
      "outputs": [
        {
          "output_type": "execute_result",
          "data": {
            "text/plain": [
              "array(['Taxa de condomínio do escritório parlamentar, sala 1002, Recife/PE.',\n",
              "       'despesa com hospedagem',\n",
              "       'Companhia Aérea: GOL, Localizador: HF2VJM. Passageiros: JOÃO ALBERTO DE SOUZA (Matrícula 147907, PARLAMENTAR), Voo: 1912 - BRASILIA/ SAO LUIS - 15/10/2015;',\n",
              "       'Companhia Aérea: AVIANCA, Localizador: 42BZ8L. Passageiros: JOSÉ ANTONIO DOS SANTOS MEDEIROS (Matrícula 295775, PARLAMENTAR), Voo: 6186 - CUIABÁ/BRASILIA - 26/04/2015;',\n",
              "       'Companhia Aérea: TAM, Localizador: 5MHYZ3. Passageiros: TELMARIO MOTA DE OLIVEIRA (Matrícula 175459, PARLAMENTAR), Voo: 4675 - BVB-BSB - 11/05/2015;'],\n",
              "      dtype=object)"
            ]
          },
          "metadata": {},
          "execution_count": 27
        }
      ]
    },
    {
      "cell_type": "code",
      "source": [
        "dados_ceaps[index_ano_invalido_menores]['DETALHAMENTO'].values"
      ],
      "metadata": {
        "colab": {
          "base_uri": "https://localhost:8080/"
        },
        "id": "kM8AbJRuqJAD",
        "outputId": "4d78da82-4d24-47a8-d5df-0f769a1e9146"
      },
      "execution_count": 28,
      "outputs": [
        {
          "output_type": "execute_result",
          "data": {
            "text/plain": [
              "array(['Companhia Aérea: AZUL, Localizador: YK1QHD. Passageiros: CARLOS ALBERTO DIAS VIANA (Matrícula 341463, PARLAMENTAR), Voo: 4126 - CNF-BSB - 28/11/2021;',\n",
              "       nan, 'Taxa condominial',\n",
              "       'Pagamento de taxa de aluguel referente ao imóvel destinado ao escritório político.',\n",
              "       'Aquisição de combustível para veículos utilizados na atividade parlamentar.',\n",
              "       'DESPESA COM PAGAMENTO DE ALUGUEL DO ESCRITÓRIO DE APOIO DO SENADOR ELMANO FÉRRER NO PIAUÍ.',\n",
              "       'Aquisição de combustível para veículo utilizado na atividade parlamentar.',\n",
              "       'Despesa com imóvel político: pagamento de telefone fixo',\n",
              "       'Companhia Aérea: GOL, Localizador: PKIP6Q. Passageiros: MARISA ALVES ROMAO (Matrícula 312359, COMISSIONADO), Voo: 1749 - MARABÁ/BELÉM - 06/03/2017;',\n",
              "       'Companhia Aérea: LATAM, Localizador: 3WI7U2. Passageiros: VANESSA COSTA GUIMARÃES DE CARVALHO (Matrícula 252168, COMISSIONADO), Voo: 3349 - BSB/CNF - 23/03/2017; VANESSA COSTA GUIMARÃES DE CARVALHO (Matrícula 252168, COMISSIONADO), Voo: 3496 - CNF/BSB - 27/03/2017;',\n",
              "       'Senador José Serra - Aquisição de combustível para veículo utilizado na atividade parlamentar no Estado.',\n",
              "       'Hospedagem (R$ 648,44) e alimentação (R$ 40,00) para a senadora em atividade parlamentar.',\n",
              "       'Companhia Aérea: LATAM, Localizador: 5HJBB4. Passageiros: PAULO RENATO PAIM (Matrícula 161278, PARLAMENTAR), Voo: 3057 - BRASÍLIA - PORTO ALEGRE - 20/10/2016;',\n",
              "       nan,\n",
              "       'Companhia Aérea: TAM, Localizador: XGUHHW. Passageiros: JOÃO BATISTA BARBOSA DA SILVA (Matrícula 192688, COMISSIONADO), Voo: 1978 - BRASÍLIA/BELÉM - 23/04/2015;',\n",
              "       'Companhia Aérea: GOL, Localizador: THIEUG. Passageiros: PAULO ROBERTO GALVÃO DA ROCHA (Matrícula 296263, PARLAMENTAR), Voo: 1978 - BRASÍLIA/BELÉM - 23/04/2015;'],\n",
              "      dtype=object)"
            ]
          },
          "metadata": {},
          "execution_count": 28
        }
      ]
    },
    {
      "cell_type": "code",
      "source": [
        "dados_ceaps.drop(columns = ['ANO_INT_TEMP'], inplace = True)"
      ],
      "metadata": {
        "id": "SVl4zg2sJPcb"
      },
      "execution_count": 29,
      "outputs": []
    },
    {
      "cell_type": "markdown",
      "source": [
        "* Nem todos os textos encontrados no Detalhamento indicam a data real do gasto, além de exigirem um tratamento específico linha a linha."
      ],
      "metadata": {
        "id": "vP9kk8nvWIok"
      }
    },
    {
      "cell_type": "markdown",
      "source": [
        "### Composição da data de requisição de reembolso"
      ],
      "metadata": {
        "id": "M-1-qdcnCrEx"
      }
    },
    {
      "cell_type": "markdown",
      "source": [
        "* Todas as datas estarão concentradas no primeiro dia do mês, a data de requisição do reembolso não está completa no dataset."
      ],
      "metadata": {
        "id": "MrH2g-bZWoFU"
      }
    },
    {
      "cell_type": "code",
      "source": [
        "dados_ceaps['MES'] = dados_ceaps['MES'].astype('str')\n",
        "dados_ceaps['ANO'] = dados_ceaps['ANO'].astype('str')\n",
        "\n",
        "dados_ceaps['DATA_REQUISICAO'] = dados_ceaps['MES'].str.zfill(2) + '/' + dados_ceaps['ANO']\n",
        "dados_ceaps['DATA_REQUISICAO'] = pd.to_datetime(dados_ceaps['DATA_REQUISICAO'])\n",
        "\n",
        "dados_ceaps['MES'] = dados_ceaps['MES'].astype('int')\n",
        "dados_ceaps['ANO'] = dados_ceaps['ANO'].astype('int')\n",
        "\n",
        "dados_ceaps.head()"
      ],
      "metadata": {
        "colab": {
          "base_uri": "https://localhost:8080/",
          "height": 337
        },
        "id": "-6Ho-m6FwUl-",
        "outputId": "15b32f55-9df1-445f-b88f-529572dbf499"
      },
      "execution_count": 30,
      "outputs": [
        {
          "output_type": "execute_result",
          "data": {
            "text/plain": [
              "    ANO  MES       SENADOR                                       TIPO_DESPESA  \\\n",
              "0  2022    1  ACIR GURGACZ  Aluguel de imóveis para escritório político, c...   \n",
              "1  2022    1  ACIR GURGACZ                Divulgação da atividade parlamentar   \n",
              "2  2022    1  ACIR GURGACZ                Divulgação da atividade parlamentar   \n",
              "3  2022    1  ACIR GURGACZ                Divulgação da atividade parlamentar   \n",
              "4  2022    1  ACIR GURGACZ                Divulgação da atividade parlamentar   \n",
              "\n",
              "             CNPJ_CPF                                         FORNECEDOR  \\\n",
              "0      004.948.028-63                      GILBERTO PISELO DO NASCIMENTO   \n",
              "1  26.320.603/0001-64                                      INFORMANAHORA   \n",
              "2  13.659.201/0001-47                    LINHA PURPURA FOTO E VIDEO LTDA   \n",
              "3  23.652.846/0001-01                  ROBERTO GUTIERREZ DA ROCHA M.E.I.   \n",
              "4  08.941.827/0001-01  RONDONIA DINÂMICA COM. E SERV. DE INFORMÁTICA ...   \n",
              "\n",
              "           DOCUMENTO        DATA  \\\n",
              "0             001/22  03/01/2022   \n",
              "1  000000000000310/A  04/01/2022   \n",
              "2                107  14/01/2022   \n",
              "3                187  18/01/2022   \n",
              "4  000000000001772/A  17/01/2022   \n",
              "\n",
              "                                        DETALHAMENTO  VALOR_REEMBOLSADO  \\\n",
              "0  Despesa com pagamento de aluguel de imóvel par...             6000.0   \n",
              "1  Despesa com divulgação da atividade parlamenta...             1500.0   \n",
              "2  Despesa com produção de texto e edição de víde...             6000.0   \n",
              "3                Divulgação da atividade parlamentar             1000.0   \n",
              "4                Divulgação da atividade parlamentar             2000.0   \n",
              "\n",
              "   COD_DOCUMENTO DATA_REQUISICAO  \n",
              "0      2173614.0      2022-01-01  \n",
              "1      2173615.0      2022-01-01  \n",
              "2      2173616.0      2022-01-01  \n",
              "3      2173618.0      2022-01-01  \n",
              "4      2173617.0      2022-01-01  "
            ],
            "text/html": [
              "\n",
              "  <div id=\"df-3e57232e-4622-4528-8d01-6187aec5b579\">\n",
              "    <div class=\"colab-df-container\">\n",
              "      <div>\n",
              "<style scoped>\n",
              "    .dataframe tbody tr th:only-of-type {\n",
              "        vertical-align: middle;\n",
              "    }\n",
              "\n",
              "    .dataframe tbody tr th {\n",
              "        vertical-align: top;\n",
              "    }\n",
              "\n",
              "    .dataframe thead th {\n",
              "        text-align: right;\n",
              "    }\n",
              "</style>\n",
              "<table border=\"1\" class=\"dataframe\">\n",
              "  <thead>\n",
              "    <tr style=\"text-align: right;\">\n",
              "      <th></th>\n",
              "      <th>ANO</th>\n",
              "      <th>MES</th>\n",
              "      <th>SENADOR</th>\n",
              "      <th>TIPO_DESPESA</th>\n",
              "      <th>CNPJ_CPF</th>\n",
              "      <th>FORNECEDOR</th>\n",
              "      <th>DOCUMENTO</th>\n",
              "      <th>DATA</th>\n",
              "      <th>DETALHAMENTO</th>\n",
              "      <th>VALOR_REEMBOLSADO</th>\n",
              "      <th>COD_DOCUMENTO</th>\n",
              "      <th>DATA_REQUISICAO</th>\n",
              "    </tr>\n",
              "  </thead>\n",
              "  <tbody>\n",
              "    <tr>\n",
              "      <th>0</th>\n",
              "      <td>2022</td>\n",
              "      <td>1</td>\n",
              "      <td>ACIR GURGACZ</td>\n",
              "      <td>Aluguel de imóveis para escritório político, c...</td>\n",
              "      <td>004.948.028-63</td>\n",
              "      <td>GILBERTO PISELO DO NASCIMENTO</td>\n",
              "      <td>001/22</td>\n",
              "      <td>03/01/2022</td>\n",
              "      <td>Despesa com pagamento de aluguel de imóvel par...</td>\n",
              "      <td>6000.0</td>\n",
              "      <td>2173614.0</td>\n",
              "      <td>2022-01-01</td>\n",
              "    </tr>\n",
              "    <tr>\n",
              "      <th>1</th>\n",
              "      <td>2022</td>\n",
              "      <td>1</td>\n",
              "      <td>ACIR GURGACZ</td>\n",
              "      <td>Divulgação da atividade parlamentar</td>\n",
              "      <td>26.320.603/0001-64</td>\n",
              "      <td>INFORMANAHORA</td>\n",
              "      <td>000000000000310/A</td>\n",
              "      <td>04/01/2022</td>\n",
              "      <td>Despesa com divulgação da atividade parlamenta...</td>\n",
              "      <td>1500.0</td>\n",
              "      <td>2173615.0</td>\n",
              "      <td>2022-01-01</td>\n",
              "    </tr>\n",
              "    <tr>\n",
              "      <th>2</th>\n",
              "      <td>2022</td>\n",
              "      <td>1</td>\n",
              "      <td>ACIR GURGACZ</td>\n",
              "      <td>Divulgação da atividade parlamentar</td>\n",
              "      <td>13.659.201/0001-47</td>\n",
              "      <td>LINHA PURPURA FOTO E VIDEO LTDA</td>\n",
              "      <td>107</td>\n",
              "      <td>14/01/2022</td>\n",
              "      <td>Despesa com produção de texto e edição de víde...</td>\n",
              "      <td>6000.0</td>\n",
              "      <td>2173616.0</td>\n",
              "      <td>2022-01-01</td>\n",
              "    </tr>\n",
              "    <tr>\n",
              "      <th>3</th>\n",
              "      <td>2022</td>\n",
              "      <td>1</td>\n",
              "      <td>ACIR GURGACZ</td>\n",
              "      <td>Divulgação da atividade parlamentar</td>\n",
              "      <td>23.652.846/0001-01</td>\n",
              "      <td>ROBERTO GUTIERREZ DA ROCHA M.E.I.</td>\n",
              "      <td>187</td>\n",
              "      <td>18/01/2022</td>\n",
              "      <td>Divulgação da atividade parlamentar</td>\n",
              "      <td>1000.0</td>\n",
              "      <td>2173618.0</td>\n",
              "      <td>2022-01-01</td>\n",
              "    </tr>\n",
              "    <tr>\n",
              "      <th>4</th>\n",
              "      <td>2022</td>\n",
              "      <td>1</td>\n",
              "      <td>ACIR GURGACZ</td>\n",
              "      <td>Divulgação da atividade parlamentar</td>\n",
              "      <td>08.941.827/0001-01</td>\n",
              "      <td>RONDONIA DINÂMICA COM. E SERV. DE INFORMÁTICA ...</td>\n",
              "      <td>000000000001772/A</td>\n",
              "      <td>17/01/2022</td>\n",
              "      <td>Divulgação da atividade parlamentar</td>\n",
              "      <td>2000.0</td>\n",
              "      <td>2173617.0</td>\n",
              "      <td>2022-01-01</td>\n",
              "    </tr>\n",
              "  </tbody>\n",
              "</table>\n",
              "</div>\n",
              "      <button class=\"colab-df-convert\" onclick=\"convertToInteractive('df-3e57232e-4622-4528-8d01-6187aec5b579')\"\n",
              "              title=\"Convert this dataframe to an interactive table.\"\n",
              "              style=\"display:none;\">\n",
              "        \n",
              "  <svg xmlns=\"http://www.w3.org/2000/svg\" height=\"24px\"viewBox=\"0 0 24 24\"\n",
              "       width=\"24px\">\n",
              "    <path d=\"M0 0h24v24H0V0z\" fill=\"none\"/>\n",
              "    <path d=\"M18.56 5.44l.94 2.06.94-2.06 2.06-.94-2.06-.94-.94-2.06-.94 2.06-2.06.94zm-11 1L8.5 8.5l.94-2.06 2.06-.94-2.06-.94L8.5 2.5l-.94 2.06-2.06.94zm10 10l.94 2.06.94-2.06 2.06-.94-2.06-.94-.94-2.06-.94 2.06-2.06.94z\"/><path d=\"M17.41 7.96l-1.37-1.37c-.4-.4-.92-.59-1.43-.59-.52 0-1.04.2-1.43.59L10.3 9.45l-7.72 7.72c-.78.78-.78 2.05 0 2.83L4 21.41c.39.39.9.59 1.41.59.51 0 1.02-.2 1.41-.59l7.78-7.78 2.81-2.81c.8-.78.8-2.07 0-2.86zM5.41 20L4 18.59l7.72-7.72 1.47 1.35L5.41 20z\"/>\n",
              "  </svg>\n",
              "      </button>\n",
              "      \n",
              "  <style>\n",
              "    .colab-df-container {\n",
              "      display:flex;\n",
              "      flex-wrap:wrap;\n",
              "      gap: 12px;\n",
              "    }\n",
              "\n",
              "    .colab-df-convert {\n",
              "      background-color: #E8F0FE;\n",
              "      border: none;\n",
              "      border-radius: 50%;\n",
              "      cursor: pointer;\n",
              "      display: none;\n",
              "      fill: #1967D2;\n",
              "      height: 32px;\n",
              "      padding: 0 0 0 0;\n",
              "      width: 32px;\n",
              "    }\n",
              "\n",
              "    .colab-df-convert:hover {\n",
              "      background-color: #E2EBFA;\n",
              "      box-shadow: 0px 1px 2px rgba(60, 64, 67, 0.3), 0px 1px 3px 1px rgba(60, 64, 67, 0.15);\n",
              "      fill: #174EA6;\n",
              "    }\n",
              "\n",
              "    [theme=dark] .colab-df-convert {\n",
              "      background-color: #3B4455;\n",
              "      fill: #D2E3FC;\n",
              "    }\n",
              "\n",
              "    [theme=dark] .colab-df-convert:hover {\n",
              "      background-color: #434B5C;\n",
              "      box-shadow: 0px 1px 3px 1px rgba(0, 0, 0, 0.15);\n",
              "      filter: drop-shadow(0px 1px 2px rgba(0, 0, 0, 0.3));\n",
              "      fill: #FFFFFF;\n",
              "    }\n",
              "  </style>\n",
              "\n",
              "      <script>\n",
              "        const buttonEl =\n",
              "          document.querySelector('#df-3e57232e-4622-4528-8d01-6187aec5b579 button.colab-df-convert');\n",
              "        buttonEl.style.display =\n",
              "          google.colab.kernel.accessAllowed ? 'block' : 'none';\n",
              "\n",
              "        async function convertToInteractive(key) {\n",
              "          const element = document.querySelector('#df-3e57232e-4622-4528-8d01-6187aec5b579');\n",
              "          const dataTable =\n",
              "            await google.colab.kernel.invokeFunction('convertToInteractive',\n",
              "                                                     [key], {});\n",
              "          if (!dataTable) return;\n",
              "\n",
              "          const docLinkHtml = 'Like what you see? Visit the ' +\n",
              "            '<a target=\"_blank\" href=https://colab.research.google.com/notebooks/data_table.ipynb>data table notebook</a>'\n",
              "            + ' to learn more about interactive tables.';\n",
              "          element.innerHTML = '';\n",
              "          dataTable['output_type'] = 'display_data';\n",
              "          await google.colab.output.renderOutput(dataTable, element);\n",
              "          const docLink = document.createElement('div');\n",
              "          docLink.innerHTML = docLinkHtml;\n",
              "          element.appendChild(docLink);\n",
              "        }\n",
              "      </script>\n",
              "    </div>\n",
              "  </div>\n",
              "  "
            ]
          },
          "metadata": {},
          "execution_count": 30
        }
      ]
    },
    {
      "cell_type": "code",
      "source": [
        "dados_ceaps.info()"
      ],
      "metadata": {
        "colab": {
          "base_uri": "https://localhost:8080/"
        },
        "id": "idU7aArWCflY",
        "outputId": "7fa3a93b-ad3f-4511-f25b-c613b151dc29"
      },
      "execution_count": 31,
      "outputs": [
        {
          "output_type": "stream",
          "name": "stdout",
          "text": [
            "<class 'pandas.core.frame.DataFrame'>\n",
            "Int64Index: 273778 entries, 0 to 25573\n",
            "Data columns (total 12 columns):\n",
            " #   Column             Non-Null Count   Dtype         \n",
            "---  ------             --------------   -----         \n",
            " 0   ANO                273778 non-null  int64         \n",
            " 1   MES                273778 non-null  int64         \n",
            " 2   SENADOR            273778 non-null  object        \n",
            " 3   TIPO_DESPESA       273778 non-null  object        \n",
            " 4   CNPJ_CPF           273778 non-null  object        \n",
            " 5   FORNECEDOR         273778 non-null  object        \n",
            " 6   DOCUMENTO          255029 non-null  object        \n",
            " 7   DATA               273778 non-null  object        \n",
            " 8   DETALHAMENTO       176747 non-null  object        \n",
            " 9   VALOR_REEMBOLSADO  273778 non-null  float64       \n",
            " 10  COD_DOCUMENTO      273776 non-null  float64       \n",
            " 11  DATA_REQUISICAO    273778 non-null  datetime64[ns]\n",
            "dtypes: datetime64[ns](1), float64(2), int64(2), object(7)\n",
            "memory usage: 27.2+ MB\n"
          ]
        }
      ]
    },
    {
      "cell_type": "markdown",
      "source": [
        "### Tratamento de valores nulos"
      ],
      "metadata": {
        "id": "S9LEepgNZC7C"
      }
    },
    {
      "cell_type": "markdown",
      "source": [
        "* Como o dataset já possui textos com acentuação, optei por não evitá-la."
      ],
      "metadata": {
        "id": "8mVnTqlFZaqd"
      }
    },
    {
      "cell_type": "code",
      "source": [
        "dados_ceaps['COD_DOCUMENTO'] = dados_ceaps['COD_DOCUMENTO'].fillna('Não informado')\n",
        "dados_ceaps['DOCUMENTO'] = dados_ceaps['DOCUMENTO'].fillna('Não informado')\n",
        "dados_ceaps['DETALHAMENTO'] = dados_ceaps['DETALHAMENTO'].fillna('Não informado')"
      ],
      "metadata": {
        "id": "7OoiDdjgZGBm"
      },
      "execution_count": 40,
      "outputs": []
    },
    {
      "cell_type": "code",
      "source": [
        "dados_ceaps.isnull().any()"
      ],
      "metadata": {
        "colab": {
          "base_uri": "https://localhost:8080/"
        },
        "id": "zvtQomauZzWq",
        "outputId": "c20eeb5f-b50b-4de0-f730-0d84cd84fc6c"
      },
      "execution_count": 41,
      "outputs": [
        {
          "output_type": "execute_result",
          "data": {
            "text/plain": [
              "ANO                  False\n",
              "MES                  False\n",
              "SENADOR              False\n",
              "TIPO_DESPESA         False\n",
              "CNPJ_CPF             False\n",
              "FORNECEDOR           False\n",
              "DOCUMENTO            False\n",
              "DATA                 False\n",
              "DETALHAMENTO         False\n",
              "VALOR_REEMBOLSADO    False\n",
              "COD_DOCUMENTO        False\n",
              "DATA_REQUISICAO      False\n",
              "dtype: bool"
            ]
          },
          "metadata": {},
          "execution_count": 41
        }
      ]
    },
    {
      "cell_type": "markdown",
      "source": [
        "### Verificação de valores inconsistentes de reembolso"
      ],
      "metadata": {
        "id": "qpVw1QPHZ72K"
      }
    },
    {
      "cell_type": "markdown",
      "source": [
        "#### Valores negativos"
      ],
      "metadata": {
        "id": "f6lkkZmua8xs"
      }
    },
    {
      "cell_type": "code",
      "source": [
        "dados_ceaps['VALOR_REEMBOLSADO'].sort_values()"
      ],
      "metadata": {
        "colab": {
          "base_uri": "https://localhost:8080/"
        },
        "id": "k6PLP4HLZ7IJ",
        "outputId": "a98803cd-a856-48b9-e816-a23aa336a310"
      },
      "execution_count": 42,
      "outputs": [
        {
          "output_type": "execute_result",
          "data": {
            "text/plain": [
              "8024       -1500.00\n",
              "4384        -243.40\n",
              "18934         -9.00\n",
              "10383          0.01\n",
              "14718          0.01\n",
              "            ...    \n",
              "4432      216780.00\n",
              "4635      256980.00\n",
              "4716      270000.00\n",
              "5922     2014675.00\n",
              "5929     2016557.00\n",
              "Name: VALOR_REEMBOLSADO, Length: 273778, dtype: float64"
            ]
          },
          "metadata": {},
          "execution_count": 42
        }
      ]
    },
    {
      "cell_type": "markdown",
      "source": [
        "* Os valores serão substituídos pelos seus módulos para evitar valores nulos."
      ],
      "metadata": {
        "id": "5HTXT-OFaL-o"
      }
    },
    {
      "cell_type": "code",
      "source": [
        "dados_ceaps['VALOR_REEMBOLSADO'] = abs(dados_ceaps['VALOR_REEMBOLSADO'])"
      ],
      "metadata": {
        "id": "t0M_ox9mazMX"
      },
      "execution_count": 46,
      "outputs": []
    },
    {
      "cell_type": "markdown",
      "source": [
        "#### Valores muito baixos ( < R$ 1,00)"
      ],
      "metadata": {
        "id": "9XQ9P4NnbAMq"
      }
    },
    {
      "cell_type": "code",
      "source": [
        "dados_ceaps['VALOR_REEMBOLSADO'].sort_values()"
      ],
      "metadata": {
        "colab": {
          "base_uri": "https://localhost:8080/"
        },
        "id": "F9f-1q9mbHo_",
        "outputId": "9047f974-f242-42e3-d040-5d8a05b55b76"
      },
      "execution_count": 47,
      "outputs": [
        {
          "output_type": "execute_result",
          "data": {
            "text/plain": [
              "18767          0.01\n",
              "7391           0.01\n",
              "15             0.01\n",
              "12249          0.01\n",
              "3295           0.01\n",
              "            ...    \n",
              "4432      216780.00\n",
              "4635      256980.00\n",
              "4716      270000.00\n",
              "5922     2014675.00\n",
              "5929     2016557.00\n",
              "Name: VALOR_REEMBOLSADO, Length: 273778, dtype: float64"
            ]
          },
          "metadata": {},
          "execution_count": 47
        }
      ]
    },
    {
      "cell_type": "code",
      "source": [
        "dados_ceaps.query('VALOR_REEMBOLSADO < 1')"
      ],
      "metadata": {
        "colab": {
          "base_uri": "https://localhost:8080/",
          "height": 641
        },
        "id": "mramzVgXbLCs",
        "outputId": "e8a95703-6144-420a-b729-295e41798ab1"
      },
      "execution_count": 50,
      "outputs": [
        {
          "output_type": "execute_result",
          "data": {
            "text/plain": [
              "        ANO  MES           SENADOR  \\\n",
              "615    2022    1   CARLOS PORTINHO   \n",
              "1686   2022    4      DÁRIO BERGER   \n",
              "5028   2022    7  JEAN PAUL PRATES   \n",
              "1451   2021    8   CARLOS PORTINHO   \n",
              "1485   2021    9   CARLOS PORTINHO   \n",
              "...     ...  ...               ...   \n",
              "29830  2012   10   WELLINGTON DIAS   \n",
              "1397   2011    2          ANA RITA   \n",
              "9599   2011   11      JAYME CAMPOS   \n",
              "12100  2011    5    LÍDICE DA MATA   \n",
              "24972  2011   11   WALTER PINHEIRO   \n",
              "\n",
              "                                            TIPO_DESPESA            CNPJ_CPF  \\\n",
              "615    Passagens aéreas, aquáticas e terrestres nacio...  09.296.295/0001-60   \n",
              "1686   Passagens aéreas, aquáticas e terrestres nacio...  33.937.681/0001-78   \n",
              "5028   Locomoção, hospedagem, alimentação, combustíve...  05.756.905/0001-00   \n",
              "1451   Passagens aéreas, aquáticas e terrestres nacio...  33.937.681/0001-78   \n",
              "1485   Passagens aéreas, aquáticas e terrestres nacio...  09.296.295/0001-60   \n",
              "...                                                  ...                 ...   \n",
              "29830  Locomoção, hospedagem, alimentação, combustíve...  52.378.239/0001-01   \n",
              "1397   Aquisição de material de consumo para uso no e...  34.028.316/8391-97   \n",
              "9599                 Divulgação da atividade parlamentar  05.366.239/0001-01   \n",
              "12100  Aluguel de imóveis para escritório político, c...  15.139.629/0001-94   \n",
              "24972  Locomoção, hospedagem, alimentação, combustíve...  13.578.265/0001-13   \n",
              "\n",
              "                                              FORNECEDOR         DOCUMENTO  \\\n",
              "615                                                 AZUL            MGMLGZ   \n",
              "1686                                               LATAM            TGJGQI   \n",
              "5028                  ASSU COMERCIAL DE PETROLEO EIRELLI            143432   \n",
              "1451                                               LATAM            INOSTW   \n",
              "1485                                                AZUL            YYMQTR   \n",
              "...                                                  ...               ...   \n",
              "29830  COOPERATIVA MISTA DE TRABALHO DOS MOTORISTAS A...            234C16   \n",
              "1397              ECT-EMP.BRAS DE CORREIOS E TELEGRAFOS                 23   \n",
              "9599                                    02 Internet Ltda    48111250300061   \n",
              "12100                                             COELBA         004413252   \n",
              "24972                                    POSTOS MATARIPE  PBO-22111111-001   \n",
              "\n",
              "             DATA                                       DETALHAMENTO  \\\n",
              "615    19/01/2022  Companhia Aérea: AZUL, Localizador: MGMLGZ. Pa...   \n",
              "1686   20/04/2022  Companhia Aérea: LATAM, Localizador: TGJGQI. P...   \n",
              "5028   22/07/2022                                      Não informado   \n",
              "1451   18/08/2021  Companhia Aérea: LATAM, Localizador: INOSTW. P...   \n",
              "1485   27/09/2021  Companhia Aérea: AZUL, Localizador: YYMQTR. Pa...   \n",
              "...           ...                                                ...   \n",
              "29830  15/10/2012                                      Não informado   \n",
              "1397   01/02/2011                                      Não informado   \n",
              "9599   08/11/2011                                      Não informado   \n",
              "12100  27/05/2011                                      Não informado   \n",
              "24972  30/11/2011                                      Não informado   \n",
              "\n",
              "       VALOR_REEMBOLSADO COD_DOCUMENTO DATA_REQUISICAO  \n",
              "615                 0.01     2173057.0      2022-01-01  \n",
              "1686                0.01     2179322.0      2022-04-01  \n",
              "5028                0.03     2184690.0      2022-07-01  \n",
              "1451                0.90     2164842.0      2021-08-01  \n",
              "1485                0.01     2167020.0      2021-09-01  \n",
              "...                  ...           ...             ...  \n",
              "29830               0.40      650779.0      2012-10-01  \n",
              "1397                0.70      389977.0      2011-02-01  \n",
              "9599                0.60      457627.0      2011-11-01  \n",
              "12100               0.40      376454.0      2011-05-01  \n",
              "24972               0.05      476441.0      2011-11-01  \n",
              "\n",
              "[117 rows x 12 columns]"
            ],
            "text/html": [
              "\n",
              "  <div id=\"df-1a8be4d8-e1d9-4967-b7fe-a60e86230d3e\">\n",
              "    <div class=\"colab-df-container\">\n",
              "      <div>\n",
              "<style scoped>\n",
              "    .dataframe tbody tr th:only-of-type {\n",
              "        vertical-align: middle;\n",
              "    }\n",
              "\n",
              "    .dataframe tbody tr th {\n",
              "        vertical-align: top;\n",
              "    }\n",
              "\n",
              "    .dataframe thead th {\n",
              "        text-align: right;\n",
              "    }\n",
              "</style>\n",
              "<table border=\"1\" class=\"dataframe\">\n",
              "  <thead>\n",
              "    <tr style=\"text-align: right;\">\n",
              "      <th></th>\n",
              "      <th>ANO</th>\n",
              "      <th>MES</th>\n",
              "      <th>SENADOR</th>\n",
              "      <th>TIPO_DESPESA</th>\n",
              "      <th>CNPJ_CPF</th>\n",
              "      <th>FORNECEDOR</th>\n",
              "      <th>DOCUMENTO</th>\n",
              "      <th>DATA</th>\n",
              "      <th>DETALHAMENTO</th>\n",
              "      <th>VALOR_REEMBOLSADO</th>\n",
              "      <th>COD_DOCUMENTO</th>\n",
              "      <th>DATA_REQUISICAO</th>\n",
              "    </tr>\n",
              "  </thead>\n",
              "  <tbody>\n",
              "    <tr>\n",
              "      <th>615</th>\n",
              "      <td>2022</td>\n",
              "      <td>1</td>\n",
              "      <td>CARLOS PORTINHO</td>\n",
              "      <td>Passagens aéreas, aquáticas e terrestres nacio...</td>\n",
              "      <td>09.296.295/0001-60</td>\n",
              "      <td>AZUL</td>\n",
              "      <td>MGMLGZ</td>\n",
              "      <td>19/01/2022</td>\n",
              "      <td>Companhia Aérea: AZUL, Localizador: MGMLGZ. Pa...</td>\n",
              "      <td>0.01</td>\n",
              "      <td>2173057.0</td>\n",
              "      <td>2022-01-01</td>\n",
              "    </tr>\n",
              "    <tr>\n",
              "      <th>1686</th>\n",
              "      <td>2022</td>\n",
              "      <td>4</td>\n",
              "      <td>DÁRIO BERGER</td>\n",
              "      <td>Passagens aéreas, aquáticas e terrestres nacio...</td>\n",
              "      <td>33.937.681/0001-78</td>\n",
              "      <td>LATAM</td>\n",
              "      <td>TGJGQI</td>\n",
              "      <td>20/04/2022</td>\n",
              "      <td>Companhia Aérea: LATAM, Localizador: TGJGQI. P...</td>\n",
              "      <td>0.01</td>\n",
              "      <td>2179322.0</td>\n",
              "      <td>2022-04-01</td>\n",
              "    </tr>\n",
              "    <tr>\n",
              "      <th>5028</th>\n",
              "      <td>2022</td>\n",
              "      <td>7</td>\n",
              "      <td>JEAN PAUL PRATES</td>\n",
              "      <td>Locomoção, hospedagem, alimentação, combustíve...</td>\n",
              "      <td>05.756.905/0001-00</td>\n",
              "      <td>ASSU COMERCIAL DE PETROLEO EIRELLI</td>\n",
              "      <td>143432</td>\n",
              "      <td>22/07/2022</td>\n",
              "      <td>Não informado</td>\n",
              "      <td>0.03</td>\n",
              "      <td>2184690.0</td>\n",
              "      <td>2022-07-01</td>\n",
              "    </tr>\n",
              "    <tr>\n",
              "      <th>1451</th>\n",
              "      <td>2021</td>\n",
              "      <td>8</td>\n",
              "      <td>CARLOS PORTINHO</td>\n",
              "      <td>Passagens aéreas, aquáticas e terrestres nacio...</td>\n",
              "      <td>33.937.681/0001-78</td>\n",
              "      <td>LATAM</td>\n",
              "      <td>INOSTW</td>\n",
              "      <td>18/08/2021</td>\n",
              "      <td>Companhia Aérea: LATAM, Localizador: INOSTW. P...</td>\n",
              "      <td>0.90</td>\n",
              "      <td>2164842.0</td>\n",
              "      <td>2021-08-01</td>\n",
              "    </tr>\n",
              "    <tr>\n",
              "      <th>1485</th>\n",
              "      <td>2021</td>\n",
              "      <td>9</td>\n",
              "      <td>CARLOS PORTINHO</td>\n",
              "      <td>Passagens aéreas, aquáticas e terrestres nacio...</td>\n",
              "      <td>09.296.295/0001-60</td>\n",
              "      <td>AZUL</td>\n",
              "      <td>YYMQTR</td>\n",
              "      <td>27/09/2021</td>\n",
              "      <td>Companhia Aérea: AZUL, Localizador: YYMQTR. Pa...</td>\n",
              "      <td>0.01</td>\n",
              "      <td>2167020.0</td>\n",
              "      <td>2021-09-01</td>\n",
              "    </tr>\n",
              "    <tr>\n",
              "      <th>...</th>\n",
              "      <td>...</td>\n",
              "      <td>...</td>\n",
              "      <td>...</td>\n",
              "      <td>...</td>\n",
              "      <td>...</td>\n",
              "      <td>...</td>\n",
              "      <td>...</td>\n",
              "      <td>...</td>\n",
              "      <td>...</td>\n",
              "      <td>...</td>\n",
              "      <td>...</td>\n",
              "      <td>...</td>\n",
              "    </tr>\n",
              "    <tr>\n",
              "      <th>29830</th>\n",
              "      <td>2012</td>\n",
              "      <td>10</td>\n",
              "      <td>WELLINGTON DIAS</td>\n",
              "      <td>Locomoção, hospedagem, alimentação, combustíve...</td>\n",
              "      <td>52.378.239/0001-01</td>\n",
              "      <td>COOPERATIVA MISTA DE TRABALHO DOS MOTORISTAS A...</td>\n",
              "      <td>234C16</td>\n",
              "      <td>15/10/2012</td>\n",
              "      <td>Não informado</td>\n",
              "      <td>0.40</td>\n",
              "      <td>650779.0</td>\n",
              "      <td>2012-10-01</td>\n",
              "    </tr>\n",
              "    <tr>\n",
              "      <th>1397</th>\n",
              "      <td>2011</td>\n",
              "      <td>2</td>\n",
              "      <td>ANA RITA</td>\n",
              "      <td>Aquisição de material de consumo para uso no e...</td>\n",
              "      <td>34.028.316/8391-97</td>\n",
              "      <td>ECT-EMP.BRAS DE CORREIOS E TELEGRAFOS</td>\n",
              "      <td>23</td>\n",
              "      <td>01/02/2011</td>\n",
              "      <td>Não informado</td>\n",
              "      <td>0.70</td>\n",
              "      <td>389977.0</td>\n",
              "      <td>2011-02-01</td>\n",
              "    </tr>\n",
              "    <tr>\n",
              "      <th>9599</th>\n",
              "      <td>2011</td>\n",
              "      <td>11</td>\n",
              "      <td>JAYME CAMPOS</td>\n",
              "      <td>Divulgação da atividade parlamentar</td>\n",
              "      <td>05.366.239/0001-01</td>\n",
              "      <td>02 Internet Ltda</td>\n",
              "      <td>48111250300061</td>\n",
              "      <td>08/11/2011</td>\n",
              "      <td>Não informado</td>\n",
              "      <td>0.60</td>\n",
              "      <td>457627.0</td>\n",
              "      <td>2011-11-01</td>\n",
              "    </tr>\n",
              "    <tr>\n",
              "      <th>12100</th>\n",
              "      <td>2011</td>\n",
              "      <td>5</td>\n",
              "      <td>LÍDICE DA MATA</td>\n",
              "      <td>Aluguel de imóveis para escritório político, c...</td>\n",
              "      <td>15.139.629/0001-94</td>\n",
              "      <td>COELBA</td>\n",
              "      <td>004413252</td>\n",
              "      <td>27/05/2011</td>\n",
              "      <td>Não informado</td>\n",
              "      <td>0.40</td>\n",
              "      <td>376454.0</td>\n",
              "      <td>2011-05-01</td>\n",
              "    </tr>\n",
              "    <tr>\n",
              "      <th>24972</th>\n",
              "      <td>2011</td>\n",
              "      <td>11</td>\n",
              "      <td>WALTER PINHEIRO</td>\n",
              "      <td>Locomoção, hospedagem, alimentação, combustíve...</td>\n",
              "      <td>13.578.265/0001-13</td>\n",
              "      <td>POSTOS MATARIPE</td>\n",
              "      <td>PBO-22111111-001</td>\n",
              "      <td>30/11/2011</td>\n",
              "      <td>Não informado</td>\n",
              "      <td>0.05</td>\n",
              "      <td>476441.0</td>\n",
              "      <td>2011-11-01</td>\n",
              "    </tr>\n",
              "  </tbody>\n",
              "</table>\n",
              "<p>117 rows × 12 columns</p>\n",
              "</div>\n",
              "      <button class=\"colab-df-convert\" onclick=\"convertToInteractive('df-1a8be4d8-e1d9-4967-b7fe-a60e86230d3e')\"\n",
              "              title=\"Convert this dataframe to an interactive table.\"\n",
              "              style=\"display:none;\">\n",
              "        \n",
              "  <svg xmlns=\"http://www.w3.org/2000/svg\" height=\"24px\"viewBox=\"0 0 24 24\"\n",
              "       width=\"24px\">\n",
              "    <path d=\"M0 0h24v24H0V0z\" fill=\"none\"/>\n",
              "    <path d=\"M18.56 5.44l.94 2.06.94-2.06 2.06-.94-2.06-.94-.94-2.06-.94 2.06-2.06.94zm-11 1L8.5 8.5l.94-2.06 2.06-.94-2.06-.94L8.5 2.5l-.94 2.06-2.06.94zm10 10l.94 2.06.94-2.06 2.06-.94-2.06-.94-.94-2.06-.94 2.06-2.06.94z\"/><path d=\"M17.41 7.96l-1.37-1.37c-.4-.4-.92-.59-1.43-.59-.52 0-1.04.2-1.43.59L10.3 9.45l-7.72 7.72c-.78.78-.78 2.05 0 2.83L4 21.41c.39.39.9.59 1.41.59.51 0 1.02-.2 1.41-.59l7.78-7.78 2.81-2.81c.8-.78.8-2.07 0-2.86zM5.41 20L4 18.59l7.72-7.72 1.47 1.35L5.41 20z\"/>\n",
              "  </svg>\n",
              "      </button>\n",
              "      \n",
              "  <style>\n",
              "    .colab-df-container {\n",
              "      display:flex;\n",
              "      flex-wrap:wrap;\n",
              "      gap: 12px;\n",
              "    }\n",
              "\n",
              "    .colab-df-convert {\n",
              "      background-color: #E8F0FE;\n",
              "      border: none;\n",
              "      border-radius: 50%;\n",
              "      cursor: pointer;\n",
              "      display: none;\n",
              "      fill: #1967D2;\n",
              "      height: 32px;\n",
              "      padding: 0 0 0 0;\n",
              "      width: 32px;\n",
              "    }\n",
              "\n",
              "    .colab-df-convert:hover {\n",
              "      background-color: #E2EBFA;\n",
              "      box-shadow: 0px 1px 2px rgba(60, 64, 67, 0.3), 0px 1px 3px 1px rgba(60, 64, 67, 0.15);\n",
              "      fill: #174EA6;\n",
              "    }\n",
              "\n",
              "    [theme=dark] .colab-df-convert {\n",
              "      background-color: #3B4455;\n",
              "      fill: #D2E3FC;\n",
              "    }\n",
              "\n",
              "    [theme=dark] .colab-df-convert:hover {\n",
              "      background-color: #434B5C;\n",
              "      box-shadow: 0px 1px 3px 1px rgba(0, 0, 0, 0.15);\n",
              "      filter: drop-shadow(0px 1px 2px rgba(0, 0, 0, 0.3));\n",
              "      fill: #FFFFFF;\n",
              "    }\n",
              "  </style>\n",
              "\n",
              "      <script>\n",
              "        const buttonEl =\n",
              "          document.querySelector('#df-1a8be4d8-e1d9-4967-b7fe-a60e86230d3e button.colab-df-convert');\n",
              "        buttonEl.style.display =\n",
              "          google.colab.kernel.accessAllowed ? 'block' : 'none';\n",
              "\n",
              "        async function convertToInteractive(key) {\n",
              "          const element = document.querySelector('#df-1a8be4d8-e1d9-4967-b7fe-a60e86230d3e');\n",
              "          const dataTable =\n",
              "            await google.colab.kernel.invokeFunction('convertToInteractive',\n",
              "                                                     [key], {});\n",
              "          if (!dataTable) return;\n",
              "\n",
              "          const docLinkHtml = 'Like what you see? Visit the ' +\n",
              "            '<a target=\"_blank\" href=https://colab.research.google.com/notebooks/data_table.ipynb>data table notebook</a>'\n",
              "            + ' to learn more about interactive tables.';\n",
              "          element.innerHTML = '';\n",
              "          dataTable['output_type'] = 'display_data';\n",
              "          await google.colab.output.renderOutput(dataTable, element);\n",
              "          const docLink = document.createElement('div');\n",
              "          docLink.innerHTML = docLinkHtml;\n",
              "          element.appendChild(docLink);\n",
              "        }\n",
              "      </script>\n",
              "    </div>\n",
              "  </div>\n",
              "  "
            ]
          },
          "metadata": {},
          "execution_count": 50
        }
      ]
    },
    {
      "cell_type": "markdown",
      "source": [
        "* Há muitas requisições com valores muito baixos e totalmente inconsistentes com o que foi informado no TIPO_DESPESA."
      ],
      "metadata": {
        "id": "lChc3AJLbyAd"
      }
    },
    {
      "cell_type": "markdown",
      "source": [
        "# Análises sobre tipos de despesas"
      ],
      "metadata": {
        "id": "iKoH5qlYDaTu"
      }
    },
    {
      "cell_type": "markdown",
      "source": [
        "## Tipos de despesas"
      ],
      "metadata": {
        "id": "uKlWO7vRD25K"
      }
    },
    {
      "cell_type": "code",
      "source": [
        "dados_ceaps['TIPO_DESPESA'].value_counts()"
      ],
      "metadata": {
        "colab": {
          "base_uri": "https://localhost:8080/"
        },
        "id": "AhY3uV92C0RY",
        "outputId": "c034de66-c873-40c9-f2fd-c7e673a72889"
      },
      "execution_count": 32,
      "outputs": [
        {
          "output_type": "execute_result",
          "data": {
            "text/plain": [
              "Locomoção, hospedagem, alimentação, combustíveis e lubrificantes                                                                                                                                   107810\n",
              "Passagens aéreas, aquáticas e terrestres nacionais                                                                                                                                                  67377\n",
              "Aluguel de imóveis para escritório político, compreendendo despesas concernentes a eles.                                                                                                            53906\n",
              "Aquisição de material de consumo para uso no escritório político, inclusive aquisição ou locação de software, despesas postais, aquisição de publicações, locação de móveis e de equipamentos.      21143\n",
              "Divulgação da atividade parlamentar                                                                                                                                                                 12005\n",
              "Contratação de consultorias, assessorias, pesquisas, trabalhos técnicos e outros serviços de apoio ao exercício do mandato parlamentar                                                              10601\n",
              "Serviços de Segurança Privada                                                                                                                                                                         936\n",
              "Name: TIPO_DESPESA, dtype: int64"
            ]
          },
          "metadata": {},
          "execution_count": 32
        }
      ]
    },
    {
      "cell_type": "markdown",
      "source": [
        "## Despesas mais recorrentes"
      ],
      "metadata": {
        "id": "0LjDO68PEigP"
      }
    },
    {
      "cell_type": "code",
      "source": [
        "recorrencia_despesas = dados_ceaps['TIPO_DESPESA'].value_counts()\n",
        "recorrencia_despesas = pd.DataFrame(data = [recorrencia_despesas.index, recorrencia_despesas.values])\n",
        "recorrencia_despesas = recorrencia_despesas.T.rename(columns = {0:'tipo_despesa', 1:'n_ocorrencias'})\n",
        "recorrencia_despesas"
      ],
      "metadata": {
        "colab": {
          "base_uri": "https://localhost:8080/",
          "height": 269
        },
        "id": "93xfNC1WD8yI",
        "outputId": "2ab5b4eb-1097-4b66-c333-1c2a287254b8"
      },
      "execution_count": 33,
      "outputs": [
        {
          "output_type": "execute_result",
          "data": {
            "text/plain": [
              "                                        tipo_despesa n_ocorrencias\n",
              "0  Locomoção, hospedagem, alimentação, combustíve...        107810\n",
              "1  Passagens aéreas, aquáticas e terrestres nacio...         67377\n",
              "2  Aluguel de imóveis para escritório político, c...         53906\n",
              "3  Aquisição de material de consumo para uso no e...         21143\n",
              "4                Divulgação da atividade parlamentar         12005\n",
              "5  Contratação de consultorias, assessorias, pesq...         10601\n",
              "6                      Serviços de Segurança Privada           936"
            ],
            "text/html": [
              "\n",
              "  <div id=\"df-fba0016a-37c6-4734-ba95-7317f135dfc9\">\n",
              "    <div class=\"colab-df-container\">\n",
              "      <div>\n",
              "<style scoped>\n",
              "    .dataframe tbody tr th:only-of-type {\n",
              "        vertical-align: middle;\n",
              "    }\n",
              "\n",
              "    .dataframe tbody tr th {\n",
              "        vertical-align: top;\n",
              "    }\n",
              "\n",
              "    .dataframe thead th {\n",
              "        text-align: right;\n",
              "    }\n",
              "</style>\n",
              "<table border=\"1\" class=\"dataframe\">\n",
              "  <thead>\n",
              "    <tr style=\"text-align: right;\">\n",
              "      <th></th>\n",
              "      <th>tipo_despesa</th>\n",
              "      <th>n_ocorrencias</th>\n",
              "    </tr>\n",
              "  </thead>\n",
              "  <tbody>\n",
              "    <tr>\n",
              "      <th>0</th>\n",
              "      <td>Locomoção, hospedagem, alimentação, combustíve...</td>\n",
              "      <td>107810</td>\n",
              "    </tr>\n",
              "    <tr>\n",
              "      <th>1</th>\n",
              "      <td>Passagens aéreas, aquáticas e terrestres nacio...</td>\n",
              "      <td>67377</td>\n",
              "    </tr>\n",
              "    <tr>\n",
              "      <th>2</th>\n",
              "      <td>Aluguel de imóveis para escritório político, c...</td>\n",
              "      <td>53906</td>\n",
              "    </tr>\n",
              "    <tr>\n",
              "      <th>3</th>\n",
              "      <td>Aquisição de material de consumo para uso no e...</td>\n",
              "      <td>21143</td>\n",
              "    </tr>\n",
              "    <tr>\n",
              "      <th>4</th>\n",
              "      <td>Divulgação da atividade parlamentar</td>\n",
              "      <td>12005</td>\n",
              "    </tr>\n",
              "    <tr>\n",
              "      <th>5</th>\n",
              "      <td>Contratação de consultorias, assessorias, pesq...</td>\n",
              "      <td>10601</td>\n",
              "    </tr>\n",
              "    <tr>\n",
              "      <th>6</th>\n",
              "      <td>Serviços de Segurança Privada</td>\n",
              "      <td>936</td>\n",
              "    </tr>\n",
              "  </tbody>\n",
              "</table>\n",
              "</div>\n",
              "      <button class=\"colab-df-convert\" onclick=\"convertToInteractive('df-fba0016a-37c6-4734-ba95-7317f135dfc9')\"\n",
              "              title=\"Convert this dataframe to an interactive table.\"\n",
              "              style=\"display:none;\">\n",
              "        \n",
              "  <svg xmlns=\"http://www.w3.org/2000/svg\" height=\"24px\"viewBox=\"0 0 24 24\"\n",
              "       width=\"24px\">\n",
              "    <path d=\"M0 0h24v24H0V0z\" fill=\"none\"/>\n",
              "    <path d=\"M18.56 5.44l.94 2.06.94-2.06 2.06-.94-2.06-.94-.94-2.06-.94 2.06-2.06.94zm-11 1L8.5 8.5l.94-2.06 2.06-.94-2.06-.94L8.5 2.5l-.94 2.06-2.06.94zm10 10l.94 2.06.94-2.06 2.06-.94-2.06-.94-.94-2.06-.94 2.06-2.06.94z\"/><path d=\"M17.41 7.96l-1.37-1.37c-.4-.4-.92-.59-1.43-.59-.52 0-1.04.2-1.43.59L10.3 9.45l-7.72 7.72c-.78.78-.78 2.05 0 2.83L4 21.41c.39.39.9.59 1.41.59.51 0 1.02-.2 1.41-.59l7.78-7.78 2.81-2.81c.8-.78.8-2.07 0-2.86zM5.41 20L4 18.59l7.72-7.72 1.47 1.35L5.41 20z\"/>\n",
              "  </svg>\n",
              "      </button>\n",
              "      \n",
              "  <style>\n",
              "    .colab-df-container {\n",
              "      display:flex;\n",
              "      flex-wrap:wrap;\n",
              "      gap: 12px;\n",
              "    }\n",
              "\n",
              "    .colab-df-convert {\n",
              "      background-color: #E8F0FE;\n",
              "      border: none;\n",
              "      border-radius: 50%;\n",
              "      cursor: pointer;\n",
              "      display: none;\n",
              "      fill: #1967D2;\n",
              "      height: 32px;\n",
              "      padding: 0 0 0 0;\n",
              "      width: 32px;\n",
              "    }\n",
              "\n",
              "    .colab-df-convert:hover {\n",
              "      background-color: #E2EBFA;\n",
              "      box-shadow: 0px 1px 2px rgba(60, 64, 67, 0.3), 0px 1px 3px 1px rgba(60, 64, 67, 0.15);\n",
              "      fill: #174EA6;\n",
              "    }\n",
              "\n",
              "    [theme=dark] .colab-df-convert {\n",
              "      background-color: #3B4455;\n",
              "      fill: #D2E3FC;\n",
              "    }\n",
              "\n",
              "    [theme=dark] .colab-df-convert:hover {\n",
              "      background-color: #434B5C;\n",
              "      box-shadow: 0px 1px 3px 1px rgba(0, 0, 0, 0.15);\n",
              "      filter: drop-shadow(0px 1px 2px rgba(0, 0, 0, 0.3));\n",
              "      fill: #FFFFFF;\n",
              "    }\n",
              "  </style>\n",
              "\n",
              "      <script>\n",
              "        const buttonEl =\n",
              "          document.querySelector('#df-fba0016a-37c6-4734-ba95-7317f135dfc9 button.colab-df-convert');\n",
              "        buttonEl.style.display =\n",
              "          google.colab.kernel.accessAllowed ? 'block' : 'none';\n",
              "\n",
              "        async function convertToInteractive(key) {\n",
              "          const element = document.querySelector('#df-fba0016a-37c6-4734-ba95-7317f135dfc9');\n",
              "          const dataTable =\n",
              "            await google.colab.kernel.invokeFunction('convertToInteractive',\n",
              "                                                     [key], {});\n",
              "          if (!dataTable) return;\n",
              "\n",
              "          const docLinkHtml = 'Like what you see? Visit the ' +\n",
              "            '<a target=\"_blank\" href=https://colab.research.google.com/notebooks/data_table.ipynb>data table notebook</a>'\n",
              "            + ' to learn more about interactive tables.';\n",
              "          element.innerHTML = '';\n",
              "          dataTable['output_type'] = 'display_data';\n",
              "          await google.colab.output.renderOutput(dataTable, element);\n",
              "          const docLink = document.createElement('div');\n",
              "          docLink.innerHTML = docLinkHtml;\n",
              "          element.appendChild(docLink);\n",
              "        }\n",
              "      </script>\n",
              "    </div>\n",
              "  </div>\n",
              "  "
            ]
          },
          "metadata": {},
          "execution_count": 33
        }
      ]
    },
    {
      "cell_type": "markdown",
      "source": [
        "A tabela acima contém cada tipo de despesa e a quantidade de vezes que cada uma ocorre no dataset, da mais frequente para a menos frequente."
      ],
      "metadata": {
        "id": "hHQvJPIJRY1L"
      }
    },
    {
      "cell_type": "code",
      "source": [
        "import seaborn as sns\n",
        "import matplotlib as mpl\n",
        "import matplotlib.pyplot as plt\n",
        "import numpy as np"
      ],
      "metadata": {
        "id": "ohQ_i7dqElBA"
      },
      "execution_count": 34,
      "outputs": []
    },
    {
      "cell_type": "markdown",
      "source": [
        "Padronização dos gráficos de barras horizontais e tratamento dos labels extensos"
      ],
      "metadata": {
        "id": "7kaqiu4-Rx08"
      }
    },
    {
      "cell_type": "code",
      "source": [
        "def corta_label(label, largura_label = 50):\n",
        "  label_cortada = label\n",
        "  for l in range(largura_label, len(label), largura_label):\n",
        "    while label_cortada[l] != \" \":\n",
        "      l += 1\n",
        "    label_cortada = label_cortada[:l] + \"\\n\" + label_cortada[l:]\n",
        "\n",
        "  return label_cortada\n",
        "\n",
        "def formata_labels(series_labels):\n",
        "  list_labels = []\n",
        "  for label in series_labels.values:\n",
        "    list_labels.append(corta_label(label))\n",
        "  return list_labels\n",
        "\n",
        "def plota_barras_horizontais(data, x, y, formatacao = 'nenhuma', palette = \"Blues_r\", titulo = \"\", xlabel = \"\", ylabel = \"\"):\n",
        "  plt.figure(figsize = (13,10))\n",
        "  sns.set_theme(style=\"whitegrid\")\n",
        "\n",
        "  ax = sns.barplot(data = data, x = x, y = y, palette = palette)\n",
        "\n",
        "  labels = formata_labels(data[y])\n",
        "  ax.set_yticklabels(labels)\n",
        "\n",
        "  ax.set_title(titulo, fontsize = 25, pad = 25, loc = 'center')\n",
        "  ax.tick_params(axis = 'y', labelsize = 15)\n",
        "  ax.tick_params(axis = 'x', labelsize = 15)\n",
        "  plt.xlabel(xlabel, fontsize = 20)\n",
        "  plt.ylabel(ylabel)\n",
        "\n",
        "  if formatacao == 'milhoes':\n",
        "    ax.get_xaxis().set_major_formatter(mpl.ticker.FuncFormatter(lambda x,_ : format(int(x/1000000), ',')))\n",
        "\n",
        "  plt.show()"
      ],
      "metadata": {
        "id": "Q6k-xlUMRths"
      },
      "execution_count": 51,
      "outputs": []
    },
    {
      "cell_type": "code",
      "source": [
        "plota_barras_horizontais(recorrencia_despesas, x = 'n_ocorrencias', y = 'tipo_despesa',\n",
        "                            titulo = \"Quantidade de ocorrências de cada tipo de despesa\")"
      ],
      "metadata": {
        "colab": {
          "base_uri": "https://localhost:8080/",
          "height": 645
        },
        "id": "jDj5pZgER0b7",
        "outputId": "d8d29473-5b82-428c-e2d9-1c30c14f2663"
      },
      "execution_count": 52,
      "outputs": [
        {
          "output_type": "display_data",
          "data": {
            "text/plain": [
              "<Figure size 936x720 with 1 Axes>"
            ],
            "image/png": "[encoded data removed]"
          },
          "metadata": {}
        }
      ]
    },
    {
      "cell_type": "markdown",
      "source": [
        "As despesas mais recorrentes estão relacionadas às viagens dos senadores."
      ],
      "metadata": {
        "id": "sH2notUBSM9V"
      }
    },
    {
      "cell_type": "markdown",
      "source": [
        "## Gastos por tipo de despesa"
      ],
      "metadata": {
        "id": "UOrH4U46SPyD"
      }
    },
    {
      "cell_type": "code",
      "source": [
        "valor_despesas = dados_ceaps.groupby(\"TIPO_DESPESA\").sum()\n",
        "valor_despesas = valor_despesas.reset_index()\n",
        "valor_despesas = valor_despesas[[\"TIPO_DESPESA\", \"VALOR_REEMBOLSADO\"]].rename(columns = {\"TIPO_DESPESA\":'tipo_despesa', \"VALOR_REEMBOLSADO\":'valor_total_reembolso'}).sort_values(by = 'valor_total_reembolso', ascending = False)\n",
        "valor_despesas"
      ],
      "metadata": {
        "colab": {
          "base_uri": "https://localhost:8080/",
          "height": 269
        },
        "id": "cls9bE5xR2x0",
        "outputId": "4fcfb022-9ee0-4616-f837-8f6bc8d0b964"
      },
      "execution_count": 37,
      "outputs": [
        {
          "output_type": "execute_result",
          "data": {
            "text/plain": [
              "                                        tipo_despesa  valor_total_reembolso\n",
              "5  Passagens aéreas, aquáticas e terrestres nacio...            72849258.75\n",
              "4  Locomoção, hospedagem, alimentação, combustíve...            61043179.06\n",
              "0  Aluguel de imóveis para escritório político, c...            50654486.66\n",
              "2  Contratação de consultorias, assessorias, pesq...            46663896.68\n",
              "3                Divulgação da atividade parlamentar            37060315.65\n",
              "1  Aquisição de material de consumo para uso no e...            10360001.69\n",
              "6                      Serviços de Segurança Privada             3087309.08"
            ],
            "text/html": [
              "\n",
              "  <div id=\"df-1ae82dc3-65d4-4a52-b487-4828bc825938\">\n",
              "    <div class=\"colab-df-container\">\n",
              "      <div>\n",
              "<style scoped>\n",
              "    .dataframe tbody tr th:only-of-type {\n",
              "        vertical-align: middle;\n",
              "    }\n",
              "\n",
              "    .dataframe tbody tr th {\n",
              "        vertical-align: top;\n",
              "    }\n",
              "\n",
              "    .dataframe thead th {\n",
              "        text-align: right;\n",
              "    }\n",
              "</style>\n",
              "<table border=\"1\" class=\"dataframe\">\n",
              "  <thead>\n",
              "    <tr style=\"text-align: right;\">\n",
              "      <th></th>\n",
              "      <th>tipo_despesa</th>\n",
              "      <th>valor_total_reembolso</th>\n",
              "    </tr>\n",
              "  </thead>\n",
              "  <tbody>\n",
              "    <tr>\n",
              "      <th>5</th>\n",
              "      <td>Passagens aéreas, aquáticas e terrestres nacio...</td>\n",
              "      <td>72849258.75</td>\n",
              "    </tr>\n",
              "    <tr>\n",
              "      <th>4</th>\n",
              "      <td>Locomoção, hospedagem, alimentação, combustíve...</td>\n",
              "      <td>61043179.06</td>\n",
              "    </tr>\n",
              "    <tr>\n",
              "      <th>0</th>\n",
              "      <td>Aluguel de imóveis para escritório político, c...</td>\n",
              "      <td>50654486.66</td>\n",
              "    </tr>\n",
              "    <tr>\n",
              "      <th>2</th>\n",
              "      <td>Contratação de consultorias, assessorias, pesq...</td>\n",
              "      <td>46663896.68</td>\n",
              "    </tr>\n",
              "    <tr>\n",
              "      <th>3</th>\n",
              "      <td>Divulgação da atividade parlamentar</td>\n",
              "      <td>37060315.65</td>\n",
              "    </tr>\n",
              "    <tr>\n",
              "      <th>1</th>\n",
              "      <td>Aquisição de material de consumo para uso no e...</td>\n",
              "      <td>10360001.69</td>\n",
              "    </tr>\n",
              "    <tr>\n",
              "      <th>6</th>\n",
              "      <td>Serviços de Segurança Privada</td>\n",
              "      <td>3087309.08</td>\n",
              "    </tr>\n",
              "  </tbody>\n",
              "</table>\n",
              "</div>\n",
              "      <button class=\"colab-df-convert\" onclick=\"convertToInteractive('df-1ae82dc3-65d4-4a52-b487-4828bc825938')\"\n",
              "              title=\"Convert this dataframe to an interactive table.\"\n",
              "              style=\"display:none;\">\n",
              "        \n",
              "  <svg xmlns=\"http://www.w3.org/2000/svg\" height=\"24px\"viewBox=\"0 0 24 24\"\n",
              "       width=\"24px\">\n",
              "    <path d=\"M0 0h24v24H0V0z\" fill=\"none\"/>\n",
              "    <path d=\"M18.56 5.44l.94 2.06.94-2.06 2.06-.94-2.06-.94-.94-2.06-.94 2.06-2.06.94zm-11 1L8.5 8.5l.94-2.06 2.06-.94-2.06-.94L8.5 2.5l-.94 2.06-2.06.94zm10 10l.94 2.06.94-2.06 2.06-.94-2.06-.94-.94-2.06-.94 2.06-2.06.94z\"/><path d=\"M17.41 7.96l-1.37-1.37c-.4-.4-.92-.59-1.43-.59-.52 0-1.04.2-1.43.59L10.3 9.45l-7.72 7.72c-.78.78-.78 2.05 0 2.83L4 21.41c.39.39.9.59 1.41.59.51 0 1.02-.2 1.41-.59l7.78-7.78 2.81-2.81c.8-.78.8-2.07 0-2.86zM5.41 20L4 18.59l7.72-7.72 1.47 1.35L5.41 20z\"/>\n",
              "  </svg>\n",
              "      </button>\n",
              "      \n",
              "  <style>\n",
              "    .colab-df-container {\n",
              "      display:flex;\n",
              "      flex-wrap:wrap;\n",
              "      gap: 12px;\n",
              "    }\n",
              "\n",
              "    .colab-df-convert {\n",
              "      background-color: #E8F0FE;\n",
              "      border: none;\n",
              "      border-radius: 50%;\n",
              "      cursor: pointer;\n",
              "      display: none;\n",
              "      fill: #1967D2;\n",
              "      height: 32px;\n",
              "      padding: 0 0 0 0;\n",
              "      width: 32px;\n",
              "    }\n",
              "\n",
              "    .colab-df-convert:hover {\n",
              "      background-color: #E2EBFA;\n",
              "      box-shadow: 0px 1px 2px rgba(60, 64, 67, 0.3), 0px 1px 3px 1px rgba(60, 64, 67, 0.15);\n",
              "      fill: #174EA6;\n",
              "    }\n",
              "\n",
              "    [theme=dark] .colab-df-convert {\n",
              "      background-color: #3B4455;\n",
              "      fill: #D2E3FC;\n",
              "    }\n",
              "\n",
              "    [theme=dark] .colab-df-convert:hover {\n",
              "      background-color: #434B5C;\n",
              "      box-shadow: 0px 1px 3px 1px rgba(0, 0, 0, 0.15);\n",
              "      filter: drop-shadow(0px 1px 2px rgba(0, 0, 0, 0.3));\n",
              "      fill: #FFFFFF;\n",
              "    }\n",
              "  </style>\n",
              "\n",
              "      <script>\n",
              "        const buttonEl =\n",
              "          document.querySelector('#df-1ae82dc3-65d4-4a52-b487-4828bc825938 button.colab-df-convert');\n",
              "        buttonEl.style.display =\n",
              "          google.colab.kernel.accessAllowed ? 'block' : 'none';\n",
              "\n",
              "        async function convertToInteractive(key) {\n",
              "          const element = document.querySelector('#df-1ae82dc3-65d4-4a52-b487-4828bc825938');\n",
              "          const dataTable =\n",
              "            await google.colab.kernel.invokeFunction('convertToInteractive',\n",
              "                                                     [key], {});\n",
              "          if (!dataTable) return;\n",
              "\n",
              "          const docLinkHtml = 'Like what you see? Visit the ' +\n",
              "            '<a target=\"_blank\" href=https://colab.research.google.com/notebooks/data_table.ipynb>data table notebook</a>'\n",
              "            + ' to learn more about interactive tables.';\n",
              "          element.innerHTML = '';\n",
              "          dataTable['output_type'] = 'display_data';\n",
              "          await google.colab.output.renderOutput(dataTable, element);\n",
              "          const docLink = document.createElement('div');\n",
              "          docLink.innerHTML = docLinkHtml;\n",
              "          element.appendChild(docLink);\n",
              "        }\n",
              "      </script>\n",
              "    </div>\n",
              "  </div>\n",
              "  "
            ]
          },
          "metadata": {},
          "execution_count": 37
        }
      ]
    },
    {
      "cell_type": "code",
      "source": [
        "plota_barras_horizontais(valor_despesas, x = 'valor_total_reembolso', y = 'tipo_despesa',\n",
        "                            titulo = \"Gastos por tipo de despesa (em milhões)\", formatacao = 'milhoes')"
      ],
      "metadata": {
        "colab": {
          "base_uri": "https://localhost:8080/",
          "height": 643
        },
        "id": "l98d-0YpSSvT",
        "outputId": "27de0751-bb9b-45e6-c516-68eca620e8cc"
      },
      "execution_count": 38,
      "outputs": [
        {
          "output_type": "display_data",
          "data": {
            "text/plain": [
              "<Figure size 936x720 with 1 Axes>"
            ],
            "image/png": "[encoded data removed]"
          },
          "metadata": {}
        }
      ]
    },
    {
      "cell_type": "markdown",
      "source": [
        "#."
      ],
      "metadata": {
        "id": "wmsc0AZgTXXq"
      }
    },
    {
      "cell_type": "code",
      "source": [
        "dados_ceaps.info()"
      ],
      "metadata": {
        "colab": {
          "base_uri": "https://localhost:8080/"
        },
        "id": "7k8wo9LkTl3j",
        "outputId": "07c2f91c-3fed-449a-becf-c18d33eced3a"
      },
      "execution_count": 39,
      "outputs": [
        {
          "output_type": "stream",
          "name": "stdout",
          "text": [
            "<class 'pandas.core.frame.DataFrame'>\n",
            "Int64Index: 273778 entries, 0 to 25573\n",
            "Data columns (total 12 columns):\n",
            " #   Column             Non-Null Count   Dtype         \n",
            "---  ------             --------------   -----         \n",
            " 0   ANO                273778 non-null  int64         \n",
            " 1   MES                273778 non-null  int64         \n",
            " 2   SENADOR            273778 non-null  object        \n",
            " 3   TIPO_DESPESA       273778 non-null  object        \n",
            " 4   CNPJ_CPF           273778 non-null  object        \n",
            " 5   FORNECEDOR         273778 non-null  object        \n",
            " 6   DOCUMENTO          255029 non-null  object        \n",
            " 7   DATA               273778 non-null  object        \n",
            " 8   DETALHAMENTO       176747 non-null  object        \n",
            " 9   VALOR_REEMBOLSADO  273778 non-null  float64       \n",
            " 10  COD_DOCUMENTO      273776 non-null  float64       \n",
            " 11  DATA_REQUISICAO    273778 non-null  datetime64[ns]\n",
            "dtypes: datetime64[ns](1), float64(2), int64(2), object(7)\n",
            "memory usage: 27.2+ MB\n"
          ]
        }
      ]
    },
    {
      "cell_type": "code",
      "source": [
        ""
      ],
      "metadata": {
        "id": "6TuUU7uaUrvL"
      },
      "execution_count": 39,
      "outputs": []
    }
  ]
}